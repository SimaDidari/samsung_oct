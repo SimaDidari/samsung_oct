{
  "nbformat": 4,
  "nbformat_minor": 0,
  "metadata": {
    "accelerator": "GPU",
    "colab": {
      "name": "JG_OCT_PretrainedSimCLR_Reduced_Train_Dataset_2per.ipynb",
      "provenance": [],
      "collapsed_sections": [],
      "include_colab_link": true
    },
    "kernelspec": {
      "display_name": "Python 3",
      "name": "python3"
    }
  },
  "cells": [
    {
      "cell_type": "markdown",
      "metadata": {
        "id": "view-in-github",
        "colab_type": "text"
      },
      "source": [
        "<a href=\"https://colab.research.google.com/github/djvaroli/samsung_oct/blob/Janhavi-Colab-Notebooks/JG_OCT_PretrainedSimCLR_Reduced_Train_Dataset_2per.ipynb\" target=\"_parent\"><img src=\"https://colab.research.google.com/assets/colab-badge.svg\" alt=\"Open In Colab\"/></a>"
      ]
    },
    {
      "cell_type": "code",
      "metadata": {
        "id": "N9AQHZeq-655"
      },
      "source": [
        "'''%cp drive/MyDrive/OCT_Project/ZhangLabData.zip .\n",
        "!unzip ZhangLabData.zip'''"
      ],
      "execution_count": null,
      "outputs": []
    },
    {
      "cell_type": "code",
      "metadata": {
        "id": "-UoLMPr3gLBQ",
        "colab": {
          "base_uri": "https://localhost:8080/"
        },
        "outputId": "825f214f-33e5-4d38-955c-dac4f39a2bd2"
      },
      "source": [
        "from google.colab import drive\n",
        "drive.mount('/content/drive', force_remount=True)\n",
        "import os\n",
        "os.chdir('/content/drive/MyDrive/Colab Notebooks/Samsung-OCT-Project-Work/')\n",
        "pwd = os.getcwd()\n",
        "print(pwd)"
      ],
      "execution_count": 1,
      "outputs": [
        {
          "output_type": "stream",
          "text": [
            "Mounted at /content/drive\n",
            "/content/drive/My Drive/Colab Notebooks/Samsung-OCT-Project-Work\n"
          ],
          "name": "stdout"
        }
      ]
    },
    {
      "cell_type": "code",
      "metadata": {
        "colab": {
          "base_uri": "https://localhost:8080/"
        },
        "id": "HKEN6x76Via5",
        "outputId": "7a1211ac-1f30-4f53-be32-dd3dcd0f8e88"
      },
      "source": [
        "!ls\n"
      ],
      "execution_count": 2,
      "outputs": [
        {
          "output_type": "stream",
          "text": [
            " ahDdMcSIdcyTfoy\n",
            " HAsIhWpGWVbMVLA\n",
            " HBMEINbkLGPLhEn\n",
            " JG_OCT_PretrainedSimCLR_Full_Train_Dataset.ipynb\n",
            "' JG_OCT_PretrainedSimCLR_Reduced_Train_Dataset_10per.ipynb'\n",
            " KuoJPrsqtxHXGny\n",
            " MyResNet50\n",
            " processed_data\n",
            " processed_data.zip_.gstmp\n",
            " resnet50-img-aug\n",
            " resnet50_model_plot.png\n",
            " samsung_oct\n",
            " samsung-oct-super-model-v0.ipynb\n",
            " samsung-oct-super-model-v3.ipynb\n",
            " samsung-oct-super-model-v4.ipynb\n",
            " simclrv2_test_plot.png\n",
            " StLmmsAPKRAfQyU\n",
            " VGG19_rev0.h5\n",
            " VGG19-samsung-oct-super-model-v4.ipynb\n",
            " VGG_results.csv\n",
            " VGG_results_load_model.csv\n",
            " VGG_results_load_model.gsheet\n",
            " wandb\n"
          ],
          "name": "stdout"
        }
      ]
    },
    {
      "cell_type": "code",
      "metadata": {
        "id": "HAQ_37ImNXUC"
      },
      "source": [
        "import pandas as pd\n",
        "import numpy as np"
      ],
      "execution_count": 3,
      "outputs": []
    },
    {
      "cell_type": "code",
      "metadata": {
        "id": "uZV3tOYvjeFk"
      },
      "source": [
        "#function to convert data files to dataframe\n",
        "def load_data(folder):\n",
        "  X=[]\n",
        "  Y=[]\n",
        "  Z=[]\n",
        "  for folderName in os.listdir(folder):\n",
        "    if not folderName.startswith('.'):\n",
        "      if folderName == '0':\n",
        "        label = 0\n",
        "      elif folderName == '1':\n",
        "        label = 1\n",
        "      elif folderName == '2':\n",
        "        label = 2\n",
        "      elif folderName == '3':\n",
        "        label = 3\n",
        "      else:\n",
        "        label = 4\n",
        "\n",
        "    for file in os.listdir(folder+'/'+folderName):\n",
        "      if not file.startswith('.'):\n",
        "        X.append(file)\n",
        "        Y.append(label)\n",
        "        Z.append(folder+'/'+folderName+'/'+file)\n",
        "  return pd.DataFrame(np.hstack((np.asarray(X).reshape(-1,1),np.asarray(Z).reshape(-1,1), np.asarray(Y).reshape(-1,1))),columns=['filename','path','Class']).sort_values('Class')\n"
      ],
      "execution_count": 4,
      "outputs": []
    },
    {
      "cell_type": "code",
      "metadata": {
        "id": "NF-sppxxMNoh"
      },
      "source": [
        "test_data = load_data('/content/drive/My Drive/Colab Notebooks/Samsung-OCT-Project-Work/processed_data/data/test/')\n"
      ],
      "execution_count": 5,
      "outputs": []
    },
    {
      "cell_type": "code",
      "metadata": {
        "id": "RxJNhM-0PxRZ"
      },
      "source": [
        "train_data = load_data('/content/drive/My Drive/Colab Notebooks/Samsung-OCT-Project-Work/processed_data/data/train/')"
      ],
      "execution_count": 7,
      "outputs": []
    },
    {
      "cell_type": "code",
      "metadata": {
        "id": "4ymGmPElP9CY"
      },
      "source": [
        "val_data = load_data('/content/drive/My Drive/Colab Notebooks/Samsung-OCT-Project-Work/processed_data/data/val/')"
      ],
      "execution_count": 8,
      "outputs": []
    },
    {
      "cell_type": "code",
      "metadata": {
        "colab": {
          "base_uri": "https://localhost:8080/"
        },
        "id": "wGqMucW2QAfH",
        "outputId": "f2e74457-32ad-489a-b4fd-9fb79ac28bef"
      },
      "source": [
        "print(train_data.shape,test_data.shape,val_data.shape)"
      ],
      "execution_count": 9,
      "outputs": [
        {
          "output_type": "stream",
          "text": [
            "(83484, 3) (968, 3) (32, 3)\n"
          ],
          "name": "stdout"
        }
      ]
    },
    {
      "cell_type": "code",
      "metadata": {
        "colab": {
          "base_uri": "https://localhost:8080/"
        },
        "id": "W3kMOavmMbuT",
        "outputId": "79fb808b-53cf-4ab0-a97d-b4c6341b64fc"
      },
      "source": [
        "# Creating directory for storing 10% train data\n",
        "os.mkdir('/content/drive/My Drive/Colab Notebooks/Samsung-OCT-Project-Work/processed_data/data/train_data_2per/')\n",
        "os.chdir('/content/drive/My Drive/Colab Notebooks/Samsung-OCT-Project-Work/processed_data/data/train_data_2per/')\n",
        "os.getcwd()\n",
        "!mkdir 0\n",
        "!mkdir 1\n",
        "!mkdir 2\n",
        "!mkdir 3\n",
        "!ls"
      ],
      "execution_count": 10,
      "outputs": [
        {
          "output_type": "stream",
          "text": [
            "0  1  2  3\n"
          ],
          "name": "stdout"
        }
      ]
    },
    {
      "cell_type": "code",
      "metadata": {
        "id": "TiX7d1ZzLjBg"
      },
      "source": [
        "# Creating reduced train dataset\n",
        "# Selecting smaller sample size \n",
        "def sample_data(data, sample_size):\n",
        "  if sample_size == data.shape[0]:\n",
        "    return data\n",
        "  class_weights = dict(data[\"Class\"].value_counts()/data.shape[0])\n",
        "  print(\"Before sub-sampling=\", class_weights)\n",
        "  df0 = data[data[\"Class\"]=='0'].sample(n=min(int(round(sample_size * class_weights['0'])),len(data[data[\"Class\"]=='0'])))\n",
        "  df1 = data[data[\"Class\"]=='1'].sample(n=min(int(round(sample_size * class_weights['1'])),len(data[data[\"Class\"]=='1'])))\n",
        "  df2 = data[data[\"Class\"]=='2'].sample(n=min(int(round(sample_size * class_weights['2'])),len(data[data[\"Class\"]=='2'])))\n",
        "  df3 = data[data[\"Class\"]=='3'].sample(n=min(int(round(sample_size * class_weights['3'])),len(data[data[\"Class\"]=='3'])))\n",
        "  return pd.concat([df0,df1,df2,df3])"
      ],
      "execution_count": 11,
      "outputs": []
    },
    {
      "cell_type": "code",
      "metadata": {
        "colab": {
          "base_uri": "https://localhost:8080/"
        },
        "id": "Wud_zxj-LpAC",
        "outputId": "05b8bf71-a938-43b0-d74a-afe17da7cec7"
      },
      "source": [
        "train_2per = int((2/100)*(train_data.shape[0]))\n",
        "print(\"2% reduced train data sample size=\",train_2per)\n",
        "train_data_red = sample_data(train_data,train_2per)\n",
        "class_weights = dict(train_data_red[\"Class\"].value_counts()/train_data_red.shape[0])\n",
        "print(\"Sub-sampled train data=\", class_weights)\n",
        "print(train_data.shape, train_data_red.shape)"
      ],
      "execution_count": 12,
      "outputs": [
        {
          "output_type": "stream",
          "text": [
            "2% reduced train data sample size= 1669\n",
            "Before sub-sampling= {'0': 0.4456542571031575, '3': 0.3152101001389488, '1': 0.13593023812946192, '2': 0.1032054046284318}\n",
            "Sub-sampled train data= {'0': 0.4457759137207909, '3': 0.3151587777112043, '1': 0.1360095865787897, '2': 0.1030557219892151}\n",
            "(83484, 3) (1669, 3)\n"
          ],
          "name": "stdout"
        }
      ]
    },
    {
      "cell_type": "code",
      "metadata": {
        "id": "qIHSI9xAL0ci"
      },
      "source": [
        "import shutil\n",
        "train_files = train_data_red.path.to_list()\n",
        "for filenum in range(len(train_files)):\n",
        "  x = train_files[filenum]\n",
        "  x_split = x.split('/')\n",
        "  filename = x_split[-1]\n",
        "  separator = '/'\n",
        "  x_path = separator.join(x_split[:-1])\n",
        "  #print(x_path)\n",
        "  os.chdir(x_path)\n",
        "  if '0' in x_path: \n",
        "    #print(x_path)\n",
        "    shutil.copy(filename, '../../train_data_2per/0/')\n",
        "  elif '1' in x_path:\n",
        "    shutil.copy(filename, '../../train_data_2per/1/')\n",
        "  elif '2' in x_path:\n",
        "    shutil.copy(filename, '../../train_data_2per/2/')\n",
        "  else:\n",
        "    shutil.copy(filename, '../../train_data_2per/3/')\n",
        " "
      ],
      "execution_count": 13,
      "outputs": []
    },
    {
      "cell_type": "code",
      "metadata": {
        "colab": {
          "base_uri": "https://localhost:8080/"
        },
        "id": "TxQSFPe0L3dI",
        "outputId": "18eb8035-c9ff-4c10-f435-5cbb58d24b98"
      },
      "source": [
        "os.chdir('/content/drive/My Drive/Colab Notebooks/Samsung-OCT-Project-Work/processed_data/data/train_data_2per/')\n",
        "!ls ./*/* | wc -l\n",
        "os.chdir('/content/drive/My Drive/Colab Notebooks/Samsung-OCT-Project-Work/processed_data/data/test/')\n",
        "!ls ./*/* | wc -l\n",
        "os.chdir('/content/drive/My Drive/Colab Notebooks/Samsung-OCT-Project-Work/processed_data/data/val/')\n",
        "!ls ./*/* | wc -l"
      ],
      "execution_count": 14,
      "outputs": [
        {
          "output_type": "stream",
          "text": [
            "1669\n",
            "968\n",
            "32\n"
          ],
          "name": "stdout"
        }
      ]
    },
    {
      "cell_type": "code",
      "metadata": {
        "colab": {
          "base_uri": "https://localhost:8080/",
          "height": 35
        },
        "id": "WtYICKP0b1Ls",
        "outputId": "a87487e8-888e-4d86-d7ed-5f74fae74e1d"
      },
      "source": [
        "# Working dir\n",
        "os.chdir('/content/drive/My Drive/Colab Notebooks/Samsung-OCT-Project-Work/')\n",
        "os.getcwd()\n",
        "\n"
      ],
      "execution_count": 15,
      "outputs": [
        {
          "output_type": "execute_result",
          "data": {
            "application/vnd.google.colaboratory.intrinsic+json": {
              "type": "string"
            },
            "text/plain": [
              "'/content/drive/My Drive/Colab Notebooks/Samsung-OCT-Project-Work'"
            ]
          },
          "metadata": {
            "tags": []
          },
          "execution_count": 15
        }
      ]
    },
    {
      "cell_type": "code",
      "metadata": {
        "id": "sniQPNx1AUeX"
      },
      "source": [
        "import tensorflow as tf\n",
        "import numpy as np\n",
        "import matplotlib.pyplot as plt\n",
        "from tensorflow.keras.preprocessing.image import ImageDataGenerator"
      ],
      "execution_count": 16,
      "outputs": []
    },
    {
      "cell_type": "code",
      "metadata": {
        "id": "8R2-xTjkW8ky"
      },
      "source": [
        "seed = 42\n",
        "val_split   = 0.02\n",
        "train_split = 1 - val_split\n",
        "batch_size = 32\n",
        "IMG_SIZE=224"
      ],
      "execution_count": 17,
      "outputs": []
    },
    {
      "cell_type": "code",
      "metadata": {
        "id": "VFv1OpZnAZxc",
        "colab": {
          "base_uri": "https://localhost:8080/"
        },
        "outputId": "2883c2b9-d852-412c-8195-aafa91a139e1"
      },
      "source": [
        "\n",
        "\n",
        "ds_val = tf.keras.preprocessing.image_dataset_from_directory(\n",
        "    './processed_data/data/train_data_2per',\n",
        "    labels=\"inferred\",\n",
        "    color_mode=\"rgb\",\n",
        "    batch_size=batch_size,\n",
        "    image_size=(224, 224),\n",
        "    shuffle=True,\n",
        "    seed=seed,\n",
        "    validation_split=val_split,\n",
        "    subset='validation',\n",
        "    interpolation=\"bilinear\",\n",
        "    follow_links=False,\n",
        "    )\n",
        "ds_train = tf.keras.preprocessing.image_dataset_from_directory(\n",
        "    './processed_data/data/train_data_2per',\n",
        "    labels=\"inferred\",\n",
        "    color_mode=\"rgb\",\n",
        "    batch_size=batch_size,\n",
        "    image_size=(224, 224),\n",
        "    shuffle=True,\n",
        "    seed=seed,\n",
        "    validation_split=val_split,\n",
        "    subset='training',\n",
        "    interpolation=\"bilinear\",\n",
        "    follow_links=False,\n",
        "    )\n",
        "\n",
        "ds_test = tf.keras.preprocessing.image_dataset_from_directory(\n",
        "    'processed_data/data/test',\n",
        "    labels=\"inferred\",\n",
        "    color_mode=\"rgb\",\n",
        "    batch_size=batch_size,\n",
        "    image_size=(224, 224),\n",
        "    shuffle=True,\n",
        "    seed=seed,\n",
        "    interpolation=\"bilinear\",\n",
        "    follow_links=False,\n",
        "    )"
      ],
      "execution_count": 18,
      "outputs": [
        {
          "output_type": "stream",
          "text": [
            "Found 1669 files belonging to 4 classes.\n",
            "Using 33 files for validation.\n",
            "Found 1669 files belonging to 4 classes.\n",
            "Using 1636 files for training.\n",
            "Found 968 files belonging to 4 classes.\n"
          ],
          "name": "stdout"
        }
      ]
    },
    {
      "cell_type": "markdown",
      "metadata": {
        "id": "pVHQZMFW_PMq"
      },
      "source": [
        "# Feature Extraction with Pretrained SimCLR\n",
        "- Ultimately we want to train a SimCLR model with the wealth of OCT images\n",
        "- as a zeroth step, we ask how well are SimCLR pretrained on ImageNet works on the unseen OCT images domain.\n",
        "- we use SimCLR as a feature extractor and try to see how well a simple linear classification head (multi-class logistic regression) works in terms of distinguiishing between classes\n"
      ]
    },
    {
      "cell_type": "code",
      "metadata": {
        "id": "6VZkxTY-_iou"
      },
      "source": [
        "#@title Load module and construct the computation graph\n",
        "import tensorflow_hub as hub\n",
        "import tensorflow as tf\n",
        "# Load the base network and set it to non-trainable (for speedup fine-tuning)\n",
        "hub_path = 'gs://simclr-checkpoints/simclrv2/finetuned_100pct/r50_1x_sk0/hub/'"
      ],
      "execution_count": 19,
      "outputs": []
    },
    {
      "cell_type": "code",
      "metadata": {
        "id": "C25IpPyhAzM9",
        "colab": {
          "base_uri": "https://localhost:8080/"
        },
        "outputId": "d4e1b14f-b230-4cd5-f215-a17be0ade60f"
      },
      "source": [
        "input_layer  = tf.keras.layers.Input((224,224,3))\n",
        "simclr_layer = hub.KerasLayer(hub_path, trainable=False,)\n",
        "classification_head = tf.keras.layers.Dense(4, activation='softmax')\n",
        "\n",
        "\n",
        "model = tf.keras.Sequential([input_layer, \n",
        "                             simclr_layer,\n",
        "                             classification_head])"
      ],
      "execution_count": 20,
      "outputs": [
        {
          "output_type": "stream",
          "text": [
            "WARNING:tensorflow:Please add `keras.layers.InputLayer` instead of `keras.Input` to Sequential model. `keras.Input` is intended to be used by Functional model.\n"
          ],
          "name": "stdout"
        }
      ]
    },
    {
      "cell_type": "code",
      "metadata": {
        "colab": {
          "base_uri": "https://localhost:8080/"
        },
        "id": "AlWAJHYFZVFL",
        "outputId": "9d651fe3-32c1-4063-b600-797bfc56f783"
      },
      "source": [
        "model.summary()"
      ],
      "execution_count": 21,
      "outputs": [
        {
          "output_type": "stream",
          "text": [
            "Model: \"sequential\"\n",
            "_________________________________________________________________\n",
            "Layer (type)                 Output Shape              Param #   \n",
            "=================================================================\n",
            "keras_layer (KerasLayer)     (None, 2048)              34277672  \n",
            "_________________________________________________________________\n",
            "dense (Dense)                (None, 4)                 8196      \n",
            "=================================================================\n",
            "Total params: 34,285,868\n",
            "Trainable params: 8,196\n",
            "Non-trainable params: 34,277,672\n",
            "_________________________________________________________________\n"
          ],
          "name": "stdout"
        }
      ]
    },
    {
      "cell_type": "code",
      "metadata": {
        "colab": {
          "base_uri": "https://localhost:8080/",
          "height": 312
        },
        "id": "N0eRqnCIZZ19",
        "outputId": "459177e5-7869-4b4b-f68c-57e31690a2a3"
      },
      "source": [
        "from tensorflow.keras.utils import plot_model\n",
        "plot_model(model, to_file='simclrv2_test_plot.png',show_shapes=True, show_layer_names=True)"
      ],
      "execution_count": 22,
      "outputs": [
        {
          "output_type": "execute_result",
          "data": {
            "image/png": "[encoded data removed]",
            "text/plain": [
              "<IPython.core.display.Image object>"
            ]
          },
          "metadata": {
            "tags": []
          },
          "execution_count": 22
        }
      ]
    },
    {
      "cell_type": "code",
      "metadata": {
        "id": "D1waP4WcA-4d",
        "colab": {
          "base_uri": "https://localhost:8080/"
        },
        "outputId": "ae99ac6d-e04f-4eba-89bc-b738aff32d35"
      },
      "source": [
        "metrics = ['accuracy']\n",
        "callbacks = [tf.keras.callbacks.EarlyStopping(patience=3, monitor='val_loss', ),\n",
        "             tf.keras.callbacks.ModelCheckpoint(filepath='resnet_model.{epoch:02d}-{val_loss:.2f}.h5'),]\n",
        "optimizer = tf.keras.optimizers.Adam(lr=1e-3)\n",
        "model.compile(optimizer=optimizer, \n",
        "              loss='categorical_crossentropy', \n",
        "              metrics=metrics)"
      ],
      "execution_count": 23,
      "outputs": [
        {
          "output_type": "stream",
          "text": [
            "/usr/local/lib/python3.7/dist-packages/tensorflow/python/keras/optimizer_v2/optimizer_v2.py:375: UserWarning: The `lr` argument is deprecated, use `learning_rate` instead.\n",
            "  \"The `lr` argument is deprecated, use `learning_rate` instead.\")\n"
          ],
          "name": "stderr"
        }
      ]
    },
    {
      "cell_type": "code",
      "metadata": {
        "id": "w--EckTWBB4i"
      },
      "source": [
        "import os\n",
        "\n",
        "# simple version for working with CWD\n",
        "nCNV = len([name for name in os.listdir('./processed_data/data/train_data_2per/0')])\n",
        "nDME = len([name for name in os.listdir('./processed_data/data/train_data_2per/1')])\n",
        "nDRUSEN = len([name for name in os.listdir('./processed_data/data/train_data_2per/2')])\n",
        "nNORMAL = len([name for name in os.listdir('./processed_data/data/train_data_2per/3')])\n",
        "\n",
        "ncount = np.array([nCNV, nDME, nDRUSEN, nNORMAL])\n",
        "ntotal = sum(ncount)\n",
        "\n",
        "weights = ntotal/ncount/ len(ncount)\n",
        "weights /= weights.min()\n",
        "class_weight = {i: w for i, w in enumerate(weights)}"
      ],
      "execution_count": 24,
      "outputs": []
    },
    {
      "cell_type": "code",
      "metadata": {
        "colab": {
          "base_uri": "https://localhost:8080/"
        },
        "id": "xXk1WHhKInI4",
        "outputId": "2943e758-b26f-47d5-dede-693ece2305ee"
      },
      "source": [
        "print(nCNV, nDME, nDRUSEN, nNORMAL)"
      ],
      "execution_count": 25,
      "outputs": [
        {
          "output_type": "stream",
          "text": [
            "744 227 172 526\n"
          ],
          "name": "stdout"
        }
      ]
    },
    {
      "cell_type": "code",
      "metadata": {
        "colab": {
          "base_uri": "https://localhost:8080/"
        },
        "id": "dtX_Yph1Isnw",
        "outputId": "f28c8ca1-3e6d-4dee-dd8c-f7cb5abd0cae"
      },
      "source": [
        "print(ncount)"
      ],
      "execution_count": 26,
      "outputs": [
        {
          "output_type": "stream",
          "text": [
            "[744 227 172 526]\n"
          ],
          "name": "stdout"
        }
      ]
    },
    {
      "cell_type": "code",
      "metadata": {
        "colab": {
          "base_uri": "https://localhost:8080/"
        },
        "id": "hMK_GE9-IvCE",
        "outputId": "56c6c2fe-0c9c-4658-e291-14847cf9a8f9"
      },
      "source": [
        "print(ntotal)"
      ],
      "execution_count": 27,
      "outputs": [
        {
          "output_type": "stream",
          "text": [
            "1669\n"
          ],
          "name": "stdout"
        }
      ]
    },
    {
      "cell_type": "code",
      "metadata": {
        "colab": {
          "base_uri": "https://localhost:8080/"
        },
        "id": "mFQJ0x1WI05t",
        "outputId": "83bdbc3d-8f6e-4e05-ac15-83f86b2dfd08"
      },
      "source": [
        "print(weights)"
      ],
      "execution_count": 28,
      "outputs": [
        {
          "output_type": "stream",
          "text": [
            "[1.         3.27753304 4.3255814  1.41444867]\n"
          ],
          "name": "stdout"
        }
      ]
    },
    {
      "cell_type": "markdown",
      "metadata": {
        "id": "S96rAcMSZUgU"
      },
      "source": [
        "# Retrieve the Representation\n",
        "- we run our examples through the SimCLR to retrieve the embedding as seen by the nerual network\n"
      ]
    },
    {
      "cell_type": "code",
      "metadata": {
        "id": "BPX6S_qBchK7"
      },
      "source": [
        "def get_representation(dataset, max_batch=500):\n",
        "  out_rep, out_label = [], []\n",
        "  count = 0\n",
        "  for img, lb in dataset:\n",
        "    out_rep.append(simclr_layer(img).numpy())\n",
        "    out_label.append(lb.numpy())\n",
        "    if count % 100 == 0: print(f'count = {count}')\n",
        "    if count > max_batch: break\n",
        "    count += 1\n",
        "  out_label = np.hstack(out_label)\n",
        "  out_rep   = np.vstack(out_rep)\n",
        "  return out_rep, out_label"
      ],
      "execution_count": 29,
      "outputs": []
    },
    {
      "cell_type": "code",
      "metadata": {
        "colab": {
          "base_uri": "https://localhost:8080/"
        },
        "id": "f3ocvmcLgFLX",
        "outputId": "efbc382a-8bdd-4892-e4ce-5fe8fba3d905"
      },
      "source": [
        "# train_rep, train_lb = get_representation(ds_train)\n",
        "test_rep,  test_lb = get_representation(ds_test)"
      ],
      "execution_count": 30,
      "outputs": [
        {
          "output_type": "stream",
          "text": [
            "count = 0\n"
          ],
          "name": "stdout"
        }
      ]
    },
    {
      "cell_type": "code",
      "metadata": {
        "colab": {
          "base_uri": "https://localhost:8080/"
        },
        "id": "9LZahuHgp4U_",
        "outputId": "a8b600ec-7f9e-48ff-f7dc-3b083a607041"
      },
      "source": [
        "train_rep, train_lb = get_representation(ds_train)"
      ],
      "execution_count": 31,
      "outputs": [
        {
          "output_type": "stream",
          "text": [
            "count = 0\n"
          ],
          "name": "stdout"
        }
      ]
    },
    {
      "cell_type": "code",
      "metadata": {
        "id": "aZh2-2ahltzC"
      },
      "source": [
        "train_rep = train_rep / np.sqrt(np.square(train_rep).mean(axis=-1, keepdims=True))\n",
        "test_rep  = test_rep  / np.sqrt(np.square(test_rep).mean(axis=-1, keepdims=True))"
      ],
      "execution_count": 32,
      "outputs": []
    },
    {
      "cell_type": "code",
      "metadata": {
        "colab": {
          "base_uri": "https://localhost:8080/"
        },
        "id": "5Pm0md0pl1pT",
        "outputId": "263450fb-ccc3-437d-89a4-455c956b5fe3"
      },
      "source": [
        "train_rep.shape"
      ],
      "execution_count": 33,
      "outputs": [
        {
          "output_type": "execute_result",
          "data": {
            "text/plain": [
              "(1636, 2048)"
            ]
          },
          "metadata": {
            "tags": []
          },
          "execution_count": 33
        }
      ]
    },
    {
      "cell_type": "code",
      "metadata": {
        "id": "Un9wqRJ-7COp"
      },
      "source": [
        "import os\n",
        "\n",
        "# simple version for working with CWD\n",
        "nCNV = len([name for name in os.listdir('./processed_data/data/train_data_2per/0')])\n",
        "nDME = len([name for name in os.listdir('./processed_data/data/train_data_2per/1')])\n",
        "nDRUSEN = len([name for name in os.listdir('./processed_data/data/train_data_2per/2')])\n",
        "nNORMAL = len([name for name in os.listdir('./processed_data/data/train_data_2per/3')])\n",
        "\n",
        "ncount = np.array([nCNV, nDME, nDRUSEN, nNORMAL])\n",
        "ntotal = sum(ncount)\n",
        "\n",
        "weights = ntotal/ncount/ len(ncount)\n",
        "weights /= weights.min()\n",
        "class_weight = {i: w for i, w in enumerate(weights)}"
      ],
      "execution_count": 34,
      "outputs": []
    },
    {
      "cell_type": "markdown",
      "metadata": {
        "id": "qKrqSc6nZRoG"
      },
      "source": [
        "# Fitting a Linear Regression Model\n",
        "- attach a dense layer with 4 outputs with softmax activation\n",
        "- minimize the cross-entropy taking into the account of the inherent imbalance between the 4 classes"
      ]
    },
    {
      "cell_type": "code",
      "metadata": {
        "id": "VtyMoMevhCAu",
        "colab": {
          "base_uri": "https://localhost:8080/"
        },
        "outputId": "864c37b2-f692-4746-ff1d-5cf11ab74846"
      },
      "source": [
        "learning_rate = 1.0e-3\n",
        "\n",
        "\n",
        "linearRegression = tf.keras.Sequential([tf.keras.layers.Input(2048),\n",
        "                                       tf.keras.layers.Dense(4, activation='softmax')])\n",
        "\n",
        "optimizer = tf.keras.optimizers.RMSprop(learning_rate=learning_rate)\n",
        "linearRegression.compile(loss='sparse_categorical_crossentropy', \n",
        "                         metrics='accuracy', \n",
        "                         optimizer=optimizer)"
      ],
      "execution_count": 35,
      "outputs": [
        {
          "output_type": "stream",
          "text": [
            "WARNING:tensorflow:Please add `keras.layers.InputLayer` instead of `keras.Input` to Sequential model. `keras.Input` is intended to be used by Functional model.\n"
          ],
          "name": "stdout"
        }
      ]
    },
    {
      "cell_type": "code",
      "metadata": {
        "colab": {
          "base_uri": "https://localhost:8080/"
        },
        "id": "ynrH93CJhJyY",
        "outputId": "c5d324d2-88d8-4d29-8929-9930c0dab185"
      },
      "source": [
        "history = linearRegression.fit(train_rep, \n",
        "                              train_lb, \n",
        "                              batch_size=32, \n",
        "                              epochs=100,\n",
        "                              class_weight=class_weight,\n",
        "                              validation_data=(test_rep, test_lb),)"
      ],
      "execution_count": 36,
      "outputs": [
        {
          "output_type": "stream",
          "text": [
            "WARNING:tensorflow:From /usr/local/lib/python3.7/dist-packages/tensorflow/python/ops/array_ops.py:5049: calling gather (from tensorflow.python.ops.array_ops) with validate_indices is deprecated and will be removed in a future version.\n",
            "Instructions for updating:\n",
            "The `validate_indices` argument has no effect. Indices are always validated on CPU and never validated on GPU.\n",
            "Epoch 1/100\n",
            "52/52 [==============================] - 1s 6ms/step - loss: 2.6007 - accuracy: 0.2531 - val_loss: 1.8954 - val_accuracy: 0.2500\n",
            "Epoch 2/100\n",
            "52/52 [==============================] - 0s 4ms/step - loss: 2.4874 - accuracy: 0.3160 - val_loss: 1.5203 - val_accuracy: 0.2893\n",
            "Epoch 3/100\n",
            "52/52 [==============================] - 0s 3ms/step - loss: 2.4366 - accuracy: 0.3704 - val_loss: 1.4579 - val_accuracy: 0.2614\n",
            "Epoch 4/100\n",
            "52/52 [==============================] - 0s 3ms/step - loss: 2.3708 - accuracy: 0.4150 - val_loss: 1.3033 - val_accuracy: 0.3719\n",
            "Epoch 5/100\n",
            "52/52 [==============================] - 0s 3ms/step - loss: 2.3326 - accuracy: 0.4291 - val_loss: 1.4603 - val_accuracy: 0.2934\n",
            "Epoch 6/100\n",
            "52/52 [==============================] - 0s 4ms/step - loss: 2.2922 - accuracy: 0.4474 - val_loss: 1.3869 - val_accuracy: 0.4039\n",
            "Epoch 7/100\n",
            "52/52 [==============================] - 0s 4ms/step - loss: 2.2838 - accuracy: 0.4291 - val_loss: 1.8227 - val_accuracy: 0.2510\n",
            "Epoch 8/100\n",
            "52/52 [==============================] - 0s 3ms/step - loss: 2.2704 - accuracy: 0.4584 - val_loss: 1.3197 - val_accuracy: 0.4225\n",
            "Epoch 9/100\n",
            "52/52 [==============================] - 0s 4ms/step - loss: 2.2171 - accuracy: 0.4615 - val_loss: 1.4539 - val_accuracy: 0.2903\n",
            "Epoch 10/100\n",
            "52/52 [==============================] - 0s 3ms/step - loss: 2.2116 - accuracy: 0.4694 - val_loss: 1.3469 - val_accuracy: 0.4174\n",
            "Epoch 11/100\n",
            "52/52 [==============================] - 0s 3ms/step - loss: 2.2081 - accuracy: 0.4872 - val_loss: 1.7356 - val_accuracy: 0.2531\n",
            "Epoch 12/100\n",
            "52/52 [==============================] - 0s 4ms/step - loss: 2.1669 - accuracy: 0.4933 - val_loss: 1.3152 - val_accuracy: 0.4039\n",
            "Epoch 13/100\n",
            "52/52 [==============================] - 0s 3ms/step - loss: 2.1525 - accuracy: 0.4914 - val_loss: 1.6404 - val_accuracy: 0.2707\n",
            "Epoch 14/100\n",
            "52/52 [==============================] - 0s 4ms/step - loss: 2.1345 - accuracy: 0.5159 - val_loss: 1.5198 - val_accuracy: 0.3378\n",
            "Epoch 15/100\n",
            "52/52 [==============================] - 0s 4ms/step - loss: 2.1305 - accuracy: 0.5037 - val_loss: 1.4603 - val_accuracy: 0.2975\n",
            "Epoch 16/100\n",
            "52/52 [==============================] - 0s 4ms/step - loss: 2.1097 - accuracy: 0.5165 - val_loss: 1.3125 - val_accuracy: 0.4008\n",
            "Epoch 17/100\n",
            "52/52 [==============================] - 0s 3ms/step - loss: 2.0914 - accuracy: 0.5196 - val_loss: 1.3575 - val_accuracy: 0.4132\n",
            "Epoch 18/100\n",
            "52/52 [==============================] - 0s 4ms/step - loss: 2.0674 - accuracy: 0.5177 - val_loss: 1.2796 - val_accuracy: 0.4607\n",
            "Epoch 19/100\n",
            "52/52 [==============================] - 0s 4ms/step - loss: 2.0645 - accuracy: 0.5263 - val_loss: 1.1981 - val_accuracy: 0.4452\n",
            "Epoch 20/100\n",
            "52/52 [==============================] - 0s 4ms/step - loss: 2.0562 - accuracy: 0.5452 - val_loss: 1.3058 - val_accuracy: 0.3977\n",
            "Epoch 21/100\n",
            "52/52 [==============================] - 0s 3ms/step - loss: 2.0277 - accuracy: 0.5501 - val_loss: 1.2893 - val_accuracy: 0.4101\n",
            "Epoch 22/100\n",
            "52/52 [==============================] - 0s 3ms/step - loss: 2.0381 - accuracy: 0.5306 - val_loss: 1.3135 - val_accuracy: 0.4411\n",
            "Epoch 23/100\n",
            "52/52 [==============================] - 0s 3ms/step - loss: 2.0120 - accuracy: 0.5605 - val_loss: 1.1813 - val_accuracy: 0.4215\n",
            "Epoch 24/100\n",
            "52/52 [==============================] - 0s 4ms/step - loss: 2.0161 - accuracy: 0.5562 - val_loss: 1.4681 - val_accuracy: 0.4050\n",
            "Epoch 25/100\n",
            "52/52 [==============================] - 0s 4ms/step - loss: 2.0028 - accuracy: 0.5715 - val_loss: 1.1075 - val_accuracy: 0.5041\n",
            "Epoch 26/100\n",
            "52/52 [==============================] - 0s 3ms/step - loss: 1.9821 - accuracy: 0.5642 - val_loss: 1.2987 - val_accuracy: 0.4246\n",
            "Epoch 27/100\n",
            "52/52 [==============================] - 0s 4ms/step - loss: 1.9729 - accuracy: 0.5666 - val_loss: 1.1689 - val_accuracy: 0.4525\n",
            "Epoch 28/100\n",
            "52/52 [==============================] - 0s 4ms/step - loss: 1.9644 - accuracy: 0.5697 - val_loss: 1.1693 - val_accuracy: 0.3915\n",
            "Epoch 29/100\n",
            "52/52 [==============================] - 0s 3ms/step - loss: 1.9550 - accuracy: 0.5623 - val_loss: 1.2180 - val_accuracy: 0.4607\n",
            "Epoch 30/100\n",
            "52/52 [==============================] - 0s 4ms/step - loss: 1.9350 - accuracy: 0.5917 - val_loss: 1.2116 - val_accuracy: 0.4545\n",
            "Epoch 31/100\n",
            "52/52 [==============================] - 0s 3ms/step - loss: 1.9132 - accuracy: 0.5886 - val_loss: 1.1441 - val_accuracy: 0.4731\n",
            "Epoch 32/100\n",
            "52/52 [==============================] - 0s 4ms/step - loss: 1.9186 - accuracy: 0.5923 - val_loss: 1.6185 - val_accuracy: 0.4019\n",
            "Epoch 33/100\n",
            "52/52 [==============================] - 0s 4ms/step - loss: 1.9281 - accuracy: 0.5770 - val_loss: 1.4455 - val_accuracy: 0.3161\n",
            "Epoch 34/100\n",
            "52/52 [==============================] - 0s 4ms/step - loss: 1.9063 - accuracy: 0.5782 - val_loss: 1.2243 - val_accuracy: 0.4360\n",
            "Epoch 35/100\n",
            "52/52 [==============================] - 0s 4ms/step - loss: 1.8987 - accuracy: 0.5947 - val_loss: 1.0774 - val_accuracy: 0.5579\n",
            "Epoch 36/100\n",
            "52/52 [==============================] - 0s 4ms/step - loss: 1.9097 - accuracy: 0.5880 - val_loss: 1.2725 - val_accuracy: 0.4339\n",
            "Epoch 37/100\n",
            "52/52 [==============================] - 0s 4ms/step - loss: 1.8755 - accuracy: 0.5923 - val_loss: 1.3276 - val_accuracy: 0.4287\n",
            "Epoch 38/100\n",
            "52/52 [==============================] - 0s 4ms/step - loss: 1.8544 - accuracy: 0.6015 - val_loss: 1.1281 - val_accuracy: 0.5207\n",
            "Epoch 39/100\n",
            "52/52 [==============================] - 0s 3ms/step - loss: 1.8643 - accuracy: 0.6088 - val_loss: 1.2992 - val_accuracy: 0.4349\n",
            "Epoch 40/100\n",
            "52/52 [==============================] - 0s 3ms/step - loss: 1.8886 - accuracy: 0.5850 - val_loss: 1.4659 - val_accuracy: 0.3089\n",
            "Epoch 41/100\n",
            "52/52 [==============================] - 0s 3ms/step - loss: 1.8723 - accuracy: 0.6033 - val_loss: 1.3611 - val_accuracy: 0.3791\n",
            "Epoch 42/100\n",
            "52/52 [==============================] - 0s 3ms/step - loss: 1.8597 - accuracy: 0.5899 - val_loss: 1.1872 - val_accuracy: 0.4463\n",
            "Epoch 43/100\n",
            "52/52 [==============================] - 0s 4ms/step - loss: 1.8614 - accuracy: 0.6015 - val_loss: 1.1221 - val_accuracy: 0.4969\n",
            "Epoch 44/100\n",
            "52/52 [==============================] - 0s 3ms/step - loss: 1.8249 - accuracy: 0.6167 - val_loss: 1.0304 - val_accuracy: 0.6240\n",
            "Epoch 45/100\n",
            "52/52 [==============================] - 0s 3ms/step - loss: 1.8297 - accuracy: 0.6167 - val_loss: 1.0475 - val_accuracy: 0.5310\n",
            "Epoch 46/100\n",
            "52/52 [==============================] - 0s 3ms/step - loss: 1.8117 - accuracy: 0.6222 - val_loss: 1.3559 - val_accuracy: 0.3988\n",
            "Epoch 47/100\n",
            "52/52 [==============================] - 0s 4ms/step - loss: 1.8301 - accuracy: 0.6137 - val_loss: 1.1164 - val_accuracy: 0.5124\n",
            "Epoch 48/100\n",
            "52/52 [==============================] - 0s 4ms/step - loss: 1.8292 - accuracy: 0.6051 - val_loss: 1.1083 - val_accuracy: 0.5124\n",
            "Epoch 49/100\n",
            "52/52 [==============================] - 0s 3ms/step - loss: 1.8119 - accuracy: 0.6186 - val_loss: 1.3253 - val_accuracy: 0.4845\n",
            "Epoch 50/100\n",
            "52/52 [==============================] - 0s 3ms/step - loss: 1.8109 - accuracy: 0.6290 - val_loss: 1.3482 - val_accuracy: 0.3678\n",
            "Epoch 51/100\n",
            "52/52 [==============================] - 0s 4ms/step - loss: 1.7821 - accuracy: 0.6253 - val_loss: 1.2431 - val_accuracy: 0.4607\n",
            "Epoch 52/100\n",
            "52/52 [==============================] - 0s 3ms/step - loss: 1.7857 - accuracy: 0.6394 - val_loss: 1.1789 - val_accuracy: 0.4742\n",
            "Epoch 53/100\n",
            "52/52 [==============================] - 0s 3ms/step - loss: 1.8039 - accuracy: 0.6137 - val_loss: 1.0493 - val_accuracy: 0.5723\n",
            "Epoch 54/100\n",
            "52/52 [==============================] - 0s 4ms/step - loss: 1.7603 - accuracy: 0.6333 - val_loss: 1.1933 - val_accuracy: 0.4804\n",
            "Epoch 55/100\n",
            "52/52 [==============================] - 0s 4ms/step - loss: 1.7596 - accuracy: 0.6339 - val_loss: 1.2861 - val_accuracy: 0.4452\n",
            "Epoch 56/100\n",
            "52/52 [==============================] - 0s 4ms/step - loss: 1.7729 - accuracy: 0.6296 - val_loss: 1.1976 - val_accuracy: 0.4535\n",
            "Epoch 57/100\n",
            "52/52 [==============================] - 0s 3ms/step - loss: 1.7729 - accuracy: 0.6314 - val_loss: 1.2495 - val_accuracy: 0.4597\n",
            "Epoch 58/100\n",
            "52/52 [==============================] - 0s 3ms/step - loss: 1.7522 - accuracy: 0.6296 - val_loss: 1.2834 - val_accuracy: 0.4483\n",
            "Epoch 59/100\n",
            "52/52 [==============================] - 0s 3ms/step - loss: 1.7696 - accuracy: 0.6388 - val_loss: 1.0203 - val_accuracy: 0.5754\n",
            "Epoch 60/100\n",
            "52/52 [==============================] - 0s 4ms/step - loss: 1.7533 - accuracy: 0.6326 - val_loss: 1.0544 - val_accuracy: 0.5486\n",
            "Epoch 61/100\n",
            "52/52 [==============================] - 0s 3ms/step - loss: 1.7301 - accuracy: 0.6498 - val_loss: 1.3795 - val_accuracy: 0.4246\n",
            "Epoch 62/100\n",
            "52/52 [==============================] - 0s 4ms/step - loss: 1.7489 - accuracy: 0.6308 - val_loss: 1.0714 - val_accuracy: 0.5682\n",
            "Epoch 63/100\n",
            "52/52 [==============================] - 0s 4ms/step - loss: 1.7356 - accuracy: 0.6449 - val_loss: 1.0666 - val_accuracy: 0.5610\n",
            "Epoch 64/100\n",
            "52/52 [==============================] - 0s 3ms/step - loss: 1.7329 - accuracy: 0.6345 - val_loss: 1.0305 - val_accuracy: 0.5661\n",
            "Epoch 65/100\n",
            "52/52 [==============================] - 0s 4ms/step - loss: 1.7285 - accuracy: 0.6455 - val_loss: 1.1365 - val_accuracy: 0.4959\n",
            "Epoch 66/100\n",
            "52/52 [==============================] - 0s 4ms/step - loss: 1.7149 - accuracy: 0.6546 - val_loss: 1.1216 - val_accuracy: 0.5134\n",
            "Epoch 67/100\n",
            "52/52 [==============================] - 0s 3ms/step - loss: 1.7275 - accuracy: 0.6601 - val_loss: 1.2102 - val_accuracy: 0.4122\n",
            "Epoch 68/100\n",
            "52/52 [==============================] - 0s 3ms/step - loss: 1.6950 - accuracy: 0.6473 - val_loss: 1.2316 - val_accuracy: 0.5207\n",
            "Epoch 69/100\n",
            "52/52 [==============================] - 0s 4ms/step - loss: 1.7086 - accuracy: 0.6565 - val_loss: 1.4840 - val_accuracy: 0.3471\n",
            "Epoch 70/100\n",
            "52/52 [==============================] - 0s 3ms/step - loss: 1.6994 - accuracy: 0.6491 - val_loss: 1.0121 - val_accuracy: 0.5806\n",
            "Epoch 71/100\n",
            "52/52 [==============================] - 0s 4ms/step - loss: 1.7078 - accuracy: 0.6443 - val_loss: 1.1762 - val_accuracy: 0.4886\n",
            "Epoch 72/100\n",
            "52/52 [==============================] - 0s 4ms/step - loss: 1.6946 - accuracy: 0.6473 - val_loss: 1.3622 - val_accuracy: 0.3760\n",
            "Epoch 73/100\n",
            "52/52 [==============================] - 0s 3ms/step - loss: 1.6741 - accuracy: 0.6540 - val_loss: 1.1383 - val_accuracy: 0.5186\n",
            "Epoch 74/100\n",
            "52/52 [==============================] - 0s 4ms/step - loss: 1.6724 - accuracy: 0.6577 - val_loss: 1.1911 - val_accuracy: 0.5103\n",
            "Epoch 75/100\n",
            "52/52 [==============================] - 0s 3ms/step - loss: 1.6926 - accuracy: 0.6553 - val_loss: 1.1182 - val_accuracy: 0.5362\n",
            "Epoch 76/100\n",
            "52/52 [==============================] - 0s 3ms/step - loss: 1.7086 - accuracy: 0.6375 - val_loss: 1.1847 - val_accuracy: 0.4050\n",
            "Epoch 77/100\n",
            "52/52 [==============================] - 0s 3ms/step - loss: 1.6663 - accuracy: 0.6601 - val_loss: 1.1170 - val_accuracy: 0.5041\n",
            "Epoch 78/100\n",
            "52/52 [==============================] - 0s 4ms/step - loss: 1.6642 - accuracy: 0.6491 - val_loss: 1.1161 - val_accuracy: 0.5393\n",
            "Epoch 79/100\n",
            "52/52 [==============================] - 0s 3ms/step - loss: 1.6789 - accuracy: 0.6516 - val_loss: 1.0944 - val_accuracy: 0.5465\n",
            "Epoch 80/100\n",
            "52/52 [==============================] - 0s 3ms/step - loss: 1.6722 - accuracy: 0.6577 - val_loss: 0.9898 - val_accuracy: 0.5671\n",
            "Epoch 81/100\n",
            "52/52 [==============================] - 0s 3ms/step - loss: 1.6439 - accuracy: 0.6620 - val_loss: 1.0480 - val_accuracy: 0.5341\n",
            "Epoch 82/100\n",
            "52/52 [==============================] - 0s 3ms/step - loss: 1.6476 - accuracy: 0.6620 - val_loss: 1.1991 - val_accuracy: 0.5062\n",
            "Epoch 83/100\n",
            "52/52 [==============================] - 0s 4ms/step - loss: 1.6682 - accuracy: 0.6504 - val_loss: 1.1513 - val_accuracy: 0.5320\n",
            "Epoch 84/100\n",
            "52/52 [==============================] - 0s 3ms/step - loss: 1.6461 - accuracy: 0.6516 - val_loss: 1.1303 - val_accuracy: 0.5155\n",
            "Epoch 85/100\n",
            "52/52 [==============================] - 0s 4ms/step - loss: 1.6189 - accuracy: 0.6730 - val_loss: 1.1120 - val_accuracy: 0.5176\n",
            "Epoch 86/100\n",
            "52/52 [==============================] - 0s 3ms/step - loss: 1.6528 - accuracy: 0.6504 - val_loss: 0.9418 - val_accuracy: 0.6302\n",
            "Epoch 87/100\n",
            "52/52 [==============================] - 0s 3ms/step - loss: 1.6316 - accuracy: 0.6699 - val_loss: 1.1971 - val_accuracy: 0.4721\n",
            "Epoch 88/100\n",
            "52/52 [==============================] - 0s 4ms/step - loss: 1.6435 - accuracy: 0.6510 - val_loss: 1.1719 - val_accuracy: 0.5186\n",
            "Epoch 89/100\n",
            "52/52 [==============================] - 0s 4ms/step - loss: 1.6360 - accuracy: 0.6675 - val_loss: 1.1374 - val_accuracy: 0.4979\n",
            "Epoch 90/100\n",
            "52/52 [==============================] - 0s 3ms/step - loss: 1.6121 - accuracy: 0.6620 - val_loss: 0.9815 - val_accuracy: 0.5940\n",
            "Epoch 91/100\n",
            "52/52 [==============================] - 0s 4ms/step - loss: 1.6317 - accuracy: 0.6485 - val_loss: 1.1082 - val_accuracy: 0.4938\n",
            "Epoch 92/100\n",
            "52/52 [==============================] - 0s 4ms/step - loss: 1.6110 - accuracy: 0.6742 - val_loss: 1.0070 - val_accuracy: 0.5723\n",
            "Epoch 93/100\n",
            "52/52 [==============================] - 0s 4ms/step - loss: 1.6024 - accuracy: 0.6803 - val_loss: 1.0581 - val_accuracy: 0.5258\n",
            "Epoch 94/100\n",
            "52/52 [==============================] - 0s 4ms/step - loss: 1.6233 - accuracy: 0.6693 - val_loss: 1.1862 - val_accuracy: 0.5310\n",
            "Epoch 95/100\n",
            "52/52 [==============================] - 0s 3ms/step - loss: 1.6025 - accuracy: 0.6742 - val_loss: 1.0875 - val_accuracy: 0.5434\n",
            "Epoch 96/100\n",
            "52/52 [==============================] - 0s 4ms/step - loss: 1.6037 - accuracy: 0.6736 - val_loss: 1.0623 - val_accuracy: 0.5176\n",
            "Epoch 97/100\n",
            "52/52 [==============================] - 0s 4ms/step - loss: 1.5929 - accuracy: 0.6779 - val_loss: 1.1329 - val_accuracy: 0.5062\n",
            "Epoch 98/100\n",
            "52/52 [==============================] - 0s 4ms/step - loss: 1.5953 - accuracy: 0.6742 - val_loss: 0.9479 - val_accuracy: 0.6105\n",
            "Epoch 99/100\n",
            "52/52 [==============================] - 0s 4ms/step - loss: 1.5950 - accuracy: 0.6815 - val_loss: 1.1136 - val_accuracy: 0.5785\n",
            "Epoch 100/100\n",
            "52/52 [==============================] - 0s 4ms/step - loss: 1.6002 - accuracy: 0.6803 - val_loss: 1.3179 - val_accuracy: 0.4215\n"
          ],
          "name": "stdout"
        }
      ]
    },
    {
      "cell_type": "code",
      "metadata": {
        "colab": {
          "base_uri": "https://localhost:8080/"
        },
        "id": "sBPITqv8sZkF",
        "outputId": "3205c753-631b-4a0b-d1a6-f97670642a38"
      },
      "source": [
        "history = linearRegression.fit(train_rep, \n",
        "                               train_lb, \n",
        "                               batch_size=32, \n",
        "                               epochs=400,\n",
        "                               class_weight=class_weight,\n",
        "                               validation_data=(test_rep, test_lb),\n",
        "                               initial_epoch=200)"
      ],
      "execution_count": 37,
      "outputs": [
        {
          "output_type": "stream",
          "text": [
            "Epoch 201/400\n",
            "52/52 [==============================] - 0s 4ms/step - loss: 1.5887 - accuracy: 0.6754 - val_loss: 0.9874 - val_accuracy: 0.5961\n",
            "Epoch 202/400\n",
            "52/52 [==============================] - 0s 4ms/step - loss: 1.5617 - accuracy: 0.6797 - val_loss: 1.1555 - val_accuracy: 0.5196\n",
            "Epoch 203/400\n",
            "52/52 [==============================] - 0s 3ms/step - loss: 1.5769 - accuracy: 0.6858 - val_loss: 0.9841 - val_accuracy: 0.6167\n",
            "Epoch 204/400\n",
            "52/52 [==============================] - 0s 4ms/step - loss: 1.5602 - accuracy: 0.6754 - val_loss: 1.0709 - val_accuracy: 0.5548\n",
            "Epoch 205/400\n",
            "52/52 [==============================] - 0s 4ms/step - loss: 1.5540 - accuracy: 0.6925 - val_loss: 1.2654 - val_accuracy: 0.4360\n",
            "Epoch 206/400\n",
            "52/52 [==============================] - 0s 3ms/step - loss: 1.5717 - accuracy: 0.6767 - val_loss: 0.9638 - val_accuracy: 0.5909\n",
            "Epoch 207/400\n",
            "52/52 [==============================] - 0s 3ms/step - loss: 1.5763 - accuracy: 0.6840 - val_loss: 1.2469 - val_accuracy: 0.4731\n",
            "Epoch 208/400\n",
            "52/52 [==============================] - 0s 4ms/step - loss: 1.5420 - accuracy: 0.6803 - val_loss: 1.0607 - val_accuracy: 0.5568\n",
            "Epoch 209/400\n",
            "52/52 [==============================] - 0s 3ms/step - loss: 1.5751 - accuracy: 0.6815 - val_loss: 0.9487 - val_accuracy: 0.6188\n",
            "Epoch 210/400\n",
            "52/52 [==============================] - 0s 4ms/step - loss: 1.5816 - accuracy: 0.6730 - val_loss: 0.9111 - val_accuracy: 0.6415\n",
            "Epoch 211/400\n",
            "52/52 [==============================] - 0s 3ms/step - loss: 1.5490 - accuracy: 0.6828 - val_loss: 1.3733 - val_accuracy: 0.4390\n",
            "Epoch 212/400\n",
            "52/52 [==============================] - 0s 3ms/step - loss: 1.5512 - accuracy: 0.6852 - val_loss: 1.1702 - val_accuracy: 0.5021\n",
            "Epoch 213/400\n",
            "52/52 [==============================] - 0s 3ms/step - loss: 1.5568 - accuracy: 0.6663 - val_loss: 1.0244 - val_accuracy: 0.5651\n",
            "Epoch 214/400\n",
            "52/52 [==============================] - 0s 4ms/step - loss: 1.5351 - accuracy: 0.6760 - val_loss: 0.9233 - val_accuracy: 0.6302\n",
            "Epoch 215/400\n",
            "52/52 [==============================] - 0s 3ms/step - loss: 1.5464 - accuracy: 0.6834 - val_loss: 1.0136 - val_accuracy: 0.5640\n",
            "Epoch 216/400\n",
            "52/52 [==============================] - 0s 4ms/step - loss: 1.5456 - accuracy: 0.6773 - val_loss: 1.0047 - val_accuracy: 0.5651\n",
            "Epoch 217/400\n",
            "52/52 [==============================] - 0s 4ms/step - loss: 1.5225 - accuracy: 0.6663 - val_loss: 0.9810 - val_accuracy: 0.6012\n",
            "Epoch 218/400\n",
            "52/52 [==============================] - 0s 4ms/step - loss: 1.5268 - accuracy: 0.6883 - val_loss: 1.0812 - val_accuracy: 0.5671\n",
            "Epoch 219/400\n",
            "52/52 [==============================] - 0s 4ms/step - loss: 1.5465 - accuracy: 0.6791 - val_loss: 1.0519 - val_accuracy: 0.5610\n",
            "Epoch 220/400\n",
            "52/52 [==============================] - 0s 3ms/step - loss: 1.5327 - accuracy: 0.6877 - val_loss: 1.3048 - val_accuracy: 0.4597\n",
            "Epoch 221/400\n",
            "52/52 [==============================] - 0s 3ms/step - loss: 1.5314 - accuracy: 0.6980 - val_loss: 1.1411 - val_accuracy: 0.5083\n",
            "Epoch 222/400\n",
            "52/52 [==============================] - 0s 3ms/step - loss: 1.5459 - accuracy: 0.6718 - val_loss: 1.2713 - val_accuracy: 0.3833\n",
            "Epoch 223/400\n",
            "52/52 [==============================] - 0s 3ms/step - loss: 1.5201 - accuracy: 0.6791 - val_loss: 1.0985 - val_accuracy: 0.5124\n",
            "Epoch 224/400\n",
            "52/52 [==============================] - 0s 3ms/step - loss: 1.5198 - accuracy: 0.6895 - val_loss: 0.8724 - val_accuracy: 0.6498\n",
            "Epoch 225/400\n",
            "52/52 [==============================] - 0s 3ms/step - loss: 1.5120 - accuracy: 0.7035 - val_loss: 0.9911 - val_accuracy: 0.5682\n",
            "Epoch 226/400\n",
            "52/52 [==============================] - 0s 4ms/step - loss: 1.5012 - accuracy: 0.6913 - val_loss: 1.1640 - val_accuracy: 0.4793\n",
            "Epoch 227/400\n",
            "52/52 [==============================] - 0s 3ms/step - loss: 1.5280 - accuracy: 0.6803 - val_loss: 1.1261 - val_accuracy: 0.5186\n",
            "Epoch 228/400\n",
            "52/52 [==============================] - 0s 3ms/step - loss: 1.4970 - accuracy: 0.7005 - val_loss: 1.1843 - val_accuracy: 0.4969\n",
            "Epoch 229/400\n",
            "52/52 [==============================] - 0s 3ms/step - loss: 1.5276 - accuracy: 0.6822 - val_loss: 1.0691 - val_accuracy: 0.5351\n",
            "Epoch 230/400\n",
            "52/52 [==============================] - 0s 4ms/step - loss: 1.5097 - accuracy: 0.6980 - val_loss: 1.0384 - val_accuracy: 0.5651\n",
            "Epoch 231/400\n",
            "52/52 [==============================] - 0s 3ms/step - loss: 1.5050 - accuracy: 0.7023 - val_loss: 1.1415 - val_accuracy: 0.5186\n",
            "Epoch 232/400\n",
            "52/52 [==============================] - 0s 3ms/step - loss: 1.4919 - accuracy: 0.6919 - val_loss: 1.0577 - val_accuracy: 0.5599\n",
            "Epoch 233/400\n",
            "52/52 [==============================] - 0s 4ms/step - loss: 1.5119 - accuracy: 0.7023 - val_loss: 0.8867 - val_accuracy: 0.6529\n",
            "Epoch 234/400\n",
            "52/52 [==============================] - 0s 3ms/step - loss: 1.4961 - accuracy: 0.7054 - val_loss: 1.1477 - val_accuracy: 0.5733\n",
            "Epoch 235/400\n",
            "52/52 [==============================] - 0s 4ms/step - loss: 1.4830 - accuracy: 0.6950 - val_loss: 0.9692 - val_accuracy: 0.5899\n",
            "Epoch 236/400\n",
            "52/52 [==============================] - 0s 4ms/step - loss: 1.5025 - accuracy: 0.6803 - val_loss: 1.1097 - val_accuracy: 0.5589\n",
            "Epoch 237/400\n",
            "52/52 [==============================] - 0s 4ms/step - loss: 1.4994 - accuracy: 0.6938 - val_loss: 1.0453 - val_accuracy: 0.5475\n",
            "Epoch 238/400\n",
            "52/52 [==============================] - 0s 4ms/step - loss: 1.4838 - accuracy: 0.6901 - val_loss: 1.3725 - val_accuracy: 0.4298\n",
            "Epoch 239/400\n",
            "52/52 [==============================] - 0s 3ms/step - loss: 1.4765 - accuracy: 0.7017 - val_loss: 1.1723 - val_accuracy: 0.5517\n",
            "Epoch 240/400\n",
            "52/52 [==============================] - 0s 3ms/step - loss: 1.4797 - accuracy: 0.6913 - val_loss: 1.0380 - val_accuracy: 0.5868\n",
            "Epoch 241/400\n",
            "52/52 [==============================] - 0s 4ms/step - loss: 1.4639 - accuracy: 0.6932 - val_loss: 0.9042 - val_accuracy: 0.6095\n",
            "Epoch 242/400\n",
            "52/52 [==============================] - 0s 3ms/step - loss: 1.4725 - accuracy: 0.6938 - val_loss: 0.8623 - val_accuracy: 0.6560\n",
            "Epoch 243/400\n",
            "52/52 [==============================] - 0s 3ms/step - loss: 1.4884 - accuracy: 0.6944 - val_loss: 0.9922 - val_accuracy: 0.5878\n",
            "Epoch 244/400\n",
            "52/52 [==============================] - 0s 4ms/step - loss: 1.4649 - accuracy: 0.7084 - val_loss: 1.1336 - val_accuracy: 0.5176\n",
            "Epoch 245/400\n",
            "52/52 [==============================] - 0s 4ms/step - loss: 1.4775 - accuracy: 0.6980 - val_loss: 1.1091 - val_accuracy: 0.5568\n",
            "Epoch 246/400\n",
            "52/52 [==============================] - 0s 4ms/step - loss: 1.4525 - accuracy: 0.7011 - val_loss: 1.0638 - val_accuracy: 0.5816\n",
            "Epoch 247/400\n",
            "52/52 [==============================] - 0s 4ms/step - loss: 1.4826 - accuracy: 0.6944 - val_loss: 1.0236 - val_accuracy: 0.5899\n",
            "Epoch 248/400\n",
            "52/52 [==============================] - 0s 3ms/step - loss: 1.4688 - accuracy: 0.7072 - val_loss: 0.9814 - val_accuracy: 0.5899\n",
            "Epoch 249/400\n",
            "52/52 [==============================] - 0s 3ms/step - loss: 1.4532 - accuracy: 0.7035 - val_loss: 0.9415 - val_accuracy: 0.5909\n",
            "Epoch 250/400\n",
            "52/52 [==============================] - 0s 3ms/step - loss: 1.4590 - accuracy: 0.6993 - val_loss: 0.9973 - val_accuracy: 0.5527\n",
            "Epoch 251/400\n",
            "52/52 [==============================] - 0s 4ms/step - loss: 1.4538 - accuracy: 0.6919 - val_loss: 1.0355 - val_accuracy: 0.6074\n",
            "Epoch 252/400\n",
            "52/52 [==============================] - 0s 3ms/step - loss: 1.4584 - accuracy: 0.6999 - val_loss: 0.9883 - val_accuracy: 0.6302\n",
            "Epoch 253/400\n",
            "52/52 [==============================] - 0s 3ms/step - loss: 1.4709 - accuracy: 0.7017 - val_loss: 0.9733 - val_accuracy: 0.5816\n",
            "Epoch 254/400\n",
            "52/52 [==============================] - 0s 4ms/step - loss: 1.4422 - accuracy: 0.6919 - val_loss: 1.2568 - val_accuracy: 0.4876\n",
            "Epoch 255/400\n",
            "52/52 [==============================] - 0s 3ms/step - loss: 1.4489 - accuracy: 0.6999 - val_loss: 1.0876 - val_accuracy: 0.5465\n",
            "Epoch 256/400\n",
            "52/52 [==============================] - 0s 3ms/step - loss: 1.4368 - accuracy: 0.7115 - val_loss: 0.9825 - val_accuracy: 0.5764\n",
            "Epoch 257/400\n",
            "52/52 [==============================] - 0s 4ms/step - loss: 1.4246 - accuracy: 0.7152 - val_loss: 0.9009 - val_accuracy: 0.6322\n",
            "Epoch 258/400\n",
            "52/52 [==============================] - 0s 4ms/step - loss: 1.4247 - accuracy: 0.7042 - val_loss: 1.0191 - val_accuracy: 0.5610\n",
            "Epoch 259/400\n",
            "52/52 [==============================] - 0s 4ms/step - loss: 1.4280 - accuracy: 0.7090 - val_loss: 0.9255 - val_accuracy: 0.6085\n",
            "Epoch 260/400\n",
            "52/52 [==============================] - 0s 3ms/step - loss: 1.4332 - accuracy: 0.7115 - val_loss: 1.0567 - val_accuracy: 0.5403\n",
            "Epoch 261/400\n",
            "52/52 [==============================] - 0s 3ms/step - loss: 1.4500 - accuracy: 0.7060 - val_loss: 0.8455 - val_accuracy: 0.6705\n",
            "Epoch 262/400\n",
            "52/52 [==============================] - 0s 4ms/step - loss: 1.4337 - accuracy: 0.7060 - val_loss: 1.0543 - val_accuracy: 0.5382\n",
            "Epoch 263/400\n",
            "52/52 [==============================] - 0s 4ms/step - loss: 1.4024 - accuracy: 0.7145 - val_loss: 0.9362 - val_accuracy: 0.6240\n",
            "Epoch 264/400\n",
            "52/52 [==============================] - 0s 4ms/step - loss: 1.4307 - accuracy: 0.7170 - val_loss: 0.9513 - val_accuracy: 0.6415\n",
            "Epoch 265/400\n",
            "52/52 [==============================] - 0s 4ms/step - loss: 1.4212 - accuracy: 0.7078 - val_loss: 1.0595 - val_accuracy: 0.5320\n",
            "Epoch 266/400\n",
            "52/52 [==============================] - 0s 4ms/step - loss: 1.4110 - accuracy: 0.7207 - val_loss: 0.9736 - val_accuracy: 0.6136\n",
            "Epoch 267/400\n",
            "52/52 [==============================] - 0s 4ms/step - loss: 1.4323 - accuracy: 0.7097 - val_loss: 0.9911 - val_accuracy: 0.5723\n",
            "Epoch 268/400\n",
            "52/52 [==============================] - 0s 3ms/step - loss: 1.3997 - accuracy: 0.7121 - val_loss: 0.9992 - val_accuracy: 0.5692\n",
            "Epoch 269/400\n",
            "52/52 [==============================] - 0s 3ms/step - loss: 1.4148 - accuracy: 0.7158 - val_loss: 1.0926 - val_accuracy: 0.5486\n",
            "Epoch 270/400\n",
            "52/52 [==============================] - 0s 4ms/step - loss: 1.4150 - accuracy: 0.7048 - val_loss: 0.8813 - val_accuracy: 0.6364\n",
            "Epoch 271/400\n",
            "52/52 [==============================] - 0s 4ms/step - loss: 1.4147 - accuracy: 0.7170 - val_loss: 0.8803 - val_accuracy: 0.6333\n",
            "Epoch 272/400\n",
            "52/52 [==============================] - 0s 3ms/step - loss: 1.4077 - accuracy: 0.7084 - val_loss: 0.9761 - val_accuracy: 0.6384\n",
            "Epoch 273/400\n",
            "52/52 [==============================] - 0s 4ms/step - loss: 1.4063 - accuracy: 0.7304 - val_loss: 0.9451 - val_accuracy: 0.6074\n",
            "Epoch 274/400\n",
            "52/52 [==============================] - 0s 4ms/step - loss: 1.3866 - accuracy: 0.7182 - val_loss: 0.9361 - val_accuracy: 0.5971\n",
            "Epoch 275/400\n",
            "52/52 [==============================] - 0s 4ms/step - loss: 1.4078 - accuracy: 0.7133 - val_loss: 0.8929 - val_accuracy: 0.6302\n",
            "Epoch 276/400\n",
            "52/52 [==============================] - 0s 3ms/step - loss: 1.3857 - accuracy: 0.7109 - val_loss: 0.8971 - val_accuracy: 0.6312\n",
            "Epoch 277/400\n",
            "52/52 [==============================] - 0s 4ms/step - loss: 1.4093 - accuracy: 0.7103 - val_loss: 1.0280 - val_accuracy: 0.5682\n",
            "Epoch 278/400\n",
            "52/52 [==============================] - 0s 3ms/step - loss: 1.3840 - accuracy: 0.7139 - val_loss: 1.1518 - val_accuracy: 0.5558\n",
            "Epoch 279/400\n",
            "52/52 [==============================] - 0s 4ms/step - loss: 1.4036 - accuracy: 0.7145 - val_loss: 0.9798 - val_accuracy: 0.6054\n",
            "Epoch 280/400\n",
            "52/52 [==============================] - 0s 4ms/step - loss: 1.3658 - accuracy: 0.7207 - val_loss: 1.3051 - val_accuracy: 0.4979\n",
            "Epoch 281/400\n",
            "52/52 [==============================] - 0s 3ms/step - loss: 1.3930 - accuracy: 0.7121 - val_loss: 0.8448 - val_accuracy: 0.6643\n",
            "Epoch 282/400\n",
            "52/52 [==============================] - 0s 4ms/step - loss: 1.3762 - accuracy: 0.7213 - val_loss: 1.1833 - val_accuracy: 0.4948\n",
            "Epoch 283/400\n",
            "52/52 [==============================] - 0s 3ms/step - loss: 1.4070 - accuracy: 0.7017 - val_loss: 1.0619 - val_accuracy: 0.5413\n",
            "Epoch 284/400\n",
            "52/52 [==============================] - 0s 4ms/step - loss: 1.3962 - accuracy: 0.7213 - val_loss: 1.4577 - val_accuracy: 0.4545\n",
            "Epoch 285/400\n",
            "52/52 [==============================] - 0s 4ms/step - loss: 1.4311 - accuracy: 0.7048 - val_loss: 0.9110 - val_accuracy: 0.6054\n",
            "Epoch 286/400\n",
            "52/52 [==============================] - 0s 3ms/step - loss: 1.3806 - accuracy: 0.7274 - val_loss: 0.8793 - val_accuracy: 0.6250\n",
            "Epoch 287/400\n",
            "52/52 [==============================] - 0s 4ms/step - loss: 1.3572 - accuracy: 0.7188 - val_loss: 1.1966 - val_accuracy: 0.5506\n",
            "Epoch 288/400\n",
            "52/52 [==============================] - 0s 4ms/step - loss: 1.3772 - accuracy: 0.7231 - val_loss: 1.0089 - val_accuracy: 0.5950\n",
            "Epoch 289/400\n",
            "52/52 [==============================] - 0s 4ms/step - loss: 1.3720 - accuracy: 0.7243 - val_loss: 1.2576 - val_accuracy: 0.5455\n",
            "Epoch 290/400\n",
            "52/52 [==============================] - 0s 4ms/step - loss: 1.3911 - accuracy: 0.7231 - val_loss: 0.8676 - val_accuracy: 0.6581\n",
            "Epoch 291/400\n",
            "52/52 [==============================] - 0s 3ms/step - loss: 1.3781 - accuracy: 0.7219 - val_loss: 0.9860 - val_accuracy: 0.5847\n",
            "Epoch 292/400\n",
            "52/52 [==============================] - 0s 3ms/step - loss: 1.3559 - accuracy: 0.7200 - val_loss: 1.0291 - val_accuracy: 0.5940\n",
            "Epoch 293/400\n",
            "52/52 [==============================] - 0s 3ms/step - loss: 1.3381 - accuracy: 0.7341 - val_loss: 0.9149 - val_accuracy: 0.6136\n",
            "Epoch 294/400\n",
            "52/52 [==============================] - 0s 3ms/step - loss: 1.3728 - accuracy: 0.7182 - val_loss: 1.0506 - val_accuracy: 0.6105\n",
            "Epoch 295/400\n",
            "52/52 [==============================] - 0s 4ms/step - loss: 1.3489 - accuracy: 0.7311 - val_loss: 0.9213 - val_accuracy: 0.6209\n",
            "Epoch 296/400\n",
            "52/52 [==============================] - 0s 4ms/step - loss: 1.3640 - accuracy: 0.7103 - val_loss: 0.8613 - val_accuracy: 0.6632\n",
            "Epoch 297/400\n",
            "52/52 [==============================] - 0s 3ms/step - loss: 1.3570 - accuracy: 0.7170 - val_loss: 0.8814 - val_accuracy: 0.6312\n",
            "Epoch 298/400\n",
            "52/52 [==============================] - 0s 3ms/step - loss: 1.3489 - accuracy: 0.7311 - val_loss: 0.9502 - val_accuracy: 0.6033\n",
            "Epoch 299/400\n",
            "52/52 [==============================] - 0s 3ms/step - loss: 1.3689 - accuracy: 0.7225 - val_loss: 0.9415 - val_accuracy: 0.6105\n",
            "Epoch 300/400\n",
            "52/52 [==============================] - 0s 3ms/step - loss: 1.3397 - accuracy: 0.7280 - val_loss: 0.9618 - val_accuracy: 0.6064\n",
            "Epoch 301/400\n",
            "52/52 [==============================] - 0s 3ms/step - loss: 1.3477 - accuracy: 0.7298 - val_loss: 1.3814 - val_accuracy: 0.4814\n",
            "Epoch 302/400\n",
            "52/52 [==============================] - 0s 3ms/step - loss: 1.3547 - accuracy: 0.7249 - val_loss: 1.0921 - val_accuracy: 0.4938\n",
            "Epoch 303/400\n",
            "52/52 [==============================] - 0s 3ms/step - loss: 1.3616 - accuracy: 0.7176 - val_loss: 1.0852 - val_accuracy: 0.6064\n",
            "Epoch 304/400\n",
            "52/52 [==============================] - 0s 3ms/step - loss: 1.3512 - accuracy: 0.7207 - val_loss: 1.0511 - val_accuracy: 0.5558\n",
            "Epoch 305/400\n",
            "52/52 [==============================] - 0s 4ms/step - loss: 1.3281 - accuracy: 0.7323 - val_loss: 1.3003 - val_accuracy: 0.4835\n",
            "Epoch 306/400\n",
            "52/52 [==============================] - 0s 4ms/step - loss: 1.3745 - accuracy: 0.7292 - val_loss: 1.1266 - val_accuracy: 0.5527\n",
            "Epoch 307/400\n",
            "52/52 [==============================] - 0s 3ms/step - loss: 1.3387 - accuracy: 0.7372 - val_loss: 0.8756 - val_accuracy: 0.6322\n",
            "Epoch 308/400\n",
            "52/52 [==============================] - 0s 3ms/step - loss: 1.3345 - accuracy: 0.7194 - val_loss: 1.0912 - val_accuracy: 0.5744\n",
            "Epoch 309/400\n",
            "52/52 [==============================] - 0s 4ms/step - loss: 1.3474 - accuracy: 0.7249 - val_loss: 1.0811 - val_accuracy: 0.5806\n",
            "Epoch 310/400\n",
            "52/52 [==============================] - 0s 4ms/step - loss: 1.3512 - accuracy: 0.7237 - val_loss: 0.8617 - val_accuracy: 0.6622\n",
            "Epoch 311/400\n",
            "52/52 [==============================] - 0s 3ms/step - loss: 1.3507 - accuracy: 0.7237 - val_loss: 1.0034 - val_accuracy: 0.5868\n",
            "Epoch 312/400\n",
            "52/52 [==============================] - 0s 4ms/step - loss: 1.3381 - accuracy: 0.7366 - val_loss: 1.0175 - val_accuracy: 0.5713\n",
            "Epoch 313/400\n",
            "52/52 [==============================] - 0s 4ms/step - loss: 1.3333 - accuracy: 0.7225 - val_loss: 1.0414 - val_accuracy: 0.5537\n",
            "Epoch 314/400\n",
            "52/52 [==============================] - 0s 4ms/step - loss: 1.3197 - accuracy: 0.7268 - val_loss: 0.8720 - val_accuracy: 0.6364\n",
            "Epoch 315/400\n",
            "52/52 [==============================] - 0s 4ms/step - loss: 1.3178 - accuracy: 0.7359 - val_loss: 0.9477 - val_accuracy: 0.6147\n",
            "Epoch 316/400\n",
            "52/52 [==============================] - 0s 4ms/step - loss: 1.3309 - accuracy: 0.7200 - val_loss: 0.9529 - val_accuracy: 0.6178\n",
            "Epoch 317/400\n",
            "52/52 [==============================] - 0s 4ms/step - loss: 1.3008 - accuracy: 0.7366 - val_loss: 0.9961 - val_accuracy: 0.5930\n",
            "Epoch 318/400\n",
            "52/52 [==============================] - 0s 4ms/step - loss: 1.3157 - accuracy: 0.7451 - val_loss: 0.9770 - val_accuracy: 0.5847\n",
            "Epoch 319/400\n",
            "52/52 [==============================] - 0s 4ms/step - loss: 1.3116 - accuracy: 0.7347 - val_loss: 1.1043 - val_accuracy: 0.5909\n",
            "Epoch 320/400\n",
            "52/52 [==============================] - 0s 3ms/step - loss: 1.3103 - accuracy: 0.7457 - val_loss: 0.8761 - val_accuracy: 0.6436\n",
            "Epoch 321/400\n",
            "52/52 [==============================] - 0s 4ms/step - loss: 1.3052 - accuracy: 0.7292 - val_loss: 0.9161 - val_accuracy: 0.6477\n",
            "Epoch 322/400\n",
            "52/52 [==============================] - 0s 4ms/step - loss: 1.3171 - accuracy: 0.7298 - val_loss: 1.0688 - val_accuracy: 0.5713\n",
            "Epoch 323/400\n",
            "52/52 [==============================] - 0s 4ms/step - loss: 1.3169 - accuracy: 0.7433 - val_loss: 0.9262 - val_accuracy: 0.6250\n",
            "Epoch 324/400\n",
            "52/52 [==============================] - 0s 4ms/step - loss: 1.3152 - accuracy: 0.7359 - val_loss: 0.8329 - val_accuracy: 0.6601\n",
            "Epoch 325/400\n",
            "52/52 [==============================] - 0s 4ms/step - loss: 1.3085 - accuracy: 0.7421 - val_loss: 0.9033 - val_accuracy: 0.6333\n",
            "Epoch 326/400\n",
            "52/52 [==============================] - 0s 3ms/step - loss: 1.2970 - accuracy: 0.7463 - val_loss: 1.0306 - val_accuracy: 0.5620\n",
            "Epoch 327/400\n",
            "52/52 [==============================] - 0s 4ms/step - loss: 1.3067 - accuracy: 0.7359 - val_loss: 1.6205 - val_accuracy: 0.3492\n",
            "Epoch 328/400\n",
            "52/52 [==============================] - 0s 4ms/step - loss: 1.3366 - accuracy: 0.7347 - val_loss: 0.9056 - val_accuracy: 0.6229\n",
            "Epoch 329/400\n",
            "52/52 [==============================] - 0s 3ms/step - loss: 1.2985 - accuracy: 0.7359 - val_loss: 0.8803 - val_accuracy: 0.6384\n",
            "Epoch 330/400\n",
            "52/52 [==============================] - 0s 3ms/step - loss: 1.3052 - accuracy: 0.7268 - val_loss: 0.8578 - val_accuracy: 0.6488\n",
            "Epoch 331/400\n",
            "52/52 [==============================] - 0s 4ms/step - loss: 1.3088 - accuracy: 0.7317 - val_loss: 1.0027 - val_accuracy: 0.5785\n",
            "Epoch 332/400\n",
            "52/52 [==============================] - 0s 4ms/step - loss: 1.3078 - accuracy: 0.7317 - val_loss: 0.8526 - val_accuracy: 0.6550\n",
            "Epoch 333/400\n",
            "52/52 [==============================] - 0s 3ms/step - loss: 1.3045 - accuracy: 0.7372 - val_loss: 0.9584 - val_accuracy: 0.6043\n",
            "Epoch 334/400\n",
            "52/52 [==============================] - 0s 3ms/step - loss: 1.2959 - accuracy: 0.7366 - val_loss: 0.8457 - val_accuracy: 0.6612\n",
            "Epoch 335/400\n",
            "52/52 [==============================] - 0s 3ms/step - loss: 1.3013 - accuracy: 0.7274 - val_loss: 0.9736 - val_accuracy: 0.5961\n",
            "Epoch 336/400\n",
            "52/52 [==============================] - 0s 3ms/step - loss: 1.2894 - accuracy: 0.7439 - val_loss: 0.8980 - val_accuracy: 0.6240\n",
            "Epoch 337/400\n",
            "52/52 [==============================] - 0s 4ms/step - loss: 1.2835 - accuracy: 0.7457 - val_loss: 0.9487 - val_accuracy: 0.6384\n",
            "Epoch 338/400\n",
            "52/52 [==============================] - 0s 4ms/step - loss: 1.2952 - accuracy: 0.7292 - val_loss: 0.9682 - val_accuracy: 0.6147\n",
            "Epoch 339/400\n",
            "52/52 [==============================] - 0s 4ms/step - loss: 1.2946 - accuracy: 0.7451 - val_loss: 0.8237 - val_accuracy: 0.6767\n",
            "Epoch 340/400\n",
            "52/52 [==============================] - 0s 3ms/step - loss: 1.2872 - accuracy: 0.7384 - val_loss: 0.8455 - val_accuracy: 0.6694\n",
            "Epoch 341/400\n",
            "52/52 [==============================] - 0s 4ms/step - loss: 1.2963 - accuracy: 0.7353 - val_loss: 0.8103 - val_accuracy: 0.6890\n",
            "Epoch 342/400\n",
            "52/52 [==============================] - 0s 4ms/step - loss: 1.2732 - accuracy: 0.7408 - val_loss: 0.9866 - val_accuracy: 0.6002\n",
            "Epoch 343/400\n",
            "52/52 [==============================] - 0s 3ms/step - loss: 1.2767 - accuracy: 0.7518 - val_loss: 0.8318 - val_accuracy: 0.6756\n",
            "Epoch 344/400\n",
            "52/52 [==============================] - 0s 4ms/step - loss: 1.2897 - accuracy: 0.7384 - val_loss: 0.9407 - val_accuracy: 0.5981\n",
            "Epoch 345/400\n",
            "52/52 [==============================] - 0s 4ms/step - loss: 1.2891 - accuracy: 0.7298 - val_loss: 0.9457 - val_accuracy: 0.5899\n",
            "Epoch 346/400\n",
            "52/52 [==============================] - 0s 4ms/step - loss: 1.2708 - accuracy: 0.7335 - val_loss: 0.9769 - val_accuracy: 0.6002\n",
            "Epoch 347/400\n",
            "52/52 [==============================] - 0s 4ms/step - loss: 1.2918 - accuracy: 0.7439 - val_loss: 0.9929 - val_accuracy: 0.5878\n",
            "Epoch 348/400\n",
            "52/52 [==============================] - 0s 4ms/step - loss: 1.2933 - accuracy: 0.7390 - val_loss: 0.8343 - val_accuracy: 0.6653\n",
            "Epoch 349/400\n",
            "52/52 [==============================] - 0s 4ms/step - loss: 1.2549 - accuracy: 0.7408 - val_loss: 0.9500 - val_accuracy: 0.6198\n",
            "Epoch 350/400\n",
            "52/52 [==============================] - 0s 4ms/step - loss: 1.2832 - accuracy: 0.7463 - val_loss: 0.9802 - val_accuracy: 0.6374\n",
            "Epoch 351/400\n",
            "52/52 [==============================] - 0s 3ms/step - loss: 1.2624 - accuracy: 0.7488 - val_loss: 0.8294 - val_accuracy: 0.6746\n",
            "Epoch 352/400\n",
            "52/52 [==============================] - 0s 4ms/step - loss: 1.2765 - accuracy: 0.7524 - val_loss: 0.9176 - val_accuracy: 0.6488\n",
            "Epoch 353/400\n",
            "52/52 [==============================] - 0s 4ms/step - loss: 1.2702 - accuracy: 0.7567 - val_loss: 0.9724 - val_accuracy: 0.5847\n",
            "Epoch 354/400\n",
            "52/52 [==============================] - 0s 4ms/step - loss: 1.2823 - accuracy: 0.7500 - val_loss: 1.0897 - val_accuracy: 0.5072\n",
            "Epoch 355/400\n",
            "52/52 [==============================] - 0s 4ms/step - loss: 1.2677 - accuracy: 0.7427 - val_loss: 1.4820 - val_accuracy: 0.3936\n",
            "Epoch 356/400\n",
            "52/52 [==============================] - 0s 3ms/step - loss: 1.2730 - accuracy: 0.7378 - val_loss: 0.8777 - val_accuracy: 0.6550\n",
            "Epoch 357/400\n",
            "52/52 [==============================] - 0s 3ms/step - loss: 1.2635 - accuracy: 0.7488 - val_loss: 0.9641 - val_accuracy: 0.5992\n",
            "Epoch 358/400\n",
            "52/52 [==============================] - 0s 3ms/step - loss: 1.2880 - accuracy: 0.7359 - val_loss: 0.8665 - val_accuracy: 0.6467\n",
            "Epoch 359/400\n",
            "52/52 [==============================] - 0s 3ms/step - loss: 1.2567 - accuracy: 0.7500 - val_loss: 0.8833 - val_accuracy: 0.6271\n",
            "Epoch 360/400\n",
            "52/52 [==============================] - 0s 4ms/step - loss: 1.2427 - accuracy: 0.7457 - val_loss: 0.9832 - val_accuracy: 0.5713\n",
            "Epoch 361/400\n",
            "52/52 [==============================] - 0s 3ms/step - loss: 1.2453 - accuracy: 0.7476 - val_loss: 1.1066 - val_accuracy: 0.5713\n",
            "Epoch 362/400\n",
            "52/52 [==============================] - 0s 4ms/step - loss: 1.2661 - accuracy: 0.7561 - val_loss: 1.0156 - val_accuracy: 0.5744\n",
            "Epoch 363/400\n",
            "52/52 [==============================] - 0s 4ms/step - loss: 1.2577 - accuracy: 0.7488 - val_loss: 1.0232 - val_accuracy: 0.5971\n",
            "Epoch 364/400\n",
            "52/52 [==============================] - 0s 4ms/step - loss: 1.2517 - accuracy: 0.7524 - val_loss: 0.8717 - val_accuracy: 0.6508\n",
            "Epoch 365/400\n",
            "52/52 [==============================] - 0s 4ms/step - loss: 1.2436 - accuracy: 0.7512 - val_loss: 0.9675 - val_accuracy: 0.6302\n",
            "Epoch 366/400\n",
            "52/52 [==============================] - 0s 4ms/step - loss: 1.2534 - accuracy: 0.7494 - val_loss: 0.9193 - val_accuracy: 0.6446\n",
            "Epoch 367/400\n",
            "52/52 [==============================] - 0s 4ms/step - loss: 1.2411 - accuracy: 0.7518 - val_loss: 0.8147 - val_accuracy: 0.6880\n",
            "Epoch 368/400\n",
            "52/52 [==============================] - 0s 4ms/step - loss: 1.2445 - accuracy: 0.7463 - val_loss: 0.8842 - val_accuracy: 0.6395\n",
            "Epoch 369/400\n",
            "52/52 [==============================] - 0s 4ms/step - loss: 1.2416 - accuracy: 0.7512 - val_loss: 0.7922 - val_accuracy: 0.6973\n",
            "Epoch 370/400\n",
            "52/52 [==============================] - 0s 3ms/step - loss: 1.2341 - accuracy: 0.7427 - val_loss: 0.9129 - val_accuracy: 0.6415\n",
            "Epoch 371/400\n",
            "52/52 [==============================] - 0s 4ms/step - loss: 1.2476 - accuracy: 0.7524 - val_loss: 1.1038 - val_accuracy: 0.5744\n",
            "Epoch 372/400\n",
            "52/52 [==============================] - 0s 4ms/step - loss: 1.2360 - accuracy: 0.7549 - val_loss: 0.9346 - val_accuracy: 0.6333\n",
            "Epoch 373/400\n",
            "52/52 [==============================] - 0s 4ms/step - loss: 1.2337 - accuracy: 0.7531 - val_loss: 0.8995 - val_accuracy: 0.6467\n",
            "Epoch 374/400\n",
            "52/52 [==============================] - 0s 4ms/step - loss: 1.2430 - accuracy: 0.7390 - val_loss: 0.9055 - val_accuracy: 0.6539\n",
            "Epoch 375/400\n",
            "52/52 [==============================] - 0s 4ms/step - loss: 1.2218 - accuracy: 0.7592 - val_loss: 1.0696 - val_accuracy: 0.5795\n",
            "Epoch 376/400\n",
            "52/52 [==============================] - 0s 4ms/step - loss: 1.2498 - accuracy: 0.7500 - val_loss: 1.0344 - val_accuracy: 0.5403\n",
            "Epoch 377/400\n",
            "52/52 [==============================] - 0s 4ms/step - loss: 1.2501 - accuracy: 0.7445 - val_loss: 0.9271 - val_accuracy: 0.6291\n",
            "Epoch 378/400\n",
            "52/52 [==============================] - 0s 4ms/step - loss: 1.2307 - accuracy: 0.7573 - val_loss: 1.2793 - val_accuracy: 0.4638\n",
            "Epoch 379/400\n",
            "52/52 [==============================] - 0s 3ms/step - loss: 1.2423 - accuracy: 0.7482 - val_loss: 0.9071 - val_accuracy: 0.6322\n",
            "Epoch 380/400\n",
            "52/52 [==============================] - 0s 4ms/step - loss: 1.2328 - accuracy: 0.7549 - val_loss: 1.0449 - val_accuracy: 0.5857\n",
            "Epoch 381/400\n",
            "52/52 [==============================] - 0s 4ms/step - loss: 1.2150 - accuracy: 0.7573 - val_loss: 1.2641 - val_accuracy: 0.5434\n",
            "Epoch 382/400\n",
            "52/52 [==============================] - 0s 3ms/step - loss: 1.2540 - accuracy: 0.7463 - val_loss: 0.8140 - val_accuracy: 0.6787\n",
            "Epoch 383/400\n",
            "52/52 [==============================] - 0s 4ms/step - loss: 1.2238 - accuracy: 0.7469 - val_loss: 0.9754 - val_accuracy: 0.6353\n",
            "Epoch 384/400\n",
            "52/52 [==============================] - 0s 3ms/step - loss: 1.2173 - accuracy: 0.7592 - val_loss: 0.9104 - val_accuracy: 0.6364\n",
            "Epoch 385/400\n",
            "52/52 [==============================] - 0s 3ms/step - loss: 1.2249 - accuracy: 0.7506 - val_loss: 0.9257 - val_accuracy: 0.6054\n",
            "Epoch 386/400\n",
            "52/52 [==============================] - 0s 4ms/step - loss: 1.2222 - accuracy: 0.7463 - val_loss: 0.8502 - val_accuracy: 0.6446\n",
            "Epoch 387/400\n",
            "52/52 [==============================] - 0s 4ms/step - loss: 1.2049 - accuracy: 0.7488 - val_loss: 0.9795 - val_accuracy: 0.6240\n",
            "Epoch 388/400\n",
            "52/52 [==============================] - 0s 4ms/step - loss: 1.2156 - accuracy: 0.7714 - val_loss: 1.0507 - val_accuracy: 0.5517\n",
            "Epoch 389/400\n",
            "52/52 [==============================] - 0s 3ms/step - loss: 1.2266 - accuracy: 0.7341 - val_loss: 1.0328 - val_accuracy: 0.5775\n",
            "Epoch 390/400\n",
            "52/52 [==============================] - 0s 3ms/step - loss: 1.2246 - accuracy: 0.7518 - val_loss: 0.9492 - val_accuracy: 0.6074\n",
            "Epoch 391/400\n",
            "52/52 [==============================] - 0s 3ms/step - loss: 1.2263 - accuracy: 0.7476 - val_loss: 0.9440 - val_accuracy: 0.6302\n",
            "Epoch 392/400\n",
            "52/52 [==============================] - 0s 4ms/step - loss: 1.1957 - accuracy: 0.7616 - val_loss: 0.9669 - val_accuracy: 0.6467\n",
            "Epoch 393/400\n",
            "52/52 [==============================] - 0s 4ms/step - loss: 1.2217 - accuracy: 0.7506 - val_loss: 1.0992 - val_accuracy: 0.5899\n",
            "Epoch 394/400\n",
            "52/52 [==============================] - 0s 4ms/step - loss: 1.2395 - accuracy: 0.7567 - val_loss: 0.9457 - val_accuracy: 0.6353\n",
            "Epoch 395/400\n",
            "52/52 [==============================] - 0s 3ms/step - loss: 1.2132 - accuracy: 0.7622 - val_loss: 0.9136 - val_accuracy: 0.6147\n",
            "Epoch 396/400\n",
            "52/52 [==============================] - 0s 4ms/step - loss: 1.1990 - accuracy: 0.7610 - val_loss: 0.9715 - val_accuracy: 0.6229\n",
            "Epoch 397/400\n",
            "52/52 [==============================] - 0s 4ms/step - loss: 1.2146 - accuracy: 0.7555 - val_loss: 0.9674 - val_accuracy: 0.6012\n",
            "Epoch 398/400\n",
            "52/52 [==============================] - 0s 4ms/step - loss: 1.2139 - accuracy: 0.7561 - val_loss: 0.8821 - val_accuracy: 0.6539\n",
            "Epoch 399/400\n",
            "52/52 [==============================] - 0s 3ms/step - loss: 1.2089 - accuracy: 0.7579 - val_loss: 0.9554 - val_accuracy: 0.5961\n",
            "Epoch 400/400\n",
            "52/52 [==============================] - 0s 3ms/step - loss: 1.2181 - accuracy: 0.7555 - val_loss: 1.1869 - val_accuracy: 0.4700\n"
          ],
          "name": "stdout"
        }
      ]
    },
    {
      "cell_type": "code",
      "metadata": {
        "colab": {
          "base_uri": "https://localhost:8080/",
          "height": 282
        },
        "id": "6MVakrYVhf-H",
        "outputId": "0f5544ba-cbbe-4217-d1fb-065a269ce052"
      },
      "source": [
        "f = plt.figure()\n",
        "ax1 = f.add_subplot(1,2,1)\n",
        "ax1.plot(linearRegression.history.history['loss'])\n",
        "ax1.plot(linearRegression.history.history['val_loss'])\n",
        "\n",
        "ax2 = f.add_subplot(1,2,2)\n",
        "ax2.plot(linearRegression.history.history['accuracy'])\n",
        "ax2.plot(linearRegression.history.history['val_accuracy'])"
      ],
      "execution_count": 38,
      "outputs": [
        {
          "output_type": "execute_result",
          "data": {
            "text/plain": [
              "[<matplotlib.lines.Line2D at 0x7fa9e75acc10>]"
            ]
          },
          "metadata": {
            "tags": []
          },
          "execution_count": 38
        },
        {
          "output_type": "display_data",
          "data": {
            "image/png": "[encoded data removed]",
            "text/plain": [
              "<Figure size 432x288 with 2 Axes>"
            ]
          },
          "metadata": {
            "tags": [],
            "needs_background": "light"
          }
        }
      ]
    },
    {
      "cell_type": "code",
      "metadata": {
        "id": "BZSaVfmenCfR"
      },
      "source": [
        "ypred_train = linearRegression(train_rep).numpy().argmax(axis=-1)\n",
        "ypred_test  = linearRegression(test_rep).numpy().argmax(axis=-1)"
      ],
      "execution_count": 39,
      "outputs": []
    },
    {
      "cell_type": "code",
      "metadata": {
        "id": "xMWz72wblNRp"
      },
      "source": [
        "from sklearn.metrics import classification_report"
      ],
      "execution_count": 40,
      "outputs": []
    },
    {
      "cell_type": "code",
      "metadata": {
        "colab": {
          "base_uri": "https://localhost:8080/"
        },
        "id": "_kkAHDfpnkCr",
        "outputId": "c96ba570-7261-46a3-a1b5-433440a07d73"
      },
      "source": [
        "print(classification_report(train_lb, ypred_train))"
      ],
      "execution_count": 41,
      "outputs": [
        {
          "output_type": "stream",
          "text": [
            "              precision    recall  f1-score   support\n",
            "\n",
            "           0       0.98      0.43      0.60       733\n",
            "           1       0.22      1.00      0.36       222\n",
            "           2       0.64      0.23      0.34       167\n",
            "           3       0.92      0.42      0.58       514\n",
            "\n",
            "    accuracy                           0.48      1636\n",
            "   macro avg       0.69      0.52      0.47      1636\n",
            "weighted avg       0.83      0.48      0.53      1636\n",
            "\n"
          ],
          "name": "stdout"
        }
      ]
    },
    {
      "cell_type": "code",
      "metadata": {
        "colab": {
          "base_uri": "https://localhost:8080/"
        },
        "id": "R4p80AyVnv7N",
        "outputId": "ef4fb7b6-a5a0-4273-b511-6774be5e8a60"
      },
      "source": [
        "print(classification_report(test_lb, ypred_test))"
      ],
      "execution_count": 42,
      "outputs": [
        {
          "output_type": "stream",
          "text": [
            "              precision    recall  f1-score   support\n",
            "\n",
            "           0       0.93      0.37      0.53       242\n",
            "           1       0.34      0.93      0.49       242\n",
            "           2       0.77      0.12      0.21       242\n",
            "           3       0.68      0.45      0.54       242\n",
            "\n",
            "    accuracy                           0.47       968\n",
            "   macro avg       0.68      0.47      0.45       968\n",
            "weighted avg       0.68      0.47      0.45       968\n",
            "\n"
          ],
          "name": "stdout"
        }
      ]
    },
    {
      "cell_type": "markdown",
      "metadata": {
        "id": "BTnyvjN0Z0n6"
      },
      "source": [
        "# NOT BAD!!\n",
        "- with only a linear regression, we achieve an overall accuracy of 65%, as opposed to a completely random guess with gives 25 %!\n",
        "- a good baseline on a SimCLR trained on the actual image distribution! "
      ]
    },
    {
      "cell_type": "code",
      "metadata": {
        "id": "3r76Z7IvcuvS"
      },
      "source": [
        "# http://karpathy.github.io/2019/04/25/recipe/#2-set-up-the-end-to-end-trainingevaluation-skeleton--get-dumb-baselines\n",
        "# https://www.tensorflow.org/tutorials/structured_data/imbalanced_data#optional_set_the_correct_initial_bias"
      ],
      "execution_count": null,
      "outputs": []
    }
  ]
}