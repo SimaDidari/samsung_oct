{
  "nbformat": 4,
  "nbformat_minor": 0,
  "metadata": {
    "accelerator": "GPU",
    "colab": {
      "name": "50per_train_data_JG_oct_ 2_model_SimCLR.ipynb",
      "provenance": [],
      "collapsed_sections": [
        "TbTY6SdtMl3K"
      ],
      "machine_shape": "hm",
      "include_colab_link": true
    },
    "kernelspec": {
      "display_name": "Python 3",
      "language": "python",
      "name": "python3"
    },
    "language_info": {
      "codemirror_mode": {
        "name": "ipython",
        "version": 3
      },
      "file_extension": ".py",
      "mimetype": "text/x-python",
      "name": "python",
      "nbconvert_exporter": "python",
      "pygments_lexer": "ipython3",
      "version": "3.7.7-final"
    }
  },
  "cells": [
    {
      "cell_type": "markdown",
      "metadata": {
        "id": "view-in-github",
        "colab_type": "text"
      },
      "source": [
        "<a href=\"https://colab.research.google.com/github/djvaroli/samsung_oct/blob/Janhavi-Colab-Notebooks/50per_train_data_JG_oct__2_model_SimCLR.ipynb\" target=\"_parent\"><img src=\"https://colab.research.google.com/assets/colab-badge.svg\" alt=\"Open In Colab\"/></a>"
      ]
    },
    {
      "cell_type": "code",
      "metadata": {
        "colab": {
          "base_uri": "https://localhost:8080/"
        },
        "id": "IOHjctPzkGDD",
        "outputId": "83e55589-c1ac-4f01-b94b-3b7a8f3ef9b6"
      },
      "source": [
        "from google.colab import drive\n",
        "drive.mount('/content/drive', force_remount=True)\n",
        "import os\n",
        "os.chdir('/content/drive/MyDrive/Colab Notebooks/Samsung-OCT-Project-Work/')\n",
        "pwd = os.getcwd()\n",
        "print(pwd)"
      ],
      "execution_count": 1,
      "outputs": [
        {
          "output_type": "stream",
          "text": [
            "Mounted at /content/drive\n",
            "/content/drive/MyDrive/Colab Notebooks/Samsung-OCT-Project-Work\n"
          ],
          "name": "stdout"
        }
      ]
    },
    {
      "cell_type": "code",
      "metadata": {
        "colab": {
          "base_uri": "https://localhost:8080/"
        },
        "id": "wPisAhxbuGpo",
        "outputId": "66e7063f-c21c-45f7-b21b-35928aae4905"
      },
      "source": [
        "os.chdir('/content/drive/MyDrive/Colab Notebooks/Samsung-OCT-Project-Work/processed_data/data/')\n",
        "%mkdir train_data_50per\n",
        "%cd train_data_50per\n",
        "%mkdir 0\n",
        "%mkdir 1\n",
        "%mkdir 2\n",
        "%mkdir 3"
      ],
      "execution_count": 9,
      "outputs": [
        {
          "output_type": "stream",
          "text": [
            "/content/drive/MyDrive/Colab Notebooks/Samsung-OCT-Project-Work/processed_data/data/train_data_50per\n"
          ],
          "name": "stdout"
        }
      ]
    },
    {
      "cell_type": "code",
      "metadata": {
        "colab": {
          "base_uri": "https://localhost:8080/",
          "height": 35
        },
        "id": "3qqLOUZUugnK",
        "outputId": "6cb31b29-99a5-40b5-b28e-669a057bc815"
      },
      "source": [
        "%pwd\n"
      ],
      "execution_count": 15,
      "outputs": [
        {
          "output_type": "execute_result",
          "data": {
            "application/vnd.google.colaboratory.intrinsic+json": {
              "type": "string"
            },
            "text/plain": [
              "'/content/drive/My Drive/Colab Notebooks/Samsung-OCT-Project-Work/processed_data/data/train_data_50per'"
            ]
          },
          "metadata": {
            "tags": []
          },
          "execution_count": 15
        }
      ]
    },
    {
      "cell_type": "code",
      "metadata": {
        "id": "atFDJpWjt6vp"
      },
      "source": [
        "import pandas as pd\n",
        "import numpy as np\n",
        "\n",
        "def load_data(folder):\n",
        "  X=[]\n",
        "  Y=[]\n",
        "  Z=[]\n",
        "  for folderName in os.listdir(folder):\n",
        "    if not folderName.startswith('.'):\n",
        "      if folderName == '0':\n",
        "        label = 0\n",
        "      elif folderName == '1':\n",
        "        label = 1\n",
        "      elif folderName == '2':\n",
        "        label = 2\n",
        "      elif folderName == '3':\n",
        "        label = 3\n",
        "      else:\n",
        "        label = 4\n",
        "\n",
        "    for file in os.listdir(folder+'/'+folderName):\n",
        "      if not file.startswith('.'):\n",
        "        X.append(file)\n",
        "        Y.append(label)\n",
        "        Z.append(folder+'/'+folderName+'/'+file)\n",
        "  return pd.DataFrame(np.hstack((np.asarray(X).reshape(-1,1),np.asarray(Z).reshape(-1,1), np.asarray(Y).reshape(-1,1))),columns=['filename','path','Class']).sort_values('Class')\n",
        "  ###############################"
      ],
      "execution_count": 17,
      "outputs": []
    },
    {
      "cell_type": "code",
      "metadata": {
        "id": "mEgEGLU8xLy3"
      },
      "source": [
        "  train_data = load_data('/content/drive/My Drive/Colab Notebooks/Samsung-OCT-Project-Work/processed_data/data/train/')\n",
        "  \n"
      ],
      "execution_count": 18,
      "outputs": []
    },
    {
      "cell_type": "code",
      "metadata": {
        "id": "o-PKUYkuwo3p"
      },
      "source": [
        "# Creating reduced train dataset\n",
        "# Selecting smaller sample size \n",
        "def sample_data(data, sample_size):\n",
        "  if sample_size == data.shape[0]:\n",
        "    return data\n",
        "  class_weights = dict(data[\"Class\"].value_counts()/data.shape[0])\n",
        "  print(\"Before sub-sampling=\", class_weights)\n",
        "  df0 = data[data[\"Class\"]=='0'].sample(n=min(int(round(sample_size * class_weights['0'])),len(data[data[\"Class\"]=='0'])))\n",
        "  df1 = data[data[\"Class\"]=='1'].sample(n=min(int(round(sample_size * class_weights['1'])),len(data[data[\"Class\"]=='1'])))\n",
        "  df2 = data[data[\"Class\"]=='2'].sample(n=min(int(round(sample_size * class_weights['2'])),len(data[data[\"Class\"]=='2'])))\n",
        "  df3 = data[data[\"Class\"]=='3'].sample(n=min(int(round(sample_size * class_weights['3'])),len(data[data[\"Class\"]=='3'])))\n",
        "  return pd.concat([df0,df1,df2,df3])"
      ],
      "execution_count": 19,
      "outputs": []
    },
    {
      "cell_type": "code",
      "metadata": {
        "colab": {
          "base_uri": "https://localhost:8080/"
        },
        "id": "0J7-AAfVws6v",
        "outputId": "79423208-6485-4d2c-8284-662c7932fcf0"
      },
      "source": [
        "train_50per = int((1/50)*(train_data.shape[0]))\n",
        "print(\"50% reduced train data sample size=\",train_50per)\n",
        "train_data_red = sample_data(train_data,train_50per)\n",
        "class_weights = dict(train_data_red[\"Class\"].value_counts()/train_data_red.shape[0])\n",
        "print(\"Sub-sampled train data=\", class_weights)\n",
        "print(train_data.shape, train_data_red.shape)"
      ],
      "execution_count": 20,
      "outputs": [
        {
          "output_type": "stream",
          "text": [
            "50% reduced train data sample size= 1669\n",
            "Before sub-sampling= {'0': 0.4456542571031575, '3': 0.3152101001389488, '1': 0.13593023812946192, '2': 0.1032054046284318}\n",
            "Sub-sampled train data= {'0': 0.4457759137207909, '3': 0.3151587777112043, '1': 0.1360095865787897, '2': 0.1030557219892151}\n",
            "(83484, 3) (1669, 3)\n"
          ],
          "name": "stdout"
        }
      ]
    },
    {
      "cell_type": "code",
      "metadata": {
        "id": "o7ZEco1at7so"
      },
      "source": [
        "# Copying to 50 per train data\n",
        "import shutil\n",
        "train_files = train_data_red.path.to_list()\n",
        "for filenum in range(len(train_files)):\n",
        "  x = train_files[filenum]\n",
        "  x_split = x.split('/')\n",
        "  filename = x_split[-1]\n",
        "  separator = '/'\n",
        "  x_path = separator.join(x_split[:-1])\n",
        "  #print(x_path)\n",
        "  os.chdir(x_path)\n",
        "  if '0' in x_path: \n",
        "    #print(x_path)\n",
        "    shutil.copy(filename, '../../train_data_50per/0/')\n",
        "  elif '1' in x_path:\n",
        "    shutil.copy(filename, '../../train_data_50per/1/')\n",
        "  elif '2' in x_path:\n",
        "    shutil.copy(filename, '../../train_data_50per/2/')\n",
        "  else:\n",
        "    shutil.copy(filename, '../../train_data_50per/3/')\n"
      ],
      "execution_count": 21,
      "outputs": []
    },
    {
      "cell_type": "code",
      "metadata": {
        "colab": {
          "base_uri": "https://localhost:8080/"
        },
        "id": "lcGWHBLhxBf-",
        "outputId": "915796e0-dab2-4194-e443-861462635c73"
      },
      "source": [
        "os.chdir('/content/drive/My Drive/Colab Notebooks/Samsung-OCT-Project-Work/processed_data/data/train_data_50per/')\n",
        "!ls ./*/* | wc -l\n",
        "os.chdir('/content/drive/My Drive/Colab Notebooks/Samsung-OCT-Project-Work/processed_data/data/test/')\n",
        "!ls ./*/* | wc -l\n",
        "os.chdir('/content/drive/My Drive/Colab Notebooks/Samsung-OCT-Project-Work/processed_data/data/val/')\n",
        "!ls ./*/* | wc -l"
      ],
      "execution_count": 2,
      "outputs": [
        {
          "output_type": "stream",
          "text": [
            "1669\n",
            "968\n",
            "32\n"
          ],
          "name": "stdout"
        }
      ]
    },
    {
      "cell_type": "markdown",
      "metadata": {
        "id": "HbpMmt6uMl0Z"
      },
      "source": [
        "# Load Dataframe"
      ]
    },
    {
      "cell_type": "markdown",
      "metadata": {
        "id": "G-yBcycIcNYK"
      },
      "source": [
        "#JG: Start execution "
      ]
    },
    {
      "cell_type": "code",
      "metadata": {
        "id": "Ri8myIeI4l3T"
      },
      "source": [
        "os.chdir('/content/drive/MyDrive/Colab Notebooks/simclr_tf_keras_07022021/oct_run/50per_train_data')"
      ],
      "execution_count": 4,
      "outputs": []
    },
    {
      "cell_type": "code",
      "metadata": {
        "colab": {
          "base_uri": "https://localhost:8080/"
        },
        "id": "q0dvE0YZANZm",
        "outputId": "073feece-233f-444f-fcb1-ccb6d9e4b4a2"
      },
      "source": [
        "!pip install keras==2.3.1\n",
        "!pip install tensorflow==2.1.0\n",
        "!pip install opencv-python==4.2.0.32\n",
        "!pip install scikit-learn==0.23.1\n",
        "!pip install scipy==1.4.1\n",
        "!pip install DateTime==4.3"
      ],
      "execution_count": 5,
      "outputs": [
        {
          "output_type": "stream",
          "text": [
            "Collecting keras==2.3.1\n",
            "\u001b[?25l  Downloading https://files.pythonhosted.org/packages/ad/fd/6bfe87920d7f4fd475acd28500a42482b6b84479832bdc0fe9e589a60ceb/Keras-2.3.1-py2.py3-none-any.whl (377kB)\n",
            "\r\u001b[K     |▉                               | 10kB 23.3MB/s eta 0:00:01\r\u001b[K     |█▊                              | 20kB 31.0MB/s eta 0:00:01\r\u001b[K     |██▋                             | 30kB 23.8MB/s eta 0:00:01\r\u001b[K     |███▌                            | 40kB 18.7MB/s eta 0:00:01\r\u001b[K     |████▍                           | 51kB 15.4MB/s eta 0:00:01\r\u001b[K     |█████▏                          | 61kB 14.8MB/s eta 0:00:01\r\u001b[K     |██████                          | 71kB 14.3MB/s eta 0:00:01\r\u001b[K     |███████                         | 81kB 15.5MB/s eta 0:00:01\r\u001b[K     |███████▉                        | 92kB 13.0MB/s eta 0:00:01\r\u001b[K     |████████▊                       | 102kB 13.7MB/s eta 0:00:01\r\u001b[K     |█████████▌                      | 112kB 13.7MB/s eta 0:00:01\r\u001b[K     |██████████▍                     | 122kB 13.7MB/s eta 0:00:01\r\u001b[K     |███████████▎                    | 133kB 13.7MB/s eta 0:00:01\r\u001b[K     |████████████▏                   | 143kB 13.7MB/s eta 0:00:01\r\u001b[K     |█████████████                   | 153kB 13.7MB/s eta 0:00:01\r\u001b[K     |█████████████▉                  | 163kB 13.7MB/s eta 0:00:01\r\u001b[K     |██████████████▊                 | 174kB 13.7MB/s eta 0:00:01\r\u001b[K     |███████████████▋                | 184kB 13.7MB/s eta 0:00:01\r\u001b[K     |████████████████▌               | 194kB 13.7MB/s eta 0:00:01\r\u001b[K     |█████████████████▍              | 204kB 13.7MB/s eta 0:00:01\r\u001b[K     |██████████████████▏             | 215kB 13.7MB/s eta 0:00:01\r\u001b[K     |███████████████████             | 225kB 13.7MB/s eta 0:00:01\r\u001b[K     |████████████████████            | 235kB 13.7MB/s eta 0:00:01\r\u001b[K     |████████████████████▉           | 245kB 13.7MB/s eta 0:00:01\r\u001b[K     |█████████████████████▊          | 256kB 13.7MB/s eta 0:00:01\r\u001b[K     |██████████████████████▌         | 266kB 13.7MB/s eta 0:00:01\r\u001b[K     |███████████████████████▍        | 276kB 13.7MB/s eta 0:00:01\r\u001b[K     |████████████████████████▎       | 286kB 13.7MB/s eta 0:00:01\r\u001b[K     |█████████████████████████▏      | 296kB 13.7MB/s eta 0:00:01\r\u001b[K     |██████████████████████████      | 307kB 13.7MB/s eta 0:00:01\r\u001b[K     |██████████████████████████▉     | 317kB 13.7MB/s eta 0:00:01\r\u001b[K     |███████████████████████████▊    | 327kB 13.7MB/s eta 0:00:01\r\u001b[K     |████████████████████████████▋   | 337kB 13.7MB/s eta 0:00:01\r\u001b[K     |█████████████████████████████▌  | 348kB 13.7MB/s eta 0:00:01\r\u001b[K     |██████████████████████████████▍ | 358kB 13.7MB/s eta 0:00:01\r\u001b[K     |███████████████████████████████▏| 368kB 13.7MB/s eta 0:00:01\r\u001b[K     |████████████████████████████████| 378kB 13.7MB/s \n",
            "\u001b[?25hRequirement already satisfied: numpy>=1.9.1 in /usr/local/lib/python3.7/dist-packages (from keras==2.3.1) (1.19.5)\n",
            "Requirement already satisfied: h5py in /usr/local/lib/python3.7/dist-packages (from keras==2.3.1) (3.1.0)\n",
            "Requirement already satisfied: six>=1.9.0 in /usr/local/lib/python3.7/dist-packages (from keras==2.3.1) (1.15.0)\n",
            "Requirement already satisfied: keras-preprocessing>=1.0.5 in /usr/local/lib/python3.7/dist-packages (from keras==2.3.1) (1.1.2)\n",
            "Requirement already satisfied: scipy>=0.14 in /usr/local/lib/python3.7/dist-packages (from keras==2.3.1) (1.4.1)\n",
            "Collecting keras-applications>=1.0.6\n",
            "\u001b[?25l  Downloading https://files.pythonhosted.org/packages/71/e3/19762fdfc62877ae9102edf6342d71b28fbfd9dea3d2f96a882ce099b03f/Keras_Applications-1.0.8-py3-none-any.whl (50kB)\n",
            "\u001b[K     |████████████████████████████████| 51kB 8.7MB/s \n",
            "\u001b[?25hRequirement already satisfied: pyyaml in /usr/local/lib/python3.7/dist-packages (from keras==2.3.1) (3.13)\n",
            "Requirement already satisfied: cached-property; python_version < \"3.8\" in /usr/local/lib/python3.7/dist-packages (from h5py->keras==2.3.1) (1.5.2)\n",
            "Installing collected packages: keras-applications, keras\n",
            "  Found existing installation: Keras 2.4.3\n",
            "    Uninstalling Keras-2.4.3:\n",
            "      Successfully uninstalled Keras-2.4.3\n",
            "Successfully installed keras-2.3.1 keras-applications-1.0.8\n",
            "Collecting tensorflow==2.1.0\n",
            "\u001b[?25l  Downloading https://files.pythonhosted.org/packages/1d/56/0dbdae2a3c527a119bec0d5cf441655fe030ce1daa6fa6b9542f7dbd8664/tensorflow-2.1.0-cp37-cp37m-manylinux2010_x86_64.whl (421.8MB)\n",
            "\u001b[K     |████████████████████████████████| 421.8MB 37kB/s \n",
            "\u001b[?25hRequirement already satisfied: absl-py>=0.7.0 in /usr/local/lib/python3.7/dist-packages (from tensorflow==2.1.0) (0.12.0)\n",
            "Requirement already satisfied: keras-preprocessing>=1.1.0 in /usr/local/lib/python3.7/dist-packages (from tensorflow==2.1.0) (1.1.2)\n",
            "Requirement already satisfied: protobuf>=3.8.0 in /usr/local/lib/python3.7/dist-packages (from tensorflow==2.1.0) (3.12.4)\n",
            "Collecting tensorboard<2.2.0,>=2.1.0\n",
            "\u001b[?25l  Downloading https://files.pythonhosted.org/packages/d9/41/bbf49b61370e4f4d245d4c6051dfb6db80cec672605c91b1652ac8cc3d38/tensorboard-2.1.1-py3-none-any.whl (3.8MB)\n",
            "\u001b[K     |████████████████████████████████| 3.9MB 56.0MB/s \n",
            "\u001b[?25hRequirement already satisfied: wheel>=0.26; python_version >= \"3\" in /usr/local/lib/python3.7/dist-packages (from tensorflow==2.1.0) (0.36.2)\n",
            "Requirement already satisfied: wrapt>=1.11.1 in /usr/local/lib/python3.7/dist-packages (from tensorflow==2.1.0) (1.12.1)\n",
            "Requirement already satisfied: scipy==1.4.1; python_version >= \"3\" in /usr/local/lib/python3.7/dist-packages (from tensorflow==2.1.0) (1.4.1)\n",
            "Collecting gast==0.2.2\n",
            "  Downloading https://files.pythonhosted.org/packages/4e/35/11749bf99b2d4e3cceb4d55ca22590b0d7c2c62b9de38ac4a4a7f4687421/gast-0.2.2.tar.gz\n",
            "Collecting tensorflow-estimator<2.2.0,>=2.1.0rc0\n",
            "\u001b[?25l  Downloading https://files.pythonhosted.org/packages/18/90/b77c328a1304437ab1310b463e533fa7689f4bfc41549593056d812fab8e/tensorflow_estimator-2.1.0-py2.py3-none-any.whl (448kB)\n",
            "\u001b[K     |████████████████████████████████| 450kB 45.7MB/s \n",
            "\u001b[?25hRequirement already satisfied: six>=1.12.0 in /usr/local/lib/python3.7/dist-packages (from tensorflow==2.1.0) (1.15.0)\n",
            "Requirement already satisfied: termcolor>=1.1.0 in /usr/local/lib/python3.7/dist-packages (from tensorflow==2.1.0) (1.1.0)\n",
            "Requirement already satisfied: keras-applications>=1.0.8 in /usr/local/lib/python3.7/dist-packages (from tensorflow==2.1.0) (1.0.8)\n",
            "Requirement already satisfied: astor>=0.6.0 in /usr/local/lib/python3.7/dist-packages (from tensorflow==2.1.0) (0.8.1)\n",
            "Requirement already satisfied: google-pasta>=0.1.6 in /usr/local/lib/python3.7/dist-packages (from tensorflow==2.1.0) (0.2.0)\n",
            "Requirement already satisfied: opt-einsum>=2.3.2 in /usr/local/lib/python3.7/dist-packages (from tensorflow==2.1.0) (3.3.0)\n",
            "Requirement already satisfied: grpcio>=1.8.6 in /usr/local/lib/python3.7/dist-packages (from tensorflow==2.1.0) (1.34.1)\n",
            "Requirement already satisfied: numpy<2.0,>=1.16.0 in /usr/local/lib/python3.7/dist-packages (from tensorflow==2.1.0) (1.19.5)\n",
            "Requirement already satisfied: setuptools in /usr/local/lib/python3.7/dist-packages (from protobuf>=3.8.0->tensorflow==2.1.0) (57.0.0)\n",
            "Requirement already satisfied: google-auth-oauthlib<0.5,>=0.4.1 in /usr/local/lib/python3.7/dist-packages (from tensorboard<2.2.0,>=2.1.0->tensorflow==2.1.0) (0.4.4)\n",
            "Requirement already satisfied: werkzeug>=0.11.15 in /usr/local/lib/python3.7/dist-packages (from tensorboard<2.2.0,>=2.1.0->tensorflow==2.1.0) (1.0.1)\n",
            "Requirement already satisfied: requests<3,>=2.21.0 in /usr/local/lib/python3.7/dist-packages (from tensorboard<2.2.0,>=2.1.0->tensorflow==2.1.0) (2.23.0)\n",
            "Requirement already satisfied: markdown>=2.6.8 in /usr/local/lib/python3.7/dist-packages (from tensorboard<2.2.0,>=2.1.0->tensorflow==2.1.0) (3.3.4)\n",
            "Requirement already satisfied: google-auth<2,>=1.6.3 in /usr/local/lib/python3.7/dist-packages (from tensorboard<2.2.0,>=2.1.0->tensorflow==2.1.0) (1.31.0)\n",
            "Requirement already satisfied: h5py in /usr/local/lib/python3.7/dist-packages (from keras-applications>=1.0.8->tensorflow==2.1.0) (3.1.0)\n",
            "Requirement already satisfied: requests-oauthlib>=0.7.0 in /usr/local/lib/python3.7/dist-packages (from google-auth-oauthlib<0.5,>=0.4.1->tensorboard<2.2.0,>=2.1.0->tensorflow==2.1.0) (1.3.0)\n",
            "Requirement already satisfied: chardet<4,>=3.0.2 in /usr/local/lib/python3.7/dist-packages (from requests<3,>=2.21.0->tensorboard<2.2.0,>=2.1.0->tensorflow==2.1.0) (3.0.4)\n",
            "Requirement already satisfied: idna<3,>=2.5 in /usr/local/lib/python3.7/dist-packages (from requests<3,>=2.21.0->tensorboard<2.2.0,>=2.1.0->tensorflow==2.1.0) (2.10)\n",
            "Requirement already satisfied: urllib3!=1.25.0,!=1.25.1,<1.26,>=1.21.1 in /usr/local/lib/python3.7/dist-packages (from requests<3,>=2.21.0->tensorboard<2.2.0,>=2.1.0->tensorflow==2.1.0) (1.24.3)\n",
            "Requirement already satisfied: certifi>=2017.4.17 in /usr/local/lib/python3.7/dist-packages (from requests<3,>=2.21.0->tensorboard<2.2.0,>=2.1.0->tensorflow==2.1.0) (2021.5.30)\n",
            "Requirement already satisfied: importlib-metadata; python_version < \"3.8\" in /usr/local/lib/python3.7/dist-packages (from markdown>=2.6.8->tensorboard<2.2.0,>=2.1.0->tensorflow==2.1.0) (4.5.0)\n",
            "Requirement already satisfied: cachetools<5.0,>=2.0.0 in /usr/local/lib/python3.7/dist-packages (from google-auth<2,>=1.6.3->tensorboard<2.2.0,>=2.1.0->tensorflow==2.1.0) (4.2.2)\n",
            "Requirement already satisfied: rsa<5,>=3.1.4; python_version >= \"3.6\" in /usr/local/lib/python3.7/dist-packages (from google-auth<2,>=1.6.3->tensorboard<2.2.0,>=2.1.0->tensorflow==2.1.0) (4.7.2)\n",
            "Requirement already satisfied: pyasn1-modules>=0.2.1 in /usr/local/lib/python3.7/dist-packages (from google-auth<2,>=1.6.3->tensorboard<2.2.0,>=2.1.0->tensorflow==2.1.0) (0.2.8)\n",
            "Requirement already satisfied: cached-property; python_version < \"3.8\" in /usr/local/lib/python3.7/dist-packages (from h5py->keras-applications>=1.0.8->tensorflow==2.1.0) (1.5.2)\n",
            "Requirement already satisfied: oauthlib>=3.0.0 in /usr/local/lib/python3.7/dist-packages (from requests-oauthlib>=0.7.0->google-auth-oauthlib<0.5,>=0.4.1->tensorboard<2.2.0,>=2.1.0->tensorflow==2.1.0) (3.1.1)\n",
            "Requirement already satisfied: zipp>=0.5 in /usr/local/lib/python3.7/dist-packages (from importlib-metadata; python_version < \"3.8\"->markdown>=2.6.8->tensorboard<2.2.0,>=2.1.0->tensorflow==2.1.0) (3.4.1)\n",
            "Requirement already satisfied: typing-extensions>=3.6.4; python_version < \"3.8\" in /usr/local/lib/python3.7/dist-packages (from importlib-metadata; python_version < \"3.8\"->markdown>=2.6.8->tensorboard<2.2.0,>=2.1.0->tensorflow==2.1.0) (3.7.4.3)\n",
            "Requirement already satisfied: pyasn1>=0.1.3 in /usr/local/lib/python3.7/dist-packages (from rsa<5,>=3.1.4; python_version >= \"3.6\"->google-auth<2,>=1.6.3->tensorboard<2.2.0,>=2.1.0->tensorflow==2.1.0) (0.4.8)\n",
            "Building wheels for collected packages: gast\n",
            "  Building wheel for gast (setup.py) ... \u001b[?25l\u001b[?25hdone\n",
            "  Created wheel for gast: filename=gast-0.2.2-cp37-none-any.whl size=7557 sha256=a505ec1bc5129eae0a04d6c2cd9c2a3e84f407ae045195df15af5712bcef5c59\n",
            "  Stored in directory: /root/.cache/pip/wheels/5c/2e/7e/a1d4d4fcebe6c381f378ce7743a3ced3699feb89bcfbdadadd\n",
            "Successfully built gast\n",
            "\u001b[31mERROR: tensorflow-probability 0.12.1 has requirement gast>=0.3.2, but you'll have gast 0.2.2 which is incompatible.\u001b[0m\n",
            "Installing collected packages: tensorboard, gast, tensorflow-estimator, tensorflow\n",
            "  Found existing installation: tensorboard 2.5.0\n",
            "    Uninstalling tensorboard-2.5.0:\n",
            "      Successfully uninstalled tensorboard-2.5.0\n",
            "  Found existing installation: gast 0.4.0\n",
            "    Uninstalling gast-0.4.0:\n",
            "      Successfully uninstalled gast-0.4.0\n",
            "  Found existing installation: tensorflow-estimator 2.5.0\n",
            "    Uninstalling tensorflow-estimator-2.5.0:\n",
            "      Successfully uninstalled tensorflow-estimator-2.5.0\n",
            "  Found existing installation: tensorflow 2.5.0\n",
            "    Uninstalling tensorflow-2.5.0:\n",
            "      Successfully uninstalled tensorflow-2.5.0\n",
            "Successfully installed gast-0.2.2 tensorboard-2.1.1 tensorflow-2.1.0 tensorflow-estimator-2.1.0\n",
            "Collecting opencv-python==4.2.0.32\n",
            "\u001b[?25l  Downloading https://files.pythonhosted.org/packages/34/a3/403dbaef909fee9f9f6a8eaff51d44085a14e5bb1a1ff7257117d744986a/opencv_python-4.2.0.32-cp37-cp37m-manylinux1_x86_64.whl (28.2MB)\n",
            "\u001b[K     |████████████████████████████████| 28.2MB 69.0MB/s \n",
            "\u001b[?25hRequirement already satisfied: numpy>=1.14.5 in /usr/local/lib/python3.7/dist-packages (from opencv-python==4.2.0.32) (1.19.5)\n",
            "\u001b[31mERROR: albumentations 0.1.12 has requirement imgaug<0.2.7,>=0.2.5, but you'll have imgaug 0.2.9 which is incompatible.\u001b[0m\n",
            "Installing collected packages: opencv-python\n",
            "  Found existing installation: opencv-python 4.1.2.30\n",
            "    Uninstalling opencv-python-4.1.2.30:\n",
            "      Successfully uninstalled opencv-python-4.1.2.30\n",
            "Successfully installed opencv-python-4.2.0.32\n",
            "Collecting scikit-learn==0.23.1\n",
            "\u001b[?25l  Downloading https://files.pythonhosted.org/packages/b8/7e/74e707b66490d4eb05f702966ad0990881127acecf9d5cdcef3c95ec6c16/scikit_learn-0.23.1-cp37-cp37m-manylinux1_x86_64.whl (6.8MB)\n",
            "\u001b[K     |████████████████████████████████| 6.8MB 9.7MB/s \n",
            "\u001b[?25hCollecting threadpoolctl>=2.0.0\n",
            "  Downloading https://files.pythonhosted.org/packages/f7/12/ec3f2e203afa394a149911729357aa48affc59c20e2c1c8297a60f33f133/threadpoolctl-2.1.0-py3-none-any.whl\n",
            "Requirement already satisfied: scipy>=0.19.1 in /usr/local/lib/python3.7/dist-packages (from scikit-learn==0.23.1) (1.4.1)\n",
            "Requirement already satisfied: joblib>=0.11 in /usr/local/lib/python3.7/dist-packages (from scikit-learn==0.23.1) (1.0.1)\n",
            "Requirement already satisfied: numpy>=1.13.3 in /usr/local/lib/python3.7/dist-packages (from scikit-learn==0.23.1) (1.19.5)\n",
            "Installing collected packages: threadpoolctl, scikit-learn\n",
            "  Found existing installation: scikit-learn 0.22.2.post1\n",
            "    Uninstalling scikit-learn-0.22.2.post1:\n",
            "      Successfully uninstalled scikit-learn-0.22.2.post1\n",
            "Successfully installed scikit-learn-0.23.1 threadpoolctl-2.1.0\n",
            "Requirement already satisfied: scipy==1.4.1 in /usr/local/lib/python3.7/dist-packages (1.4.1)\n",
            "Requirement already satisfied: numpy>=1.13.3 in /usr/local/lib/python3.7/dist-packages (from scipy==1.4.1) (1.19.5)\n",
            "Collecting DateTime==4.3\n",
            "\u001b[?25l  Downloading https://files.pythonhosted.org/packages/73/22/a5297f3a1f92468cc737f8ce7ba6e5f245fcfafeae810ba37bd1039ea01c/DateTime-4.3-py2.py3-none-any.whl (60kB)\n",
            "\u001b[K     |████████████████████████████████| 61kB 5.2MB/s \n",
            "\u001b[?25hCollecting zope.interface\n",
            "\u001b[?25l  Downloading https://files.pythonhosted.org/packages/bb/a7/94e1a92c71436f934cdd2102826fa041c83dcb7d21dd0f1fb1a57f6e0620/zope.interface-5.4.0-cp37-cp37m-manylinux2010_x86_64.whl (251kB)\n",
            "\u001b[K     |████████████████████████████████| 256kB 21.3MB/s \n",
            "\u001b[?25hRequirement already satisfied: pytz in /usr/local/lib/python3.7/dist-packages (from DateTime==4.3) (2018.9)\n",
            "Requirement already satisfied: setuptools in /usr/local/lib/python3.7/dist-packages (from zope.interface->DateTime==4.3) (57.0.0)\n",
            "Installing collected packages: zope.interface, DateTime\n",
            "Successfully installed DateTime-4.3 zope.interface-5.4.0\n"
          ],
          "name": "stdout"
        }
      ]
    },
    {
      "cell_type": "code",
      "metadata": {
        "id": "hsi65mRTMl0G"
      },
      "source": [
        "%ls\n",
        "%cd SimCLRv1-keras-tensorflow/\n",
        "#!pip install -r requirements.txt"
      ],
      "execution_count": null,
      "outputs": []
    },
    {
      "cell_type": "code",
      "metadata": {
        "colab": {
          "base_uri": "https://localhost:8080/",
          "height": 69
        },
        "id": "IcnnSU90iSFK",
        "outputId": "231af54f-c2ae-4e49-fe84-2a34f8a00671"
      },
      "source": [
        "%ls\n",
        "%cd SimCLRv1-keras-tensorflow/\n",
        "%pwd"
      ],
      "execution_count": 6,
      "outputs": [
        {
          "output_type": "stream",
          "text": [
            "'50per_train_data_JG_oct_ 2_model_SimCLR.ipynb'   \u001b[0m\u001b[01;34mSimCLRv1-keras-tensorflow\u001b[0m/\n",
            "/content/drive/My Drive/Colab Notebooks/simclr_tf_keras_07022021/oct_run/50per_train_data/SimCLRv1-keras-tensorflow\n"
          ],
          "name": "stdout"
        },
        {
          "output_type": "execute_result",
          "data": {
            "application/vnd.google.colaboratory.intrinsic+json": {
              "type": "string"
            },
            "text/plain": [
              "'/content/drive/My Drive/Colab Notebooks/simclr_tf_keras_07022021/oct_run/50per_train_data/SimCLRv1-keras-tensorflow'"
            ]
          },
          "metadata": {
            "tags": []
          },
          "execution_count": 6
        }
      ]
    },
    {
      "cell_type": "code",
      "metadata": {
        "id": "YqzIOfEZMl0R"
      },
      "source": [
        "import numpy as np\n",
        "import pickle\n",
        "import pandas as pd\n",
        "from tensorflow import keras\n",
        "from sklearn.model_selection import train_test_split\n",
        "from tensorflow.keras.applications.vgg16 import VGG16 \n",
        "\n",
        "from evaluate_features import get_features, linear_classifier, tSNE_vis"
      ],
      "execution_count": 61,
      "outputs": []
    },
    {
      "cell_type": "code",
      "metadata": {
        "colab": {
          "base_uri": "https://localhost:8080/"
        },
        "id": "PVbgtOvpd5py",
        "outputId": "ecb7ad32-1d00-4630-acd7-0cc17e777e65"
      },
      "source": [
        "train_data = pd.read_pickle('/content/drive/My Drive/Colab Notebooks/Samsung-OCT-Project-Work/processed_data/data/train_data_50per_resize/train_data_50per_df.pickle')\n",
        "train_data.shape\n",
        "\n"
      ],
      "execution_count": 65,
      "outputs": [
        {
          "output_type": "execute_result",
          "data": {
            "text/plain": [
              "(1669, 3)"
            ]
          },
          "metadata": {
            "tags": []
          },
          "execution_count": 65
        }
      ]
    },
    {
      "cell_type": "code",
      "metadata": {
        "colab": {
          "base_uri": "https://localhost:8080/",
          "height": 419
        },
        "id": "CkeNPZ-xfVB1",
        "outputId": "a60943a0-bddd-4485-de51-62a658762657"
      },
      "source": [
        "train_data.loc[train_data['class_label']=='3']"
      ],
      "execution_count": 9,
      "outputs": [
        {
          "output_type": "execute_result",
          "data": {
            "text/html": [
              "<div>\n",
              "<style scoped>\n",
              "    .dataframe tbody tr th:only-of-type {\n",
              "        vertical-align: middle;\n",
              "    }\n",
              "\n",
              "    .dataframe tbody tr th {\n",
              "        vertical-align: top;\n",
              "    }\n",
              "\n",
              "    .dataframe thead th {\n",
              "        text-align: right;\n",
              "    }\n",
              "</style>\n",
              "<table border=\"1\" class=\"dataframe\">\n",
              "  <thead>\n",
              "    <tr style=\"text-align: right;\">\n",
              "      <th></th>\n",
              "      <th>filename</th>\n",
              "      <th>class_label</th>\n",
              "      <th>class_one_hot</th>\n",
              "    </tr>\n",
              "  </thead>\n",
              "  <tbody>\n",
              "    <tr>\n",
              "      <th>1143</th>\n",
              "      <td>/content/drive/My Drive/Colab Notebooks/Samsun...</td>\n",
              "      <td>3</td>\n",
              "      <td>[0, 0, 0, 1]</td>\n",
              "    </tr>\n",
              "    <tr>\n",
              "      <th>1144</th>\n",
              "      <td>/content/drive/My Drive/Colab Notebooks/Samsun...</td>\n",
              "      <td>3</td>\n",
              "      <td>[0, 0, 0, 1]</td>\n",
              "    </tr>\n",
              "    <tr>\n",
              "      <th>1145</th>\n",
              "      <td>/content/drive/My Drive/Colab Notebooks/Samsun...</td>\n",
              "      <td>3</td>\n",
              "      <td>[0, 0, 0, 1]</td>\n",
              "    </tr>\n",
              "    <tr>\n",
              "      <th>1146</th>\n",
              "      <td>/content/drive/My Drive/Colab Notebooks/Samsun...</td>\n",
              "      <td>3</td>\n",
              "      <td>[0, 0, 0, 1]</td>\n",
              "    </tr>\n",
              "    <tr>\n",
              "      <th>1147</th>\n",
              "      <td>/content/drive/My Drive/Colab Notebooks/Samsun...</td>\n",
              "      <td>3</td>\n",
              "      <td>[0, 0, 0, 1]</td>\n",
              "    </tr>\n",
              "    <tr>\n",
              "      <th>...</th>\n",
              "      <td>...</td>\n",
              "      <td>...</td>\n",
              "      <td>...</td>\n",
              "    </tr>\n",
              "    <tr>\n",
              "      <th>1664</th>\n",
              "      <td>/content/drive/My Drive/Colab Notebooks/Samsun...</td>\n",
              "      <td>3</td>\n",
              "      <td>[0, 0, 0, 1]</td>\n",
              "    </tr>\n",
              "    <tr>\n",
              "      <th>1665</th>\n",
              "      <td>/content/drive/My Drive/Colab Notebooks/Samsun...</td>\n",
              "      <td>3</td>\n",
              "      <td>[0, 0, 0, 1]</td>\n",
              "    </tr>\n",
              "    <tr>\n",
              "      <th>1666</th>\n",
              "      <td>/content/drive/My Drive/Colab Notebooks/Samsun...</td>\n",
              "      <td>3</td>\n",
              "      <td>[0, 0, 0, 1]</td>\n",
              "    </tr>\n",
              "    <tr>\n",
              "      <th>1667</th>\n",
              "      <td>/content/drive/My Drive/Colab Notebooks/Samsun...</td>\n",
              "      <td>3</td>\n",
              "      <td>[0, 0, 0, 1]</td>\n",
              "    </tr>\n",
              "    <tr>\n",
              "      <th>1668</th>\n",
              "      <td>/content/drive/My Drive/Colab Notebooks/Samsun...</td>\n",
              "      <td>3</td>\n",
              "      <td>[0, 0, 0, 1]</td>\n",
              "    </tr>\n",
              "  </tbody>\n",
              "</table>\n",
              "<p>526 rows × 3 columns</p>\n",
              "</div>"
            ],
            "text/plain": [
              "                                               filename  ... class_one_hot\n",
              "1143  /content/drive/My Drive/Colab Notebooks/Samsun...  ...  [0, 0, 0, 1]\n",
              "1144  /content/drive/My Drive/Colab Notebooks/Samsun...  ...  [0, 0, 0, 1]\n",
              "1145  /content/drive/My Drive/Colab Notebooks/Samsun...  ...  [0, 0, 0, 1]\n",
              "1146  /content/drive/My Drive/Colab Notebooks/Samsun...  ...  [0, 0, 0, 1]\n",
              "1147  /content/drive/My Drive/Colab Notebooks/Samsun...  ...  [0, 0, 0, 1]\n",
              "...                                                 ...  ...           ...\n",
              "1664  /content/drive/My Drive/Colab Notebooks/Samsun...  ...  [0, 0, 0, 1]\n",
              "1665  /content/drive/My Drive/Colab Notebooks/Samsun...  ...  [0, 0, 0, 1]\n",
              "1666  /content/drive/My Drive/Colab Notebooks/Samsun...  ...  [0, 0, 0, 1]\n",
              "1667  /content/drive/My Drive/Colab Notebooks/Samsun...  ...  [0, 0, 0, 1]\n",
              "1668  /content/drive/My Drive/Colab Notebooks/Samsun...  ...  [0, 0, 0, 1]\n",
              "\n",
              "[526 rows x 3 columns]"
            ]
          },
          "metadata": {
            "tags": []
          },
          "execution_count": 9
        }
      ]
    },
    {
      "cell_type": "code",
      "metadata": {
        "colab": {
          "base_uri": "https://localhost:8080/",
          "height": 419
        },
        "id": "aEdGXl1weQC6",
        "outputId": "b13a9e2a-6185-4145-de6f-ddb0ccbe1580"
      },
      "source": [
        "test_data = pd.read_pickle(\"/content/drive/My Drive/Colab Notebooks/Samsung-OCT-Project-Work/processed_data/data/test_resize/test_df.pickle\")\n",
        "test_data.loc[test_data['class_label']=='2']"
      ],
      "execution_count": 62,
      "outputs": [
        {
          "output_type": "execute_result",
          "data": {
            "text/html": [
              "<div>\n",
              "<style scoped>\n",
              "    .dataframe tbody tr th:only-of-type {\n",
              "        vertical-align: middle;\n",
              "    }\n",
              "\n",
              "    .dataframe tbody tr th {\n",
              "        vertical-align: top;\n",
              "    }\n",
              "\n",
              "    .dataframe thead th {\n",
              "        text-align: right;\n",
              "    }\n",
              "</style>\n",
              "<table border=\"1\" class=\"dataframe\">\n",
              "  <thead>\n",
              "    <tr style=\"text-align: right;\">\n",
              "      <th></th>\n",
              "      <th>filename</th>\n",
              "      <th>class_label</th>\n",
              "      <th>class_one_hot</th>\n",
              "    </tr>\n",
              "  </thead>\n",
              "  <tbody>\n",
              "    <tr>\n",
              "      <th>484</th>\n",
              "      <td>/content/drive/My Drive/Colab Notebooks/Samsun...</td>\n",
              "      <td>2</td>\n",
              "      <td>[0, 0, 1, 0]</td>\n",
              "    </tr>\n",
              "    <tr>\n",
              "      <th>485</th>\n",
              "      <td>/content/drive/My Drive/Colab Notebooks/Samsun...</td>\n",
              "      <td>2</td>\n",
              "      <td>[0, 0, 1, 0]</td>\n",
              "    </tr>\n",
              "    <tr>\n",
              "      <th>486</th>\n",
              "      <td>/content/drive/My Drive/Colab Notebooks/Samsun...</td>\n",
              "      <td>2</td>\n",
              "      <td>[0, 0, 1, 0]</td>\n",
              "    </tr>\n",
              "    <tr>\n",
              "      <th>487</th>\n",
              "      <td>/content/drive/My Drive/Colab Notebooks/Samsun...</td>\n",
              "      <td>2</td>\n",
              "      <td>[0, 0, 1, 0]</td>\n",
              "    </tr>\n",
              "    <tr>\n",
              "      <th>488</th>\n",
              "      <td>/content/drive/My Drive/Colab Notebooks/Samsun...</td>\n",
              "      <td>2</td>\n",
              "      <td>[0, 0, 1, 0]</td>\n",
              "    </tr>\n",
              "    <tr>\n",
              "      <th>...</th>\n",
              "      <td>...</td>\n",
              "      <td>...</td>\n",
              "      <td>...</td>\n",
              "    </tr>\n",
              "    <tr>\n",
              "      <th>721</th>\n",
              "      <td>/content/drive/My Drive/Colab Notebooks/Samsun...</td>\n",
              "      <td>2</td>\n",
              "      <td>[0, 0, 1, 0]</td>\n",
              "    </tr>\n",
              "    <tr>\n",
              "      <th>722</th>\n",
              "      <td>/content/drive/My Drive/Colab Notebooks/Samsun...</td>\n",
              "      <td>2</td>\n",
              "      <td>[0, 0, 1, 0]</td>\n",
              "    </tr>\n",
              "    <tr>\n",
              "      <th>723</th>\n",
              "      <td>/content/drive/My Drive/Colab Notebooks/Samsun...</td>\n",
              "      <td>2</td>\n",
              "      <td>[0, 0, 1, 0]</td>\n",
              "    </tr>\n",
              "    <tr>\n",
              "      <th>724</th>\n",
              "      <td>/content/drive/My Drive/Colab Notebooks/Samsun...</td>\n",
              "      <td>2</td>\n",
              "      <td>[0, 0, 1, 0]</td>\n",
              "    </tr>\n",
              "    <tr>\n",
              "      <th>725</th>\n",
              "      <td>/content/drive/My Drive/Colab Notebooks/Samsun...</td>\n",
              "      <td>2</td>\n",
              "      <td>[0, 0, 1, 0]</td>\n",
              "    </tr>\n",
              "  </tbody>\n",
              "</table>\n",
              "<p>242 rows × 3 columns</p>\n",
              "</div>"
            ],
            "text/plain": [
              "                                              filename  ... class_one_hot\n",
              "484  /content/drive/My Drive/Colab Notebooks/Samsun...  ...  [0, 0, 1, 0]\n",
              "485  /content/drive/My Drive/Colab Notebooks/Samsun...  ...  [0, 0, 1, 0]\n",
              "486  /content/drive/My Drive/Colab Notebooks/Samsun...  ...  [0, 0, 1, 0]\n",
              "487  /content/drive/My Drive/Colab Notebooks/Samsun...  ...  [0, 0, 1, 0]\n",
              "488  /content/drive/My Drive/Colab Notebooks/Samsun...  ...  [0, 0, 1, 0]\n",
              "..                                                 ...  ...           ...\n",
              "721  /content/drive/My Drive/Colab Notebooks/Samsun...  ...  [0, 0, 1, 0]\n",
              "722  /content/drive/My Drive/Colab Notebooks/Samsun...  ...  [0, 0, 1, 0]\n",
              "723  /content/drive/My Drive/Colab Notebooks/Samsun...  ...  [0, 0, 1, 0]\n",
              "724  /content/drive/My Drive/Colab Notebooks/Samsun...  ...  [0, 0, 1, 0]\n",
              "725  /content/drive/My Drive/Colab Notebooks/Samsun...  ...  [0, 0, 1, 0]\n",
              "\n",
              "[242 rows x 3 columns]"
            ]
          },
          "metadata": {
            "tags": []
          },
          "execution_count": 62
        }
      ]
    },
    {
      "cell_type": "code",
      "metadata": {
        "id": "rnx-GJqHIU2K"
      },
      "source": [
        "#NOT needed\n",
        "'''for i in range(len(test_data.class_label)):\n",
        "  if test_data.class_label[i] == '0':\n",
        "    #print(i,test_data.class_label[i])\n",
        "    test_data.class_one_hot[i] = [1,0,0,0]\n",
        "    #print(i,test_data.class_one_hot[i])\n",
        "  if test_data.class_label[i] == '1':\n",
        "    #print(i,test_data.class_label[i])\n",
        "    test_data.class_one_hot[i] = [0,1,0,0]\n",
        "    #print(i,test_data.class_one_hot[i])\n",
        "  if test_data.class_label[i] == '2':\n",
        "    #print(i,test_data.class_label[i])\n",
        "    test_data.class_one_hot[i] = [0,0,1,0]\n",
        "    #print(i,test_data.class_one_hot[i]) \n",
        "  if test_data.class_label[i] == '3':\n",
        "    #print(i,test_data.class_label[i])\n",
        "    test_data.class_one_hot[i] = [0,0,0,1]\n",
        "    #print(i,test_data.class_one_hot[i]) ''' \n",
        "  "
      ],
      "execution_count": null,
      "outputs": []
    },
    {
      "cell_type": "code",
      "metadata": {
        "colab": {
          "base_uri": "https://localhost:8080/",
          "height": 297
        },
        "id": "QgDhTPgPf3yu",
        "outputId": "7c713aa6-9317-4530-eca2-212ac220911e"
      },
      "source": [
        "val_data = pd.read_pickle(\"/content/drive/My Drive/Colab Notebooks/Samsung-OCT-Project-Work/processed_data/data/val_resize/val_df.pickle\")\n",
        "val_data.loc[val_data['class_label']=='3']"
      ],
      "execution_count": 63,
      "outputs": [
        {
          "output_type": "execute_result",
          "data": {
            "text/html": [
              "<div>\n",
              "<style scoped>\n",
              "    .dataframe tbody tr th:only-of-type {\n",
              "        vertical-align: middle;\n",
              "    }\n",
              "\n",
              "    .dataframe tbody tr th {\n",
              "        vertical-align: top;\n",
              "    }\n",
              "\n",
              "    .dataframe thead th {\n",
              "        text-align: right;\n",
              "    }\n",
              "</style>\n",
              "<table border=\"1\" class=\"dataframe\">\n",
              "  <thead>\n",
              "    <tr style=\"text-align: right;\">\n",
              "      <th></th>\n",
              "      <th>filename</th>\n",
              "      <th>class_label</th>\n",
              "      <th>class_one_hot</th>\n",
              "    </tr>\n",
              "  </thead>\n",
              "  <tbody>\n",
              "    <tr>\n",
              "      <th>24</th>\n",
              "      <td>/content/drive/My Drive/Colab Notebooks/Samsun...</td>\n",
              "      <td>3</td>\n",
              "      <td>[0, 0, 0, 1]</td>\n",
              "    </tr>\n",
              "    <tr>\n",
              "      <th>25</th>\n",
              "      <td>/content/drive/My Drive/Colab Notebooks/Samsun...</td>\n",
              "      <td>3</td>\n",
              "      <td>[0, 0, 0, 1]</td>\n",
              "    </tr>\n",
              "    <tr>\n",
              "      <th>26</th>\n",
              "      <td>/content/drive/My Drive/Colab Notebooks/Samsun...</td>\n",
              "      <td>3</td>\n",
              "      <td>[0, 0, 0, 1]</td>\n",
              "    </tr>\n",
              "    <tr>\n",
              "      <th>27</th>\n",
              "      <td>/content/drive/My Drive/Colab Notebooks/Samsun...</td>\n",
              "      <td>3</td>\n",
              "      <td>[0, 0, 0, 1]</td>\n",
              "    </tr>\n",
              "    <tr>\n",
              "      <th>28</th>\n",
              "      <td>/content/drive/My Drive/Colab Notebooks/Samsun...</td>\n",
              "      <td>3</td>\n",
              "      <td>[0, 0, 0, 1]</td>\n",
              "    </tr>\n",
              "    <tr>\n",
              "      <th>29</th>\n",
              "      <td>/content/drive/My Drive/Colab Notebooks/Samsun...</td>\n",
              "      <td>3</td>\n",
              "      <td>[0, 0, 0, 1]</td>\n",
              "    </tr>\n",
              "    <tr>\n",
              "      <th>30</th>\n",
              "      <td>/content/drive/My Drive/Colab Notebooks/Samsun...</td>\n",
              "      <td>3</td>\n",
              "      <td>[0, 0, 0, 1]</td>\n",
              "    </tr>\n",
              "    <tr>\n",
              "      <th>31</th>\n",
              "      <td>/content/drive/My Drive/Colab Notebooks/Samsun...</td>\n",
              "      <td>3</td>\n",
              "      <td>[0, 0, 0, 1]</td>\n",
              "    </tr>\n",
              "  </tbody>\n",
              "</table>\n",
              "</div>"
            ],
            "text/plain": [
              "                                             filename class_label class_one_hot\n",
              "24  /content/drive/My Drive/Colab Notebooks/Samsun...           3  [0, 0, 0, 1]\n",
              "25  /content/drive/My Drive/Colab Notebooks/Samsun...           3  [0, 0, 0, 1]\n",
              "26  /content/drive/My Drive/Colab Notebooks/Samsun...           3  [0, 0, 0, 1]\n",
              "27  /content/drive/My Drive/Colab Notebooks/Samsun...           3  [0, 0, 0, 1]\n",
              "28  /content/drive/My Drive/Colab Notebooks/Samsun...           3  [0, 0, 0, 1]\n",
              "29  /content/drive/My Drive/Colab Notebooks/Samsun...           3  [0, 0, 0, 1]\n",
              "30  /content/drive/My Drive/Colab Notebooks/Samsun...           3  [0, 0, 0, 1]\n",
              "31  /content/drive/My Drive/Colab Notebooks/Samsun...           3  [0, 0, 0, 1]"
            ]
          },
          "metadata": {
            "tags": []
          },
          "execution_count": 63
        }
      ]
    },
    {
      "cell_type": "code",
      "metadata": {
        "colab": {
          "base_uri": "https://localhost:8080/"
        },
        "id": "c-YZpNjEMl0g",
        "outputId": "40dc0f2c-d332-4090-91c7-10ba584e86e3"
      },
      "source": [
        "class_labels = [\"0\", \"1\", \"2\", \"3\"]\n",
        "num_classes = len(train_data['class_one_hot'][0])\n",
        "\n",
        "print(\"# of training instances:\", len(train_data.index), \"\\n\")\n",
        "\n",
        "for label in class_labels:\n",
        "    print(f\"# of '{label}' training instances: {(train_data.class_label == label).sum()}\")\n",
        "    "
      ],
      "execution_count": 12,
      "outputs": [
        {
          "output_type": "stream",
          "text": [
            "# of training instances: 1669 \n",
            "\n",
            "# of '0' training instances: 744\n",
            "# of '1' training instances: 227\n",
            "# of '2' training instances: 172\n",
            "# of '3' training instances: 526\n"
          ],
          "name": "stdout"
        }
      ]
    },
    {
      "cell_type": "code",
      "metadata": {
        "colab": {
          "base_uri": "https://localhost:8080/"
        },
        "id": "Ew6ItQW9aYKS",
        "outputId": "199c18aa-2b49-4a8f-8e2f-13b5e92b471c"
      },
      "source": [
        "df_train = train_data\n",
        "df_val = val_data\n",
        "df_test = test_data\n",
        "print(df_train.shape,df_test.shape,df_val.shape)"
      ],
      "execution_count": 66,
      "outputs": [
        {
          "output_type": "stream",
          "text": [
            "(1669, 3) (968, 3) (32, 3)\n"
          ],
          "name": "stdout"
        }
      ]
    },
    {
      "cell_type": "code",
      "metadata": {
        "colab": {
          "base_uri": "https://localhost:8080/"
        },
        "id": "d2qU1NriMl0n",
        "outputId": "02701283-4742-41f6-b33c-e7cda92de1a7"
      },
      "source": [
        "#Not executing these 2 lines since we already have data splitted in train/val/test sets.\n",
        "#Testing with train data only\n",
        "\n",
        "df_train, df_val_test = train_test_split(df_train, test_size=0.30, random_state=42, shuffle=True)\n",
        "df_val, df_test = train_test_split(df_val_test, test_size=0.50, random_state=42, shuffle=True)\n",
        "\n",
        "print(\"# of training instances:\", len(df_train.index), \"\\n\")\n",
        "for label in class_labels:\n",
        "    print(f\"# of '{label}' training instances: {(df_train.class_label == label).sum()}\")\n",
        "    \n",
        "print()\n",
        "print(\"# of validation instances:\", len(df_val.index), \"\\n\")\n",
        "for label in class_labels:\n",
        "    print(f\"# of '{label}' training instances: {(df_val.class_label == label).sum()}\")\n",
        "\n",
        "print()\n",
        "print(\"# of test instances:\", len(df_test.index), \"\\n\")\n",
        "for label in class_labels:\n",
        "    print(f\"# of '{label}' training instances: {(df_test.class_label == label).sum()}\")\n",
        "    \n",
        "dfs = {\n",
        "    \"train\": df_train,\n",
        "    \"val\": df_val,\n",
        "    \"test\": df_test\n",
        "}"
      ],
      "execution_count": 31,
      "outputs": [
        {
          "output_type": "stream",
          "text": [
            "# of training instances: 1168 \n",
            "\n",
            "# of '0' training instances: 521\n",
            "# of '1' training instances: 165\n",
            "# of '2' training instances: 125\n",
            "# of '3' training instances: 357\n",
            "\n",
            "# of validation instances: 250 \n",
            "\n",
            "# of '0' training instances: 112\n",
            "# of '1' training instances: 24\n",
            "# of '2' training instances: 24\n",
            "# of '3' training instances: 90\n",
            "\n",
            "# of test instances: 251 \n",
            "\n",
            "# of '0' training instances: 111\n",
            "# of '1' training instances: 38\n",
            "# of '2' training instances: 23\n",
            "# of '3' training instances: 79\n"
          ],
          "name": "stdout"
        }
      ]
    },
    {
      "cell_type": "code",
      "metadata": {
        "id": "N9GgCItGMl0u"
      },
      "source": [
        "# Img size\n",
        "size = 80\n",
        "height_img = size\n",
        "width_img = size\n",
        "\n",
        "input_shape = (height_img, width_img, 3)"
      ],
      "execution_count": 32,
      "outputs": []
    },
    {
      "cell_type": "markdown",
      "metadata": {
        "id": "yYrLvS3iMl0y"
      },
      "source": [
        "# Load pretrained VGG16 & Feature evaluation"
      ]
    },
    {
      "cell_type": "code",
      "metadata": {
        "colab": {
          "base_uri": "https://localhost:8080/"
        },
        "id": "4z587NS5Ml00",
        "outputId": "9311b12c-a920-4aee-a6ab-a7c1bc2b018c"
      },
      "source": [
        "params_vgg16 = {'weights': \"imagenet\", \n",
        "                'include_top': False, \n",
        "                'input_shape': input_shape, \n",
        "                'pooling': None}\n",
        "\n",
        "# Design model\n",
        "base_model = VGG16(**params_vgg16)\n",
        "base_model.summary()"
      ],
      "execution_count": 33,
      "outputs": [
        {
          "output_type": "stream",
          "text": [
            "Model: \"vgg16\"\n",
            "_________________________________________________________________\n",
            "Layer (type)                 Output Shape              Param #   \n",
            "=================================================================\n",
            "input_66 (InputLayer)        [(None, 80, 80, 3)]       0         \n",
            "_________________________________________________________________\n",
            "block1_conv1 (Conv2D)        (None, 80, 80, 64)        1792      \n",
            "_________________________________________________________________\n",
            "block1_conv2 (Conv2D)        (None, 80, 80, 64)        36928     \n",
            "_________________________________________________________________\n",
            "block1_pool (MaxPooling2D)   (None, 40, 40, 64)        0         \n",
            "_________________________________________________________________\n",
            "block2_conv1 (Conv2D)        (None, 40, 40, 128)       73856     \n",
            "_________________________________________________________________\n",
            "block2_conv2 (Conv2D)        (None, 40, 40, 128)       147584    \n",
            "_________________________________________________________________\n",
            "block2_pool (MaxPooling2D)   (None, 20, 20, 128)       0         \n",
            "_________________________________________________________________\n",
            "block3_conv1 (Conv2D)        (None, 20, 20, 256)       295168    \n",
            "_________________________________________________________________\n",
            "block3_conv2 (Conv2D)        (None, 20, 20, 256)       590080    \n",
            "_________________________________________________________________\n",
            "block3_conv3 (Conv2D)        (None, 20, 20, 256)       590080    \n",
            "_________________________________________________________________\n",
            "block3_pool (MaxPooling2D)   (None, 10, 10, 256)       0         \n",
            "_________________________________________________________________\n",
            "block4_conv1 (Conv2D)        (None, 10, 10, 512)       1180160   \n",
            "_________________________________________________________________\n",
            "block4_conv2 (Conv2D)        (None, 10, 10, 512)       2359808   \n",
            "_________________________________________________________________\n",
            "block4_conv3 (Conv2D)        (None, 10, 10, 512)       2359808   \n",
            "_________________________________________________________________\n",
            "block4_pool (MaxPooling2D)   (None, 5, 5, 512)         0         \n",
            "_________________________________________________________________\n",
            "block5_conv1 (Conv2D)        (None, 5, 5, 512)         2359808   \n",
            "_________________________________________________________________\n",
            "block5_conv2 (Conv2D)        (None, 5, 5, 512)         2359808   \n",
            "_________________________________________________________________\n",
            "block5_conv3 (Conv2D)        (None, 5, 5, 512)         2359808   \n",
            "_________________________________________________________________\n",
            "block5_pool (MaxPooling2D)   (None, 2, 2, 512)         0         \n",
            "=================================================================\n",
            "Total params: 14,714,688\n",
            "Trainable params: 14,714,688\n",
            "Non-trainable params: 0\n",
            "_________________________________________________________________\n"
          ],
          "name": "stdout"
        }
      ]
    },
    {
      "cell_type": "code",
      "metadata": {
        "id": "XcdE2JU5Ml04"
      },
      "source": [
        "feat_dim = 2 * 2* 512"
      ],
      "execution_count": 34,
      "outputs": []
    },
    {
      "cell_type": "code",
      "metadata": {
        "colab": {
          "base_uri": "https://localhost:8080/"
        },
        "id": "ngpgI6FsE4tM",
        "outputId": "8065086f-751c-48c5-d5e7-40c804cb231a"
      },
      "source": [
        "!pip install keras==2.3.1"
      ],
      "execution_count": 22,
      "outputs": [
        {
          "output_type": "stream",
          "text": [
            "Requirement already satisfied: keras==2.3.1 in /usr/local/lib/python3.7/dist-packages (2.3.1)\n",
            "Requirement already satisfied: numpy>=1.9.1 in /usr/local/lib/python3.7/dist-packages (from keras==2.3.1) (1.19.5)\n",
            "Requirement already satisfied: h5py in /usr/local/lib/python3.7/dist-packages (from keras==2.3.1) (3.1.0)\n",
            "Requirement already satisfied: scipy>=0.14 in /usr/local/lib/python3.7/dist-packages (from keras==2.3.1) (1.4.1)\n",
            "Requirement already satisfied: six>=1.9.0 in /usr/local/lib/python3.7/dist-packages (from keras==2.3.1) (1.15.0)\n",
            "Requirement already satisfied: pyyaml in /usr/local/lib/python3.7/dist-packages (from keras==2.3.1) (3.13)\n",
            "Requirement already satisfied: keras-preprocessing>=1.0.5 in /usr/local/lib/python3.7/dist-packages (from keras==2.3.1) (1.1.2)\n",
            "Requirement already satisfied: keras-applications>=1.0.6 in /usr/local/lib/python3.7/dist-packages (from keras==2.3.1) (1.0.8)\n",
            "Requirement already satisfied: cached-property; python_version < \"3.8\" in /usr/local/lib/python3.7/dist-packages (from h5py->keras==2.3.1) (1.5.2)\n"
          ],
          "name": "stdout"
        }
      ]
    },
    {
      "cell_type": "code",
      "metadata": {
        "id": "SSYpY2bmFfvR"
      },
      "source": [
        "import tensorflow \n",
        "from tensorflow.keras.applications.vgg16 import preprocess_input"
      ],
      "execution_count": 35,
      "outputs": []
    },
    {
      "cell_type": "code",
      "metadata": {
        "id": "nqlPYBJKjiGD"
      },
      "source": [
        "from tensorflow import keras\n",
        "from DataGeneratorSimCLR import DataGeneratorSimCLR as DataGenerator"
      ],
      "execution_count": 36,
      "outputs": []
    },
    {
      "cell_type": "markdown",
      "metadata": {
        "id": "75j95YbIMl09"
      },
      "source": [
        "# Build SimCLR-Model"
      ]
    },
    {
      "cell_type": "code",
      "metadata": {
        "id": "pNq93i59Ml0-"
      },
      "source": [
        "#from DataGeneratorSimCLR import DataGeneratorSimCLR as DataGenerator\n",
        "from SimCLR import SimCLR\n",
        "#if it errors out, execute cell # 28 : pip install keras==2.3.1"
      ],
      "execution_count": 37,
      "outputs": []
    },
    {
      "cell_type": "markdown",
      "metadata": {
        "id": "b0_nz95NMl1D"
      },
      "source": [
        "### Properties"
      ]
    },
    {
      "cell_type": "code",
      "metadata": {
        "id": "EqkkdfRPMl1E"
      },
      "source": [
        "batch_size =32\n",
        "# Projection_head\n",
        "num_layers_ph = 2\n",
        "feat_dims_ph = [2048, 128]\n",
        "num_of_unfrozen_layers = 1 #Note: with 1, all weights of the base_model are still frozen (last layer is max_pool)\n",
        "save_path = 'models/trashnet'"
      ],
      "execution_count": 38,
      "outputs": []
    },
    {
      "cell_type": "code",
      "metadata": {
        "id": "X1dGZztKMl1K",
        "colab": {
          "base_uri": "https://localhost:8080/"
        },
        "outputId": "8764cd83-a40b-462b-f1ca-79aea28a4537"
      },
      "source": [
        "SimCLR = SimCLR(\n",
        "        base_model = base_model,\n",
        "        input_shape = input_shape,\n",
        "        batch_size = batch_size,\n",
        "        feat_dim = feat_dim,\n",
        "        feat_dims_ph = feat_dims_ph,\n",
        "        num_of_unfrozen_layers = num_of_unfrozen_layers,\n",
        "        save_path = save_path\n",
        "    )"
      ],
      "execution_count": 39,
      "outputs": [
        {
          "output_type": "stream",
          "text": [
            "Model: \"model_1\"\n",
            "__________________________________________________________________________________________________\n",
            "Layer (type)                    Output Shape         Param #     Connected to                     \n",
            "==================================================================================================\n",
            "input_67 (InputLayer)           [(None, 80, 80, 3)]  0                                            \n",
            "__________________________________________________________________________________________________\n",
            "input_68 (InputLayer)           [(None, 80, 80, 3)]  0                                            \n",
            "__________________________________________________________________________________________________\n",
            "input_69 (InputLayer)           [(None, 80, 80, 3)]  0                                            \n",
            "__________________________________________________________________________________________________\n",
            "input_70 (InputLayer)           [(None, 80, 80, 3)]  0                                            \n",
            "__________________________________________________________________________________________________\n",
            "input_71 (InputLayer)           [(None, 80, 80, 3)]  0                                            \n",
            "__________________________________________________________________________________________________\n",
            "input_72 (InputLayer)           [(None, 80, 80, 3)]  0                                            \n",
            "__________________________________________________________________________________________________\n",
            "input_73 (InputLayer)           [(None, 80, 80, 3)]  0                                            \n",
            "__________________________________________________________________________________________________\n",
            "input_74 (InputLayer)           [(None, 80, 80, 3)]  0                                            \n",
            "__________________________________________________________________________________________________\n",
            "input_75 (InputLayer)           [(None, 80, 80, 3)]  0                                            \n",
            "__________________________________________________________________________________________________\n",
            "input_76 (InputLayer)           [(None, 80, 80, 3)]  0                                            \n",
            "__________________________________________________________________________________________________\n",
            "input_77 (InputLayer)           [(None, 80, 80, 3)]  0                                            \n",
            "__________________________________________________________________________________________________\n",
            "input_78 (InputLayer)           [(None, 80, 80, 3)]  0                                            \n",
            "__________________________________________________________________________________________________\n",
            "input_79 (InputLayer)           [(None, 80, 80, 3)]  0                                            \n",
            "__________________________________________________________________________________________________\n",
            "input_80 (InputLayer)           [(None, 80, 80, 3)]  0                                            \n",
            "__________________________________________________________________________________________________\n",
            "input_81 (InputLayer)           [(None, 80, 80, 3)]  0                                            \n",
            "__________________________________________________________________________________________________\n",
            "input_82 (InputLayer)           [(None, 80, 80, 3)]  0                                            \n",
            "__________________________________________________________________________________________________\n",
            "input_83 (InputLayer)           [(None, 80, 80, 3)]  0                                            \n",
            "__________________________________________________________________________________________________\n",
            "input_84 (InputLayer)           [(None, 80, 80, 3)]  0                                            \n",
            "__________________________________________________________________________________________________\n",
            "input_85 (InputLayer)           [(None, 80, 80, 3)]  0                                            \n",
            "__________________________________________________________________________________________________\n",
            "input_86 (InputLayer)           [(None, 80, 80, 3)]  0                                            \n",
            "__________________________________________________________________________________________________\n",
            "input_87 (InputLayer)           [(None, 80, 80, 3)]  0                                            \n",
            "__________________________________________________________________________________________________\n",
            "input_88 (InputLayer)           [(None, 80, 80, 3)]  0                                            \n",
            "__________________________________________________________________________________________________\n",
            "input_89 (InputLayer)           [(None, 80, 80, 3)]  0                                            \n",
            "__________________________________________________________________________________________________\n",
            "input_90 (InputLayer)           [(None, 80, 80, 3)]  0                                            \n",
            "__________________________________________________________________________________________________\n",
            "input_91 (InputLayer)           [(None, 80, 80, 3)]  0                                            \n",
            "__________________________________________________________________________________________________\n",
            "input_92 (InputLayer)           [(None, 80, 80, 3)]  0                                            \n",
            "__________________________________________________________________________________________________\n",
            "input_93 (InputLayer)           [(None, 80, 80, 3)]  0                                            \n",
            "__________________________________________________________________________________________________\n",
            "input_94 (InputLayer)           [(None, 80, 80, 3)]  0                                            \n",
            "__________________________________________________________________________________________________\n",
            "input_95 (InputLayer)           [(None, 80, 80, 3)]  0                                            \n",
            "__________________________________________________________________________________________________\n",
            "input_96 (InputLayer)           [(None, 80, 80, 3)]  0                                            \n",
            "__________________________________________________________________________________________________\n",
            "input_97 (InputLayer)           [(None, 80, 80, 3)]  0                                            \n",
            "__________________________________________________________________________________________________\n",
            "input_98 (InputLayer)           [(None, 80, 80, 3)]  0                                            \n",
            "__________________________________________________________________________________________________\n",
            "input_99 (InputLayer)           [(None, 80, 80, 3)]  0                                            \n",
            "__________________________________________________________________________________________________\n",
            "input_100 (InputLayer)          [(None, 80, 80, 3)]  0                                            \n",
            "__________________________________________________________________________________________________\n",
            "input_101 (InputLayer)          [(None, 80, 80, 3)]  0                                            \n",
            "__________________________________________________________________________________________________\n",
            "input_102 (InputLayer)          [(None, 80, 80, 3)]  0                                            \n",
            "__________________________________________________________________________________________________\n",
            "input_103 (InputLayer)          [(None, 80, 80, 3)]  0                                            \n",
            "__________________________________________________________________________________________________\n",
            "input_104 (InputLayer)          [(None, 80, 80, 3)]  0                                            \n",
            "__________________________________________________________________________________________________\n",
            "input_105 (InputLayer)          [(None, 80, 80, 3)]  0                                            \n",
            "__________________________________________________________________________________________________\n",
            "input_106 (InputLayer)          [(None, 80, 80, 3)]  0                                            \n",
            "__________________________________________________________________________________________________\n",
            "input_107 (InputLayer)          [(None, 80, 80, 3)]  0                                            \n",
            "__________________________________________________________________________________________________\n",
            "input_108 (InputLayer)          [(None, 80, 80, 3)]  0                                            \n",
            "__________________________________________________________________________________________________\n",
            "input_109 (InputLayer)          [(None, 80, 80, 3)]  0                                            \n",
            "__________________________________________________________________________________________________\n",
            "input_110 (InputLayer)          [(None, 80, 80, 3)]  0                                            \n",
            "__________________________________________________________________________________________________\n",
            "input_111 (InputLayer)          [(None, 80, 80, 3)]  0                                            \n",
            "__________________________________________________________________________________________________\n",
            "input_112 (InputLayer)          [(None, 80, 80, 3)]  0                                            \n",
            "__________________________________________________________________________________________________\n",
            "input_113 (InputLayer)          [(None, 80, 80, 3)]  0                                            \n",
            "__________________________________________________________________________________________________\n",
            "input_114 (InputLayer)          [(None, 80, 80, 3)]  0                                            \n",
            "__________________________________________________________________________________________________\n",
            "input_115 (InputLayer)          [(None, 80, 80, 3)]  0                                            \n",
            "__________________________________________________________________________________________________\n",
            "input_116 (InputLayer)          [(None, 80, 80, 3)]  0                                            \n",
            "__________________________________________________________________________________________________\n",
            "input_117 (InputLayer)          [(None, 80, 80, 3)]  0                                            \n",
            "__________________________________________________________________________________________________\n",
            "input_118 (InputLayer)          [(None, 80, 80, 3)]  0                                            \n",
            "__________________________________________________________________________________________________\n",
            "input_119 (InputLayer)          [(None, 80, 80, 3)]  0                                            \n",
            "__________________________________________________________________________________________________\n",
            "input_120 (InputLayer)          [(None, 80, 80, 3)]  0                                            \n",
            "__________________________________________________________________________________________________\n",
            "input_121 (InputLayer)          [(None, 80, 80, 3)]  0                                            \n",
            "__________________________________________________________________________________________________\n",
            "input_122 (InputLayer)          [(None, 80, 80, 3)]  0                                            \n",
            "__________________________________________________________________________________________________\n",
            "input_123 (InputLayer)          [(None, 80, 80, 3)]  0                                            \n",
            "__________________________________________________________________________________________________\n",
            "input_124 (InputLayer)          [(None, 80, 80, 3)]  0                                            \n",
            "__________________________________________________________________________________________________\n",
            "input_125 (InputLayer)          [(None, 80, 80, 3)]  0                                            \n",
            "__________________________________________________________________________________________________\n",
            "input_126 (InputLayer)          [(None, 80, 80, 3)]  0                                            \n",
            "__________________________________________________________________________________________________\n",
            "input_127 (InputLayer)          [(None, 80, 80, 3)]  0                                            \n",
            "__________________________________________________________________________________________________\n",
            "input_128 (InputLayer)          [(None, 80, 80, 3)]  0                                            \n",
            "__________________________________________________________________________________________________\n",
            "input_129 (InputLayer)          [(None, 80, 80, 3)]  0                                            \n",
            "__________________________________________________________________________________________________\n",
            "input_130 (InputLayer)          [(None, 80, 80, 3)]  0                                            \n",
            "__________________________________________________________________________________________________\n",
            "vgg16 (Model)                   (None, 2, 2, 512)    14714688    input_67[0][0]                   \n",
            "                                                                 input_68[0][0]                   \n",
            "                                                                 input_69[0][0]                   \n",
            "                                                                 input_70[0][0]                   \n",
            "                                                                 input_71[0][0]                   \n",
            "                                                                 input_72[0][0]                   \n",
            "                                                                 input_73[0][0]                   \n",
            "                                                                 input_74[0][0]                   \n",
            "                                                                 input_75[0][0]                   \n",
            "                                                                 input_76[0][0]                   \n",
            "                                                                 input_77[0][0]                   \n",
            "                                                                 input_78[0][0]                   \n",
            "                                                                 input_79[0][0]                   \n",
            "                                                                 input_80[0][0]                   \n",
            "                                                                 input_81[0][0]                   \n",
            "                                                                 input_82[0][0]                   \n",
            "                                                                 input_83[0][0]                   \n",
            "                                                                 input_84[0][0]                   \n",
            "                                                                 input_85[0][0]                   \n",
            "                                                                 input_86[0][0]                   \n",
            "                                                                 input_87[0][0]                   \n",
            "                                                                 input_88[0][0]                   \n",
            "                                                                 input_89[0][0]                   \n",
            "                                                                 input_90[0][0]                   \n",
            "                                                                 input_91[0][0]                   \n",
            "                                                                 input_92[0][0]                   \n",
            "                                                                 input_93[0][0]                   \n",
            "                                                                 input_94[0][0]                   \n",
            "                                                                 input_95[0][0]                   \n",
            "                                                                 input_96[0][0]                   \n",
            "                                                                 input_97[0][0]                   \n",
            "                                                                 input_98[0][0]                   \n",
            "                                                                 input_99[0][0]                   \n",
            "                                                                 input_100[0][0]                  \n",
            "                                                                 input_101[0][0]                  \n",
            "                                                                 input_102[0][0]                  \n",
            "                                                                 input_103[0][0]                  \n",
            "                                                                 input_104[0][0]                  \n",
            "                                                                 input_105[0][0]                  \n",
            "                                                                 input_106[0][0]                  \n",
            "                                                                 input_107[0][0]                  \n",
            "                                                                 input_108[0][0]                  \n",
            "                                                                 input_109[0][0]                  \n",
            "                                                                 input_110[0][0]                  \n",
            "                                                                 input_111[0][0]                  \n",
            "                                                                 input_112[0][0]                  \n",
            "                                                                 input_113[0][0]                  \n",
            "                                                                 input_114[0][0]                  \n",
            "                                                                 input_115[0][0]                  \n",
            "                                                                 input_116[0][0]                  \n",
            "                                                                 input_117[0][0]                  \n",
            "                                                                 input_118[0][0]                  \n",
            "                                                                 input_119[0][0]                  \n",
            "                                                                 input_120[0][0]                  \n",
            "                                                                 input_121[0][0]                  \n",
            "                                                                 input_122[0][0]                  \n",
            "                                                                 input_123[0][0]                  \n",
            "                                                                 input_124[0][0]                  \n",
            "                                                                 input_125[0][0]                  \n",
            "                                                                 input_126[0][0]                  \n",
            "                                                                 input_127[0][0]                  \n",
            "                                                                 input_128[0][0]                  \n",
            "                                                                 input_129[0][0]                  \n",
            "                                                                 input_130[0][0]                  \n",
            "__________________________________________________________________________________________________\n",
            "flatten_1 (Flatten)             (None, 2048)         0           vgg16[1][0]                      \n",
            "                                                                 vgg16[2][0]                      \n",
            "                                                                 vgg16[3][0]                      \n",
            "                                                                 vgg16[4][0]                      \n",
            "                                                                 vgg16[5][0]                      \n",
            "                                                                 vgg16[6][0]                      \n",
            "                                                                 vgg16[7][0]                      \n",
            "                                                                 vgg16[8][0]                      \n",
            "                                                                 vgg16[9][0]                      \n",
            "                                                                 vgg16[10][0]                     \n",
            "                                                                 vgg16[11][0]                     \n",
            "                                                                 vgg16[12][0]                     \n",
            "                                                                 vgg16[13][0]                     \n",
            "                                                                 vgg16[14][0]                     \n",
            "                                                                 vgg16[15][0]                     \n",
            "                                                                 vgg16[16][0]                     \n",
            "                                                                 vgg16[17][0]                     \n",
            "                                                                 vgg16[18][0]                     \n",
            "                                                                 vgg16[19][0]                     \n",
            "                                                                 vgg16[20][0]                     \n",
            "                                                                 vgg16[21][0]                     \n",
            "                                                                 vgg16[22][0]                     \n",
            "                                                                 vgg16[23][0]                     \n",
            "                                                                 vgg16[24][0]                     \n",
            "                                                                 vgg16[25][0]                     \n",
            "                                                                 vgg16[26][0]                     \n",
            "                                                                 vgg16[27][0]                     \n",
            "                                                                 vgg16[28][0]                     \n",
            "                                                                 vgg16[29][0]                     \n",
            "                                                                 vgg16[30][0]                     \n",
            "                                                                 vgg16[31][0]                     \n",
            "                                                                 vgg16[32][0]                     \n",
            "                                                                 vgg16[33][0]                     \n",
            "                                                                 vgg16[34][0]                     \n",
            "                                                                 vgg16[35][0]                     \n",
            "                                                                 vgg16[36][0]                     \n",
            "                                                                 vgg16[37][0]                     \n",
            "                                                                 vgg16[38][0]                     \n",
            "                                                                 vgg16[39][0]                     \n",
            "                                                                 vgg16[40][0]                     \n",
            "                                                                 vgg16[41][0]                     \n",
            "                                                                 vgg16[42][0]                     \n",
            "                                                                 vgg16[43][0]                     \n",
            "                                                                 vgg16[44][0]                     \n",
            "                                                                 vgg16[45][0]                     \n",
            "                                                                 vgg16[46][0]                     \n",
            "                                                                 vgg16[47][0]                     \n",
            "                                                                 vgg16[48][0]                     \n",
            "                                                                 vgg16[49][0]                     \n",
            "                                                                 vgg16[50][0]                     \n",
            "                                                                 vgg16[51][0]                     \n",
            "                                                                 vgg16[52][0]                     \n",
            "                                                                 vgg16[53][0]                     \n",
            "                                                                 vgg16[54][0]                     \n",
            "                                                                 vgg16[55][0]                     \n",
            "                                                                 vgg16[56][0]                     \n",
            "                                                                 vgg16[57][0]                     \n",
            "                                                                 vgg16[58][0]                     \n",
            "                                                                 vgg16[59][0]                     \n",
            "                                                                 vgg16[60][0]                     \n",
            "                                                                 vgg16[61][0]                     \n",
            "                                                                 vgg16[62][0]                     \n",
            "                                                                 vgg16[63][0]                     \n",
            "                                                                 vgg16[64][0]                     \n",
            "__________________________________________________________________________________________________\n",
            "dense_2 (Dense)                 (None, 2048)         4196352     flatten_1[0][0]                  \n",
            "                                                                 flatten_1[1][0]                  \n",
            "                                                                 flatten_1[2][0]                  \n",
            "                                                                 flatten_1[3][0]                  \n",
            "                                                                 flatten_1[4][0]                  \n",
            "                                                                 flatten_1[5][0]                  \n",
            "                                                                 flatten_1[6][0]                  \n",
            "                                                                 flatten_1[7][0]                  \n",
            "                                                                 flatten_1[8][0]                  \n",
            "                                                                 flatten_1[9][0]                  \n",
            "                                                                 flatten_1[10][0]                 \n",
            "                                                                 flatten_1[11][0]                 \n",
            "                                                                 flatten_1[12][0]                 \n",
            "                                                                 flatten_1[13][0]                 \n",
            "                                                                 flatten_1[14][0]                 \n",
            "                                                                 flatten_1[15][0]                 \n",
            "                                                                 flatten_1[16][0]                 \n",
            "                                                                 flatten_1[17][0]                 \n",
            "                                                                 flatten_1[18][0]                 \n",
            "                                                                 flatten_1[19][0]                 \n",
            "                                                                 flatten_1[20][0]                 \n",
            "                                                                 flatten_1[21][0]                 \n",
            "                                                                 flatten_1[22][0]                 \n",
            "                                                                 flatten_1[23][0]                 \n",
            "                                                                 flatten_1[24][0]                 \n",
            "                                                                 flatten_1[25][0]                 \n",
            "                                                                 flatten_1[26][0]                 \n",
            "                                                                 flatten_1[27][0]                 \n",
            "                                                                 flatten_1[28][0]                 \n",
            "                                                                 flatten_1[29][0]                 \n",
            "                                                                 flatten_1[30][0]                 \n",
            "                                                                 flatten_1[31][0]                 \n",
            "                                                                 flatten_1[32][0]                 \n",
            "                                                                 flatten_1[33][0]                 \n",
            "                                                                 flatten_1[34][0]                 \n",
            "                                                                 flatten_1[35][0]                 \n",
            "                                                                 flatten_1[36][0]                 \n",
            "                                                                 flatten_1[37][0]                 \n",
            "                                                                 flatten_1[38][0]                 \n",
            "                                                                 flatten_1[39][0]                 \n",
            "                                                                 flatten_1[40][0]                 \n",
            "                                                                 flatten_1[41][0]                 \n",
            "                                                                 flatten_1[42][0]                 \n",
            "                                                                 flatten_1[43][0]                 \n",
            "                                                                 flatten_1[44][0]                 \n",
            "                                                                 flatten_1[45][0]                 \n",
            "                                                                 flatten_1[46][0]                 \n",
            "                                                                 flatten_1[47][0]                 \n",
            "                                                                 flatten_1[48][0]                 \n",
            "                                                                 flatten_1[49][0]                 \n",
            "                                                                 flatten_1[50][0]                 \n",
            "                                                                 flatten_1[51][0]                 \n",
            "                                                                 flatten_1[52][0]                 \n",
            "                                                                 flatten_1[53][0]                 \n",
            "                                                                 flatten_1[54][0]                 \n",
            "                                                                 flatten_1[55][0]                 \n",
            "                                                                 flatten_1[56][0]                 \n",
            "                                                                 flatten_1[57][0]                 \n",
            "                                                                 flatten_1[58][0]                 \n",
            "                                                                 flatten_1[59][0]                 \n",
            "                                                                 flatten_1[60][0]                 \n",
            "                                                                 flatten_1[61][0]                 \n",
            "                                                                 flatten_1[62][0]                 \n",
            "                                                                 flatten_1[63][0]                 \n",
            "__________________________________________________________________________________________________\n",
            "dense_3 (Dense)                 (None, 128)          262272      dense_2[0][0]                    \n",
            "                                                                 dense_2[1][0]                    \n",
            "                                                                 dense_2[2][0]                    \n",
            "                                                                 dense_2[3][0]                    \n",
            "                                                                 dense_2[4][0]                    \n",
            "                                                                 dense_2[5][0]                    \n",
            "                                                                 dense_2[6][0]                    \n",
            "                                                                 dense_2[7][0]                    \n",
            "                                                                 dense_2[8][0]                    \n",
            "                                                                 dense_2[9][0]                    \n",
            "                                                                 dense_2[10][0]                   \n",
            "                                                                 dense_2[11][0]                   \n",
            "                                                                 dense_2[12][0]                   \n",
            "                                                                 dense_2[13][0]                   \n",
            "                                                                 dense_2[14][0]                   \n",
            "                                                                 dense_2[15][0]                   \n",
            "                                                                 dense_2[16][0]                   \n",
            "                                                                 dense_2[17][0]                   \n",
            "                                                                 dense_2[18][0]                   \n",
            "                                                                 dense_2[19][0]                   \n",
            "                                                                 dense_2[20][0]                   \n",
            "                                                                 dense_2[21][0]                   \n",
            "                                                                 dense_2[22][0]                   \n",
            "                                                                 dense_2[23][0]                   \n",
            "                                                                 dense_2[24][0]                   \n",
            "                                                                 dense_2[25][0]                   \n",
            "                                                                 dense_2[26][0]                   \n",
            "                                                                 dense_2[27][0]                   \n",
            "                                                                 dense_2[28][0]                   \n",
            "                                                                 dense_2[29][0]                   \n",
            "                                                                 dense_2[30][0]                   \n",
            "                                                                 dense_2[31][0]                   \n",
            "                                                                 dense_2[32][0]                   \n",
            "                                                                 dense_2[33][0]                   \n",
            "                                                                 dense_2[34][0]                   \n",
            "                                                                 dense_2[35][0]                   \n",
            "                                                                 dense_2[36][0]                   \n",
            "                                                                 dense_2[37][0]                   \n",
            "                                                                 dense_2[38][0]                   \n",
            "                                                                 dense_2[39][0]                   \n",
            "                                                                 dense_2[40][0]                   \n",
            "                                                                 dense_2[41][0]                   \n",
            "                                                                 dense_2[42][0]                   \n",
            "                                                                 dense_2[43][0]                   \n",
            "                                                                 dense_2[44][0]                   \n",
            "                                                                 dense_2[45][0]                   \n",
            "                                                                 dense_2[46][0]                   \n",
            "                                                                 dense_2[47][0]                   \n",
            "                                                                 dense_2[48][0]                   \n",
            "                                                                 dense_2[49][0]                   \n",
            "                                                                 dense_2[50][0]                   \n",
            "                                                                 dense_2[51][0]                   \n",
            "                                                                 dense_2[52][0]                   \n",
            "                                                                 dense_2[53][0]                   \n",
            "                                                                 dense_2[54][0]                   \n",
            "                                                                 dense_2[55][0]                   \n",
            "                                                                 dense_2[56][0]                   \n",
            "                                                                 dense_2[57][0]                   \n",
            "                                                                 dense_2[58][0]                   \n",
            "                                                                 dense_2[59][0]                   \n",
            "                                                                 dense_2[60][0]                   \n",
            "                                                                 dense_2[61][0]                   \n",
            "                                                                 dense_2[62][0]                   \n",
            "                                                                 dense_2[63][0]                   \n",
            "__________________________________________________________________________________________________\n",
            "softmax_cosine_sim_1 (SoftmaxCo (32, 128)            0           dense_3[0][0]                    \n",
            "                                                                 dense_3[1][0]                    \n",
            "                                                                 dense_3[2][0]                    \n",
            "                                                                 dense_3[3][0]                    \n",
            "                                                                 dense_3[4][0]                    \n",
            "                                                                 dense_3[5][0]                    \n",
            "                                                                 dense_3[6][0]                    \n",
            "                                                                 dense_3[7][0]                    \n",
            "                                                                 dense_3[8][0]                    \n",
            "                                                                 dense_3[9][0]                    \n",
            "                                                                 dense_3[10][0]                   \n",
            "                                                                 dense_3[11][0]                   \n",
            "                                                                 dense_3[12][0]                   \n",
            "                                                                 dense_3[13][0]                   \n",
            "                                                                 dense_3[14][0]                   \n",
            "                                                                 dense_3[15][0]                   \n",
            "                                                                 dense_3[16][0]                   \n",
            "                                                                 dense_3[17][0]                   \n",
            "                                                                 dense_3[18][0]                   \n",
            "                                                                 dense_3[19][0]                   \n",
            "                                                                 dense_3[20][0]                   \n",
            "                                                                 dense_3[21][0]                   \n",
            "                                                                 dense_3[22][0]                   \n",
            "                                                                 dense_3[23][0]                   \n",
            "                                                                 dense_3[24][0]                   \n",
            "                                                                 dense_3[25][0]                   \n",
            "                                                                 dense_3[26][0]                   \n",
            "                                                                 dense_3[27][0]                   \n",
            "                                                                 dense_3[28][0]                   \n",
            "                                                                 dense_3[29][0]                   \n",
            "                                                                 dense_3[30][0]                   \n",
            "                                                                 dense_3[31][0]                   \n",
            "                                                                 dense_3[32][0]                   \n",
            "                                                                 dense_3[33][0]                   \n",
            "                                                                 dense_3[34][0]                   \n",
            "                                                                 dense_3[35][0]                   \n",
            "                                                                 dense_3[36][0]                   \n",
            "                                                                 dense_3[37][0]                   \n",
            "                                                                 dense_3[38][0]                   \n",
            "                                                                 dense_3[39][0]                   \n",
            "                                                                 dense_3[40][0]                   \n",
            "                                                                 dense_3[41][0]                   \n",
            "                                                                 dense_3[42][0]                   \n",
            "                                                                 dense_3[43][0]                   \n",
            "                                                                 dense_3[44][0]                   \n",
            "                                                                 dense_3[45][0]                   \n",
            "                                                                 dense_3[46][0]                   \n",
            "                                                                 dense_3[47][0]                   \n",
            "                                                                 dense_3[48][0]                   \n",
            "                                                                 dense_3[49][0]                   \n",
            "                                                                 dense_3[50][0]                   \n",
            "                                                                 dense_3[51][0]                   \n",
            "                                                                 dense_3[52][0]                   \n",
            "                                                                 dense_3[53][0]                   \n",
            "                                                                 dense_3[54][0]                   \n",
            "                                                                 dense_3[55][0]                   \n",
            "                                                                 dense_3[56][0]                   \n",
            "                                                                 dense_3[57][0]                   \n",
            "                                                                 dense_3[58][0]                   \n",
            "                                                                 dense_3[59][0]                   \n",
            "                                                                 dense_3[60][0]                   \n",
            "                                                                 dense_3[61][0]                   \n",
            "                                                                 dense_3[62][0]                   \n",
            "                                                                 dense_3[63][0]                   \n",
            "==================================================================================================\n",
            "Total params: 19,173,312\n",
            "Trainable params: 4,458,624\n",
            "Non-trainable params: 14,714,688\n",
            "__________________________________________________________________________________________________\n",
            "None\n"
          ],
          "name": "stdout"
        }
      ]
    },
    {
      "cell_type": "code",
      "metadata": {
        "colab": {
          "base_uri": "https://localhost:8080/"
        },
        "id": "fGizWCnA_TkF",
        "outputId": "ed023cd5-5a9b-47ac-df5c-8d9d91616bbf"
      },
      "source": [
        "print(SimCLR)"
      ],
      "execution_count": 40,
      "outputs": [
        {
          "output_type": "stream",
          "text": [
            "<SimCLR.SimCLR object at 0x7fc8e747d250>\n"
          ],
          "name": "stdout"
        }
      ]
    },
    {
      "cell_type": "code",
      "metadata": {
        "id": "bvdVxJTiMl1W"
      },
      "source": [
        "params_generator = {'batch_size': batch_size,\n",
        "                    'shuffle' : True,\n",
        "                    'width':width_img,\n",
        "                    'height': height_img,\n",
        "                    'VGG': True\n",
        "                   }\n",
        "\n",
        "# Generators\n",
        "data_train = DataGenerator(df_train.reset_index(drop=True), **params_generator)\n",
        "data_val = DataGenerator(df_val.reset_index(drop=True), subset = \"val\", **params_generator) #val keeps the unity values on the same random places ~42\n",
        "data_test = DataGenerator(df_test.reset_index(drop=True), subset = \"test\", **params_generator) #test keeps the unity values on the diagonal"
      ],
      "execution_count": 41,
      "outputs": []
    },
    {
      "cell_type": "code",
      "metadata": {
        "colab": {
          "base_uri": "https://localhost:8080/"
        },
        "id": "L4uLn_lcLdvV",
        "outputId": "376122fa-58c1-49dc-cc06-c0ff5b00d106"
      },
      "source": [
        "data_train.height"
      ],
      "execution_count": 42,
      "outputs": [
        {
          "output_type": "execute_result",
          "data": {
            "text/plain": [
              "80"
            ]
          },
          "metadata": {
            "tags": []
          },
          "execution_count": 42
        }
      ]
    },
    {
      "cell_type": "code",
      "metadata": {
        "colab": {
          "base_uri": "https://localhost:8080/",
          "height": 419
        },
        "id": "BQhOPioiuw8Y",
        "outputId": "b4a15e64-5aa7-4518-b08b-a5f3369ea11c"
      },
      "source": [
        "data_train.df"
      ],
      "execution_count": 43,
      "outputs": [
        {
          "output_type": "execute_result",
          "data": {
            "text/html": [
              "<div>\n",
              "<style scoped>\n",
              "    .dataframe tbody tr th:only-of-type {\n",
              "        vertical-align: middle;\n",
              "    }\n",
              "\n",
              "    .dataframe tbody tr th {\n",
              "        vertical-align: top;\n",
              "    }\n",
              "\n",
              "    .dataframe thead th {\n",
              "        text-align: right;\n",
              "    }\n",
              "</style>\n",
              "<table border=\"1\" class=\"dataframe\">\n",
              "  <thead>\n",
              "    <tr style=\"text-align: right;\">\n",
              "      <th></th>\n",
              "      <th>filename</th>\n",
              "      <th>class_label</th>\n",
              "      <th>class_one_hot</th>\n",
              "    </tr>\n",
              "  </thead>\n",
              "  <tbody>\n",
              "    <tr>\n",
              "      <th>0</th>\n",
              "      <td>/content/drive/My Drive/Colab Notebooks/Samsun...</td>\n",
              "      <td>0</td>\n",
              "      <td>[1, 0, 0, 0]</td>\n",
              "    </tr>\n",
              "    <tr>\n",
              "      <th>1</th>\n",
              "      <td>/content/drive/My Drive/Colab Notebooks/Samsun...</td>\n",
              "      <td>0</td>\n",
              "      <td>[1, 0, 0, 0]</td>\n",
              "    </tr>\n",
              "    <tr>\n",
              "      <th>2</th>\n",
              "      <td>/content/drive/My Drive/Colab Notebooks/Samsun...</td>\n",
              "      <td>2</td>\n",
              "      <td>[0, 0, 1, 0]</td>\n",
              "    </tr>\n",
              "    <tr>\n",
              "      <th>3</th>\n",
              "      <td>/content/drive/My Drive/Colab Notebooks/Samsun...</td>\n",
              "      <td>1</td>\n",
              "      <td>[0, 1, 0, 0]</td>\n",
              "    </tr>\n",
              "    <tr>\n",
              "      <th>4</th>\n",
              "      <td>/content/drive/My Drive/Colab Notebooks/Samsun...</td>\n",
              "      <td>0</td>\n",
              "      <td>[1, 0, 0, 0]</td>\n",
              "    </tr>\n",
              "    <tr>\n",
              "      <th>...</th>\n",
              "      <td>...</td>\n",
              "      <td>...</td>\n",
              "      <td>...</td>\n",
              "    </tr>\n",
              "    <tr>\n",
              "      <th>1163</th>\n",
              "      <td>/content/drive/My Drive/Colab Notebooks/Samsun...</td>\n",
              "      <td>2</td>\n",
              "      <td>[0, 0, 1, 0]</td>\n",
              "    </tr>\n",
              "    <tr>\n",
              "      <th>1164</th>\n",
              "      <td>/content/drive/My Drive/Colab Notebooks/Samsun...</td>\n",
              "      <td>3</td>\n",
              "      <td>[0, 0, 0, 1]</td>\n",
              "    </tr>\n",
              "    <tr>\n",
              "      <th>1165</th>\n",
              "      <td>/content/drive/My Drive/Colab Notebooks/Samsun...</td>\n",
              "      <td>1</td>\n",
              "      <td>[0, 1, 0, 0]</td>\n",
              "    </tr>\n",
              "    <tr>\n",
              "      <th>1166</th>\n",
              "      <td>/content/drive/My Drive/Colab Notebooks/Samsun...</td>\n",
              "      <td>3</td>\n",
              "      <td>[0, 0, 0, 1]</td>\n",
              "    </tr>\n",
              "    <tr>\n",
              "      <th>1167</th>\n",
              "      <td>/content/drive/My Drive/Colab Notebooks/Samsun...</td>\n",
              "      <td>2</td>\n",
              "      <td>[0, 0, 1, 0]</td>\n",
              "    </tr>\n",
              "  </tbody>\n",
              "</table>\n",
              "<p>1168 rows × 3 columns</p>\n",
              "</div>"
            ],
            "text/plain": [
              "                                               filename  ... class_one_hot\n",
              "0     /content/drive/My Drive/Colab Notebooks/Samsun...  ...  [1, 0, 0, 0]\n",
              "1     /content/drive/My Drive/Colab Notebooks/Samsun...  ...  [1, 0, 0, 0]\n",
              "2     /content/drive/My Drive/Colab Notebooks/Samsun...  ...  [0, 0, 1, 0]\n",
              "3     /content/drive/My Drive/Colab Notebooks/Samsun...  ...  [0, 1, 0, 0]\n",
              "4     /content/drive/My Drive/Colab Notebooks/Samsun...  ...  [1, 0, 0, 0]\n",
              "...                                                 ...  ...           ...\n",
              "1163  /content/drive/My Drive/Colab Notebooks/Samsun...  ...  [0, 0, 1, 0]\n",
              "1164  /content/drive/My Drive/Colab Notebooks/Samsun...  ...  [0, 0, 0, 1]\n",
              "1165  /content/drive/My Drive/Colab Notebooks/Samsun...  ...  [0, 1, 0, 0]\n",
              "1166  /content/drive/My Drive/Colab Notebooks/Samsun...  ...  [0, 0, 0, 1]\n",
              "1167  /content/drive/My Drive/Colab Notebooks/Samsun...  ...  [0, 0, 1, 0]\n",
              "\n",
              "[1168 rows x 3 columns]"
            ]
          },
          "metadata": {
            "tags": []
          },
          "execution_count": 43
        }
      ]
    },
    {
      "cell_type": "code",
      "metadata": {
        "id": "-ipobvp7Ml1a"
      },
      "source": [
        "y_predict_test_before = SimCLR.predict(data_test)"
      ],
      "execution_count": 44,
      "outputs": []
    },
    {
      "cell_type": "markdown",
      "metadata": {
        "id": "3XrbFJGsMl1g"
      },
      "source": [
        "# SimCLR - Round 1: Only Projection head"
      ]
    },
    {
      "cell_type": "markdown",
      "metadata": {
        "id": "pssY8CS6Ml1g"
      },
      "source": [
        "## Training SimCLR"
      ]
    },
    {
      "cell_type": "code",
      "metadata": {
        "colab": {
          "base_uri": "https://localhost:8080/"
        },
        "id": "JLMsqpJcMl1h",
        "outputId": "f354f218-6427-422f-f4de-fd3e2e31176d"
      },
      "source": [
        "SimCLR.train(data_train, data_val, epochs = 5)"
      ],
      "execution_count": 45,
      "outputs": [
        {
          "output_type": "stream",
          "text": [
            "Train for 37 steps, validate for 8 steps\n",
            "Epoch 1/5\n",
            "36/37 [============================>.] - ETA: 16s - loss: 402.0813\n",
            "Epoch 00001: val_loss improved from inf to 363.20534, saving model to models/trashnet/SimCLR/SimCLR_07_04_21h_28.h5\n",
            "37/37 [==============================] - 733s 20s/step - loss: 401.0836 - val_loss: 363.2053\n",
            "Epoch 2/5\n",
            "36/37 [============================>.] - ETA: 0s - loss: 330.1071\n",
            "Epoch 00002: val_loss improved from 363.20534 to 294.45330, saving model to models/trashnet/SimCLR/SimCLR_07_04_21h_28.h5\n",
            "37/37 [==============================] - 32s 855ms/step - loss: 329.1922 - val_loss: 294.4533\n",
            "Epoch 3/5\n",
            "36/37 [============================>.] - ETA: 0s - loss: 264.6881\n",
            "Epoch 00003: val_loss improved from 294.45330 to 232.80966, saving model to models/trashnet/SimCLR/SimCLR_07_04_21h_28.h5\n",
            "37/37 [==============================] - 31s 844ms/step - loss: 263.8691 - val_loss: 232.8097\n",
            "Epoch 4/5\n",
            "36/37 [============================>.] - ETA: 0s - loss: 206.4726\n",
            "Epoch 00004: val_loss improved from 232.80966 to 178.46107, saving model to models/trashnet/SimCLR/SimCLR_07_04_21h_28.h5\n",
            "37/37 [==============================] - 32s 863ms/step - loss: 205.7532 - val_loss: 178.4611\n",
            "Epoch 5/5\n",
            "36/37 [============================>.] - ETA: 0s - loss: 155.6505\n",
            "Epoch 00005: val_loss improved from 178.46107 to 131.57702, saving model to models/trashnet/SimCLR/SimCLR_07_04_21h_28.h5\n",
            "37/37 [==============================] - 31s 848ms/step - loss: 155.0329 - val_loss: 131.5770\n",
            "trainable parameters: 4.46 M.\n",
            "non-trainable parameters: 14.71 M.\n"
          ],
          "name": "stdout"
        }
      ]
    },
    {
      "cell_type": "code",
      "metadata": {
        "id": "YfWiM4gfMl1n"
      },
      "source": [
        "y_predict_test_after = SimCLR.predict(data_test)"
      ],
      "execution_count": 46,
      "outputs": []
    },
    {
      "cell_type": "markdown",
      "metadata": {
        "id": "MITBpHs6Ml1r"
      },
      "source": [
        "## SimCLR-output check"
      ]
    },
    {
      "cell_type": "code",
      "metadata": {
        "colab": {
          "base_uri": "https://localhost:8080/"
        },
        "id": "M92VNCQHMl1s",
        "outputId": "f043a5dd-96df-4888-a8c6-1ce612861288"
      },
      "source": [
        "print(f\"Random guess accuracy: {round(1/(2*batch_size),4)}\")\n",
        "\n",
        "print(f\"accuracy - test - before: {np.round(np.sum(data_test[0][1] * y_predict_test_before[:batch_size])/(2*batch_size),2)}\")\n",
        "print(f\"accuracy - test - after: {np.round(np.sum(data_test[0][1] * y_predict_test_after[:batch_size])/(2*batch_size),2)}\")"
      ],
      "execution_count": 48,
      "outputs": [
        {
          "output_type": "stream",
          "text": [
            "Random guess accuracy: 0.0156\n",
            "accuracy - test - before: 0.44\n",
            "accuracy - test - after: 0.98\n"
          ],
          "name": "stdout"
        }
      ]
    },
    {
      "cell_type": "code",
      "metadata": {
        "colab": {
          "base_uri": "https://localhost:8080/"
        },
        "id": "K7NxSEoyMl1w",
        "outputId": "78960273-f35f-44e8-cae1-79780221021f"
      },
      "source": [
        "print(\"y_predict_test_before\")\n",
        "for i in range(min(batch_size, 15)):\n",
        "    print(np.round(y_predict_test_before[i][i],2), end=\" | \")\n",
        "print(\"\\n\")    \n",
        "print(\"y_predict_test_after\")\n",
        "for i in range(min(batch_size, 15)):\n",
        "    print(np.round(y_predict_test_after[i][i],2), end=\" | \")\n",
        "print(\"\\n\") \n",
        "print(\"y_predict_test_after - Second diagonal\")\n",
        "for i in range(min(batch_size, 15)):\n",
        "    print(np.round(y_predict_test_after[i + 2 * batch_size][i],2), end=\" | \")\n",
        "print(\"\\n\")    "
      ],
      "execution_count": 49,
      "outputs": [
        {
          "output_type": "stream",
          "text": [
            "y_predict_test_before\n",
            "0.18 | 0.46 | 0.64 | 0.71 | 0.41 | 0.55 | 0.47 | 0.21 | 0.6 | 0.33 | 0.42 | 0.45 | 0.16 | 0.5 | 0.6 | \n",
            "\n",
            "y_predict_test_after\n",
            "0.98 | 0.92 | 0.99 | 0.99 | 0.98 | 1.0 | 0.99 | 0.98 | 0.99 | 0.99 | 0.98 | 0.98 | 0.96 | 0.97 | 0.99 | \n",
            "\n",
            "y_predict_test_after - Second diagonal\n",
            "0.96 | 0.99 | 0.97 | 1.0 | 0.97 | 0.98 | 0.98 | 0.99 | 0.99 | 0.98 | 0.99 | 0.98 | 0.99 | 0.99 | 0.9 | \n",
            "\n"
          ],
          "name": "stdout"
        }
      ]
    },
    {
      "cell_type": "markdown",
      "metadata": {
        "id": "K_k39St9Ml1z"
      },
      "source": [
        "## Feature Evaluation\n",
        "\n",
        "Note that this evaluation corresponds with the unaltered pretrained weights"
      ]
    },
    {
      "cell_type": "code",
      "metadata": {
        "id": "IOXEi_YVMl10"
      },
      "source": [
        "fractions = [1.0, 0.2, 0.05]"
      ],
      "execution_count": 50,
      "outputs": []
    },
    {
      "cell_type": "markdown",
      "metadata": {
        "id": "_36LmVuuMl15"
      },
      "source": [
        "### Logistic regression evaluation"
      ]
    },
    {
      "cell_type": "code",
      "metadata": {
        "colab": {
          "base_uri": "https://localhost:8080/"
        },
        "id": "yDgFplaQMl16",
        "outputId": "06efdfd2-c177-4004-cf12-53bb9bc9f732"
      },
      "source": [
        "features_train, y_train, feats = get_features(base_model, df_train, class_labels)\n",
        "features_test, y_test, feats = get_features(base_model, df_test, class_labels)\n",
        "np.count_nonzero(features_train[0])"
      ],
      "execution_count": 51,
      "outputs": [
        {
          "output_type": "execute_result",
          "data": {
            "text/plain": [
              "177"
            ]
          },
          "metadata": {
            "tags": []
          },
          "execution_count": 51
        }
      ]
    },
    {
      "cell_type": "code",
      "metadata": {
        "colab": {
          "base_uri": "https://localhost:8080/"
        },
        "id": "lRR_M3xGMl1-",
        "outputId": "bcd82286-0faf-46b0-80e4-448111c02838"
      },
      "source": [
        "# Training logistic regression classifier on 3 fractions of the data\n",
        "# Optimal regularization is determined from a 5-fold cross-validation\n",
        "for fraction in fractions:\n",
        "    print(f\"    ==== {fraction * 100}% of the training data used ==== \\n\")\n",
        "    linear_classifier(features_train, y_train, features_test, y_test, class_labels, fraction = fraction)"
      ],
      "execution_count": 52,
      "outputs": [
        {
          "output_type": "stream",
          "text": [
            "    ==== 100.0% of the training data used ==== \n",
            "\n",
            "Accuracy on test: 0.72 \n",
            "\n",
            "              precision    recall  f1-score   support\n",
            "\n",
            "           0       0.77      0.86      0.82       111\n",
            "           1       0.57      0.34      0.43        38\n",
            "           2       0.43      0.26      0.32        23\n",
            "           3       0.73      0.84      0.78        79\n",
            "\n",
            "    accuracy                           0.72       251\n",
            "   macro avg       0.63      0.58      0.59       251\n",
            "weighted avg       0.70      0.72      0.70       251\n",
            "\n",
            "    ==== 20.0% of the training data used ==== \n",
            "\n",
            "Accuracy on test: 0.69 \n",
            "\n",
            "              precision    recall  f1-score   support\n",
            "\n",
            "           0       0.77      0.82      0.79       111\n",
            "           1       0.58      0.39      0.47        38\n",
            "           2       0.31      0.22      0.26        23\n",
            "           3       0.68      0.78      0.73        79\n",
            "\n",
            "    accuracy                           0.69       251\n",
            "   macro avg       0.59      0.55      0.56       251\n",
            "weighted avg       0.67      0.69      0.68       251\n",
            "\n",
            "    ==== 5.0% of the training data used ==== \n",
            "\n",
            "Accuracy on test: 0.6 \n",
            "\n",
            "              precision    recall  f1-score   support\n",
            "\n",
            "           0       0.60      0.92      0.73       111\n",
            "           1       0.00      0.00      0.00        38\n",
            "           2       0.00      0.00      0.00        23\n",
            "           3       0.59      0.61      0.60        79\n",
            "\n",
            "    accuracy                           0.60       251\n",
            "   macro avg       0.30      0.38      0.33       251\n",
            "weighted avg       0.45      0.60      0.51       251\n",
            "\n"
          ],
          "name": "stdout"
        },
        {
          "output_type": "stream",
          "text": [
            "/usr/local/lib/python3.7/dist-packages/sklearn/metrics/_classification.py:1221: UndefinedMetricWarning: Precision and F-score are ill-defined and being set to 0.0 in labels with no predicted samples. Use `zero_division` parameter to control this behavior.\n",
            "  _warn_prf(average, modifier, msg_start, len(result))\n"
          ],
          "name": "stderr"
        }
      ]
    },
    {
      "cell_type": "markdown",
      "metadata": {
        "id": "3BT4MD5bMl2G"
      },
      "source": [
        "### Fine tuned model"
      ]
    },
    {
      "cell_type": "code",
      "metadata": {
        "id": "bWJlfGi5Ml2G"
      },
      "source": [
        "batch_size_classifier = 32\n",
        "params_generator_classifier = {'max_width':width_img,\n",
        "                            'max_height': height_img,\n",
        "                            'num_classes': num_classes,\n",
        "                            'VGG': True\n",
        "                            }\n",
        "params_training_classifier = {'1.0':{\n",
        "                                \"reg_dense\" : 0.005,\n",
        "                                \"reg_out\" : 0.005,\n",
        "                                \"nums_of_unfrozen_layers\" : [5, 5, 6, 7],\n",
        "                                \"lrs\" : [1e-3, 1e-4, 5e-5, 5e-5],\n",
        "                                \"epochs\" : [5, 5, 15, 10]\n",
        "                                },\n",
        "                              '0.2':{\n",
        "                                \"reg_dense\" : 0.075,\n",
        "                                \"reg_out\" : 0.01,\n",
        "                                \"nums_of_unfrozen_layers\" : [5, 5, 6, 7],\n",
        "                                \"lrs\" : [1e-3, 1e-4, 5e-5, 5e-5],\n",
        "                                \"epochs\" : [5, 5, 20, 15]\n",
        "                              },\n",
        "                              '0.05':{\n",
        "                                \"reg_dense\" : 0.01,\n",
        "                                \"reg_out\" : 0.02,\n",
        "                                \"nums_of_unfrozen_layers\" : [5, 5, 6, 7],\n",
        "                                \"lrs\" : [1e-3, 1e-4, 5e-5, 1e-5],\n",
        "                                \"epochs\" : [5, 5, 20, 15]\n",
        "                              }                              \n",
        "                            }"
      ],
      "execution_count": 53,
      "outputs": []
    },
    {
      "cell_type": "code",
      "metadata": {
        "colab": {
          "base_uri": "https://localhost:8080/"
        },
        "id": "Z_IONDPzMl2J",
        "outputId": "0cf3ab1a-3427-41eb-b5da-b182f5d6f930"
      },
      "source": [
        "for fraction in fractions:\n",
        "    print(f\"    ==== {fraction * 100}% of the training data used ==== \\n\")\n",
        "    SimCLR.train_NL_and_evaluate(dfs = dfs,\n",
        "                                batch_size = batch_size_classifier,\n",
        "                                params_generator = params_generator_classifier,\n",
        "                                fraction = fraction,\n",
        "                                class_labels = class_labels,\n",
        "                                reg_dense = params_training_classifier[str(fraction)][\"reg_dense\"],\n",
        "                                reg_out = params_training_classifier[str(fraction)][\"reg_out\"],\n",
        "                                nums_of_unfrozen_layers = params_training_classifier[str(fraction)][\"nums_of_unfrozen_layers\"],\n",
        "                                lrs = params_training_classifier[str(fraction)][\"lrs\"],\n",
        "                                epochs = params_training_classifier[str(fraction)][\"epochs\"],\n",
        "                                verbose_epoch = 0,\n",
        "                                verbose_cycle = 0\n",
        "                                )"
      ],
      "execution_count": 54,
      "outputs": [
        {
          "output_type": "stream",
          "text": [
            "    ==== 100.0% of the training data used ==== \n",
            "\n",
            "Best result from attempt 3\n",
            "              precision    recall  f1-score   support\n",
            "\n",
            "           0       0.90      0.91      0.91       111\n",
            "           1       0.76      0.76      0.76        38\n",
            "           2       0.73      0.48      0.58        23\n",
            "           3       0.81      0.89      0.85        79\n",
            "\n",
            "    accuracy                           0.84       251\n",
            "   macro avg       0.80      0.76      0.77       251\n",
            "weighted avg       0.84      0.84      0.84       251\n",
            "\n",
            "    ==== 20.0% of the training data used ==== \n",
            "\n"
          ],
          "name": "stdout"
        },
        {
          "output_type": "stream",
          "text": [
            "/usr/local/lib/python3.7/dist-packages/sklearn/metrics/_classification.py:1221: UndefinedMetricWarning: Precision and F-score are ill-defined and being set to 0.0 in labels with no predicted samples. Use `zero_division` parameter to control this behavior.\n",
            "  _warn_prf(average, modifier, msg_start, len(result))\n",
            "/usr/local/lib/python3.7/dist-packages/sklearn/metrics/_classification.py:1221: UndefinedMetricWarning: Precision and F-score are ill-defined and being set to 0.0 in labels with no predicted samples. Use `zero_division` parameter to control this behavior.\n",
            "  _warn_prf(average, modifier, msg_start, len(result))\n"
          ],
          "name": "stderr"
        },
        {
          "output_type": "stream",
          "text": [
            "Best result from attempt 4\n",
            "              precision    recall  f1-score   support\n",
            "\n",
            "           0       0.82      0.96      0.89       111\n",
            "           1       0.88      0.55      0.68        38\n",
            "           2       0.00      0.00      0.00        23\n",
            "           3       0.76      0.94      0.84        79\n",
            "\n",
            "    accuracy                           0.80       251\n",
            "   macro avg       0.62      0.61      0.60       251\n",
            "weighted avg       0.74      0.80      0.76       251\n",
            "\n",
            "    ==== 5.0% of the training data used ==== \n",
            "\n",
            "Best result from attempt 1\n",
            "              precision    recall  f1-score   support\n",
            "\n",
            "           0       0.79      0.93      0.85       111\n",
            "           1       0.77      0.63      0.70        38\n",
            "           2       0.75      0.13      0.22        23\n",
            "           3       0.79      0.86      0.82        79\n",
            "\n",
            "    accuracy                           0.79       251\n",
            "   macro avg       0.78      0.64      0.65       251\n",
            "weighted avg       0.79      0.79      0.76       251\n",
            "\n"
          ],
          "name": "stdout"
        }
      ]
    },
    {
      "cell_type": "code",
      "metadata": {
        "colab": {
          "base_uri": "https://localhost:8080/",
          "height": 380
        },
        "id": "YOD7ahLaMl2Q",
        "outputId": "fb8009a0-cb24-4e16-8bf3-aaf984363ebd"
      },
      "source": [
        "tSNE_vis(df_train, features_train, class_labels)"
      ],
      "execution_count": 55,
      "outputs": [
        {
          "output_type": "display_data",
          "data": {
            "image/png": "[encoded data removed]",
            "text/plain": [
              "<Figure size 432x432 with 1 Axes>"
            ]
          },
          "metadata": {
            "tags": [],
            "needs_background": "light"
          }
        }
      ]
    },
    {
      "cell_type": "markdown",
      "metadata": {
        "id": "7uyPJiScMl2U"
      },
      "source": [
        "# SimCLR - Round 2: Unfreeze last convolutional layer"
      ]
    },
    {
      "cell_type": "markdown",
      "metadata": {
        "id": "CNKDhiABMl2V"
      },
      "source": [
        "## Training SimCLR"
      ]
    },
    {
      "cell_type": "code",
      "metadata": {
        "colab": {
          "base_uri": "https://localhost:8080/"
        },
        "id": "r54NABsoMl2V",
        "outputId": "ed6a137c-dd40-4643-9135-7f84d7fe6ee3"
      },
      "source": [
        "#Unfreeze\n",
        "SimCLR.unfreeze_and_train(data_train, data_val, num_of_unfrozen_layers = 2, r = 2, lr = 1e-5, epochs = 5)   "
      ],
      "execution_count": 56,
      "outputs": [
        {
          "output_type": "stream",
          "text": [
            "Model: \"model_17\"\n",
            "__________________________________________________________________________________________________\n",
            "Layer (type)                    Output Shape         Param #     Connected to                     \n",
            "==================================================================================================\n",
            "input_131 (InputLayer)          [(None, 80, 80, 3)]  0                                            \n",
            "__________________________________________________________________________________________________\n",
            "input_132 (InputLayer)          [(None, 80, 80, 3)]  0                                            \n",
            "__________________________________________________________________________________________________\n",
            "input_133 (InputLayer)          [(None, 80, 80, 3)]  0                                            \n",
            "__________________________________________________________________________________________________\n",
            "input_134 (InputLayer)          [(None, 80, 80, 3)]  0                                            \n",
            "__________________________________________________________________________________________________\n",
            "input_135 (InputLayer)          [(None, 80, 80, 3)]  0                                            \n",
            "__________________________________________________________________________________________________\n",
            "input_136 (InputLayer)          [(None, 80, 80, 3)]  0                                            \n",
            "__________________________________________________________________________________________________\n",
            "input_137 (InputLayer)          [(None, 80, 80, 3)]  0                                            \n",
            "__________________________________________________________________________________________________\n",
            "input_138 (InputLayer)          [(None, 80, 80, 3)]  0                                            \n",
            "__________________________________________________________________________________________________\n",
            "input_139 (InputLayer)          [(None, 80, 80, 3)]  0                                            \n",
            "__________________________________________________________________________________________________\n",
            "input_140 (InputLayer)          [(None, 80, 80, 3)]  0                                            \n",
            "__________________________________________________________________________________________________\n",
            "input_141 (InputLayer)          [(None, 80, 80, 3)]  0                                            \n",
            "__________________________________________________________________________________________________\n",
            "input_142 (InputLayer)          [(None, 80, 80, 3)]  0                                            \n",
            "__________________________________________________________________________________________________\n",
            "input_143 (InputLayer)          [(None, 80, 80, 3)]  0                                            \n",
            "__________________________________________________________________________________________________\n",
            "input_144 (InputLayer)          [(None, 80, 80, 3)]  0                                            \n",
            "__________________________________________________________________________________________________\n",
            "input_145 (InputLayer)          [(None, 80, 80, 3)]  0                                            \n",
            "__________________________________________________________________________________________________\n",
            "input_146 (InputLayer)          [(None, 80, 80, 3)]  0                                            \n",
            "__________________________________________________________________________________________________\n",
            "input_147 (InputLayer)          [(None, 80, 80, 3)]  0                                            \n",
            "__________________________________________________________________________________________________\n",
            "input_148 (InputLayer)          [(None, 80, 80, 3)]  0                                            \n",
            "__________________________________________________________________________________________________\n",
            "input_149 (InputLayer)          [(None, 80, 80, 3)]  0                                            \n",
            "__________________________________________________________________________________________________\n",
            "input_150 (InputLayer)          [(None, 80, 80, 3)]  0                                            \n",
            "__________________________________________________________________________________________________\n",
            "input_151 (InputLayer)          [(None, 80, 80, 3)]  0                                            \n",
            "__________________________________________________________________________________________________\n",
            "input_152 (InputLayer)          [(None, 80, 80, 3)]  0                                            \n",
            "__________________________________________________________________________________________________\n",
            "input_153 (InputLayer)          [(None, 80, 80, 3)]  0                                            \n",
            "__________________________________________________________________________________________________\n",
            "input_154 (InputLayer)          [(None, 80, 80, 3)]  0                                            \n",
            "__________________________________________________________________________________________________\n",
            "input_155 (InputLayer)          [(None, 80, 80, 3)]  0                                            \n",
            "__________________________________________________________________________________________________\n",
            "input_156 (InputLayer)          [(None, 80, 80, 3)]  0                                            \n",
            "__________________________________________________________________________________________________\n",
            "input_157 (InputLayer)          [(None, 80, 80, 3)]  0                                            \n",
            "__________________________________________________________________________________________________\n",
            "input_158 (InputLayer)          [(None, 80, 80, 3)]  0                                            \n",
            "__________________________________________________________________________________________________\n",
            "input_159 (InputLayer)          [(None, 80, 80, 3)]  0                                            \n",
            "__________________________________________________________________________________________________\n",
            "input_160 (InputLayer)          [(None, 80, 80, 3)]  0                                            \n",
            "__________________________________________________________________________________________________\n",
            "input_161 (InputLayer)          [(None, 80, 80, 3)]  0                                            \n",
            "__________________________________________________________________________________________________\n",
            "input_162 (InputLayer)          [(None, 80, 80, 3)]  0                                            \n",
            "__________________________________________________________________________________________________\n",
            "input_163 (InputLayer)          [(None, 80, 80, 3)]  0                                            \n",
            "__________________________________________________________________________________________________\n",
            "input_164 (InputLayer)          [(None, 80, 80, 3)]  0                                            \n",
            "__________________________________________________________________________________________________\n",
            "input_165 (InputLayer)          [(None, 80, 80, 3)]  0                                            \n",
            "__________________________________________________________________________________________________\n",
            "input_166 (InputLayer)          [(None, 80, 80, 3)]  0                                            \n",
            "__________________________________________________________________________________________________\n",
            "input_167 (InputLayer)          [(None, 80, 80, 3)]  0                                            \n",
            "__________________________________________________________________________________________________\n",
            "input_168 (InputLayer)          [(None, 80, 80, 3)]  0                                            \n",
            "__________________________________________________________________________________________________\n",
            "input_169 (InputLayer)          [(None, 80, 80, 3)]  0                                            \n",
            "__________________________________________________________________________________________________\n",
            "input_170 (InputLayer)          [(None, 80, 80, 3)]  0                                            \n",
            "__________________________________________________________________________________________________\n",
            "input_171 (InputLayer)          [(None, 80, 80, 3)]  0                                            \n",
            "__________________________________________________________________________________________________\n",
            "input_172 (InputLayer)          [(None, 80, 80, 3)]  0                                            \n",
            "__________________________________________________________________________________________________\n",
            "input_173 (InputLayer)          [(None, 80, 80, 3)]  0                                            \n",
            "__________________________________________________________________________________________________\n",
            "input_174 (InputLayer)          [(None, 80, 80, 3)]  0                                            \n",
            "__________________________________________________________________________________________________\n",
            "input_175 (InputLayer)          [(None, 80, 80, 3)]  0                                            \n",
            "__________________________________________________________________________________________________\n",
            "input_176 (InputLayer)          [(None, 80, 80, 3)]  0                                            \n",
            "__________________________________________________________________________________________________\n",
            "input_177 (InputLayer)          [(None, 80, 80, 3)]  0                                            \n",
            "__________________________________________________________________________________________________\n",
            "input_178 (InputLayer)          [(None, 80, 80, 3)]  0                                            \n",
            "__________________________________________________________________________________________________\n",
            "input_179 (InputLayer)          [(None, 80, 80, 3)]  0                                            \n",
            "__________________________________________________________________________________________________\n",
            "input_180 (InputLayer)          [(None, 80, 80, 3)]  0                                            \n",
            "__________________________________________________________________________________________________\n",
            "input_181 (InputLayer)          [(None, 80, 80, 3)]  0                                            \n",
            "__________________________________________________________________________________________________\n",
            "input_182 (InputLayer)          [(None, 80, 80, 3)]  0                                            \n",
            "__________________________________________________________________________________________________\n",
            "input_183 (InputLayer)          [(None, 80, 80, 3)]  0                                            \n",
            "__________________________________________________________________________________________________\n",
            "input_184 (InputLayer)          [(None, 80, 80, 3)]  0                                            \n",
            "__________________________________________________________________________________________________\n",
            "input_185 (InputLayer)          [(None, 80, 80, 3)]  0                                            \n",
            "__________________________________________________________________________________________________\n",
            "input_186 (InputLayer)          [(None, 80, 80, 3)]  0                                            \n",
            "__________________________________________________________________________________________________\n",
            "input_187 (InputLayer)          [(None, 80, 80, 3)]  0                                            \n",
            "__________________________________________________________________________________________________\n",
            "input_188 (InputLayer)          [(None, 80, 80, 3)]  0                                            \n",
            "__________________________________________________________________________________________________\n",
            "input_189 (InputLayer)          [(None, 80, 80, 3)]  0                                            \n",
            "__________________________________________________________________________________________________\n",
            "input_190 (InputLayer)          [(None, 80, 80, 3)]  0                                            \n",
            "__________________________________________________________________________________________________\n",
            "input_191 (InputLayer)          [(None, 80, 80, 3)]  0                                            \n",
            "__________________________________________________________________________________________________\n",
            "input_192 (InputLayer)          [(None, 80, 80, 3)]  0                                            \n",
            "__________________________________________________________________________________________________\n",
            "input_193 (InputLayer)          [(None, 80, 80, 3)]  0                                            \n",
            "__________________________________________________________________________________________________\n",
            "input_194 (InputLayer)          [(None, 80, 80, 3)]  0                                            \n",
            "__________________________________________________________________________________________________\n",
            "vgg16 (Model)                   (None, 2, 2, 512)    14714688    input_131[0][0]                  \n",
            "                                                                 input_132[0][0]                  \n",
            "                                                                 input_133[0][0]                  \n",
            "                                                                 input_134[0][0]                  \n",
            "                                                                 input_135[0][0]                  \n",
            "                                                                 input_136[0][0]                  \n",
            "                                                                 input_137[0][0]                  \n",
            "                                                                 input_138[0][0]                  \n",
            "                                                                 input_139[0][0]                  \n",
            "                                                                 input_140[0][0]                  \n",
            "                                                                 input_141[0][0]                  \n",
            "                                                                 input_142[0][0]                  \n",
            "                                                                 input_143[0][0]                  \n",
            "                                                                 input_144[0][0]                  \n",
            "                                                                 input_145[0][0]                  \n",
            "                                                                 input_146[0][0]                  \n",
            "                                                                 input_147[0][0]                  \n",
            "                                                                 input_148[0][0]                  \n",
            "                                                                 input_149[0][0]                  \n",
            "                                                                 input_150[0][0]                  \n",
            "                                                                 input_151[0][0]                  \n",
            "                                                                 input_152[0][0]                  \n",
            "                                                                 input_153[0][0]                  \n",
            "                                                                 input_154[0][0]                  \n",
            "                                                                 input_155[0][0]                  \n",
            "                                                                 input_156[0][0]                  \n",
            "                                                                 input_157[0][0]                  \n",
            "                                                                 input_158[0][0]                  \n",
            "                                                                 input_159[0][0]                  \n",
            "                                                                 input_160[0][0]                  \n",
            "                                                                 input_161[0][0]                  \n",
            "                                                                 input_162[0][0]                  \n",
            "                                                                 input_163[0][0]                  \n",
            "                                                                 input_164[0][0]                  \n",
            "                                                                 input_165[0][0]                  \n",
            "                                                                 input_166[0][0]                  \n",
            "                                                                 input_167[0][0]                  \n",
            "                                                                 input_168[0][0]                  \n",
            "                                                                 input_169[0][0]                  \n",
            "                                                                 input_170[0][0]                  \n",
            "                                                                 input_171[0][0]                  \n",
            "                                                                 input_172[0][0]                  \n",
            "                                                                 input_173[0][0]                  \n",
            "                                                                 input_174[0][0]                  \n",
            "                                                                 input_175[0][0]                  \n",
            "                                                                 input_176[0][0]                  \n",
            "                                                                 input_177[0][0]                  \n",
            "                                                                 input_178[0][0]                  \n",
            "                                                                 input_179[0][0]                  \n",
            "                                                                 input_180[0][0]                  \n",
            "                                                                 input_181[0][0]                  \n",
            "                                                                 input_182[0][0]                  \n",
            "                                                                 input_183[0][0]                  \n",
            "                                                                 input_184[0][0]                  \n",
            "                                                                 input_185[0][0]                  \n",
            "                                                                 input_186[0][0]                  \n",
            "                                                                 input_187[0][0]                  \n",
            "                                                                 input_188[0][0]                  \n",
            "                                                                 input_189[0][0]                  \n",
            "                                                                 input_190[0][0]                  \n",
            "                                                                 input_191[0][0]                  \n",
            "                                                                 input_192[0][0]                  \n",
            "                                                                 input_193[0][0]                  \n",
            "                                                                 input_194[0][0]                  \n",
            "__________________________________________________________________________________________________\n",
            "flatten_1 (Flatten)             (None, 2048)         0           vgg16[65][0]                     \n",
            "                                                                 vgg16[66][0]                     \n",
            "                                                                 vgg16[67][0]                     \n",
            "                                                                 vgg16[68][0]                     \n",
            "                                                                 vgg16[69][0]                     \n",
            "                                                                 vgg16[70][0]                     \n",
            "                                                                 vgg16[71][0]                     \n",
            "                                                                 vgg16[72][0]                     \n",
            "                                                                 vgg16[73][0]                     \n",
            "                                                                 vgg16[74][0]                     \n",
            "                                                                 vgg16[75][0]                     \n",
            "                                                                 vgg16[76][0]                     \n",
            "                                                                 vgg16[77][0]                     \n",
            "                                                                 vgg16[78][0]                     \n",
            "                                                                 vgg16[79][0]                     \n",
            "                                                                 vgg16[80][0]                     \n",
            "                                                                 vgg16[81][0]                     \n",
            "                                                                 vgg16[82][0]                     \n",
            "                                                                 vgg16[83][0]                     \n",
            "                                                                 vgg16[84][0]                     \n",
            "                                                                 vgg16[85][0]                     \n",
            "                                                                 vgg16[86][0]                     \n",
            "                                                                 vgg16[87][0]                     \n",
            "                                                                 vgg16[88][0]                     \n",
            "                                                                 vgg16[89][0]                     \n",
            "                                                                 vgg16[90][0]                     \n",
            "                                                                 vgg16[91][0]                     \n",
            "                                                                 vgg16[92][0]                     \n",
            "                                                                 vgg16[93][0]                     \n",
            "                                                                 vgg16[94][0]                     \n",
            "                                                                 vgg16[95][0]                     \n",
            "                                                                 vgg16[96][0]                     \n",
            "                                                                 vgg16[97][0]                     \n",
            "                                                                 vgg16[98][0]                     \n",
            "                                                                 vgg16[99][0]                     \n",
            "                                                                 vgg16[100][0]                    \n",
            "                                                                 vgg16[101][0]                    \n",
            "                                                                 vgg16[102][0]                    \n",
            "                                                                 vgg16[103][0]                    \n",
            "                                                                 vgg16[104][0]                    \n",
            "                                                                 vgg16[105][0]                    \n",
            "                                                                 vgg16[106][0]                    \n",
            "                                                                 vgg16[107][0]                    \n",
            "                                                                 vgg16[108][0]                    \n",
            "                                                                 vgg16[109][0]                    \n",
            "                                                                 vgg16[110][0]                    \n",
            "                                                                 vgg16[111][0]                    \n",
            "                                                                 vgg16[112][0]                    \n",
            "                                                                 vgg16[113][0]                    \n",
            "                                                                 vgg16[114][0]                    \n",
            "                                                                 vgg16[115][0]                    \n",
            "                                                                 vgg16[116][0]                    \n",
            "                                                                 vgg16[117][0]                    \n",
            "                                                                 vgg16[118][0]                    \n",
            "                                                                 vgg16[119][0]                    \n",
            "                                                                 vgg16[120][0]                    \n",
            "                                                                 vgg16[121][0]                    \n",
            "                                                                 vgg16[122][0]                    \n",
            "                                                                 vgg16[123][0]                    \n",
            "                                                                 vgg16[124][0]                    \n",
            "                                                                 vgg16[125][0]                    \n",
            "                                                                 vgg16[126][0]                    \n",
            "                                                                 vgg16[127][0]                    \n",
            "                                                                 vgg16[128][0]                    \n",
            "__________________________________________________________________________________________________\n",
            "dense_2 (Dense)                 (None, 2048)         4196352     flatten_1[64][0]                 \n",
            "                                                                 flatten_1[65][0]                 \n",
            "                                                                 flatten_1[66][0]                 \n",
            "                                                                 flatten_1[67][0]                 \n",
            "                                                                 flatten_1[68][0]                 \n",
            "                                                                 flatten_1[69][0]                 \n",
            "                                                                 flatten_1[70][0]                 \n",
            "                                                                 flatten_1[71][0]                 \n",
            "                                                                 flatten_1[72][0]                 \n",
            "                                                                 flatten_1[73][0]                 \n",
            "                                                                 flatten_1[74][0]                 \n",
            "                                                                 flatten_1[75][0]                 \n",
            "                                                                 flatten_1[76][0]                 \n",
            "                                                                 flatten_1[77][0]                 \n",
            "                                                                 flatten_1[78][0]                 \n",
            "                                                                 flatten_1[79][0]                 \n",
            "                                                                 flatten_1[80][0]                 \n",
            "                                                                 flatten_1[81][0]                 \n",
            "                                                                 flatten_1[82][0]                 \n",
            "                                                                 flatten_1[83][0]                 \n",
            "                                                                 flatten_1[84][0]                 \n",
            "                                                                 flatten_1[85][0]                 \n",
            "                                                                 flatten_1[86][0]                 \n",
            "                                                                 flatten_1[87][0]                 \n",
            "                                                                 flatten_1[88][0]                 \n",
            "                                                                 flatten_1[89][0]                 \n",
            "                                                                 flatten_1[90][0]                 \n",
            "                                                                 flatten_1[91][0]                 \n",
            "                                                                 flatten_1[92][0]                 \n",
            "                                                                 flatten_1[93][0]                 \n",
            "                                                                 flatten_1[94][0]                 \n",
            "                                                                 flatten_1[95][0]                 \n",
            "                                                                 flatten_1[96][0]                 \n",
            "                                                                 flatten_1[97][0]                 \n",
            "                                                                 flatten_1[98][0]                 \n",
            "                                                                 flatten_1[99][0]                 \n",
            "                                                                 flatten_1[100][0]                \n",
            "                                                                 flatten_1[101][0]                \n",
            "                                                                 flatten_1[102][0]                \n",
            "                                                                 flatten_1[103][0]                \n",
            "                                                                 flatten_1[104][0]                \n",
            "                                                                 flatten_1[105][0]                \n",
            "                                                                 flatten_1[106][0]                \n",
            "                                                                 flatten_1[107][0]                \n",
            "                                                                 flatten_1[108][0]                \n",
            "                                                                 flatten_1[109][0]                \n",
            "                                                                 flatten_1[110][0]                \n",
            "                                                                 flatten_1[111][0]                \n",
            "                                                                 flatten_1[112][0]                \n",
            "                                                                 flatten_1[113][0]                \n",
            "                                                                 flatten_1[114][0]                \n",
            "                                                                 flatten_1[115][0]                \n",
            "                                                                 flatten_1[116][0]                \n",
            "                                                                 flatten_1[117][0]                \n",
            "                                                                 flatten_1[118][0]                \n",
            "                                                                 flatten_1[119][0]                \n",
            "                                                                 flatten_1[120][0]                \n",
            "                                                                 flatten_1[121][0]                \n",
            "                                                                 flatten_1[122][0]                \n",
            "                                                                 flatten_1[123][0]                \n",
            "                                                                 flatten_1[124][0]                \n",
            "                                                                 flatten_1[125][0]                \n",
            "                                                                 flatten_1[126][0]                \n",
            "                                                                 flatten_1[127][0]                \n",
            "__________________________________________________________________________________________________\n",
            "dense_3 (Dense)                 (None, 128)          262272      dense_2[64][0]                   \n",
            "                                                                 dense_2[65][0]                   \n",
            "                                                                 dense_2[66][0]                   \n",
            "                                                                 dense_2[67][0]                   \n",
            "                                                                 dense_2[68][0]                   \n",
            "                                                                 dense_2[69][0]                   \n",
            "                                                                 dense_2[70][0]                   \n",
            "                                                                 dense_2[71][0]                   \n",
            "                                                                 dense_2[72][0]                   \n",
            "                                                                 dense_2[73][0]                   \n",
            "                                                                 dense_2[74][0]                   \n",
            "                                                                 dense_2[75][0]                   \n",
            "                                                                 dense_2[76][0]                   \n",
            "                                                                 dense_2[77][0]                   \n",
            "                                                                 dense_2[78][0]                   \n",
            "                                                                 dense_2[79][0]                   \n",
            "                                                                 dense_2[80][0]                   \n",
            "                                                                 dense_2[81][0]                   \n",
            "                                                                 dense_2[82][0]                   \n",
            "                                                                 dense_2[83][0]                   \n",
            "                                                                 dense_2[84][0]                   \n",
            "                                                                 dense_2[85][0]                   \n",
            "                                                                 dense_2[86][0]                   \n",
            "                                                                 dense_2[87][0]                   \n",
            "                                                                 dense_2[88][0]                   \n",
            "                                                                 dense_2[89][0]                   \n",
            "                                                                 dense_2[90][0]                   \n",
            "                                                                 dense_2[91][0]                   \n",
            "                                                                 dense_2[92][0]                   \n",
            "                                                                 dense_2[93][0]                   \n",
            "                                                                 dense_2[94][0]                   \n",
            "                                                                 dense_2[95][0]                   \n",
            "                                                                 dense_2[96][0]                   \n",
            "                                                                 dense_2[97][0]                   \n",
            "                                                                 dense_2[98][0]                   \n",
            "                                                                 dense_2[99][0]                   \n",
            "                                                                 dense_2[100][0]                  \n",
            "                                                                 dense_2[101][0]                  \n",
            "                                                                 dense_2[102][0]                  \n",
            "                                                                 dense_2[103][0]                  \n",
            "                                                                 dense_2[104][0]                  \n",
            "                                                                 dense_2[105][0]                  \n",
            "                                                                 dense_2[106][0]                  \n",
            "                                                                 dense_2[107][0]                  \n",
            "                                                                 dense_2[108][0]                  \n",
            "                                                                 dense_2[109][0]                  \n",
            "                                                                 dense_2[110][0]                  \n",
            "                                                                 dense_2[111][0]                  \n",
            "                                                                 dense_2[112][0]                  \n",
            "                                                                 dense_2[113][0]                  \n",
            "                                                                 dense_2[114][0]                  \n",
            "                                                                 dense_2[115][0]                  \n",
            "                                                                 dense_2[116][0]                  \n",
            "                                                                 dense_2[117][0]                  \n",
            "                                                                 dense_2[118][0]                  \n",
            "                                                                 dense_2[119][0]                  \n",
            "                                                                 dense_2[120][0]                  \n",
            "                                                                 dense_2[121][0]                  \n",
            "                                                                 dense_2[122][0]                  \n",
            "                                                                 dense_2[123][0]                  \n",
            "                                                                 dense_2[124][0]                  \n",
            "                                                                 dense_2[125][0]                  \n",
            "                                                                 dense_2[126][0]                  \n",
            "                                                                 dense_2[127][0]                  \n",
            "__________________________________________________________________________________________________\n",
            "softmax_cosine_sim_1 (SoftmaxCo (32, 128)            0           dense_3[64][0]                   \n",
            "                                                                 dense_3[65][0]                   \n",
            "                                                                 dense_3[66][0]                   \n",
            "                                                                 dense_3[67][0]                   \n",
            "                                                                 dense_3[68][0]                   \n",
            "                                                                 dense_3[69][0]                   \n",
            "                                                                 dense_3[70][0]                   \n",
            "                                                                 dense_3[71][0]                   \n",
            "                                                                 dense_3[72][0]                   \n",
            "                                                                 dense_3[73][0]                   \n",
            "                                                                 dense_3[74][0]                   \n",
            "                                                                 dense_3[75][0]                   \n",
            "                                                                 dense_3[76][0]                   \n",
            "                                                                 dense_3[77][0]                   \n",
            "                                                                 dense_3[78][0]                   \n",
            "                                                                 dense_3[79][0]                   \n",
            "                                                                 dense_3[80][0]                   \n",
            "                                                                 dense_3[81][0]                   \n",
            "                                                                 dense_3[82][0]                   \n",
            "                                                                 dense_3[83][0]                   \n",
            "                                                                 dense_3[84][0]                   \n",
            "                                                                 dense_3[85][0]                   \n",
            "                                                                 dense_3[86][0]                   \n",
            "                                                                 dense_3[87][0]                   \n",
            "                                                                 dense_3[88][0]                   \n",
            "                                                                 dense_3[89][0]                   \n",
            "                                                                 dense_3[90][0]                   \n",
            "                                                                 dense_3[91][0]                   \n",
            "                                                                 dense_3[92][0]                   \n",
            "                                                                 dense_3[93][0]                   \n",
            "                                                                 dense_3[94][0]                   \n",
            "                                                                 dense_3[95][0]                   \n",
            "                                                                 dense_3[96][0]                   \n",
            "                                                                 dense_3[97][0]                   \n",
            "                                                                 dense_3[98][0]                   \n",
            "                                                                 dense_3[99][0]                   \n",
            "                                                                 dense_3[100][0]                  \n",
            "                                                                 dense_3[101][0]                  \n",
            "                                                                 dense_3[102][0]                  \n",
            "                                                                 dense_3[103][0]                  \n",
            "                                                                 dense_3[104][0]                  \n",
            "                                                                 dense_3[105][0]                  \n",
            "                                                                 dense_3[106][0]                  \n",
            "                                                                 dense_3[107][0]                  \n",
            "                                                                 dense_3[108][0]                  \n",
            "                                                                 dense_3[109][0]                  \n",
            "                                                                 dense_3[110][0]                  \n",
            "                                                                 dense_3[111][0]                  \n",
            "                                                                 dense_3[112][0]                  \n",
            "                                                                 dense_3[113][0]                  \n",
            "                                                                 dense_3[114][0]                  \n",
            "                                                                 dense_3[115][0]                  \n",
            "                                                                 dense_3[116][0]                  \n",
            "                                                                 dense_3[117][0]                  \n",
            "                                                                 dense_3[118][0]                  \n",
            "                                                                 dense_3[119][0]                  \n",
            "                                                                 dense_3[120][0]                  \n",
            "                                                                 dense_3[121][0]                  \n",
            "                                                                 dense_3[122][0]                  \n",
            "                                                                 dense_3[123][0]                  \n",
            "                                                                 dense_3[124][0]                  \n",
            "                                                                 dense_3[125][0]                  \n",
            "                                                                 dense_3[126][0]                  \n",
            "                                                                 dense_3[127][0]                  \n",
            "==================================================================================================\n",
            "Total params: 19,173,312\n",
            "Trainable params: 6,818,432\n",
            "Non-trainable params: 12,354,880\n",
            "__________________________________________________________________________________________________\n",
            "None\n",
            "trainable parameters: 6.82 M.\n",
            "non-trainable parameters: 12.35 M.\n",
            "Train for 37 steps, validate for 8 steps\n",
            "Epoch 1/5\n",
            "36/37 [============================>.] - ETA: 1s - loss: 131.5057\n",
            "Epoch 00001: val_loss improved from inf to 128.06161, saving model to models/trashnet/SimCLR/SimCLR_07_04_22h_15.h5\n",
            "37/37 [==============================] - 58s 2s/step - loss: 131.4181 - val_loss: 128.0616\n",
            "Epoch 2/5\n",
            "36/37 [============================>.] - ETA: 0s - loss: 126.1369\n",
            "Epoch 00002: val_loss improved from 128.06161 to 124.15632, saving model to models/trashnet/SimCLR/SimCLR_07_04_22h_15.h5\n",
            "37/37 [==============================] - 31s 840ms/step - loss: 126.0899 - val_loss: 124.1563\n",
            "Epoch 3/5\n",
            "36/37 [============================>.] - ETA: 0s - loss: 122.3907\n",
            "Epoch 00003: val_loss improved from 124.15632 to 120.49135, saving model to models/trashnet/SimCLR/SimCLR_07_04_22h_15.h5\n",
            "37/37 [==============================] - 31s 833ms/step - loss: 122.3445 - val_loss: 120.4913\n",
            "Epoch 4/5\n",
            "36/37 [============================>.] - ETA: 0s - loss: 118.7927\n",
            "Epoch 00004: val_loss improved from 120.49135 to 116.95682, saving model to models/trashnet/SimCLR/SimCLR_07_04_22h_15.h5\n",
            "37/37 [==============================] - 31s 848ms/step - loss: 118.7483 - val_loss: 116.9568\n",
            "Epoch 5/5\n",
            "36/37 [============================>.] - ETA: 0s - loss: 115.2856\n",
            "Epoch 00005: val_loss improved from 116.95682 to 113.48772, saving model to models/trashnet/SimCLR/SimCLR_07_04_22h_15.h5\n",
            "37/37 [==============================] - 32s 858ms/step - loss: 115.2410 - val_loss: 113.4877\n",
            "trainable parameters: 6.82 M.\n",
            "non-trainable parameters: 12.35 M.\n"
          ],
          "name": "stdout"
        }
      ]
    },
    {
      "cell_type": "markdown",
      "metadata": {
        "id": "W0ZSWi5EMl2Y"
      },
      "source": [
        "## Feature Evaluation"
      ]
    },
    {
      "cell_type": "markdown",
      "metadata": {
        "id": "1OXphSXTMl2Y"
      },
      "source": [
        "### Logisitic regression"
      ]
    },
    {
      "cell_type": "code",
      "metadata": {
        "id": "CtO5h6u2Ml2Z"
      },
      "source": [
        "base_model = SimCLR.base_model\n",
        "fractions = [1.0, 0.2, 0.05]"
      ],
      "execution_count": 57,
      "outputs": []
    },
    {
      "cell_type": "code",
      "metadata": {
        "colab": {
          "base_uri": "https://localhost:8080/"
        },
        "id": "48mY8eOgMl2c",
        "outputId": "45899161-1823-4a9c-ab2b-ea3ddb49b5e6"
      },
      "source": [
        "features_train, y_train, feats = get_features(base_model, df_train, class_labels)\n",
        "features_test, y_test, feats = get_features(base_model, df_test, class_labels)\n",
        "np.count_nonzero(features_train[0])"
      ],
      "execution_count": 58,
      "outputs": [
        {
          "output_type": "execute_result",
          "data": {
            "text/plain": [
              "583"
            ]
          },
          "metadata": {
            "tags": []
          },
          "execution_count": 58
        }
      ]
    },
    {
      "cell_type": "code",
      "metadata": {
        "colab": {
          "base_uri": "https://localhost:8080/"
        },
        "id": "0UnlErH6Ml2f",
        "outputId": "692bfb50-51eb-4cf2-c6d6-7710b131b12d"
      },
      "source": [
        "# Training logistic regression classifier on 3 fractions of the data\n",
        "# Optimal regularization is determined from a 5-fold cross-validation\n",
        "for fraction in fractions:\n",
        "    print(f\"    ==== {fraction * 100}% of the training data used ==== \\n\")\n",
        "    linear_classifier(features_train, y_train, features_test, y_test, class_labels, fraction = fraction)"
      ],
      "execution_count": 59,
      "outputs": [
        {
          "output_type": "stream",
          "text": [
            "    ==== 100.0% of the training data used ==== \n",
            "\n",
            "Accuracy on test: 0.8 \n",
            "\n",
            "              precision    recall  f1-score   support\n",
            "\n",
            "           0       0.87      0.87      0.87       111\n",
            "           1       0.62      0.68      0.65        38\n",
            "           2       0.64      0.39      0.49        23\n",
            "           3       0.82      0.87      0.85        79\n",
            "\n",
            "    accuracy                           0.80       251\n",
            "   macro avg       0.74      0.71      0.71       251\n",
            "weighted avg       0.80      0.80      0.80       251\n",
            "\n",
            "    ==== 20.0% of the training data used ==== \n",
            "\n",
            "Accuracy on test: 0.79 \n",
            "\n",
            "              precision    recall  f1-score   support\n",
            "\n",
            "           0       0.87      0.87      0.87       111\n",
            "           1       0.68      0.66      0.67        38\n",
            "           2       0.50      0.39      0.44        23\n",
            "           3       0.81      0.86      0.83        79\n",
            "\n",
            "    accuracy                           0.79       251\n",
            "   macro avg       0.71      0.70      0.70       251\n",
            "weighted avg       0.79      0.79      0.79       251\n",
            "\n",
            "    ==== 5.0% of the training data used ==== \n",
            "\n",
            "Accuracy on test: 0.77 \n",
            "\n",
            "              precision    recall  f1-score   support\n",
            "\n",
            "           0       0.88      0.83      0.85       111\n",
            "           1       0.76      0.58      0.66        38\n",
            "           2       0.33      0.39      0.36        23\n",
            "           3       0.78      0.89      0.83        79\n",
            "\n",
            "    accuracy                           0.77       251\n",
            "   macro avg       0.69      0.67      0.67       251\n",
            "weighted avg       0.78      0.77      0.77       251\n",
            "\n"
          ],
          "name": "stdout"
        }
      ]
    },
    {
      "cell_type": "markdown",
      "metadata": {
        "id": "AMwQBHz1Ml2k"
      },
      "source": [
        "### Fine tuned model"
      ]
    },
    {
      "cell_type": "code",
      "metadata": {
        "id": "pyxa7SJZMl2k"
      },
      "source": [
        "batch_size_classifier = 32\n",
        "params_generator_classifier = {'max_width':width_img,\n",
        "                            'max_height': height_img,\n",
        "                            'num_classes': num_classes,\n",
        "                            'VGG': True\n",
        "                            }\n",
        "params_training_classifier = {'1.0':{\n",
        "                                \"reg_dense\" : 0.005,\n",
        "                                \"reg_out\" : 0.005,\n",
        "                                \"nums_of_unfrozen_layers\" : [5, 5, 6, 7],\n",
        "                                \"lrs\" : [1e-3, 1e-4, 5e-5, 5e-5],\n",
        "                                \"epochs\" : [5, 5, 15, 10]\n",
        "                                },\n",
        "                              '0.2':{\n",
        "                                \"reg_dense\" : 0.075,\n",
        "                                \"reg_out\" : 0.01,\n",
        "                                \"nums_of_unfrozen_layers\" : [5, 5, 6, 7],\n",
        "                                \"lrs\" : [1e-3, 1e-4, 5e-5, 5e-5],\n",
        "                                \"epochs\" : [5, 5, 20, 15]\n",
        "                              },\n",
        "                              '0.05':{\n",
        "                                \"reg_dense\" : 0.01,\n",
        "                                \"reg_out\" : 0.02,\n",
        "                                \"nums_of_unfrozen_layers\" : [5, 5, 6, 7],\n",
        "                                \"lrs\" : [1e-3, 1e-4, 5e-5, 1e-5],\n",
        "                                \"epochs\" : [5, 5, 20, 15]\n",
        "                              }                              \n",
        "                            }"
      ],
      "execution_count": 60,
      "outputs": []
    },
    {
      "cell_type": "code",
      "metadata": {
        "colab": {
          "base_uri": "https://localhost:8080/"
        },
        "id": "de23l-B6Ml2m",
        "outputId": "a0348a1b-89ea-4985-8be0-2f8009544bad"
      },
      "source": [
        "for fraction in fractions:    \n",
        "    print(f\"    ==== {fraction * 100}% of the training data used ==== \\n\")\n",
        "    SimCLR.train_NL_and_evaluate(dfs = dfs,\n",
        "                                batch_size = batch_size_classifier,\n",
        "                                params_generator = params_generator_classifier,\n",
        "                                fraction = fraction,\n",
        "                                class_labels = class_labels,\n",
        "                                reg_dense = params_training_classifier[str(fraction)][\"reg_dense\"],\n",
        "                                reg_out = params_training_classifier[str(fraction)][\"reg_out\"],\n",
        "                                nums_of_unfrozen_layers = params_training_classifier[str(fraction)][\"nums_of_unfrozen_layers\"],\n",
        "                                lrs = params_training_classifier[str(fraction)][\"lrs\"],\n",
        "                                epochs = params_training_classifier[str(fraction)][\"epochs\"],\n",
        "                                verbose_epoch = 0,\n",
        "                                verbose_cycle = 0\n",
        "                                )"
      ],
      "execution_count": 61,
      "outputs": [
        {
          "output_type": "stream",
          "text": [
            "    ==== 100.0% of the training data used ==== \n",
            "\n",
            "Best result from attempt 2\n",
            "              precision    recall  f1-score   support\n",
            "\n",
            "           0       0.89      0.92      0.91       111\n",
            "           1       0.80      0.74      0.77        38\n",
            "           2       0.62      0.43      0.51        23\n",
            "           3       0.84      0.91      0.87        79\n",
            "\n",
            "    accuracy                           0.84       251\n",
            "   macro avg       0.79      0.75      0.76       251\n",
            "weighted avg       0.84      0.84      0.84       251\n",
            "\n",
            "    ==== 20.0% of the training data used ==== \n",
            "\n",
            "Best result from attempt 1\n",
            "              precision    recall  f1-score   support\n",
            "\n",
            "           0       0.86      0.95      0.91       111\n",
            "           1       0.85      0.58      0.69        38\n",
            "           2       0.67      0.35      0.46        23\n",
            "           3       0.78      0.89      0.83        79\n",
            "\n",
            "    accuracy                           0.82       251\n",
            "   macro avg       0.79      0.69      0.72       251\n",
            "weighted avg       0.82      0.82      0.81       251\n",
            "\n",
            "    ==== 5.0% of the training data used ==== \n",
            "\n",
            "Best result from attempt 2\n",
            "              precision    recall  f1-score   support\n",
            "\n",
            "           0       0.87      0.95      0.91       111\n",
            "           1       0.50      0.87      0.63        38\n",
            "           2       0.60      0.13      0.21        23\n",
            "           3       0.86      0.63      0.73        79\n",
            "\n",
            "    accuracy                           0.76       251\n",
            "   macro avg       0.71      0.65      0.62       251\n",
            "weighted avg       0.79      0.76      0.75       251\n",
            "\n"
          ],
          "name": "stdout"
        }
      ]
    },
    {
      "cell_type": "code",
      "metadata": {
        "colab": {
          "base_uri": "https://localhost:8080/",
          "height": 380
        },
        "id": "Z9VQvF9yMl2s",
        "outputId": "b061fff2-72c5-43bc-bfbe-4bebbc38884e"
      },
      "source": [
        "tSNE_vis(df_train, features_train, class_labels)"
      ],
      "execution_count": 62,
      "outputs": [
        {
          "output_type": "display_data",
          "data": {
            "image/png": "[encoded data removed]",
            "text/plain": [
              "<Figure size 432x432 with 1 Axes>"
            ]
          },
          "metadata": {
            "tags": [],
            "needs_background": "light"
          }
        }
      ]
    },
    {
      "cell_type": "markdown",
      "metadata": {
        "id": "_Bkh50_zMl2v"
      },
      "source": [
        "# SimCLR - Round 3: Unfreeze 2 last convolutional layer"
      ]
    },
    {
      "cell_type": "markdown",
      "metadata": {
        "id": "KgjG_EyBMl2w"
      },
      "source": [
        "## Training SimCLR"
      ]
    },
    {
      "cell_type": "code",
      "metadata": {
        "colab": {
          "base_uri": "https://localhost:8080/"
        },
        "id": "8srBtciWMl2y",
        "outputId": "b168e6e7-5ea4-4fc4-aa11-f2a66b1bcc1b"
      },
      "source": [
        "#Unfreeze\n",
        "SimCLR.unfreeze_and_train(data_train, data_val, num_of_unfrozen_layers = 3, r = 3, lr = 5e-6, epochs = 5)   "
      ],
      "execution_count": 63,
      "outputs": [
        {
          "output_type": "stream",
          "text": [
            "Model: \"model_33\"\n",
            "__________________________________________________________________________________________________\n",
            "Layer (type)                    Output Shape         Param #     Connected to                     \n",
            "==================================================================================================\n",
            "input_195 (InputLayer)          [(None, 80, 80, 3)]  0                                            \n",
            "__________________________________________________________________________________________________\n",
            "input_196 (InputLayer)          [(None, 80, 80, 3)]  0                                            \n",
            "__________________________________________________________________________________________________\n",
            "input_197 (InputLayer)          [(None, 80, 80, 3)]  0                                            \n",
            "__________________________________________________________________________________________________\n",
            "input_198 (InputLayer)          [(None, 80, 80, 3)]  0                                            \n",
            "__________________________________________________________________________________________________\n",
            "input_199 (InputLayer)          [(None, 80, 80, 3)]  0                                            \n",
            "__________________________________________________________________________________________________\n",
            "input_200 (InputLayer)          [(None, 80, 80, 3)]  0                                            \n",
            "__________________________________________________________________________________________________\n",
            "input_201 (InputLayer)          [(None, 80, 80, 3)]  0                                            \n",
            "__________________________________________________________________________________________________\n",
            "input_202 (InputLayer)          [(None, 80, 80, 3)]  0                                            \n",
            "__________________________________________________________________________________________________\n",
            "input_203 (InputLayer)          [(None, 80, 80, 3)]  0                                            \n",
            "__________________________________________________________________________________________________\n",
            "input_204 (InputLayer)          [(None, 80, 80, 3)]  0                                            \n",
            "__________________________________________________________________________________________________\n",
            "input_205 (InputLayer)          [(None, 80, 80, 3)]  0                                            \n",
            "__________________________________________________________________________________________________\n",
            "input_206 (InputLayer)          [(None, 80, 80, 3)]  0                                            \n",
            "__________________________________________________________________________________________________\n",
            "input_207 (InputLayer)          [(None, 80, 80, 3)]  0                                            \n",
            "__________________________________________________________________________________________________\n",
            "input_208 (InputLayer)          [(None, 80, 80, 3)]  0                                            \n",
            "__________________________________________________________________________________________________\n",
            "input_209 (InputLayer)          [(None, 80, 80, 3)]  0                                            \n",
            "__________________________________________________________________________________________________\n",
            "input_210 (InputLayer)          [(None, 80, 80, 3)]  0                                            \n",
            "__________________________________________________________________________________________________\n",
            "input_211 (InputLayer)          [(None, 80, 80, 3)]  0                                            \n",
            "__________________________________________________________________________________________________\n",
            "input_212 (InputLayer)          [(None, 80, 80, 3)]  0                                            \n",
            "__________________________________________________________________________________________________\n",
            "input_213 (InputLayer)          [(None, 80, 80, 3)]  0                                            \n",
            "__________________________________________________________________________________________________\n",
            "input_214 (InputLayer)          [(None, 80, 80, 3)]  0                                            \n",
            "__________________________________________________________________________________________________\n",
            "input_215 (InputLayer)          [(None, 80, 80, 3)]  0                                            \n",
            "__________________________________________________________________________________________________\n",
            "input_216 (InputLayer)          [(None, 80, 80, 3)]  0                                            \n",
            "__________________________________________________________________________________________________\n",
            "input_217 (InputLayer)          [(None, 80, 80, 3)]  0                                            \n",
            "__________________________________________________________________________________________________\n",
            "input_218 (InputLayer)          [(None, 80, 80, 3)]  0                                            \n",
            "__________________________________________________________________________________________________\n",
            "input_219 (InputLayer)          [(None, 80, 80, 3)]  0                                            \n",
            "__________________________________________________________________________________________________\n",
            "input_220 (InputLayer)          [(None, 80, 80, 3)]  0                                            \n",
            "__________________________________________________________________________________________________\n",
            "input_221 (InputLayer)          [(None, 80, 80, 3)]  0                                            \n",
            "__________________________________________________________________________________________________\n",
            "input_222 (InputLayer)          [(None, 80, 80, 3)]  0                                            \n",
            "__________________________________________________________________________________________________\n",
            "input_223 (InputLayer)          [(None, 80, 80, 3)]  0                                            \n",
            "__________________________________________________________________________________________________\n",
            "input_224 (InputLayer)          [(None, 80, 80, 3)]  0                                            \n",
            "__________________________________________________________________________________________________\n",
            "input_225 (InputLayer)          [(None, 80, 80, 3)]  0                                            \n",
            "__________________________________________________________________________________________________\n",
            "input_226 (InputLayer)          [(None, 80, 80, 3)]  0                                            \n",
            "__________________________________________________________________________________________________\n",
            "input_227 (InputLayer)          [(None, 80, 80, 3)]  0                                            \n",
            "__________________________________________________________________________________________________\n",
            "input_228 (InputLayer)          [(None, 80, 80, 3)]  0                                            \n",
            "__________________________________________________________________________________________________\n",
            "input_229 (InputLayer)          [(None, 80, 80, 3)]  0                                            \n",
            "__________________________________________________________________________________________________\n",
            "input_230 (InputLayer)          [(None, 80, 80, 3)]  0                                            \n",
            "__________________________________________________________________________________________________\n",
            "input_231 (InputLayer)          [(None, 80, 80, 3)]  0                                            \n",
            "__________________________________________________________________________________________________\n",
            "input_232 (InputLayer)          [(None, 80, 80, 3)]  0                                            \n",
            "__________________________________________________________________________________________________\n",
            "input_233 (InputLayer)          [(None, 80, 80, 3)]  0                                            \n",
            "__________________________________________________________________________________________________\n",
            "input_234 (InputLayer)          [(None, 80, 80, 3)]  0                                            \n",
            "__________________________________________________________________________________________________\n",
            "input_235 (InputLayer)          [(None, 80, 80, 3)]  0                                            \n",
            "__________________________________________________________________________________________________\n",
            "input_236 (InputLayer)          [(None, 80, 80, 3)]  0                                            \n",
            "__________________________________________________________________________________________________\n",
            "input_237 (InputLayer)          [(None, 80, 80, 3)]  0                                            \n",
            "__________________________________________________________________________________________________\n",
            "input_238 (InputLayer)          [(None, 80, 80, 3)]  0                                            \n",
            "__________________________________________________________________________________________________\n",
            "input_239 (InputLayer)          [(None, 80, 80, 3)]  0                                            \n",
            "__________________________________________________________________________________________________\n",
            "input_240 (InputLayer)          [(None, 80, 80, 3)]  0                                            \n",
            "__________________________________________________________________________________________________\n",
            "input_241 (InputLayer)          [(None, 80, 80, 3)]  0                                            \n",
            "__________________________________________________________________________________________________\n",
            "input_242 (InputLayer)          [(None, 80, 80, 3)]  0                                            \n",
            "__________________________________________________________________________________________________\n",
            "input_243 (InputLayer)          [(None, 80, 80, 3)]  0                                            \n",
            "__________________________________________________________________________________________________\n",
            "input_244 (InputLayer)          [(None, 80, 80, 3)]  0                                            \n",
            "__________________________________________________________________________________________________\n",
            "input_245 (InputLayer)          [(None, 80, 80, 3)]  0                                            \n",
            "__________________________________________________________________________________________________\n",
            "input_246 (InputLayer)          [(None, 80, 80, 3)]  0                                            \n",
            "__________________________________________________________________________________________________\n",
            "input_247 (InputLayer)          [(None, 80, 80, 3)]  0                                            \n",
            "__________________________________________________________________________________________________\n",
            "input_248 (InputLayer)          [(None, 80, 80, 3)]  0                                            \n",
            "__________________________________________________________________________________________________\n",
            "input_249 (InputLayer)          [(None, 80, 80, 3)]  0                                            \n",
            "__________________________________________________________________________________________________\n",
            "input_250 (InputLayer)          [(None, 80, 80, 3)]  0                                            \n",
            "__________________________________________________________________________________________________\n",
            "input_251 (InputLayer)          [(None, 80, 80, 3)]  0                                            \n",
            "__________________________________________________________________________________________________\n",
            "input_252 (InputLayer)          [(None, 80, 80, 3)]  0                                            \n",
            "__________________________________________________________________________________________________\n",
            "input_253 (InputLayer)          [(None, 80, 80, 3)]  0                                            \n",
            "__________________________________________________________________________________________________\n",
            "input_254 (InputLayer)          [(None, 80, 80, 3)]  0                                            \n",
            "__________________________________________________________________________________________________\n",
            "input_255 (InputLayer)          [(None, 80, 80, 3)]  0                                            \n",
            "__________________________________________________________________________________________________\n",
            "input_256 (InputLayer)          [(None, 80, 80, 3)]  0                                            \n",
            "__________________________________________________________________________________________________\n",
            "input_257 (InputLayer)          [(None, 80, 80, 3)]  0                                            \n",
            "__________________________________________________________________________________________________\n",
            "input_258 (InputLayer)          [(None, 80, 80, 3)]  0                                            \n",
            "__________________________________________________________________________________________________\n",
            "vgg16 (Model)                   (None, 2, 2, 512)    14714688    input_195[0][0]                  \n",
            "                                                                 input_196[0][0]                  \n",
            "                                                                 input_197[0][0]                  \n",
            "                                                                 input_198[0][0]                  \n",
            "                                                                 input_199[0][0]                  \n",
            "                                                                 input_200[0][0]                  \n",
            "                                                                 input_201[0][0]                  \n",
            "                                                                 input_202[0][0]                  \n",
            "                                                                 input_203[0][0]                  \n",
            "                                                                 input_204[0][0]                  \n",
            "                                                                 input_205[0][0]                  \n",
            "                                                                 input_206[0][0]                  \n",
            "                                                                 input_207[0][0]                  \n",
            "                                                                 input_208[0][0]                  \n",
            "                                                                 input_209[0][0]                  \n",
            "                                                                 input_210[0][0]                  \n",
            "                                                                 input_211[0][0]                  \n",
            "                                                                 input_212[0][0]                  \n",
            "                                                                 input_213[0][0]                  \n",
            "                                                                 input_214[0][0]                  \n",
            "                                                                 input_215[0][0]                  \n",
            "                                                                 input_216[0][0]                  \n",
            "                                                                 input_217[0][0]                  \n",
            "                                                                 input_218[0][0]                  \n",
            "                                                                 input_219[0][0]                  \n",
            "                                                                 input_220[0][0]                  \n",
            "                                                                 input_221[0][0]                  \n",
            "                                                                 input_222[0][0]                  \n",
            "                                                                 input_223[0][0]                  \n",
            "                                                                 input_224[0][0]                  \n",
            "                                                                 input_225[0][0]                  \n",
            "                                                                 input_226[0][0]                  \n",
            "                                                                 input_227[0][0]                  \n",
            "                                                                 input_228[0][0]                  \n",
            "                                                                 input_229[0][0]                  \n",
            "                                                                 input_230[0][0]                  \n",
            "                                                                 input_231[0][0]                  \n",
            "                                                                 input_232[0][0]                  \n",
            "                                                                 input_233[0][0]                  \n",
            "                                                                 input_234[0][0]                  \n",
            "                                                                 input_235[0][0]                  \n",
            "                                                                 input_236[0][0]                  \n",
            "                                                                 input_237[0][0]                  \n",
            "                                                                 input_238[0][0]                  \n",
            "                                                                 input_239[0][0]                  \n",
            "                                                                 input_240[0][0]                  \n",
            "                                                                 input_241[0][0]                  \n",
            "                                                                 input_242[0][0]                  \n",
            "                                                                 input_243[0][0]                  \n",
            "                                                                 input_244[0][0]                  \n",
            "                                                                 input_245[0][0]                  \n",
            "                                                                 input_246[0][0]                  \n",
            "                                                                 input_247[0][0]                  \n",
            "                                                                 input_248[0][0]                  \n",
            "                                                                 input_249[0][0]                  \n",
            "                                                                 input_250[0][0]                  \n",
            "                                                                 input_251[0][0]                  \n",
            "                                                                 input_252[0][0]                  \n",
            "                                                                 input_253[0][0]                  \n",
            "                                                                 input_254[0][0]                  \n",
            "                                                                 input_255[0][0]                  \n",
            "                                                                 input_256[0][0]                  \n",
            "                                                                 input_257[0][0]                  \n",
            "                                                                 input_258[0][0]                  \n",
            "__________________________________________________________________________________________________\n",
            "flatten_1 (Flatten)             (None, 2048)         0           vgg16[129][0]                    \n",
            "                                                                 vgg16[130][0]                    \n",
            "                                                                 vgg16[131][0]                    \n",
            "                                                                 vgg16[132][0]                    \n",
            "                                                                 vgg16[133][0]                    \n",
            "                                                                 vgg16[134][0]                    \n",
            "                                                                 vgg16[135][0]                    \n",
            "                                                                 vgg16[136][0]                    \n",
            "                                                                 vgg16[137][0]                    \n",
            "                                                                 vgg16[138][0]                    \n",
            "                                                                 vgg16[139][0]                    \n",
            "                                                                 vgg16[140][0]                    \n",
            "                                                                 vgg16[141][0]                    \n",
            "                                                                 vgg16[142][0]                    \n",
            "                                                                 vgg16[143][0]                    \n",
            "                                                                 vgg16[144][0]                    \n",
            "                                                                 vgg16[145][0]                    \n",
            "                                                                 vgg16[146][0]                    \n",
            "                                                                 vgg16[147][0]                    \n",
            "                                                                 vgg16[148][0]                    \n",
            "                                                                 vgg16[149][0]                    \n",
            "                                                                 vgg16[150][0]                    \n",
            "                                                                 vgg16[151][0]                    \n",
            "                                                                 vgg16[152][0]                    \n",
            "                                                                 vgg16[153][0]                    \n",
            "                                                                 vgg16[154][0]                    \n",
            "                                                                 vgg16[155][0]                    \n",
            "                                                                 vgg16[156][0]                    \n",
            "                                                                 vgg16[157][0]                    \n",
            "                                                                 vgg16[158][0]                    \n",
            "                                                                 vgg16[159][0]                    \n",
            "                                                                 vgg16[160][0]                    \n",
            "                                                                 vgg16[161][0]                    \n",
            "                                                                 vgg16[162][0]                    \n",
            "                                                                 vgg16[163][0]                    \n",
            "                                                                 vgg16[164][0]                    \n",
            "                                                                 vgg16[165][0]                    \n",
            "                                                                 vgg16[166][0]                    \n",
            "                                                                 vgg16[167][0]                    \n",
            "                                                                 vgg16[168][0]                    \n",
            "                                                                 vgg16[169][0]                    \n",
            "                                                                 vgg16[170][0]                    \n",
            "                                                                 vgg16[171][0]                    \n",
            "                                                                 vgg16[172][0]                    \n",
            "                                                                 vgg16[173][0]                    \n",
            "                                                                 vgg16[174][0]                    \n",
            "                                                                 vgg16[175][0]                    \n",
            "                                                                 vgg16[176][0]                    \n",
            "                                                                 vgg16[177][0]                    \n",
            "                                                                 vgg16[178][0]                    \n",
            "                                                                 vgg16[179][0]                    \n",
            "                                                                 vgg16[180][0]                    \n",
            "                                                                 vgg16[181][0]                    \n",
            "                                                                 vgg16[182][0]                    \n",
            "                                                                 vgg16[183][0]                    \n",
            "                                                                 vgg16[184][0]                    \n",
            "                                                                 vgg16[185][0]                    \n",
            "                                                                 vgg16[186][0]                    \n",
            "                                                                 vgg16[187][0]                    \n",
            "                                                                 vgg16[188][0]                    \n",
            "                                                                 vgg16[189][0]                    \n",
            "                                                                 vgg16[190][0]                    \n",
            "                                                                 vgg16[191][0]                    \n",
            "                                                                 vgg16[192][0]                    \n",
            "__________________________________________________________________________________________________\n",
            "dense_2 (Dense)                 (None, 2048)         4196352     flatten_1[128][0]                \n",
            "                                                                 flatten_1[129][0]                \n",
            "                                                                 flatten_1[130][0]                \n",
            "                                                                 flatten_1[131][0]                \n",
            "                                                                 flatten_1[132][0]                \n",
            "                                                                 flatten_1[133][0]                \n",
            "                                                                 flatten_1[134][0]                \n",
            "                                                                 flatten_1[135][0]                \n",
            "                                                                 flatten_1[136][0]                \n",
            "                                                                 flatten_1[137][0]                \n",
            "                                                                 flatten_1[138][0]                \n",
            "                                                                 flatten_1[139][0]                \n",
            "                                                                 flatten_1[140][0]                \n",
            "                                                                 flatten_1[141][0]                \n",
            "                                                                 flatten_1[142][0]                \n",
            "                                                                 flatten_1[143][0]                \n",
            "                                                                 flatten_1[144][0]                \n",
            "                                                                 flatten_1[145][0]                \n",
            "                                                                 flatten_1[146][0]                \n",
            "                                                                 flatten_1[147][0]                \n",
            "                                                                 flatten_1[148][0]                \n",
            "                                                                 flatten_1[149][0]                \n",
            "                                                                 flatten_1[150][0]                \n",
            "                                                                 flatten_1[151][0]                \n",
            "                                                                 flatten_1[152][0]                \n",
            "                                                                 flatten_1[153][0]                \n",
            "                                                                 flatten_1[154][0]                \n",
            "                                                                 flatten_1[155][0]                \n",
            "                                                                 flatten_1[156][0]                \n",
            "                                                                 flatten_1[157][0]                \n",
            "                                                                 flatten_1[158][0]                \n",
            "                                                                 flatten_1[159][0]                \n",
            "                                                                 flatten_1[160][0]                \n",
            "                                                                 flatten_1[161][0]                \n",
            "                                                                 flatten_1[162][0]                \n",
            "                                                                 flatten_1[163][0]                \n",
            "                                                                 flatten_1[164][0]                \n",
            "                                                                 flatten_1[165][0]                \n",
            "                                                                 flatten_1[166][0]                \n",
            "                                                                 flatten_1[167][0]                \n",
            "                                                                 flatten_1[168][0]                \n",
            "                                                                 flatten_1[169][0]                \n",
            "                                                                 flatten_1[170][0]                \n",
            "                                                                 flatten_1[171][0]                \n",
            "                                                                 flatten_1[172][0]                \n",
            "                                                                 flatten_1[173][0]                \n",
            "                                                                 flatten_1[174][0]                \n",
            "                                                                 flatten_1[175][0]                \n",
            "                                                                 flatten_1[176][0]                \n",
            "                                                                 flatten_1[177][0]                \n",
            "                                                                 flatten_1[178][0]                \n",
            "                                                                 flatten_1[179][0]                \n",
            "                                                                 flatten_1[180][0]                \n",
            "                                                                 flatten_1[181][0]                \n",
            "                                                                 flatten_1[182][0]                \n",
            "                                                                 flatten_1[183][0]                \n",
            "                                                                 flatten_1[184][0]                \n",
            "                                                                 flatten_1[185][0]                \n",
            "                                                                 flatten_1[186][0]                \n",
            "                                                                 flatten_1[187][0]                \n",
            "                                                                 flatten_1[188][0]                \n",
            "                                                                 flatten_1[189][0]                \n",
            "                                                                 flatten_1[190][0]                \n",
            "                                                                 flatten_1[191][0]                \n",
            "__________________________________________________________________________________________________\n",
            "dense_3 (Dense)                 (None, 128)          262272      dense_2[128][0]                  \n",
            "                                                                 dense_2[129][0]                  \n",
            "                                                                 dense_2[130][0]                  \n",
            "                                                                 dense_2[131][0]                  \n",
            "                                                                 dense_2[132][0]                  \n",
            "                                                                 dense_2[133][0]                  \n",
            "                                                                 dense_2[134][0]                  \n",
            "                                                                 dense_2[135][0]                  \n",
            "                                                                 dense_2[136][0]                  \n",
            "                                                                 dense_2[137][0]                  \n",
            "                                                                 dense_2[138][0]                  \n",
            "                                                                 dense_2[139][0]                  \n",
            "                                                                 dense_2[140][0]                  \n",
            "                                                                 dense_2[141][0]                  \n",
            "                                                                 dense_2[142][0]                  \n",
            "                                                                 dense_2[143][0]                  \n",
            "                                                                 dense_2[144][0]                  \n",
            "                                                                 dense_2[145][0]                  \n",
            "                                                                 dense_2[146][0]                  \n",
            "                                                                 dense_2[147][0]                  \n",
            "                                                                 dense_2[148][0]                  \n",
            "                                                                 dense_2[149][0]                  \n",
            "                                                                 dense_2[150][0]                  \n",
            "                                                                 dense_2[151][0]                  \n",
            "                                                                 dense_2[152][0]                  \n",
            "                                                                 dense_2[153][0]                  \n",
            "                                                                 dense_2[154][0]                  \n",
            "                                                                 dense_2[155][0]                  \n",
            "                                                                 dense_2[156][0]                  \n",
            "                                                                 dense_2[157][0]                  \n",
            "                                                                 dense_2[158][0]                  \n",
            "                                                                 dense_2[159][0]                  \n",
            "                                                                 dense_2[160][0]                  \n",
            "                                                                 dense_2[161][0]                  \n",
            "                                                                 dense_2[162][0]                  \n",
            "                                                                 dense_2[163][0]                  \n",
            "                                                                 dense_2[164][0]                  \n",
            "                                                                 dense_2[165][0]                  \n",
            "                                                                 dense_2[166][0]                  \n",
            "                                                                 dense_2[167][0]                  \n",
            "                                                                 dense_2[168][0]                  \n",
            "                                                                 dense_2[169][0]                  \n",
            "                                                                 dense_2[170][0]                  \n",
            "                                                                 dense_2[171][0]                  \n",
            "                                                                 dense_2[172][0]                  \n",
            "                                                                 dense_2[173][0]                  \n",
            "                                                                 dense_2[174][0]                  \n",
            "                                                                 dense_2[175][0]                  \n",
            "                                                                 dense_2[176][0]                  \n",
            "                                                                 dense_2[177][0]                  \n",
            "                                                                 dense_2[178][0]                  \n",
            "                                                                 dense_2[179][0]                  \n",
            "                                                                 dense_2[180][0]                  \n",
            "                                                                 dense_2[181][0]                  \n",
            "                                                                 dense_2[182][0]                  \n",
            "                                                                 dense_2[183][0]                  \n",
            "                                                                 dense_2[184][0]                  \n",
            "                                                                 dense_2[185][0]                  \n",
            "                                                                 dense_2[186][0]                  \n",
            "                                                                 dense_2[187][0]                  \n",
            "                                                                 dense_2[188][0]                  \n",
            "                                                                 dense_2[189][0]                  \n",
            "                                                                 dense_2[190][0]                  \n",
            "                                                                 dense_2[191][0]                  \n",
            "__________________________________________________________________________________________________\n",
            "softmax_cosine_sim_1 (SoftmaxCo (32, 128)            0           dense_3[128][0]                  \n",
            "                                                                 dense_3[129][0]                  \n",
            "                                                                 dense_3[130][0]                  \n",
            "                                                                 dense_3[131][0]                  \n",
            "                                                                 dense_3[132][0]                  \n",
            "                                                                 dense_3[133][0]                  \n",
            "                                                                 dense_3[134][0]                  \n",
            "                                                                 dense_3[135][0]                  \n",
            "                                                                 dense_3[136][0]                  \n",
            "                                                                 dense_3[137][0]                  \n",
            "                                                                 dense_3[138][0]                  \n",
            "                                                                 dense_3[139][0]                  \n",
            "                                                                 dense_3[140][0]                  \n",
            "                                                                 dense_3[141][0]                  \n",
            "                                                                 dense_3[142][0]                  \n",
            "                                                                 dense_3[143][0]                  \n",
            "                                                                 dense_3[144][0]                  \n",
            "                                                                 dense_3[145][0]                  \n",
            "                                                                 dense_3[146][0]                  \n",
            "                                                                 dense_3[147][0]                  \n",
            "                                                                 dense_3[148][0]                  \n",
            "                                                                 dense_3[149][0]                  \n",
            "                                                                 dense_3[150][0]                  \n",
            "                                                                 dense_3[151][0]                  \n",
            "                                                                 dense_3[152][0]                  \n",
            "                                                                 dense_3[153][0]                  \n",
            "                                                                 dense_3[154][0]                  \n",
            "                                                                 dense_3[155][0]                  \n",
            "                                                                 dense_3[156][0]                  \n",
            "                                                                 dense_3[157][0]                  \n",
            "                                                                 dense_3[158][0]                  \n",
            "                                                                 dense_3[159][0]                  \n",
            "                                                                 dense_3[160][0]                  \n",
            "                                                                 dense_3[161][0]                  \n",
            "                                                                 dense_3[162][0]                  \n",
            "                                                                 dense_3[163][0]                  \n",
            "                                                                 dense_3[164][0]                  \n",
            "                                                                 dense_3[165][0]                  \n",
            "                                                                 dense_3[166][0]                  \n",
            "                                                                 dense_3[167][0]                  \n",
            "                                                                 dense_3[168][0]                  \n",
            "                                                                 dense_3[169][0]                  \n",
            "                                                                 dense_3[170][0]                  \n",
            "                                                                 dense_3[171][0]                  \n",
            "                                                                 dense_3[172][0]                  \n",
            "                                                                 dense_3[173][0]                  \n",
            "                                                                 dense_3[174][0]                  \n",
            "                                                                 dense_3[175][0]                  \n",
            "                                                                 dense_3[176][0]                  \n",
            "                                                                 dense_3[177][0]                  \n",
            "                                                                 dense_3[178][0]                  \n",
            "                                                                 dense_3[179][0]                  \n",
            "                                                                 dense_3[180][0]                  \n",
            "                                                                 dense_3[181][0]                  \n",
            "                                                                 dense_3[182][0]                  \n",
            "                                                                 dense_3[183][0]                  \n",
            "                                                                 dense_3[184][0]                  \n",
            "                                                                 dense_3[185][0]                  \n",
            "                                                                 dense_3[186][0]                  \n",
            "                                                                 dense_3[187][0]                  \n",
            "                                                                 dense_3[188][0]                  \n",
            "                                                                 dense_3[189][0]                  \n",
            "                                                                 dense_3[190][0]                  \n",
            "                                                                 dense_3[191][0]                  \n",
            "==================================================================================================\n",
            "Total params: 19,173,312\n",
            "Trainable params: 9,178,240\n",
            "Non-trainable params: 9,995,072\n",
            "__________________________________________________________________________________________________\n",
            "None\n",
            "trainable parameters: 9.18 M.\n",
            "non-trainable parameters: 10.0 M.\n",
            "Train for 37 steps, validate for 8 steps\n",
            "Epoch 1/5\n",
            "36/37 [============================>.] - ETA: 1s - loss: 114.6244\n",
            "Epoch 00001: val_loss improved from inf to 112.43213, saving model to models/trashnet/SimCLR/SimCLR_07_04_22h_42.h5\n",
            "37/37 [==============================] - 59s 2s/step - loss: 114.5688 - val_loss: 112.4321\n",
            "Epoch 2/5\n",
            "36/37 [============================>.] - ETA: 0s - loss: 111.6266\n",
            "Epoch 00002: val_loss improved from 112.43213 to 110.77887, saving model to models/trashnet/SimCLR/SimCLR_07_04_22h_42.h5\n",
            "37/37 [==============================] - 32s 857ms/step - loss: 111.6057 - val_loss: 110.7789\n",
            "Epoch 3/5\n",
            "36/37 [============================>.] - ETA: 0s - loss: 110.0617\n",
            "Epoch 00003: val_loss improved from 110.77887 to 109.30089, saving model to models/trashnet/SimCLR/SimCLR_07_04_22h_42.h5\n",
            "37/37 [==============================] - 32s 860ms/step - loss: 110.0439 - val_loss: 109.3009\n",
            "Epoch 4/5\n",
            "36/37 [============================>.] - ETA: 0s - loss: 108.6171\n",
            "Epoch 00004: val_loss improved from 109.30089 to 107.87065, saving model to models/trashnet/SimCLR/SimCLR_07_04_22h_42.h5\n",
            "37/37 [==============================] - 32s 856ms/step - loss: 108.5991 - val_loss: 107.8706\n",
            "Epoch 5/5\n",
            "36/37 [============================>.] - ETA: 0s - loss: 107.2006\n",
            "Epoch 00005: val_loss improved from 107.87065 to 106.46457, saving model to models/trashnet/SimCLR/SimCLR_07_04_22h_42.h5\n",
            "37/37 [==============================] - 32s 860ms/step - loss: 107.1828 - val_loss: 106.4646\n",
            "trainable parameters: 9.18 M.\n",
            "non-trainable parameters: 10.0 M.\n"
          ],
          "name": "stdout"
        }
      ]
    },
    {
      "cell_type": "code",
      "metadata": {
        "id": "TIvT7J9lMl21"
      },
      "source": [
        "y_predict_test_after = SimCLR.predict(data_test)"
      ],
      "execution_count": 64,
      "outputs": []
    },
    {
      "cell_type": "markdown",
      "metadata": {
        "id": "fR_iD6kjMl23"
      },
      "source": [
        "## Feature Evaluation"
      ]
    },
    {
      "cell_type": "code",
      "metadata": {
        "id": "HfCtfu-FMl24"
      },
      "source": [
        "base_model = SimCLR.base_model"
      ],
      "execution_count": 65,
      "outputs": []
    },
    {
      "cell_type": "code",
      "metadata": {
        "colab": {
          "base_uri": "https://localhost:8080/"
        },
        "id": "QCVop5DtMl26",
        "outputId": "1c876439-3f09-4190-d214-4fac8fcc4810"
      },
      "source": [
        "features_train, y_train, feats = get_features(base_model, df_train, class_labels)\n",
        "features_test, y_test, feats = get_features(base_model, df_test, class_labels)\n",
        "np.count_nonzero(features_train[0])"
      ],
      "execution_count": 66,
      "outputs": [
        {
          "output_type": "execute_result",
          "data": {
            "text/plain": [
              "1076"
            ]
          },
          "metadata": {
            "tags": []
          },
          "execution_count": 66
        }
      ]
    },
    {
      "cell_type": "code",
      "metadata": {
        "colab": {
          "base_uri": "https://localhost:8080/"
        },
        "id": "t8ufdXeRMl28",
        "outputId": "9c38ca5b-84ec-43a4-f751-954fd4394059"
      },
      "source": [
        "# Training logistic regression classifier on 3 fractions of the data\n",
        "# Optimal regularization is determined from a 5-fold cross-validation\n",
        "fractions = [1.0, 0.2, 0.05]\n",
        "for fraction in fractions:\n",
        "    print(f\"    ==== {fraction * 100}% of the training data used ==== \\n\")\n",
        "    linear_classifier(features_train, y_train, features_test, y_test, class_labels, fraction = fraction)"
      ],
      "execution_count": 67,
      "outputs": [
        {
          "output_type": "stream",
          "text": [
            "    ==== 100.0% of the training data used ==== \n",
            "\n",
            "Accuracy on test: 0.8 \n",
            "\n",
            "              precision    recall  f1-score   support\n",
            "\n",
            "           0       0.85      0.92      0.88       111\n",
            "           1       0.72      0.61      0.66        38\n",
            "           2       0.48      0.48      0.48        23\n",
            "           3       0.84      0.81      0.83        79\n",
            "\n",
            "    accuracy                           0.80       251\n",
            "   macro avg       0.72      0.70      0.71       251\n",
            "weighted avg       0.79      0.80      0.79       251\n",
            "\n",
            "    ==== 20.0% of the training data used ==== \n",
            "\n",
            "Accuracy on test: 0.8 \n",
            "\n",
            "              precision    recall  f1-score   support\n",
            "\n",
            "           0       0.85      0.94      0.89       111\n",
            "           1       0.74      0.61      0.67        38\n",
            "           2       0.59      0.43      0.50        23\n",
            "           3       0.80      0.81      0.81        79\n",
            "\n",
            "    accuracy                           0.80       251\n",
            "   macro avg       0.74      0.70      0.72       251\n",
            "weighted avg       0.79      0.80      0.79       251\n",
            "\n",
            "    ==== 5.0% of the training data used ==== \n",
            "\n",
            "Accuracy on test: 0.78 \n",
            "\n",
            "              precision    recall  f1-score   support\n",
            "\n",
            "           0       0.85      0.90      0.87       111\n",
            "           1       0.78      0.55      0.65        38\n",
            "           2       0.42      0.48      0.45        23\n",
            "           3       0.81      0.82      0.82        79\n",
            "\n",
            "    accuracy                           0.78       251\n",
            "   macro avg       0.72      0.69      0.70       251\n",
            "weighted avg       0.79      0.78      0.78       251\n",
            "\n"
          ],
          "name": "stdout"
        }
      ]
    },
    {
      "cell_type": "markdown",
      "metadata": {
        "id": "5AVOuKXlMl2-"
      },
      "source": [
        "### Fine tuned model"
      ]
    },
    {
      "cell_type": "code",
      "metadata": {
        "id": "ABGWyLgSMl2_"
      },
      "source": [
        "batch_size_classifier = 32\n",
        "params_generator_classifier = {'max_width':width_img,\n",
        "                            'max_height': height_img,\n",
        "                            'num_classes': num_classes,\n",
        "                            'VGG': True\n",
        "                        }"
      ],
      "execution_count": 68,
      "outputs": []
    },
    {
      "cell_type": "code",
      "metadata": {
        "colab": {
          "base_uri": "https://localhost:8080/"
        },
        "id": "_sHcT6tiMl3B",
        "outputId": "4d1b7da3-c805-4287-8c9e-0bd31f147b02"
      },
      "source": [
        "for fraction in fractions:\n",
        "    print(f\"    ==== {fraction * 100}% of the training data used ==== \\n\")\n",
        "    SimCLR.train_NL_and_evaluate(dfs = dfs,\n",
        "                                batch_size = batch_size_classifier,\n",
        "                                params_generator = params_generator_classifier,\n",
        "                                fraction = fraction,\n",
        "                                class_labels = class_labels,\n",
        "                                reg_dense = 0.005,\n",
        "                                reg_out = 0.003,\n",
        "                                nums_of_unfrozen_layers = [5, 5, 6, 7],\n",
        "                                lrs = [1e-3, 1e-4, 5e-5, 1e-5],\n",
        "                                epochs = [5, 5, 15, 10],\n",
        "                                verbose_epoch = 0,\n",
        "                                verbose_cycle = 0\n",
        "                                )"
      ],
      "execution_count": 69,
      "outputs": [
        {
          "output_type": "stream",
          "text": [
            "    ==== 100.0% of the training data used ==== \n",
            "\n",
            "Learning diverged, stopped.\n"
          ],
          "name": "stdout"
        },
        {
          "output_type": "stream",
          "text": [
            "/usr/local/lib/python3.7/dist-packages/sklearn/metrics/_classification.py:1221: UndefinedMetricWarning: Precision and F-score are ill-defined and being set to 0.0 in labels with no predicted samples. Use `zero_division` parameter to control this behavior.\n",
            "  _warn_prf(average, modifier, msg_start, len(result))\n"
          ],
          "name": "stderr"
        },
        {
          "output_type": "stream",
          "text": [
            "Best result from attempt 1\n",
            "              precision    recall  f1-score   support\n",
            "\n",
            "           0       0.88      0.95      0.91       111\n",
            "           1       0.82      0.71      0.76        38\n",
            "           2       0.71      0.43      0.54        23\n",
            "           3       0.82      0.89      0.85        79\n",
            "\n",
            "    accuracy                           0.84       251\n",
            "   macro avg       0.81      0.74      0.77       251\n",
            "weighted avg       0.84      0.84      0.84       251\n",
            "\n",
            "    ==== 20.0% of the training data used ==== \n",
            "\n",
            "Learning diverged, stopped.\n"
          ],
          "name": "stdout"
        },
        {
          "output_type": "stream",
          "text": [
            "/usr/local/lib/python3.7/dist-packages/sklearn/metrics/_classification.py:1221: UndefinedMetricWarning: Precision and F-score are ill-defined and being set to 0.0 in labels with no predicted samples. Use `zero_division` parameter to control this behavior.\n",
            "  _warn_prf(average, modifier, msg_start, len(result))\n",
            "/usr/local/lib/python3.7/dist-packages/sklearn/metrics/_classification.py:1221: UndefinedMetricWarning: Precision and F-score are ill-defined and being set to 0.0 in labels with no predicted samples. Use `zero_division` parameter to control this behavior.\n",
            "  _warn_prf(average, modifier, msg_start, len(result))\n",
            "/usr/local/lib/python3.7/dist-packages/sklearn/metrics/_classification.py:1221: UndefinedMetricWarning: Precision and F-score are ill-defined and being set to 0.0 in labels with no predicted samples. Use `zero_division` parameter to control this behavior.\n",
            "  _warn_prf(average, modifier, msg_start, len(result))\n",
            "/usr/local/lib/python3.7/dist-packages/sklearn/metrics/_classification.py:1221: UndefinedMetricWarning: Precision and F-score are ill-defined and being set to 0.0 in labels with no predicted samples. Use `zero_division` parameter to control this behavior.\n",
            "  _warn_prf(average, modifier, msg_start, len(result))\n",
            "/usr/local/lib/python3.7/dist-packages/sklearn/metrics/_classification.py:1221: UndefinedMetricWarning: Precision and F-score are ill-defined and being set to 0.0 in labels with no predicted samples. Use `zero_division` parameter to control this behavior.\n",
            "  _warn_prf(average, modifier, msg_start, len(result))\n"
          ],
          "name": "stderr"
        },
        {
          "output_type": "stream",
          "text": [
            "Best result from attempt 1\n",
            "              precision    recall  f1-score   support\n",
            "\n",
            "           0       0.44      1.00      0.61       111\n",
            "           1       0.00      0.00      0.00        38\n",
            "           2       0.00      0.00      0.00        23\n",
            "           3       0.00      0.00      0.00        79\n",
            "\n",
            "    accuracy                           0.44       251\n",
            "   macro avg       0.11      0.25      0.15       251\n",
            "weighted avg       0.20      0.44      0.27       251\n",
            "\n",
            "    ==== 5.0% of the training data used ==== \n",
            "\n"
          ],
          "name": "stdout"
        },
        {
          "output_type": "stream",
          "text": [
            "/usr/local/lib/python3.7/dist-packages/sklearn/metrics/_classification.py:1221: UndefinedMetricWarning: Precision and F-score are ill-defined and being set to 0.0 in labels with no predicted samples. Use `zero_division` parameter to control this behavior.\n",
            "  _warn_prf(average, modifier, msg_start, len(result))\n",
            "/usr/local/lib/python3.7/dist-packages/sklearn/metrics/_classification.py:1221: UndefinedMetricWarning: Precision and F-score are ill-defined and being set to 0.0 in labels with no predicted samples. Use `zero_division` parameter to control this behavior.\n",
            "  _warn_prf(average, modifier, msg_start, len(result))\n",
            "/usr/local/lib/python3.7/dist-packages/sklearn/metrics/_classification.py:1221: UndefinedMetricWarning: Precision and F-score are ill-defined and being set to 0.0 in labels with no predicted samples. Use `zero_division` parameter to control this behavior.\n",
            "  _warn_prf(average, modifier, msg_start, len(result))\n"
          ],
          "name": "stderr"
        },
        {
          "output_type": "stream",
          "text": [
            "Best result from attempt 2\n",
            "              precision    recall  f1-score   support\n",
            "\n",
            "           0       0.44      1.00      0.61       111\n",
            "           1       0.00      0.00      0.00        38\n",
            "           2       0.00      0.00      0.00        23\n",
            "           3       0.00      0.00      0.00        79\n",
            "\n",
            "    accuracy                           0.44       251\n",
            "   macro avg       0.11      0.25      0.15       251\n",
            "weighted avg       0.20      0.44      0.27       251\n",
            "\n"
          ],
          "name": "stdout"
        },
        {
          "output_type": "stream",
          "text": [
            "/usr/local/lib/python3.7/dist-packages/sklearn/metrics/_classification.py:1221: UndefinedMetricWarning: Precision and F-score are ill-defined and being set to 0.0 in labels with no predicted samples. Use `zero_division` parameter to control this behavior.\n",
            "  _warn_prf(average, modifier, msg_start, len(result))\n"
          ],
          "name": "stderr"
        }
      ]
    },
    {
      "cell_type": "code",
      "metadata": {
        "colab": {
          "base_uri": "https://localhost:8080/",
          "height": 380
        },
        "id": "TfrOqkyIMl3E",
        "outputId": "b398ed44-35b1-4dd6-9c8b-9e017cf80f9b"
      },
      "source": [
        "tSNE_vis(df_train, features_train, class_labels)"
      ],
      "execution_count": 70,
      "outputs": [
        {
          "output_type": "display_data",
          "data": {
            "image/png": "[encoded data removed]",
            "text/plain": [
              "<Figure size 432x432 with 1 Axes>"
            ]
          },
          "metadata": {
            "tags": [],
            "needs_background": "light"
          }
        }
      ]
    },
    {
      "cell_type": "markdown",
      "metadata": {
        "id": "wgd8co1ZMl3H"
      },
      "source": [
        "# SimCLR - Round 4: Unfreeze 3 last convolutional layer"
      ]
    },
    {
      "cell_type": "markdown",
      "metadata": {
        "id": "_T2CPs44L7Wj"
      },
      "source": [
        "#JG: Achieved quite good classification as seen above. Step not needed ; it leads to NaN features."
      ]
    },
    {
      "cell_type": "code",
      "metadata": {
        "id": "H85sA9-jMl3H"
      },
      "source": [
        "y_predict_test_before = y_predict_test_after"
      ],
      "execution_count": 71,
      "outputs": []
    },
    {
      "cell_type": "markdown",
      "metadata": {
        "id": "TbTY6SdtMl3K"
      },
      "source": [
        "## Training SimCLR"
      ]
    },
    {
      "cell_type": "code",
      "metadata": {
        "colab": {
          "base_uri": "https://localhost:8080/"
        },
        "id": "dbj61XF1Ml3K",
        "outputId": "e08224e3-2e80-4ea3-aa72-cda145d1e6cc"
      },
      "source": [
        "#Unfreeze\n",
        "SimCLR.unfreeze_and_train(data_train, \n",
        "                          data_val, \n",
        "                          num_of_unfrozen_layers = 4, \n",
        "                          r = 4, \n",
        "                          lr = 1e-6, \n",
        "                          epochs = 5)  "
      ],
      "execution_count": 72,
      "outputs": [
        {
          "output_type": "stream",
          "text": [
            "Model: \"model_49\"\n",
            "__________________________________________________________________________________________________\n",
            "Layer (type)                    Output Shape         Param #     Connected to                     \n",
            "==================================================================================================\n",
            "input_259 (InputLayer)          [(None, 80, 80, 3)]  0                                            \n",
            "__________________________________________________________________________________________________\n",
            "input_260 (InputLayer)          [(None, 80, 80, 3)]  0                                            \n",
            "__________________________________________________________________________________________________\n",
            "input_261 (InputLayer)          [(None, 80, 80, 3)]  0                                            \n",
            "__________________________________________________________________________________________________\n",
            "input_262 (InputLayer)          [(None, 80, 80, 3)]  0                                            \n",
            "__________________________________________________________________________________________________\n",
            "input_263 (InputLayer)          [(None, 80, 80, 3)]  0                                            \n",
            "__________________________________________________________________________________________________\n",
            "input_264 (InputLayer)          [(None, 80, 80, 3)]  0                                            \n",
            "__________________________________________________________________________________________________\n",
            "input_265 (InputLayer)          [(None, 80, 80, 3)]  0                                            \n",
            "__________________________________________________________________________________________________\n",
            "input_266 (InputLayer)          [(None, 80, 80, 3)]  0                                            \n",
            "__________________________________________________________________________________________________\n",
            "input_267 (InputLayer)          [(None, 80, 80, 3)]  0                                            \n",
            "__________________________________________________________________________________________________\n",
            "input_268 (InputLayer)          [(None, 80, 80, 3)]  0                                            \n",
            "__________________________________________________________________________________________________\n",
            "input_269 (InputLayer)          [(None, 80, 80, 3)]  0                                            \n",
            "__________________________________________________________________________________________________\n",
            "input_270 (InputLayer)          [(None, 80, 80, 3)]  0                                            \n",
            "__________________________________________________________________________________________________\n",
            "input_271 (InputLayer)          [(None, 80, 80, 3)]  0                                            \n",
            "__________________________________________________________________________________________________\n",
            "input_272 (InputLayer)          [(None, 80, 80, 3)]  0                                            \n",
            "__________________________________________________________________________________________________\n",
            "input_273 (InputLayer)          [(None, 80, 80, 3)]  0                                            \n",
            "__________________________________________________________________________________________________\n",
            "input_274 (InputLayer)          [(None, 80, 80, 3)]  0                                            \n",
            "__________________________________________________________________________________________________\n",
            "input_275 (InputLayer)          [(None, 80, 80, 3)]  0                                            \n",
            "__________________________________________________________________________________________________\n",
            "input_276 (InputLayer)          [(None, 80, 80, 3)]  0                                            \n",
            "__________________________________________________________________________________________________\n",
            "input_277 (InputLayer)          [(None, 80, 80, 3)]  0                                            \n",
            "__________________________________________________________________________________________________\n",
            "input_278 (InputLayer)          [(None, 80, 80, 3)]  0                                            \n",
            "__________________________________________________________________________________________________\n",
            "input_279 (InputLayer)          [(None, 80, 80, 3)]  0                                            \n",
            "__________________________________________________________________________________________________\n",
            "input_280 (InputLayer)          [(None, 80, 80, 3)]  0                                            \n",
            "__________________________________________________________________________________________________\n",
            "input_281 (InputLayer)          [(None, 80, 80, 3)]  0                                            \n",
            "__________________________________________________________________________________________________\n",
            "input_282 (InputLayer)          [(None, 80, 80, 3)]  0                                            \n",
            "__________________________________________________________________________________________________\n",
            "input_283 (InputLayer)          [(None, 80, 80, 3)]  0                                            \n",
            "__________________________________________________________________________________________________\n",
            "input_284 (InputLayer)          [(None, 80, 80, 3)]  0                                            \n",
            "__________________________________________________________________________________________________\n",
            "input_285 (InputLayer)          [(None, 80, 80, 3)]  0                                            \n",
            "__________________________________________________________________________________________________\n",
            "input_286 (InputLayer)          [(None, 80, 80, 3)]  0                                            \n",
            "__________________________________________________________________________________________________\n",
            "input_287 (InputLayer)          [(None, 80, 80, 3)]  0                                            \n",
            "__________________________________________________________________________________________________\n",
            "input_288 (InputLayer)          [(None, 80, 80, 3)]  0                                            \n",
            "__________________________________________________________________________________________________\n",
            "input_289 (InputLayer)          [(None, 80, 80, 3)]  0                                            \n",
            "__________________________________________________________________________________________________\n",
            "input_290 (InputLayer)          [(None, 80, 80, 3)]  0                                            \n",
            "__________________________________________________________________________________________________\n",
            "input_291 (InputLayer)          [(None, 80, 80, 3)]  0                                            \n",
            "__________________________________________________________________________________________________\n",
            "input_292 (InputLayer)          [(None, 80, 80, 3)]  0                                            \n",
            "__________________________________________________________________________________________________\n",
            "input_293 (InputLayer)          [(None, 80, 80, 3)]  0                                            \n",
            "__________________________________________________________________________________________________\n",
            "input_294 (InputLayer)          [(None, 80, 80, 3)]  0                                            \n",
            "__________________________________________________________________________________________________\n",
            "input_295 (InputLayer)          [(None, 80, 80, 3)]  0                                            \n",
            "__________________________________________________________________________________________________\n",
            "input_296 (InputLayer)          [(None, 80, 80, 3)]  0                                            \n",
            "__________________________________________________________________________________________________\n",
            "input_297 (InputLayer)          [(None, 80, 80, 3)]  0                                            \n",
            "__________________________________________________________________________________________________\n",
            "input_298 (InputLayer)          [(None, 80, 80, 3)]  0                                            \n",
            "__________________________________________________________________________________________________\n",
            "input_299 (InputLayer)          [(None, 80, 80, 3)]  0                                            \n",
            "__________________________________________________________________________________________________\n",
            "input_300 (InputLayer)          [(None, 80, 80, 3)]  0                                            \n",
            "__________________________________________________________________________________________________\n",
            "input_301 (InputLayer)          [(None, 80, 80, 3)]  0                                            \n",
            "__________________________________________________________________________________________________\n",
            "input_302 (InputLayer)          [(None, 80, 80, 3)]  0                                            \n",
            "__________________________________________________________________________________________________\n",
            "input_303 (InputLayer)          [(None, 80, 80, 3)]  0                                            \n",
            "__________________________________________________________________________________________________\n",
            "input_304 (InputLayer)          [(None, 80, 80, 3)]  0                                            \n",
            "__________________________________________________________________________________________________\n",
            "input_305 (InputLayer)          [(None, 80, 80, 3)]  0                                            \n",
            "__________________________________________________________________________________________________\n",
            "input_306 (InputLayer)          [(None, 80, 80, 3)]  0                                            \n",
            "__________________________________________________________________________________________________\n",
            "input_307 (InputLayer)          [(None, 80, 80, 3)]  0                                            \n",
            "__________________________________________________________________________________________________\n",
            "input_308 (InputLayer)          [(None, 80, 80, 3)]  0                                            \n",
            "__________________________________________________________________________________________________\n",
            "input_309 (InputLayer)          [(None, 80, 80, 3)]  0                                            \n",
            "__________________________________________________________________________________________________\n",
            "input_310 (InputLayer)          [(None, 80, 80, 3)]  0                                            \n",
            "__________________________________________________________________________________________________\n",
            "input_311 (InputLayer)          [(None, 80, 80, 3)]  0                                            \n",
            "__________________________________________________________________________________________________\n",
            "input_312 (InputLayer)          [(None, 80, 80, 3)]  0                                            \n",
            "__________________________________________________________________________________________________\n",
            "input_313 (InputLayer)          [(None, 80, 80, 3)]  0                                            \n",
            "__________________________________________________________________________________________________\n",
            "input_314 (InputLayer)          [(None, 80, 80, 3)]  0                                            \n",
            "__________________________________________________________________________________________________\n",
            "input_315 (InputLayer)          [(None, 80, 80, 3)]  0                                            \n",
            "__________________________________________________________________________________________________\n",
            "input_316 (InputLayer)          [(None, 80, 80, 3)]  0                                            \n",
            "__________________________________________________________________________________________________\n",
            "input_317 (InputLayer)          [(None, 80, 80, 3)]  0                                            \n",
            "__________________________________________________________________________________________________\n",
            "input_318 (InputLayer)          [(None, 80, 80, 3)]  0                                            \n",
            "__________________________________________________________________________________________________\n",
            "input_319 (InputLayer)          [(None, 80, 80, 3)]  0                                            \n",
            "__________________________________________________________________________________________________\n",
            "input_320 (InputLayer)          [(None, 80, 80, 3)]  0                                            \n",
            "__________________________________________________________________________________________________\n",
            "input_321 (InputLayer)          [(None, 80, 80, 3)]  0                                            \n",
            "__________________________________________________________________________________________________\n",
            "input_322 (InputLayer)          [(None, 80, 80, 3)]  0                                            \n",
            "__________________________________________________________________________________________________\n",
            "vgg16 (Model)                   (None, 2, 2, 512)    14714688    input_259[0][0]                  \n",
            "                                                                 input_260[0][0]                  \n",
            "                                                                 input_261[0][0]                  \n",
            "                                                                 input_262[0][0]                  \n",
            "                                                                 input_263[0][0]                  \n",
            "                                                                 input_264[0][0]                  \n",
            "                                                                 input_265[0][0]                  \n",
            "                                                                 input_266[0][0]                  \n",
            "                                                                 input_267[0][0]                  \n",
            "                                                                 input_268[0][0]                  \n",
            "                                                                 input_269[0][0]                  \n",
            "                                                                 input_270[0][0]                  \n",
            "                                                                 input_271[0][0]                  \n",
            "                                                                 input_272[0][0]                  \n",
            "                                                                 input_273[0][0]                  \n",
            "                                                                 input_274[0][0]                  \n",
            "                                                                 input_275[0][0]                  \n",
            "                                                                 input_276[0][0]                  \n",
            "                                                                 input_277[0][0]                  \n",
            "                                                                 input_278[0][0]                  \n",
            "                                                                 input_279[0][0]                  \n",
            "                                                                 input_280[0][0]                  \n",
            "                                                                 input_281[0][0]                  \n",
            "                                                                 input_282[0][0]                  \n",
            "                                                                 input_283[0][0]                  \n",
            "                                                                 input_284[0][0]                  \n",
            "                                                                 input_285[0][0]                  \n",
            "                                                                 input_286[0][0]                  \n",
            "                                                                 input_287[0][0]                  \n",
            "                                                                 input_288[0][0]                  \n",
            "                                                                 input_289[0][0]                  \n",
            "                                                                 input_290[0][0]                  \n",
            "                                                                 input_291[0][0]                  \n",
            "                                                                 input_292[0][0]                  \n",
            "                                                                 input_293[0][0]                  \n",
            "                                                                 input_294[0][0]                  \n",
            "                                                                 input_295[0][0]                  \n",
            "                                                                 input_296[0][0]                  \n",
            "                                                                 input_297[0][0]                  \n",
            "                                                                 input_298[0][0]                  \n",
            "                                                                 input_299[0][0]                  \n",
            "                                                                 input_300[0][0]                  \n",
            "                                                                 input_301[0][0]                  \n",
            "                                                                 input_302[0][0]                  \n",
            "                                                                 input_303[0][0]                  \n",
            "                                                                 input_304[0][0]                  \n",
            "                                                                 input_305[0][0]                  \n",
            "                                                                 input_306[0][0]                  \n",
            "                                                                 input_307[0][0]                  \n",
            "                                                                 input_308[0][0]                  \n",
            "                                                                 input_309[0][0]                  \n",
            "                                                                 input_310[0][0]                  \n",
            "                                                                 input_311[0][0]                  \n",
            "                                                                 input_312[0][0]                  \n",
            "                                                                 input_313[0][0]                  \n",
            "                                                                 input_314[0][0]                  \n",
            "                                                                 input_315[0][0]                  \n",
            "                                                                 input_316[0][0]                  \n",
            "                                                                 input_317[0][0]                  \n",
            "                                                                 input_318[0][0]                  \n",
            "                                                                 input_319[0][0]                  \n",
            "                                                                 input_320[0][0]                  \n",
            "                                                                 input_321[0][0]                  \n",
            "                                                                 input_322[0][0]                  \n",
            "__________________________________________________________________________________________________\n",
            "flatten_1 (Flatten)             (None, 2048)         0           vgg16[193][0]                    \n",
            "                                                                 vgg16[194][0]                    \n",
            "                                                                 vgg16[195][0]                    \n",
            "                                                                 vgg16[196][0]                    \n",
            "                                                                 vgg16[197][0]                    \n",
            "                                                                 vgg16[198][0]                    \n",
            "                                                                 vgg16[199][0]                    \n",
            "                                                                 vgg16[200][0]                    \n",
            "                                                                 vgg16[201][0]                    \n",
            "                                                                 vgg16[202][0]                    \n",
            "                                                                 vgg16[203][0]                    \n",
            "                                                                 vgg16[204][0]                    \n",
            "                                                                 vgg16[205][0]                    \n",
            "                                                                 vgg16[206][0]                    \n",
            "                                                                 vgg16[207][0]                    \n",
            "                                                                 vgg16[208][0]                    \n",
            "                                                                 vgg16[209][0]                    \n",
            "                                                                 vgg16[210][0]                    \n",
            "                                                                 vgg16[211][0]                    \n",
            "                                                                 vgg16[212][0]                    \n",
            "                                                                 vgg16[213][0]                    \n",
            "                                                                 vgg16[214][0]                    \n",
            "                                                                 vgg16[215][0]                    \n",
            "                                                                 vgg16[216][0]                    \n",
            "                                                                 vgg16[217][0]                    \n",
            "                                                                 vgg16[218][0]                    \n",
            "                                                                 vgg16[219][0]                    \n",
            "                                                                 vgg16[220][0]                    \n",
            "                                                                 vgg16[221][0]                    \n",
            "                                                                 vgg16[222][0]                    \n",
            "                                                                 vgg16[223][0]                    \n",
            "                                                                 vgg16[224][0]                    \n",
            "                                                                 vgg16[225][0]                    \n",
            "                                                                 vgg16[226][0]                    \n",
            "                                                                 vgg16[227][0]                    \n",
            "                                                                 vgg16[228][0]                    \n",
            "                                                                 vgg16[229][0]                    \n",
            "                                                                 vgg16[230][0]                    \n",
            "                                                                 vgg16[231][0]                    \n",
            "                                                                 vgg16[232][0]                    \n",
            "                                                                 vgg16[233][0]                    \n",
            "                                                                 vgg16[234][0]                    \n",
            "                                                                 vgg16[235][0]                    \n",
            "                                                                 vgg16[236][0]                    \n",
            "                                                                 vgg16[237][0]                    \n",
            "                                                                 vgg16[238][0]                    \n",
            "                                                                 vgg16[239][0]                    \n",
            "                                                                 vgg16[240][0]                    \n",
            "                                                                 vgg16[241][0]                    \n",
            "                                                                 vgg16[242][0]                    \n",
            "                                                                 vgg16[243][0]                    \n",
            "                                                                 vgg16[244][0]                    \n",
            "                                                                 vgg16[245][0]                    \n",
            "                                                                 vgg16[246][0]                    \n",
            "                                                                 vgg16[247][0]                    \n",
            "                                                                 vgg16[248][0]                    \n",
            "                                                                 vgg16[249][0]                    \n",
            "                                                                 vgg16[250][0]                    \n",
            "                                                                 vgg16[251][0]                    \n",
            "                                                                 vgg16[252][0]                    \n",
            "                                                                 vgg16[253][0]                    \n",
            "                                                                 vgg16[254][0]                    \n",
            "                                                                 vgg16[255][0]                    \n",
            "                                                                 vgg16[256][0]                    \n",
            "__________________________________________________________________________________________________\n",
            "dense_2 (Dense)                 (None, 2048)         4196352     flatten_1[192][0]                \n",
            "                                                                 flatten_1[193][0]                \n",
            "                                                                 flatten_1[194][0]                \n",
            "                                                                 flatten_1[195][0]                \n",
            "                                                                 flatten_1[196][0]                \n",
            "                                                                 flatten_1[197][0]                \n",
            "                                                                 flatten_1[198][0]                \n",
            "                                                                 flatten_1[199][0]                \n",
            "                                                                 flatten_1[200][0]                \n",
            "                                                                 flatten_1[201][0]                \n",
            "                                                                 flatten_1[202][0]                \n",
            "                                                                 flatten_1[203][0]                \n",
            "                                                                 flatten_1[204][0]                \n",
            "                                                                 flatten_1[205][0]                \n",
            "                                                                 flatten_1[206][0]                \n",
            "                                                                 flatten_1[207][0]                \n",
            "                                                                 flatten_1[208][0]                \n",
            "                                                                 flatten_1[209][0]                \n",
            "                                                                 flatten_1[210][0]                \n",
            "                                                                 flatten_1[211][0]                \n",
            "                                                                 flatten_1[212][0]                \n",
            "                                                                 flatten_1[213][0]                \n",
            "                                                                 flatten_1[214][0]                \n",
            "                                                                 flatten_1[215][0]                \n",
            "                                                                 flatten_1[216][0]                \n",
            "                                                                 flatten_1[217][0]                \n",
            "                                                                 flatten_1[218][0]                \n",
            "                                                                 flatten_1[219][0]                \n",
            "                                                                 flatten_1[220][0]                \n",
            "                                                                 flatten_1[221][0]                \n",
            "                                                                 flatten_1[222][0]                \n",
            "                                                                 flatten_1[223][0]                \n",
            "                                                                 flatten_1[224][0]                \n",
            "                                                                 flatten_1[225][0]                \n",
            "                                                                 flatten_1[226][0]                \n",
            "                                                                 flatten_1[227][0]                \n",
            "                                                                 flatten_1[228][0]                \n",
            "                                                                 flatten_1[229][0]                \n",
            "                                                                 flatten_1[230][0]                \n",
            "                                                                 flatten_1[231][0]                \n",
            "                                                                 flatten_1[232][0]                \n",
            "                                                                 flatten_1[233][0]                \n",
            "                                                                 flatten_1[234][0]                \n",
            "                                                                 flatten_1[235][0]                \n",
            "                                                                 flatten_1[236][0]                \n",
            "                                                                 flatten_1[237][0]                \n",
            "                                                                 flatten_1[238][0]                \n",
            "                                                                 flatten_1[239][0]                \n",
            "                                                                 flatten_1[240][0]                \n",
            "                                                                 flatten_1[241][0]                \n",
            "                                                                 flatten_1[242][0]                \n",
            "                                                                 flatten_1[243][0]                \n",
            "                                                                 flatten_1[244][0]                \n",
            "                                                                 flatten_1[245][0]                \n",
            "                                                                 flatten_1[246][0]                \n",
            "                                                                 flatten_1[247][0]                \n",
            "                                                                 flatten_1[248][0]                \n",
            "                                                                 flatten_1[249][0]                \n",
            "                                                                 flatten_1[250][0]                \n",
            "                                                                 flatten_1[251][0]                \n",
            "                                                                 flatten_1[252][0]                \n",
            "                                                                 flatten_1[253][0]                \n",
            "                                                                 flatten_1[254][0]                \n",
            "                                                                 flatten_1[255][0]                \n",
            "__________________________________________________________________________________________________\n",
            "dense_3 (Dense)                 (None, 128)          262272      dense_2[192][0]                  \n",
            "                                                                 dense_2[193][0]                  \n",
            "                                                                 dense_2[194][0]                  \n",
            "                                                                 dense_2[195][0]                  \n",
            "                                                                 dense_2[196][0]                  \n",
            "                                                                 dense_2[197][0]                  \n",
            "                                                                 dense_2[198][0]                  \n",
            "                                                                 dense_2[199][0]                  \n",
            "                                                                 dense_2[200][0]                  \n",
            "                                                                 dense_2[201][0]                  \n",
            "                                                                 dense_2[202][0]                  \n",
            "                                                                 dense_2[203][0]                  \n",
            "                                                                 dense_2[204][0]                  \n",
            "                                                                 dense_2[205][0]                  \n",
            "                                                                 dense_2[206][0]                  \n",
            "                                                                 dense_2[207][0]                  \n",
            "                                                                 dense_2[208][0]                  \n",
            "                                                                 dense_2[209][0]                  \n",
            "                                                                 dense_2[210][0]                  \n",
            "                                                                 dense_2[211][0]                  \n",
            "                                                                 dense_2[212][0]                  \n",
            "                                                                 dense_2[213][0]                  \n",
            "                                                                 dense_2[214][0]                  \n",
            "                                                                 dense_2[215][0]                  \n",
            "                                                                 dense_2[216][0]                  \n",
            "                                                                 dense_2[217][0]                  \n",
            "                                                                 dense_2[218][0]                  \n",
            "                                                                 dense_2[219][0]                  \n",
            "                                                                 dense_2[220][0]                  \n",
            "                                                                 dense_2[221][0]                  \n",
            "                                                                 dense_2[222][0]                  \n",
            "                                                                 dense_2[223][0]                  \n",
            "                                                                 dense_2[224][0]                  \n",
            "                                                                 dense_2[225][0]                  \n",
            "                                                                 dense_2[226][0]                  \n",
            "                                                                 dense_2[227][0]                  \n",
            "                                                                 dense_2[228][0]                  \n",
            "                                                                 dense_2[229][0]                  \n",
            "                                                                 dense_2[230][0]                  \n",
            "                                                                 dense_2[231][0]                  \n",
            "                                                                 dense_2[232][0]                  \n",
            "                                                                 dense_2[233][0]                  \n",
            "                                                                 dense_2[234][0]                  \n",
            "                                                                 dense_2[235][0]                  \n",
            "                                                                 dense_2[236][0]                  \n",
            "                                                                 dense_2[237][0]                  \n",
            "                                                                 dense_2[238][0]                  \n",
            "                                                                 dense_2[239][0]                  \n",
            "                                                                 dense_2[240][0]                  \n",
            "                                                                 dense_2[241][0]                  \n",
            "                                                                 dense_2[242][0]                  \n",
            "                                                                 dense_2[243][0]                  \n",
            "                                                                 dense_2[244][0]                  \n",
            "                                                                 dense_2[245][0]                  \n",
            "                                                                 dense_2[246][0]                  \n",
            "                                                                 dense_2[247][0]                  \n",
            "                                                                 dense_2[248][0]                  \n",
            "                                                                 dense_2[249][0]                  \n",
            "                                                                 dense_2[250][0]                  \n",
            "                                                                 dense_2[251][0]                  \n",
            "                                                                 dense_2[252][0]                  \n",
            "                                                                 dense_2[253][0]                  \n",
            "                                                                 dense_2[254][0]                  \n",
            "                                                                 dense_2[255][0]                  \n",
            "__________________________________________________________________________________________________\n",
            "softmax_cosine_sim_1 (SoftmaxCo (32, 128)            0           dense_3[192][0]                  \n",
            "                                                                 dense_3[193][0]                  \n",
            "                                                                 dense_3[194][0]                  \n",
            "                                                                 dense_3[195][0]                  \n",
            "                                                                 dense_3[196][0]                  \n",
            "                                                                 dense_3[197][0]                  \n",
            "                                                                 dense_3[198][0]                  \n",
            "                                                                 dense_3[199][0]                  \n",
            "                                                                 dense_3[200][0]                  \n",
            "                                                                 dense_3[201][0]                  \n",
            "                                                                 dense_3[202][0]                  \n",
            "                                                                 dense_3[203][0]                  \n",
            "                                                                 dense_3[204][0]                  \n",
            "                                                                 dense_3[205][0]                  \n",
            "                                                                 dense_3[206][0]                  \n",
            "                                                                 dense_3[207][0]                  \n",
            "                                                                 dense_3[208][0]                  \n",
            "                                                                 dense_3[209][0]                  \n",
            "                                                                 dense_3[210][0]                  \n",
            "                                                                 dense_3[211][0]                  \n",
            "                                                                 dense_3[212][0]                  \n",
            "                                                                 dense_3[213][0]                  \n",
            "                                                                 dense_3[214][0]                  \n",
            "                                                                 dense_3[215][0]                  \n",
            "                                                                 dense_3[216][0]                  \n",
            "                                                                 dense_3[217][0]                  \n",
            "                                                                 dense_3[218][0]                  \n",
            "                                                                 dense_3[219][0]                  \n",
            "                                                                 dense_3[220][0]                  \n",
            "                                                                 dense_3[221][0]                  \n",
            "                                                                 dense_3[222][0]                  \n",
            "                                                                 dense_3[223][0]                  \n",
            "                                                                 dense_3[224][0]                  \n",
            "                                                                 dense_3[225][0]                  \n",
            "                                                                 dense_3[226][0]                  \n",
            "                                                                 dense_3[227][0]                  \n",
            "                                                                 dense_3[228][0]                  \n",
            "                                                                 dense_3[229][0]                  \n",
            "                                                                 dense_3[230][0]                  \n",
            "                                                                 dense_3[231][0]                  \n",
            "                                                                 dense_3[232][0]                  \n",
            "                                                                 dense_3[233][0]                  \n",
            "                                                                 dense_3[234][0]                  \n",
            "                                                                 dense_3[235][0]                  \n",
            "                                                                 dense_3[236][0]                  \n",
            "                                                                 dense_3[237][0]                  \n",
            "                                                                 dense_3[238][0]                  \n",
            "                                                                 dense_3[239][0]                  \n",
            "                                                                 dense_3[240][0]                  \n",
            "                                                                 dense_3[241][0]                  \n",
            "                                                                 dense_3[242][0]                  \n",
            "                                                                 dense_3[243][0]                  \n",
            "                                                                 dense_3[244][0]                  \n",
            "                                                                 dense_3[245][0]                  \n",
            "                                                                 dense_3[246][0]                  \n",
            "                                                                 dense_3[247][0]                  \n",
            "                                                                 dense_3[248][0]                  \n",
            "                                                                 dense_3[249][0]                  \n",
            "                                                                 dense_3[250][0]                  \n",
            "                                                                 dense_3[251][0]                  \n",
            "                                                                 dense_3[252][0]                  \n",
            "                                                                 dense_3[253][0]                  \n",
            "                                                                 dense_3[254][0]                  \n",
            "                                                                 dense_3[255][0]                  \n",
            "==================================================================================================\n",
            "Total params: 19,173,312\n",
            "Trainable params: 11,538,048\n",
            "Non-trainable params: 7,635,264\n",
            "__________________________________________________________________________________________________\n",
            "None\n",
            "trainable parameters: 11.54 M.\n",
            "non-trainable parameters: 7.64 M.\n",
            "Train for 37 steps, validate for 8 steps\n",
            "Epoch 1/5\n",
            "36/37 [============================>.] - ETA: 1s - loss: 114.3948\n",
            "Epoch 00001: val_loss improved from inf to 114.15124, saving model to models/trashnet/SimCLR/SimCLR_07_04_23h_08.h5\n",
            "37/37 [==============================] - 60s 2s/step - loss: 114.3945 - val_loss: 114.1512\n",
            "Epoch 2/5\n",
            "36/37 [============================>.] - ETA: 0s - loss: 114.1106\n",
            "Epoch 00002: val_loss improved from 114.15124 to 113.87017, saving model to models/trashnet/SimCLR/SimCLR_07_04_23h_08.h5\n",
            "37/37 [==============================] - 34s 922ms/step - loss: 114.1104 - val_loss: 113.8702\n",
            "Epoch 3/5\n",
            "36/37 [============================>.] - ETA: 0s - loss: 113.8296\n",
            "Epoch 00003: val_loss improved from 113.87017 to 113.58906, saving model to models/trashnet/SimCLR/SimCLR_07_04_23h_08.h5\n",
            "37/37 [==============================] - 36s 984ms/step - loss: 113.8295 - val_loss: 113.5891\n",
            "Epoch 4/5\n",
            "36/37 [============================>.] - ETA: 0s - loss: 113.5482\n",
            "Epoch 00004: val_loss improved from 113.58906 to 113.30726, saving model to models/trashnet/SimCLR/SimCLR_07_04_23h_08.h5\n",
            "37/37 [==============================] - 36s 967ms/step - loss: 113.5480 - val_loss: 113.3073\n",
            "Epoch 5/5\n",
            "36/37 [============================>.] - ETA: 0s - loss: 113.2661\n",
            "Epoch 00005: val_loss improved from 113.30726 to 113.02484, saving model to models/trashnet/SimCLR/SimCLR_07_04_23h_08.h5\n",
            "37/37 [==============================] - 35s 938ms/step - loss: 113.2659 - val_loss: 113.0248\n",
            "trainable parameters: 11.54 M.\n",
            "non-trainable parameters: 7.64 M.\n"
          ],
          "name": "stdout"
        }
      ]
    },
    {
      "cell_type": "code",
      "metadata": {
        "id": "DWApei37Ml3O"
      },
      "source": [
        "y_predict_test_after = SimCLR.predict(data_test)"
      ],
      "execution_count": 73,
      "outputs": []
    },
    {
      "cell_type": "markdown",
      "metadata": {
        "id": "IMdwX9kXMl3R"
      },
      "source": [
        "## Feature Evaluation"
      ]
    },
    {
      "cell_type": "markdown",
      "metadata": {
        "id": "pO4paMl9Ml3R"
      },
      "source": [
        "### Logistic Regression"
      ]
    },
    {
      "cell_type": "code",
      "metadata": {
        "id": "P-IHH1xVMl3S"
      },
      "source": [
        "base_model = SimCLR.base_model"
      ],
      "execution_count": 74,
      "outputs": []
    },
    {
      "cell_type": "code",
      "metadata": {
        "colab": {
          "base_uri": "https://localhost:8080/"
        },
        "id": "cnECT4QJMl3T",
        "outputId": "46cb84fc-b87c-4f20-fcce-11a9fdf30547"
      },
      "source": [
        "features_train, y_train, feats = get_features(base_model, df_train, class_labels)\n",
        "features_test, y_test, feats = get_features(base_model, df_test, class_labels)\n",
        "np.count_nonzero(features_train[0])"
      ],
      "execution_count": 75,
      "outputs": [
        {
          "output_type": "stream",
          "text": [
            "/content/drive/My Drive/Colab Notebooks/simclr_tf_keras_07022021/oct_run/50per_train_data/SimCLRv1-keras-tensorflow/evaluate_features.py:52: RuntimeWarning: invalid value encountered in true_divide\n",
            "  feat_norm = feat_un_norm / np.max(np.abs(feat_un_norm), axis=0)\n"
          ],
          "name": "stderr"
        },
        {
          "output_type": "execute_result",
          "data": {
            "text/plain": [
              "2048"
            ]
          },
          "metadata": {
            "tags": []
          },
          "execution_count": 75
        }
      ]
    },
    {
      "cell_type": "code",
      "metadata": {
        "colab": {
          "base_uri": "https://localhost:8080/"
        },
        "id": "L9jr7LcF6d79",
        "outputId": "32bb606b-f044-449a-cbb5-334b4bedc4d5"
      },
      "source": [
        "features_train_nzero = (features_train[np.nonzero(features_train)]).reshape([1168,2048])\n",
        "features_test_nzero = features_test[np.nonzero(features_test)]\n",
        "y_train_nzero = y_train[np.nonzero(y_train)]\n",
        "y_test_nzero = y_test[np.nonzero(y_test)]\n",
        "print(y_train_nzero.shape, y_train.shape, y_test_nzero.shape, y_test.shape, '\\n')\n",
        "print(features_train.shape)\n",
        "print(features_test.shape)\n",
        "print(features_test_nzero.shape)\n",
        "print(features_train_nzero.shape)"
      ],
      "execution_count": 87,
      "outputs": [
        {
          "output_type": "stream",
          "text": [
            "(647,) (1168,) (140,) (251,) \n",
            "\n",
            "(1168, 2048)\n",
            "(251, 2048)\n",
            "(514048,)\n",
            "(1168, 2048)\n"
          ],
          "name": "stdout"
        }
      ]
    },
    {
      "cell_type": "code",
      "metadata": {
        "colab": {
          "base_uri": "https://localhost:8080/",
          "height": 374
        },
        "id": "TU8NPJBkMl3X",
        "outputId": "7dd98137-47f1-4562-a6c6-a91348fdc84f"
      },
      "source": [
        "# Training logistic regression classifier on 3 fractions of the data\n",
        "# Optimal regularization is determined from a 5-fold cross-validation\n",
        "fractions = [1.0, 0.2, 0.05]\n",
        "for fraction in fractions:\n",
        "    print(f\"    ==== {fraction * 100}% of the training data used ==== \\n\")\n",
        "    linear_classifier(features_train, y_train, features_test, y_test, class_labels, fraction = fraction)"
      ],
      "execution_count": 76,
      "outputs": [
        {
          "output_type": "stream",
          "text": [
            "    ==== 100.0% of the training data used ==== \n",
            "\n"
          ],
          "name": "stdout"
        },
        {
          "output_type": "error",
          "ename": "ValueError",
          "evalue": "ignored",
          "traceback": [
            "\u001b[0;31m---------------------------------------------------------------------------\u001b[0m",
            "\u001b[0;31mValueError\u001b[0m                                Traceback (most recent call last)",
            "\u001b[0;32m<ipython-input-76-be42315d0313>\u001b[0m in \u001b[0;36m<module>\u001b[0;34m()\u001b[0m\n\u001b[1;32m      4\u001b[0m \u001b[0;32mfor\u001b[0m \u001b[0mfraction\u001b[0m \u001b[0;32min\u001b[0m \u001b[0mfractions\u001b[0m\u001b[0;34m:\u001b[0m\u001b[0;34m\u001b[0m\u001b[0;34m\u001b[0m\u001b[0m\n\u001b[1;32m      5\u001b[0m     \u001b[0mprint\u001b[0m\u001b[0;34m(\u001b[0m\u001b[0;34mf\"    ==== {fraction * 100}% of the training data used ==== \\n\"\u001b[0m\u001b[0;34m)\u001b[0m\u001b[0;34m\u001b[0m\u001b[0;34m\u001b[0m\u001b[0m\n\u001b[0;32m----> 6\u001b[0;31m     \u001b[0mlinear_classifier\u001b[0m\u001b[0;34m(\u001b[0m\u001b[0mfeatures_train\u001b[0m\u001b[0;34m,\u001b[0m \u001b[0my_train\u001b[0m\u001b[0;34m,\u001b[0m \u001b[0mfeatures_test\u001b[0m\u001b[0;34m,\u001b[0m \u001b[0my_test\u001b[0m\u001b[0;34m,\u001b[0m \u001b[0mclass_labels\u001b[0m\u001b[0;34m,\u001b[0m \u001b[0mfraction\u001b[0m \u001b[0;34m=\u001b[0m \u001b[0mfraction\u001b[0m\u001b[0;34m)\u001b[0m\u001b[0;34m\u001b[0m\u001b[0;34m\u001b[0m\u001b[0m\n\u001b[0m",
            "\u001b[0;32m/content/drive/My Drive/Colab Notebooks/simclr_tf_keras_07022021/oct_run/50per_train_data/SimCLRv1-keras-tensorflow/evaluate_features.py\u001b[0m in \u001b[0;36mlinear_classifier\u001b[0;34m(features_train, y_train, features_test, y_test, class_labels, fraction, test_size)\u001b[0m\n\u001b[1;32m     99\u001b[0m \u001b[0;34m\u001b[0m\u001b[0m\n\u001b[1;32m    100\u001b[0m     clf = LogisticRegressionCV(cv=5, max_iter=1000, verbose=0, n_jobs=8).fit(\n\u001b[0;32m--> 101\u001b[0;31m         \u001b[0mfeatures_train\u001b[0m\u001b[0;34m,\u001b[0m \u001b[0my_train\u001b[0m\u001b[0;34m\u001b[0m\u001b[0;34m\u001b[0m\u001b[0m\n\u001b[0m\u001b[1;32m    102\u001b[0m     )\n\u001b[1;32m    103\u001b[0m \u001b[0;34m\u001b[0m\u001b[0m\n",
            "\u001b[0;32m/usr/local/lib/python3.7/dist-packages/sklearn/linear_model/_logistic.py\u001b[0m in \u001b[0;36mfit\u001b[0;34m(self, X, y, sample_weight)\u001b[0m\n\u001b[1;32m   1817\u001b[0m         X, y = self._validate_data(X, y, accept_sparse='csr', dtype=np.float64,\n\u001b[1;32m   1818\u001b[0m                                    \u001b[0morder\u001b[0m\u001b[0;34m=\u001b[0m\u001b[0;34m\"C\"\u001b[0m\u001b[0;34m,\u001b[0m\u001b[0;34m\u001b[0m\u001b[0;34m\u001b[0m\u001b[0m\n\u001b[0;32m-> 1819\u001b[0;31m                                    accept_large_sparse=solver != 'liblinear')\n\u001b[0m\u001b[1;32m   1820\u001b[0m         \u001b[0mcheck_classification_targets\u001b[0m\u001b[0;34m(\u001b[0m\u001b[0my\u001b[0m\u001b[0;34m)\u001b[0m\u001b[0;34m\u001b[0m\u001b[0;34m\u001b[0m\u001b[0m\n\u001b[1;32m   1821\u001b[0m \u001b[0;34m\u001b[0m\u001b[0m\n",
            "\u001b[0;32m/usr/local/lib/python3.7/dist-packages/sklearn/base.py\u001b[0m in \u001b[0;36m_validate_data\u001b[0;34m(self, X, y, reset, validate_separately, **check_params)\u001b[0m\n\u001b[1;32m    430\u001b[0m                 \u001b[0my\u001b[0m \u001b[0;34m=\u001b[0m \u001b[0mcheck_array\u001b[0m\u001b[0;34m(\u001b[0m\u001b[0my\u001b[0m\u001b[0;34m,\u001b[0m \u001b[0;34m**\u001b[0m\u001b[0mcheck_y_params\u001b[0m\u001b[0;34m)\u001b[0m\u001b[0;34m\u001b[0m\u001b[0;34m\u001b[0m\u001b[0m\n\u001b[1;32m    431\u001b[0m             \u001b[0;32melse\u001b[0m\u001b[0;34m:\u001b[0m\u001b[0;34m\u001b[0m\u001b[0;34m\u001b[0m\u001b[0m\n\u001b[0;32m--> 432\u001b[0;31m                 \u001b[0mX\u001b[0m\u001b[0;34m,\u001b[0m \u001b[0my\u001b[0m \u001b[0;34m=\u001b[0m \u001b[0mcheck_X_y\u001b[0m\u001b[0;34m(\u001b[0m\u001b[0mX\u001b[0m\u001b[0;34m,\u001b[0m \u001b[0my\u001b[0m\u001b[0;34m,\u001b[0m \u001b[0;34m**\u001b[0m\u001b[0mcheck_params\u001b[0m\u001b[0;34m)\u001b[0m\u001b[0;34m\u001b[0m\u001b[0;34m\u001b[0m\u001b[0m\n\u001b[0m\u001b[1;32m    433\u001b[0m             \u001b[0mout\u001b[0m \u001b[0;34m=\u001b[0m \u001b[0mX\u001b[0m\u001b[0;34m,\u001b[0m \u001b[0my\u001b[0m\u001b[0;34m\u001b[0m\u001b[0;34m\u001b[0m\u001b[0m\n\u001b[1;32m    434\u001b[0m \u001b[0;34m\u001b[0m\u001b[0m\n",
            "\u001b[0;32m/usr/local/lib/python3.7/dist-packages/sklearn/utils/validation.py\u001b[0m in \u001b[0;36minner_f\u001b[0;34m(*args, **kwargs)\u001b[0m\n\u001b[1;32m     71\u001b[0m                           FutureWarning)\n\u001b[1;32m     72\u001b[0m         \u001b[0mkwargs\u001b[0m\u001b[0;34m.\u001b[0m\u001b[0mupdate\u001b[0m\u001b[0;34m(\u001b[0m\u001b[0;34m{\u001b[0m\u001b[0mk\u001b[0m\u001b[0;34m:\u001b[0m \u001b[0marg\u001b[0m \u001b[0;32mfor\u001b[0m \u001b[0mk\u001b[0m\u001b[0;34m,\u001b[0m \u001b[0marg\u001b[0m \u001b[0;32min\u001b[0m \u001b[0mzip\u001b[0m\u001b[0;34m(\u001b[0m\u001b[0msig\u001b[0m\u001b[0;34m.\u001b[0m\u001b[0mparameters\u001b[0m\u001b[0;34m,\u001b[0m \u001b[0margs\u001b[0m\u001b[0;34m)\u001b[0m\u001b[0;34m}\u001b[0m\u001b[0;34m)\u001b[0m\u001b[0;34m\u001b[0m\u001b[0;34m\u001b[0m\u001b[0m\n\u001b[0;32m---> 73\u001b[0;31m         \u001b[0;32mreturn\u001b[0m \u001b[0mf\u001b[0m\u001b[0;34m(\u001b[0m\u001b[0;34m**\u001b[0m\u001b[0mkwargs\u001b[0m\u001b[0;34m)\u001b[0m\u001b[0;34m\u001b[0m\u001b[0;34m\u001b[0m\u001b[0m\n\u001b[0m\u001b[1;32m     74\u001b[0m     \u001b[0;32mreturn\u001b[0m \u001b[0minner_f\u001b[0m\u001b[0;34m\u001b[0m\u001b[0;34m\u001b[0m\u001b[0m\n\u001b[1;32m     75\u001b[0m \u001b[0;34m\u001b[0m\u001b[0m\n",
            "\u001b[0;32m/usr/local/lib/python3.7/dist-packages/sklearn/utils/validation.py\u001b[0m in \u001b[0;36mcheck_X_y\u001b[0;34m(X, y, accept_sparse, accept_large_sparse, dtype, order, copy, force_all_finite, ensure_2d, allow_nd, multi_output, ensure_min_samples, ensure_min_features, y_numeric, estimator)\u001b[0m\n\u001b[1;32m    801\u001b[0m                     \u001b[0mensure_min_samples\u001b[0m\u001b[0;34m=\u001b[0m\u001b[0mensure_min_samples\u001b[0m\u001b[0;34m,\u001b[0m\u001b[0;34m\u001b[0m\u001b[0;34m\u001b[0m\u001b[0m\n\u001b[1;32m    802\u001b[0m                     \u001b[0mensure_min_features\u001b[0m\u001b[0;34m=\u001b[0m\u001b[0mensure_min_features\u001b[0m\u001b[0;34m,\u001b[0m\u001b[0;34m\u001b[0m\u001b[0;34m\u001b[0m\u001b[0m\n\u001b[0;32m--> 803\u001b[0;31m                     estimator=estimator)\n\u001b[0m\u001b[1;32m    804\u001b[0m     \u001b[0;32mif\u001b[0m \u001b[0mmulti_output\u001b[0m\u001b[0;34m:\u001b[0m\u001b[0;34m\u001b[0m\u001b[0;34m\u001b[0m\u001b[0m\n\u001b[1;32m    805\u001b[0m         y = check_array(y, accept_sparse='csr', force_all_finite=True,\n",
            "\u001b[0;32m/usr/local/lib/python3.7/dist-packages/sklearn/utils/validation.py\u001b[0m in \u001b[0;36minner_f\u001b[0;34m(*args, **kwargs)\u001b[0m\n\u001b[1;32m     71\u001b[0m                           FutureWarning)\n\u001b[1;32m     72\u001b[0m         \u001b[0mkwargs\u001b[0m\u001b[0;34m.\u001b[0m\u001b[0mupdate\u001b[0m\u001b[0;34m(\u001b[0m\u001b[0;34m{\u001b[0m\u001b[0mk\u001b[0m\u001b[0;34m:\u001b[0m \u001b[0marg\u001b[0m \u001b[0;32mfor\u001b[0m \u001b[0mk\u001b[0m\u001b[0;34m,\u001b[0m \u001b[0marg\u001b[0m \u001b[0;32min\u001b[0m \u001b[0mzip\u001b[0m\u001b[0;34m(\u001b[0m\u001b[0msig\u001b[0m\u001b[0;34m.\u001b[0m\u001b[0mparameters\u001b[0m\u001b[0;34m,\u001b[0m \u001b[0margs\u001b[0m\u001b[0;34m)\u001b[0m\u001b[0;34m}\u001b[0m\u001b[0;34m)\u001b[0m\u001b[0;34m\u001b[0m\u001b[0;34m\u001b[0m\u001b[0m\n\u001b[0;32m---> 73\u001b[0;31m         \u001b[0;32mreturn\u001b[0m \u001b[0mf\u001b[0m\u001b[0;34m(\u001b[0m\u001b[0;34m**\u001b[0m\u001b[0mkwargs\u001b[0m\u001b[0;34m)\u001b[0m\u001b[0;34m\u001b[0m\u001b[0;34m\u001b[0m\u001b[0m\n\u001b[0m\u001b[1;32m     74\u001b[0m     \u001b[0;32mreturn\u001b[0m \u001b[0minner_f\u001b[0m\u001b[0;34m\u001b[0m\u001b[0;34m\u001b[0m\u001b[0m\n\u001b[1;32m     75\u001b[0m \u001b[0;34m\u001b[0m\u001b[0m\n",
            "\u001b[0;32m/usr/local/lib/python3.7/dist-packages/sklearn/utils/validation.py\u001b[0m in \u001b[0;36mcheck_array\u001b[0;34m(array, accept_sparse, accept_large_sparse, dtype, order, copy, force_all_finite, ensure_2d, allow_nd, ensure_min_samples, ensure_min_features, estimator)\u001b[0m\n\u001b[1;32m    644\u001b[0m         \u001b[0;32mif\u001b[0m \u001b[0mforce_all_finite\u001b[0m\u001b[0;34m:\u001b[0m\u001b[0;34m\u001b[0m\u001b[0;34m\u001b[0m\u001b[0m\n\u001b[1;32m    645\u001b[0m             _assert_all_finite(array,\n\u001b[0;32m--> 646\u001b[0;31m                                allow_nan=force_all_finite == 'allow-nan')\n\u001b[0m\u001b[1;32m    647\u001b[0m \u001b[0;34m\u001b[0m\u001b[0m\n\u001b[1;32m    648\u001b[0m     \u001b[0;32mif\u001b[0m \u001b[0mensure_min_samples\u001b[0m \u001b[0;34m>\u001b[0m \u001b[0;36m0\u001b[0m\u001b[0;34m:\u001b[0m\u001b[0;34m\u001b[0m\u001b[0;34m\u001b[0m\u001b[0m\n",
            "\u001b[0;32m/usr/local/lib/python3.7/dist-packages/sklearn/utils/validation.py\u001b[0m in \u001b[0;36m_assert_all_finite\u001b[0;34m(X, allow_nan, msg_dtype)\u001b[0m\n\u001b[1;32m     98\u001b[0m                     \u001b[0mmsg_err\u001b[0m\u001b[0;34m.\u001b[0m\u001b[0mformat\u001b[0m\u001b[0;34m\u001b[0m\u001b[0;34m\u001b[0m\u001b[0m\n\u001b[1;32m     99\u001b[0m                     (type_err,\n\u001b[0;32m--> 100\u001b[0;31m                      msg_dtype if msg_dtype is not None else X.dtype)\n\u001b[0m\u001b[1;32m    101\u001b[0m             )\n\u001b[1;32m    102\u001b[0m     \u001b[0;31m# for object dtype data, we only check for NaNs (GH-13254)\u001b[0m\u001b[0;34m\u001b[0m\u001b[0;34m\u001b[0m\u001b[0;34m\u001b[0m\u001b[0m\n",
            "\u001b[0;31mValueError\u001b[0m: Input contains NaN, infinity or a value too large for dtype('float64')."
          ]
        }
      ]
    },
    {
      "cell_type": "code",
      "metadata": {
        "colab": {
          "base_uri": "https://localhost:8080/",
          "height": 1000
        },
        "id": "ubK-UPEB8a1S",
        "outputId": "bc74e80e-310d-48d5-9439-507657278626"
      },
      "source": [
        "# Training logistic regression classifier on 3 fractions of the data\n",
        "# Optimal regularization is determined from a 5-fold cross-validation\n",
        "fractions = [1.0, 0.2, 0.05]\n",
        "for fraction in fractions:\n",
        "    print(f\"    ==== {fraction * 100}% of the training data used ==== \\n\")\n",
        "    linear_classifier(features_train, y_train_nzero, features_test, y_test_nzero, class_labels, fraction = fraction)\n",
        "\n"
      ],
      "execution_count": 88,
      "outputs": [
        {
          "output_type": "stream",
          "text": [
            "    ==== 100.0% of the training data used ==== \n",
            "\n"
          ],
          "name": "stdout"
        },
        {
          "output_type": "error",
          "ename": "ValueError",
          "evalue": "ignored",
          "traceback": [
            "\u001b[0;31m---------------------------------------------------------------------------\u001b[0m",
            "\u001b[0;31mValueError\u001b[0m                                Traceback (most recent call last)",
            "\u001b[0;32m<ipython-input-88-2b55b4bd3bd1>\u001b[0m in \u001b[0;36m<module>\u001b[0;34m()\u001b[0m\n\u001b[1;32m      4\u001b[0m \u001b[0;32mfor\u001b[0m \u001b[0mfraction\u001b[0m \u001b[0;32min\u001b[0m \u001b[0mfractions\u001b[0m\u001b[0;34m:\u001b[0m\u001b[0;34m\u001b[0m\u001b[0;34m\u001b[0m\u001b[0m\n\u001b[1;32m      5\u001b[0m     \u001b[0mprint\u001b[0m\u001b[0;34m(\u001b[0m\u001b[0;34mf\"    ==== {fraction * 100}% of the training data used ==== \\n\"\u001b[0m\u001b[0;34m)\u001b[0m\u001b[0;34m\u001b[0m\u001b[0;34m\u001b[0m\u001b[0m\n\u001b[0;32m----> 6\u001b[0;31m     \u001b[0mlinear_classifier\u001b[0m\u001b[0;34m(\u001b[0m\u001b[0mfeatures_train\u001b[0m\u001b[0;34m,\u001b[0m \u001b[0my_train_nzero\u001b[0m\u001b[0;34m,\u001b[0m \u001b[0mfeatures_test\u001b[0m\u001b[0;34m,\u001b[0m \u001b[0my_test_nzero\u001b[0m\u001b[0;34m,\u001b[0m \u001b[0mclass_labels\u001b[0m\u001b[0;34m,\u001b[0m \u001b[0mfraction\u001b[0m \u001b[0;34m=\u001b[0m \u001b[0mfraction\u001b[0m\u001b[0;34m)\u001b[0m\u001b[0;34m\u001b[0m\u001b[0;34m\u001b[0m\u001b[0m\n\u001b[0m\u001b[1;32m      7\u001b[0m \u001b[0;34m\u001b[0m\u001b[0m\n",
            "\u001b[0;32m/content/drive/My Drive/Colab Notebooks/simclr_tf_keras_07022021/oct_run/50per_train_data/SimCLRv1-keras-tensorflow/evaluate_features.py\u001b[0m in \u001b[0;36mlinear_classifier\u001b[0;34m(features_train, y_train, features_test, y_test, class_labels, fraction, test_size)\u001b[0m\n\u001b[1;32m     99\u001b[0m \u001b[0;34m\u001b[0m\u001b[0m\n\u001b[1;32m    100\u001b[0m     clf = LogisticRegressionCV(cv=5, max_iter=1000, verbose=0, n_jobs=8).fit(\n\u001b[0;32m--> 101\u001b[0;31m         \u001b[0mfeatures_train\u001b[0m\u001b[0;34m,\u001b[0m \u001b[0my_train\u001b[0m\u001b[0;34m\u001b[0m\u001b[0;34m\u001b[0m\u001b[0m\n\u001b[0m\u001b[1;32m    102\u001b[0m     )\n\u001b[1;32m    103\u001b[0m \u001b[0;34m\u001b[0m\u001b[0m\n",
            "\u001b[0;32m/usr/local/lib/python3.7/dist-packages/sklearn/linear_model/_logistic.py\u001b[0m in \u001b[0;36mfit\u001b[0;34m(self, X, y, sample_weight)\u001b[0m\n\u001b[1;32m   1817\u001b[0m         X, y = self._validate_data(X, y, accept_sparse='csr', dtype=np.float64,\n\u001b[1;32m   1818\u001b[0m                                    \u001b[0morder\u001b[0m\u001b[0;34m=\u001b[0m\u001b[0;34m\"C\"\u001b[0m\u001b[0;34m,\u001b[0m\u001b[0;34m\u001b[0m\u001b[0;34m\u001b[0m\u001b[0m\n\u001b[0;32m-> 1819\u001b[0;31m                                    accept_large_sparse=solver != 'liblinear')\n\u001b[0m\u001b[1;32m   1820\u001b[0m         \u001b[0mcheck_classification_targets\u001b[0m\u001b[0;34m(\u001b[0m\u001b[0my\u001b[0m\u001b[0;34m)\u001b[0m\u001b[0;34m\u001b[0m\u001b[0;34m\u001b[0m\u001b[0m\n\u001b[1;32m   1821\u001b[0m \u001b[0;34m\u001b[0m\u001b[0m\n",
            "\u001b[0;32m/usr/local/lib/python3.7/dist-packages/sklearn/base.py\u001b[0m in \u001b[0;36m_validate_data\u001b[0;34m(self, X, y, reset, validate_separately, **check_params)\u001b[0m\n\u001b[1;32m    430\u001b[0m                 \u001b[0my\u001b[0m \u001b[0;34m=\u001b[0m \u001b[0mcheck_array\u001b[0m\u001b[0;34m(\u001b[0m\u001b[0my\u001b[0m\u001b[0;34m,\u001b[0m \u001b[0;34m**\u001b[0m\u001b[0mcheck_y_params\u001b[0m\u001b[0;34m)\u001b[0m\u001b[0;34m\u001b[0m\u001b[0;34m\u001b[0m\u001b[0m\n\u001b[1;32m    431\u001b[0m             \u001b[0;32melse\u001b[0m\u001b[0;34m:\u001b[0m\u001b[0;34m\u001b[0m\u001b[0;34m\u001b[0m\u001b[0m\n\u001b[0;32m--> 432\u001b[0;31m                 \u001b[0mX\u001b[0m\u001b[0;34m,\u001b[0m \u001b[0my\u001b[0m \u001b[0;34m=\u001b[0m \u001b[0mcheck_X_y\u001b[0m\u001b[0;34m(\u001b[0m\u001b[0mX\u001b[0m\u001b[0;34m,\u001b[0m \u001b[0my\u001b[0m\u001b[0;34m,\u001b[0m \u001b[0;34m**\u001b[0m\u001b[0mcheck_params\u001b[0m\u001b[0;34m)\u001b[0m\u001b[0;34m\u001b[0m\u001b[0;34m\u001b[0m\u001b[0m\n\u001b[0m\u001b[1;32m    433\u001b[0m             \u001b[0mout\u001b[0m \u001b[0;34m=\u001b[0m \u001b[0mX\u001b[0m\u001b[0;34m,\u001b[0m \u001b[0my\u001b[0m\u001b[0;34m\u001b[0m\u001b[0;34m\u001b[0m\u001b[0m\n\u001b[1;32m    434\u001b[0m \u001b[0;34m\u001b[0m\u001b[0m\n",
            "\u001b[0;32m/usr/local/lib/python3.7/dist-packages/sklearn/utils/validation.py\u001b[0m in \u001b[0;36minner_f\u001b[0;34m(*args, **kwargs)\u001b[0m\n\u001b[1;32m     71\u001b[0m                           FutureWarning)\n\u001b[1;32m     72\u001b[0m         \u001b[0mkwargs\u001b[0m\u001b[0;34m.\u001b[0m\u001b[0mupdate\u001b[0m\u001b[0;34m(\u001b[0m\u001b[0;34m{\u001b[0m\u001b[0mk\u001b[0m\u001b[0;34m:\u001b[0m \u001b[0marg\u001b[0m \u001b[0;32mfor\u001b[0m \u001b[0mk\u001b[0m\u001b[0;34m,\u001b[0m \u001b[0marg\u001b[0m \u001b[0;32min\u001b[0m \u001b[0mzip\u001b[0m\u001b[0;34m(\u001b[0m\u001b[0msig\u001b[0m\u001b[0;34m.\u001b[0m\u001b[0mparameters\u001b[0m\u001b[0;34m,\u001b[0m \u001b[0margs\u001b[0m\u001b[0;34m)\u001b[0m\u001b[0;34m}\u001b[0m\u001b[0;34m)\u001b[0m\u001b[0;34m\u001b[0m\u001b[0;34m\u001b[0m\u001b[0m\n\u001b[0;32m---> 73\u001b[0;31m         \u001b[0;32mreturn\u001b[0m \u001b[0mf\u001b[0m\u001b[0;34m(\u001b[0m\u001b[0;34m**\u001b[0m\u001b[0mkwargs\u001b[0m\u001b[0;34m)\u001b[0m\u001b[0;34m\u001b[0m\u001b[0;34m\u001b[0m\u001b[0m\n\u001b[0m\u001b[1;32m     74\u001b[0m     \u001b[0;32mreturn\u001b[0m \u001b[0minner_f\u001b[0m\u001b[0;34m\u001b[0m\u001b[0;34m\u001b[0m\u001b[0m\n\u001b[1;32m     75\u001b[0m \u001b[0;34m\u001b[0m\u001b[0m\n",
            "\u001b[0;32m/usr/local/lib/python3.7/dist-packages/sklearn/utils/validation.py\u001b[0m in \u001b[0;36mcheck_X_y\u001b[0;34m(X, y, accept_sparse, accept_large_sparse, dtype, order, copy, force_all_finite, ensure_2d, allow_nd, multi_output, ensure_min_samples, ensure_min_features, y_numeric, estimator)\u001b[0m\n\u001b[1;32m    801\u001b[0m                     \u001b[0mensure_min_samples\u001b[0m\u001b[0;34m=\u001b[0m\u001b[0mensure_min_samples\u001b[0m\u001b[0;34m,\u001b[0m\u001b[0;34m\u001b[0m\u001b[0;34m\u001b[0m\u001b[0m\n\u001b[1;32m    802\u001b[0m                     \u001b[0mensure_min_features\u001b[0m\u001b[0;34m=\u001b[0m\u001b[0mensure_min_features\u001b[0m\u001b[0;34m,\u001b[0m\u001b[0;34m\u001b[0m\u001b[0;34m\u001b[0m\u001b[0m\n\u001b[0;32m--> 803\u001b[0;31m                     estimator=estimator)\n\u001b[0m\u001b[1;32m    804\u001b[0m     \u001b[0;32mif\u001b[0m \u001b[0mmulti_output\u001b[0m\u001b[0;34m:\u001b[0m\u001b[0;34m\u001b[0m\u001b[0;34m\u001b[0m\u001b[0m\n\u001b[1;32m    805\u001b[0m         y = check_array(y, accept_sparse='csr', force_all_finite=True,\n",
            "\u001b[0;32m/usr/local/lib/python3.7/dist-packages/sklearn/utils/validation.py\u001b[0m in \u001b[0;36minner_f\u001b[0;34m(*args, **kwargs)\u001b[0m\n\u001b[1;32m     71\u001b[0m                           FutureWarning)\n\u001b[1;32m     72\u001b[0m         \u001b[0mkwargs\u001b[0m\u001b[0;34m.\u001b[0m\u001b[0mupdate\u001b[0m\u001b[0;34m(\u001b[0m\u001b[0;34m{\u001b[0m\u001b[0mk\u001b[0m\u001b[0;34m:\u001b[0m \u001b[0marg\u001b[0m \u001b[0;32mfor\u001b[0m \u001b[0mk\u001b[0m\u001b[0;34m,\u001b[0m \u001b[0marg\u001b[0m \u001b[0;32min\u001b[0m \u001b[0mzip\u001b[0m\u001b[0;34m(\u001b[0m\u001b[0msig\u001b[0m\u001b[0;34m.\u001b[0m\u001b[0mparameters\u001b[0m\u001b[0;34m,\u001b[0m \u001b[0margs\u001b[0m\u001b[0;34m)\u001b[0m\u001b[0;34m}\u001b[0m\u001b[0;34m)\u001b[0m\u001b[0;34m\u001b[0m\u001b[0;34m\u001b[0m\u001b[0m\n\u001b[0;32m---> 73\u001b[0;31m         \u001b[0;32mreturn\u001b[0m \u001b[0mf\u001b[0m\u001b[0;34m(\u001b[0m\u001b[0;34m**\u001b[0m\u001b[0mkwargs\u001b[0m\u001b[0;34m)\u001b[0m\u001b[0;34m\u001b[0m\u001b[0;34m\u001b[0m\u001b[0m\n\u001b[0m\u001b[1;32m     74\u001b[0m     \u001b[0;32mreturn\u001b[0m \u001b[0minner_f\u001b[0m\u001b[0;34m\u001b[0m\u001b[0;34m\u001b[0m\u001b[0m\n\u001b[1;32m     75\u001b[0m \u001b[0;34m\u001b[0m\u001b[0m\n",
            "\u001b[0;32m/usr/local/lib/python3.7/dist-packages/sklearn/utils/validation.py\u001b[0m in \u001b[0;36mcheck_array\u001b[0;34m(array, accept_sparse, accept_large_sparse, dtype, order, copy, force_all_finite, ensure_2d, allow_nd, ensure_min_samples, ensure_min_features, estimator)\u001b[0m\n\u001b[1;32m    644\u001b[0m         \u001b[0;32mif\u001b[0m \u001b[0mforce_all_finite\u001b[0m\u001b[0;34m:\u001b[0m\u001b[0;34m\u001b[0m\u001b[0;34m\u001b[0m\u001b[0m\n\u001b[1;32m    645\u001b[0m             _assert_all_finite(array,\n\u001b[0;32m--> 646\u001b[0;31m                                allow_nan=force_all_finite == 'allow-nan')\n\u001b[0m\u001b[1;32m    647\u001b[0m \u001b[0;34m\u001b[0m\u001b[0m\n\u001b[1;32m    648\u001b[0m     \u001b[0;32mif\u001b[0m \u001b[0mensure_min_samples\u001b[0m \u001b[0;34m>\u001b[0m \u001b[0;36m0\u001b[0m\u001b[0;34m:\u001b[0m\u001b[0;34m\u001b[0m\u001b[0;34m\u001b[0m\u001b[0m\n",
            "\u001b[0;32m/usr/local/lib/python3.7/dist-packages/sklearn/utils/validation.py\u001b[0m in \u001b[0;36m_assert_all_finite\u001b[0;34m(X, allow_nan, msg_dtype)\u001b[0m\n\u001b[1;32m     98\u001b[0m                     \u001b[0mmsg_err\u001b[0m\u001b[0;34m.\u001b[0m\u001b[0mformat\u001b[0m\u001b[0;34m\u001b[0m\u001b[0;34m\u001b[0m\u001b[0m\n\u001b[1;32m     99\u001b[0m                     (type_err,\n\u001b[0;32m--> 100\u001b[0;31m                      msg_dtype if msg_dtype is not None else X.dtype)\n\u001b[0m\u001b[1;32m    101\u001b[0m             )\n\u001b[1;32m    102\u001b[0m     \u001b[0;31m# for object dtype data, we only check for NaNs (GH-13254)\u001b[0m\u001b[0;34m\u001b[0m\u001b[0;34m\u001b[0m\u001b[0;34m\u001b[0m\u001b[0m\n",
            "\u001b[0;31mValueError\u001b[0m: Input contains NaN, infinity or a value too large for dtype('float64')."
          ]
        }
      ]
    },
    {
      "cell_type": "markdown",
      "metadata": {
        "id": "XlVebWE7Ml3Z"
      },
      "source": [
        "### Fine tuned model"
      ]
    },
    {
      "cell_type": "code",
      "metadata": {
        "id": "vhnYkrhZMl3a"
      },
      "source": [
        "batch_size_classifier = 32\n",
        "params_generator_classifier = {'max_width':width_img,\n",
        "                            'max_height': height_img,\n",
        "                            'num_classes': num_classes,\n",
        "                            'VGG': True\n",
        "                            }\n",
        "params_training_classifier = {'1.0':{\n",
        "                                \"reg_dense\" : 0.005,\n",
        "                                \"reg_out\" : 0.005,\n",
        "                                \"nums_of_unfrozen_layers\" : [5, 5, 6, 7],\n",
        "                                \"lrs\" : [1e-3, 1e-4, 5e-5, 5e-5],\n",
        "                                \"epochs\" : [5, 5, 15, 10]\n",
        "                                },\n",
        "                              '0.2':{\n",
        "                                \"reg_dense\" : 0.075,\n",
        "                                \"reg_out\" : 0.01,\n",
        "                                \"nums_of_unfrozen_layers\" : [5, 5, 6, 7],\n",
        "                                \"lrs\" : [1e-3, 1e-4, 5e-5, 5e-5],\n",
        "                                \"epochs\" : [5, 5, 20, 15]\n",
        "                              },\n",
        "                              '0.05':{\n",
        "                                \"reg_dense\" : 0.01,\n",
        "                                \"reg_out\" : 0.02,\n",
        "                                \"nums_of_unfrozen_layers\" : [5, 5, 6, 7],\n",
        "                                \"lrs\" : [1e-3, 1e-4, 5e-5, 1e-5],\n",
        "                                \"epochs\" : [5, 5, 20, 15]\n",
        "                              }                              \n",
        "                            }"
      ],
      "execution_count": 92,
      "outputs": []
    },
    {
      "cell_type": "code",
      "metadata": {
        "colab": {
          "base_uri": "https://localhost:8080/",
          "height": 425
        },
        "id": "QtoW3bL4Ml3g",
        "outputId": "768a9b6c-060c-4c6a-e925-957e0a5b430b"
      },
      "source": [
        "for fraction in fractions:    \n",
        "    print(f\"    ==== {fraction * 100}% of the training data used ==== \\n\")\n",
        "    SimCLR.train_NL_and_evaluate(dfs = dfs,\n",
        "                                batch_size = batch_size_classifier,\n",
        "                                params_generator = params_generator_classifier,\n",
        "                                fraction = fraction,\n",
        "                                class_labels = class_labels,\n",
        "                                reg_dense = params_training_classifier[str(fraction)][\"reg_dense\"],\n",
        "                                reg_out = params_training_classifier[str(fraction)][\"reg_out\"],\n",
        "                                nums_of_unfrozen_layers = params_training_classifier[str(fraction)][\"nums_of_unfrozen_layers\"],\n",
        "                                lrs = params_training_classifier[str(fraction)][\"lrs\"],\n",
        "                                epochs = params_training_classifier[str(fraction)][\"epochs\"],\n",
        "                                verbose_epoch = 0,\n",
        "                                verbose_cycle = 0\n",
        "                                )"
      ],
      "execution_count": 93,
      "outputs": [
        {
          "output_type": "stream",
          "text": [
            "    ==== 100.0% of the training data used ==== \n",
            "\n",
            "WARNING:tensorflow:Early stopping conditioned on metric `val_loss` which is not available. Available metrics are: loss,categorical_accuracy\n",
            "WARNING:tensorflow:Reduce LR on plateau conditioned on metric `val_loss` which is not available. Available metrics are: loss,categorical_accuracy,lr\n"
          ],
          "name": "stdout"
        },
        {
          "output_type": "error",
          "ename": "KeyboardInterrupt",
          "evalue": "ignored",
          "traceback": [
            "\u001b[0;31m---------------------------------------------------------------------------\u001b[0m",
            "\u001b[0;31mKeyboardInterrupt\u001b[0m                         Traceback (most recent call last)",
            "\u001b[0;32m<ipython-input-93-ffaef4a4cb5d>\u001b[0m in \u001b[0;36m<module>\u001b[0;34m()\u001b[0m\n\u001b[1;32m     12\u001b[0m                                 \u001b[0mepochs\u001b[0m \u001b[0;34m=\u001b[0m \u001b[0mparams_training_classifier\u001b[0m\u001b[0;34m[\u001b[0m\u001b[0mstr\u001b[0m\u001b[0;34m(\u001b[0m\u001b[0mfraction\u001b[0m\u001b[0;34m)\u001b[0m\u001b[0;34m]\u001b[0m\u001b[0;34m[\u001b[0m\u001b[0;34m\"epochs\"\u001b[0m\u001b[0;34m]\u001b[0m\u001b[0;34m,\u001b[0m\u001b[0;34m\u001b[0m\u001b[0;34m\u001b[0m\u001b[0m\n\u001b[1;32m     13\u001b[0m                                 \u001b[0mverbose_epoch\u001b[0m \u001b[0;34m=\u001b[0m \u001b[0;36m0\u001b[0m\u001b[0;34m,\u001b[0m\u001b[0;34m\u001b[0m\u001b[0;34m\u001b[0m\u001b[0m\n\u001b[0;32m---> 14\u001b[0;31m                                 \u001b[0mverbose_cycle\u001b[0m \u001b[0;34m=\u001b[0m \u001b[0;36m0\u001b[0m\u001b[0;34m\u001b[0m\u001b[0;34m\u001b[0m\u001b[0m\n\u001b[0m\u001b[1;32m     15\u001b[0m                                 )\n",
            "\u001b[0;32m/content/drive/My Drive/Colab Notebooks/simclr_tf_keras_07022021/oct_run/50per_train_data/SimCLRv1-keras-tensorflow/SimCLR.py\u001b[0m in \u001b[0;36mtrain_NL_and_evaluate\u001b[0;34m(self, dfs, batch_size, params_generator, fraction, class_labels, reg_dense, reg_out, nums_of_unfrozen_layers, lrs, epochs, verbose_epoch, verbose_cycle)\u001b[0m\n\u001b[1;32m    278\u001b[0m                 \u001b[0mepochs\u001b[0m\u001b[0;34m,\u001b[0m\u001b[0;34m\u001b[0m\u001b[0;34m\u001b[0m\u001b[0m\n\u001b[1;32m    279\u001b[0m                 \u001b[0mverbose_epoch\u001b[0m\u001b[0;34m,\u001b[0m\u001b[0;34m\u001b[0m\u001b[0;34m\u001b[0m\u001b[0m\n\u001b[0;32m--> 280\u001b[0;31m                 \u001b[0mverbose_cycle\u001b[0m\u001b[0;34m,\u001b[0m\u001b[0;34m\u001b[0m\u001b[0;34m\u001b[0m\u001b[0m\n\u001b[0m\u001b[1;32m    281\u001b[0m             )\n\u001b[1;32m    282\u001b[0m             acc, report = classifier.evaluate_on_test(\n",
            "\u001b[0;32m/content/drive/My Drive/Colab Notebooks/simclr_tf_keras_07022021/oct_run/50per_train_data/SimCLRv1-keras-tensorflow/Classifier.py\u001b[0m in \u001b[0;36mtrain\u001b[0;34m(self, data_train, data_val, fraction, nums_of_unfrozen_layers, lrs, epochs, verbose_epoch, verbose_cycle)\u001b[0m\n\u001b[1;32m    183\u001b[0m                 \u001b[0mverbose\u001b[0m\u001b[0;34m=\u001b[0m\u001b[0mverbose_epoch\u001b[0m\u001b[0;34m,\u001b[0m\u001b[0;34m\u001b[0m\u001b[0;34m\u001b[0m\u001b[0m\n\u001b[1;32m    184\u001b[0m                 \u001b[0mvalidation_data\u001b[0m\u001b[0;34m=\u001b[0m\u001b[0mdata_val\u001b[0m\u001b[0;34m,\u001b[0m\u001b[0;34m\u001b[0m\u001b[0;34m\u001b[0m\u001b[0m\n\u001b[0;32m--> 185\u001b[0;31m                 \u001b[0mcallbacks\u001b[0m\u001b[0;34m=\u001b[0m\u001b[0;34m[\u001b[0m\u001b[0mearlyStopping\u001b[0m\u001b[0;34m,\u001b[0m \u001b[0mreduce_lr\u001b[0m\u001b[0;34m]\u001b[0m\u001b[0;34m\u001b[0m\u001b[0;34m\u001b[0m\u001b[0m\n\u001b[0m\u001b[1;32m    186\u001b[0m                 \u001b[0;31m# callbacks = [checkpoint, earlyStopping, reduce_lr]\u001b[0m\u001b[0;34m\u001b[0m\u001b[0;34m\u001b[0m\u001b[0;34m\u001b[0m\u001b[0m\n\u001b[1;32m    187\u001b[0m             )\n",
            "\u001b[0;32m/usr/local/lib/python3.7/dist-packages/tensorflow_core/python/keras/engine/training.py\u001b[0m in \u001b[0;36mfit\u001b[0;34m(self, x, y, batch_size, epochs, verbose, callbacks, validation_split, validation_data, shuffle, class_weight, sample_weight, initial_epoch, steps_per_epoch, validation_steps, validation_freq, max_queue_size, workers, use_multiprocessing, **kwargs)\u001b[0m\n\u001b[1;32m    817\u001b[0m         \u001b[0mmax_queue_size\u001b[0m\u001b[0;34m=\u001b[0m\u001b[0mmax_queue_size\u001b[0m\u001b[0;34m,\u001b[0m\u001b[0;34m\u001b[0m\u001b[0;34m\u001b[0m\u001b[0m\n\u001b[1;32m    818\u001b[0m         \u001b[0mworkers\u001b[0m\u001b[0;34m=\u001b[0m\u001b[0mworkers\u001b[0m\u001b[0;34m,\u001b[0m\u001b[0;34m\u001b[0m\u001b[0;34m\u001b[0m\u001b[0m\n\u001b[0;32m--> 819\u001b[0;31m         use_multiprocessing=use_multiprocessing)\n\u001b[0m\u001b[1;32m    820\u001b[0m \u001b[0;34m\u001b[0m\u001b[0m\n\u001b[1;32m    821\u001b[0m   def evaluate(self,\n",
            "\u001b[0;32m/usr/local/lib/python3.7/dist-packages/tensorflow_core/python/keras/engine/training_v2.py\u001b[0m in \u001b[0;36mfit\u001b[0;34m(self, model, x, y, batch_size, epochs, verbose, callbacks, validation_split, validation_data, shuffle, class_weight, sample_weight, initial_epoch, steps_per_epoch, validation_steps, validation_freq, max_queue_size, workers, use_multiprocessing, **kwargs)\u001b[0m\n\u001b[1;32m    340\u001b[0m                 \u001b[0mmode\u001b[0m\u001b[0;34m=\u001b[0m\u001b[0mModeKeys\u001b[0m\u001b[0;34m.\u001b[0m\u001b[0mTRAIN\u001b[0m\u001b[0;34m,\u001b[0m\u001b[0;34m\u001b[0m\u001b[0;34m\u001b[0m\u001b[0m\n\u001b[1;32m    341\u001b[0m                 \u001b[0mtraining_context\u001b[0m\u001b[0;34m=\u001b[0m\u001b[0mtraining_context\u001b[0m\u001b[0;34m,\u001b[0m\u001b[0;34m\u001b[0m\u001b[0;34m\u001b[0m\u001b[0m\n\u001b[0;32m--> 342\u001b[0;31m                 total_epochs=epochs)\n\u001b[0m\u001b[1;32m    343\u001b[0m             \u001b[0mcbks\u001b[0m\u001b[0;34m.\u001b[0m\u001b[0mmake_logs\u001b[0m\u001b[0;34m(\u001b[0m\u001b[0mmodel\u001b[0m\u001b[0;34m,\u001b[0m \u001b[0mepoch_logs\u001b[0m\u001b[0;34m,\u001b[0m \u001b[0mtraining_result\u001b[0m\u001b[0;34m,\u001b[0m \u001b[0mModeKeys\u001b[0m\u001b[0;34m.\u001b[0m\u001b[0mTRAIN\u001b[0m\u001b[0;34m)\u001b[0m\u001b[0;34m\u001b[0m\u001b[0;34m\u001b[0m\u001b[0m\n\u001b[1;32m    344\u001b[0m \u001b[0;34m\u001b[0m\u001b[0m\n",
            "\u001b[0;32m/usr/local/lib/python3.7/dist-packages/tensorflow_core/python/keras/engine/training_v2.py\u001b[0m in \u001b[0;36mrun_one_epoch\u001b[0;34m(model, iterator, execution_function, dataset_size, batch_size, strategy, steps_per_epoch, num_samples, mode, training_context, total_epochs)\u001b[0m\n\u001b[1;32m    126\u001b[0m         step=step, mode=mode, size=current_batch_size) as batch_logs:\n\u001b[1;32m    127\u001b[0m       \u001b[0;32mtry\u001b[0m\u001b[0;34m:\u001b[0m\u001b[0;34m\u001b[0m\u001b[0;34m\u001b[0m\u001b[0m\n\u001b[0;32m--> 128\u001b[0;31m         \u001b[0mbatch_outs\u001b[0m \u001b[0;34m=\u001b[0m \u001b[0mexecution_function\u001b[0m\u001b[0;34m(\u001b[0m\u001b[0miterator\u001b[0m\u001b[0;34m)\u001b[0m\u001b[0;34m\u001b[0m\u001b[0;34m\u001b[0m\u001b[0m\n\u001b[0m\u001b[1;32m    129\u001b[0m       \u001b[0;32mexcept\u001b[0m \u001b[0;34m(\u001b[0m\u001b[0mStopIteration\u001b[0m\u001b[0;34m,\u001b[0m \u001b[0merrors\u001b[0m\u001b[0;34m.\u001b[0m\u001b[0mOutOfRangeError\u001b[0m\u001b[0;34m)\u001b[0m\u001b[0;34m:\u001b[0m\u001b[0;34m\u001b[0m\u001b[0;34m\u001b[0m\u001b[0m\n\u001b[1;32m    130\u001b[0m         \u001b[0;31m# TODO(kaftan): File bug about tf function and errors.OutOfRangeError?\u001b[0m\u001b[0;34m\u001b[0m\u001b[0;34m\u001b[0m\u001b[0;34m\u001b[0m\u001b[0m\n",
            "\u001b[0;32m/usr/local/lib/python3.7/dist-packages/tensorflow_core/python/keras/engine/training_v2_utils.py\u001b[0m in \u001b[0;36mexecution_function\u001b[0;34m(input_fn)\u001b[0m\n\u001b[1;32m     96\u001b[0m     \u001b[0;31m# `numpy` translates Tensors to values in Eager mode.\u001b[0m\u001b[0;34m\u001b[0m\u001b[0;34m\u001b[0m\u001b[0;34m\u001b[0m\u001b[0m\n\u001b[1;32m     97\u001b[0m     return nest.map_structure(_non_none_constant_value,\n\u001b[0;32m---> 98\u001b[0;31m                               distributed_function(input_fn))\n\u001b[0m\u001b[1;32m     99\u001b[0m \u001b[0;34m\u001b[0m\u001b[0m\n\u001b[1;32m    100\u001b[0m   \u001b[0;32mreturn\u001b[0m \u001b[0mexecution_function\u001b[0m\u001b[0;34m\u001b[0m\u001b[0;34m\u001b[0m\u001b[0m\n",
            "\u001b[0;32m/usr/local/lib/python3.7/dist-packages/tensorflow_core/python/eager/def_function.py\u001b[0m in \u001b[0;36m__call__\u001b[0;34m(self, *args, **kwds)\u001b[0m\n\u001b[1;32m    566\u001b[0m         \u001b[0mxla_context\u001b[0m\u001b[0;34m.\u001b[0m\u001b[0mExit\u001b[0m\u001b[0;34m(\u001b[0m\u001b[0;34m)\u001b[0m\u001b[0;34m\u001b[0m\u001b[0;34m\u001b[0m\u001b[0m\n\u001b[1;32m    567\u001b[0m     \u001b[0;32melse\u001b[0m\u001b[0;34m:\u001b[0m\u001b[0;34m\u001b[0m\u001b[0;34m\u001b[0m\u001b[0m\n\u001b[0;32m--> 568\u001b[0;31m       \u001b[0mresult\u001b[0m \u001b[0;34m=\u001b[0m \u001b[0mself\u001b[0m\u001b[0;34m.\u001b[0m\u001b[0m_call\u001b[0m\u001b[0;34m(\u001b[0m\u001b[0;34m*\u001b[0m\u001b[0margs\u001b[0m\u001b[0;34m,\u001b[0m \u001b[0;34m**\u001b[0m\u001b[0mkwds\u001b[0m\u001b[0;34m)\u001b[0m\u001b[0;34m\u001b[0m\u001b[0;34m\u001b[0m\u001b[0m\n\u001b[0m\u001b[1;32m    569\u001b[0m \u001b[0;34m\u001b[0m\u001b[0m\n\u001b[1;32m    570\u001b[0m     \u001b[0;32mif\u001b[0m \u001b[0mtracing_count\u001b[0m \u001b[0;34m==\u001b[0m \u001b[0mself\u001b[0m\u001b[0;34m.\u001b[0m\u001b[0m_get_tracing_count\u001b[0m\u001b[0;34m(\u001b[0m\u001b[0;34m)\u001b[0m\u001b[0;34m:\u001b[0m\u001b[0;34m\u001b[0m\u001b[0;34m\u001b[0m\u001b[0m\n",
            "\u001b[0;32m/usr/local/lib/python3.7/dist-packages/tensorflow_core/python/eager/def_function.py\u001b[0m in \u001b[0;36m_call\u001b[0;34m(self, *args, **kwds)\u001b[0m\n\u001b[1;32m    597\u001b[0m       \u001b[0;31m# In this case we have created variables on the first call, so we run the\u001b[0m\u001b[0;34m\u001b[0m\u001b[0;34m\u001b[0m\u001b[0;34m\u001b[0m\u001b[0m\n\u001b[1;32m    598\u001b[0m       \u001b[0;31m# defunned version which is guaranteed to never create variables.\u001b[0m\u001b[0;34m\u001b[0m\u001b[0;34m\u001b[0m\u001b[0;34m\u001b[0m\u001b[0m\n\u001b[0;32m--> 599\u001b[0;31m       \u001b[0;32mreturn\u001b[0m \u001b[0mself\u001b[0m\u001b[0;34m.\u001b[0m\u001b[0m_stateless_fn\u001b[0m\u001b[0;34m(\u001b[0m\u001b[0;34m*\u001b[0m\u001b[0margs\u001b[0m\u001b[0;34m,\u001b[0m \u001b[0;34m**\u001b[0m\u001b[0mkwds\u001b[0m\u001b[0;34m)\u001b[0m  \u001b[0;31m# pylint: disable=not-callable\u001b[0m\u001b[0;34m\u001b[0m\u001b[0;34m\u001b[0m\u001b[0m\n\u001b[0m\u001b[1;32m    600\u001b[0m     \u001b[0;32melif\u001b[0m \u001b[0mself\u001b[0m\u001b[0;34m.\u001b[0m\u001b[0m_stateful_fn\u001b[0m \u001b[0;32mis\u001b[0m \u001b[0;32mnot\u001b[0m \u001b[0;32mNone\u001b[0m\u001b[0;34m:\u001b[0m\u001b[0;34m\u001b[0m\u001b[0;34m\u001b[0m\u001b[0m\n\u001b[1;32m    601\u001b[0m       \u001b[0;31m# Release the lock early so that multiple threads can perform the call\u001b[0m\u001b[0;34m\u001b[0m\u001b[0;34m\u001b[0m\u001b[0;34m\u001b[0m\u001b[0m\n",
            "\u001b[0;32m/usr/local/lib/python3.7/dist-packages/tensorflow_core/python/eager/function.py\u001b[0m in \u001b[0;36m__call__\u001b[0;34m(self, *args, **kwargs)\u001b[0m\n\u001b[1;32m   2361\u001b[0m     \u001b[0;32mwith\u001b[0m \u001b[0mself\u001b[0m\u001b[0;34m.\u001b[0m\u001b[0m_lock\u001b[0m\u001b[0;34m:\u001b[0m\u001b[0;34m\u001b[0m\u001b[0;34m\u001b[0m\u001b[0m\n\u001b[1;32m   2362\u001b[0m       \u001b[0mgraph_function\u001b[0m\u001b[0;34m,\u001b[0m \u001b[0margs\u001b[0m\u001b[0;34m,\u001b[0m \u001b[0mkwargs\u001b[0m \u001b[0;34m=\u001b[0m \u001b[0mself\u001b[0m\u001b[0;34m.\u001b[0m\u001b[0m_maybe_define_function\u001b[0m\u001b[0;34m(\u001b[0m\u001b[0margs\u001b[0m\u001b[0;34m,\u001b[0m \u001b[0mkwargs\u001b[0m\u001b[0;34m)\u001b[0m\u001b[0;34m\u001b[0m\u001b[0;34m\u001b[0m\u001b[0m\n\u001b[0;32m-> 2363\u001b[0;31m     \u001b[0;32mreturn\u001b[0m \u001b[0mgraph_function\u001b[0m\u001b[0;34m.\u001b[0m\u001b[0m_filtered_call\u001b[0m\u001b[0;34m(\u001b[0m\u001b[0margs\u001b[0m\u001b[0;34m,\u001b[0m \u001b[0mkwargs\u001b[0m\u001b[0;34m)\u001b[0m  \u001b[0;31m# pylint: disable=protected-access\u001b[0m\u001b[0;34m\u001b[0m\u001b[0;34m\u001b[0m\u001b[0m\n\u001b[0m\u001b[1;32m   2364\u001b[0m \u001b[0;34m\u001b[0m\u001b[0m\n\u001b[1;32m   2365\u001b[0m   \u001b[0;34m@\u001b[0m\u001b[0mproperty\u001b[0m\u001b[0;34m\u001b[0m\u001b[0;34m\u001b[0m\u001b[0m\n",
            "\u001b[0;32m/usr/local/lib/python3.7/dist-packages/tensorflow_core/python/eager/function.py\u001b[0m in \u001b[0;36m_filtered_call\u001b[0;34m(self, args, kwargs)\u001b[0m\n\u001b[1;32m   1609\u001b[0m          if isinstance(t, (ops.Tensor,\n\u001b[1;32m   1610\u001b[0m                            resource_variable_ops.BaseResourceVariable))),\n\u001b[0;32m-> 1611\u001b[0;31m         self.captured_inputs)\n\u001b[0m\u001b[1;32m   1612\u001b[0m \u001b[0;34m\u001b[0m\u001b[0m\n\u001b[1;32m   1613\u001b[0m   \u001b[0;32mdef\u001b[0m \u001b[0m_call_flat\u001b[0m\u001b[0;34m(\u001b[0m\u001b[0mself\u001b[0m\u001b[0;34m,\u001b[0m \u001b[0margs\u001b[0m\u001b[0;34m,\u001b[0m \u001b[0mcaptured_inputs\u001b[0m\u001b[0;34m,\u001b[0m \u001b[0mcancellation_manager\u001b[0m\u001b[0;34m=\u001b[0m\u001b[0;32mNone\u001b[0m\u001b[0;34m)\u001b[0m\u001b[0;34m:\u001b[0m\u001b[0;34m\u001b[0m\u001b[0;34m\u001b[0m\u001b[0m\n",
            "\u001b[0;32m/usr/local/lib/python3.7/dist-packages/tensorflow_core/python/eager/function.py\u001b[0m in \u001b[0;36m_call_flat\u001b[0;34m(self, args, captured_inputs, cancellation_manager)\u001b[0m\n\u001b[1;32m   1690\u001b[0m       \u001b[0;31m# No tape is watching; skip to running the function.\u001b[0m\u001b[0;34m\u001b[0m\u001b[0;34m\u001b[0m\u001b[0;34m\u001b[0m\u001b[0m\n\u001b[1;32m   1691\u001b[0m       return self._build_call_outputs(self._inference_function.call(\n\u001b[0;32m-> 1692\u001b[0;31m           ctx, args, cancellation_manager=cancellation_manager))\n\u001b[0m\u001b[1;32m   1693\u001b[0m     forward_backward = self._select_forward_and_backward_functions(\n\u001b[1;32m   1694\u001b[0m         \u001b[0margs\u001b[0m\u001b[0;34m,\u001b[0m\u001b[0;34m\u001b[0m\u001b[0;34m\u001b[0m\u001b[0m\n",
            "\u001b[0;32m/usr/local/lib/python3.7/dist-packages/tensorflow_core/python/eager/function.py\u001b[0m in \u001b[0;36mcall\u001b[0;34m(self, ctx, args, cancellation_manager)\u001b[0m\n\u001b[1;32m    543\u001b[0m               \u001b[0minputs\u001b[0m\u001b[0;34m=\u001b[0m\u001b[0margs\u001b[0m\u001b[0;34m,\u001b[0m\u001b[0;34m\u001b[0m\u001b[0;34m\u001b[0m\u001b[0m\n\u001b[1;32m    544\u001b[0m               \u001b[0mattrs\u001b[0m\u001b[0;34m=\u001b[0m\u001b[0;34m(\u001b[0m\u001b[0;34m\"executor_type\"\u001b[0m\u001b[0;34m,\u001b[0m \u001b[0mexecutor_type\u001b[0m\u001b[0;34m,\u001b[0m \u001b[0;34m\"config_proto\"\u001b[0m\u001b[0;34m,\u001b[0m \u001b[0mconfig\u001b[0m\u001b[0;34m)\u001b[0m\u001b[0;34m,\u001b[0m\u001b[0;34m\u001b[0m\u001b[0;34m\u001b[0m\u001b[0m\n\u001b[0;32m--> 545\u001b[0;31m               ctx=ctx)\n\u001b[0m\u001b[1;32m    546\u001b[0m         \u001b[0;32melse\u001b[0m\u001b[0;34m:\u001b[0m\u001b[0;34m\u001b[0m\u001b[0;34m\u001b[0m\u001b[0m\n\u001b[1;32m    547\u001b[0m           outputs = execute.execute_with_cancellation(\n",
            "\u001b[0;32m/usr/local/lib/python3.7/dist-packages/tensorflow_core/python/eager/execute.py\u001b[0m in \u001b[0;36mquick_execute\u001b[0;34m(op_name, num_outputs, inputs, attrs, ctx, name)\u001b[0m\n\u001b[1;32m     59\u001b[0m     tensors = pywrap_tensorflow.TFE_Py_Execute(ctx._handle, device_name,\n\u001b[1;32m     60\u001b[0m                                                \u001b[0mop_name\u001b[0m\u001b[0;34m,\u001b[0m \u001b[0minputs\u001b[0m\u001b[0;34m,\u001b[0m \u001b[0mattrs\u001b[0m\u001b[0;34m,\u001b[0m\u001b[0;34m\u001b[0m\u001b[0;34m\u001b[0m\u001b[0m\n\u001b[0;32m---> 61\u001b[0;31m                                                num_outputs)\n\u001b[0m\u001b[1;32m     62\u001b[0m   \u001b[0;32mexcept\u001b[0m \u001b[0mcore\u001b[0m\u001b[0;34m.\u001b[0m\u001b[0m_NotOkStatusException\u001b[0m \u001b[0;32mas\u001b[0m \u001b[0me\u001b[0m\u001b[0;34m:\u001b[0m\u001b[0;34m\u001b[0m\u001b[0;34m\u001b[0m\u001b[0m\n\u001b[1;32m     63\u001b[0m     \u001b[0;32mif\u001b[0m \u001b[0mname\u001b[0m \u001b[0;32mis\u001b[0m \u001b[0;32mnot\u001b[0m \u001b[0;32mNone\u001b[0m\u001b[0;34m:\u001b[0m\u001b[0;34m\u001b[0m\u001b[0;34m\u001b[0m\u001b[0m\n",
            "\u001b[0;31mKeyboardInterrupt\u001b[0m: "
          ]
        }
      ]
    },
    {
      "cell_type": "code",
      "metadata": {
        "id": "PAyCxLZXMl3j"
      },
      "source": [
        "tSNE_vis(df_train, features_train, class_labels)"
      ],
      "execution_count": null,
      "outputs": []
    },
    {
      "cell_type": "code",
      "metadata": {
        "id": "RItzibZvMl3l",
        "colab": {
          "base_uri": "https://localhost:8080/",
          "height": 35
        },
        "outputId": "288e9d00-f3b7-4fc5-8bee-7cd9c77e7a35"
      },
      "source": [
        "os.getcwd()"
      ],
      "execution_count": 100,
      "outputs": [
        {
          "output_type": "execute_result",
          "data": {
            "application/vnd.google.colaboratory.intrinsic+json": {
              "type": "string"
            },
            "text/plain": [
              "'/content/drive/My Drive/Colab Notebooks/simclr_tf_keras_07022021/oct_run/50per_train_data/SimCLRv1-keras-tensorflow'"
            ]
          },
          "metadata": {
            "tags": []
          },
          "execution_count": 100
        }
      ]
    },
    {
      "cell_type": "markdown",
      "metadata": {
        "id": "wrDAbEICODF3"
      },
      "source": [
        "# JG: Load pre-trained best performaing SimCLR based model trained with 1168 images only and make predictions"
      ]
    },
    {
      "cell_type": "code",
      "metadata": {
        "id": "mAN4YBLCN2Du"
      },
      "source": [
        "import tensorflow as tf\n",
        "import json\n",
        "import os\n",
        "from tensorflow import keras\n",
        "from tensorflow.keras.models import load_model"
      ],
      "execution_count": 5,
      "outputs": []
    },
    {
      "cell_type": "code",
      "metadata": {
        "colab": {
          "base_uri": "https://localhost:8080/"
        },
        "id": "nYSfHh6GPkQy",
        "outputId": "3b4d4282-f458-4cb7-d4fb-d10732301c4a"
      },
      "source": [
        "os.chdir('/content/drive/My Drive/Colab Notebooks/simclr_tf_keras_07022021/oct_run/50per_train_data/SimCLRv1-keras-tensorflow/models/trashnet/SimCLR')\n",
        "%ls"
      ],
      "execution_count": 6,
      "outputs": [
        {
          "output_type": "stream",
          "text": [
            "SimCLR_07_04_02h_07.h5  SimCLR_07_04_22h_15.h5  SimCLR_07_04_23h_08.h5\n",
            "SimCLR_07_04_21h_28.h5  SimCLR_07_04_22h_42.h5\n"
          ],
          "name": "stdout"
        }
      ]
    },
    {
      "cell_type": "code",
      "metadata": {
        "colab": {
          "base_uri": "https://localhost:8080/",
          "height": 459
        },
        "id": "vPtCLYZCQYfl",
        "outputId": "50f21cd2-2347-4941-ec58-8c4a8208fd9d"
      },
      "source": [
        "!pip install 'h5py==2.10.0' --force-reinstall"
      ],
      "execution_count": 1,
      "outputs": [
        {
          "output_type": "stream",
          "text": [
            "Collecting h5py==2.10.0\n",
            "  Using cached https://files.pythonhosted.org/packages/3f/c0/abde58b837e066bca19a3f7332d9d0493521d7dd6b48248451a9e3fe2214/h5py-2.10.0-cp37-cp37m-manylinux1_x86_64.whl\n",
            "Collecting six\n",
            "  Using cached https://files.pythonhosted.org/packages/d9/5a/e7c31adbe875f2abbb91bd84cf2dc52d792b5a01506781dbcf25c91daf11/six-1.16.0-py2.py3-none-any.whl\n",
            "Collecting numpy>=1.7\n",
            "  Using cached https://files.pythonhosted.org/packages/3f/03/c3526fb4e79a793498829ca570f2f868204ad9a8040afcd72d82a8f121db/numpy-1.21.0-cp37-cp37m-manylinux_2_12_x86_64.manylinux2010_x86_64.whl\n",
            "\u001b[31mERROR: tensorflow-probability 0.12.1 has requirement gast>=0.3.2, but you'll have gast 0.2.2 which is incompatible.\u001b[0m\n",
            "\u001b[31mERROR: google-colab 1.0.0 has requirement six~=1.15.0, but you'll have six 1.16.0 which is incompatible.\u001b[0m\n",
            "\u001b[31mERROR: datascience 0.10.6 has requirement folium==0.2.1, but you'll have folium 0.8.3 which is incompatible.\u001b[0m\n",
            "\u001b[31mERROR: albumentations 0.1.12 has requirement imgaug<0.2.7,>=0.2.5, but you'll have imgaug 0.2.9 which is incompatible.\u001b[0m\n",
            "Installing collected packages: six, numpy, h5py\n",
            "  Found existing installation: six 1.16.0\n",
            "    Uninstalling six-1.16.0:\n",
            "      Successfully uninstalled six-1.16.0\n",
            "  Found existing installation: numpy 1.21.0\n",
            "    Uninstalling numpy-1.21.0:\n",
            "      Successfully uninstalled numpy-1.21.0\n",
            "  Found existing installation: h5py 2.10.0\n",
            "    Uninstalling h5py-2.10.0:\n",
            "      Successfully uninstalled h5py-2.10.0\n",
            "Successfully installed h5py-2.10.0 numpy-1.21.0 six-1.16.0\n"
          ],
          "name": "stdout"
        },
        {
          "output_type": "display_data",
          "data": {
            "application/vnd.colab-display-data+json": {
              "pip_warning": {
                "packages": [
                  "numpy",
                  "six"
                ]
              }
            }
          },
          "metadata": {
            "tags": []
          }
        }
      ]
    },
    {
      "cell_type": "code",
      "metadata": {
        "id": "wNvo4rS3RJUk"
      },
      "source": [
        "os.chdir('/content/drive/My Drive/Colab Notebooks/simclr_tf_keras_07022021/oct_run/50per_train_data/SimCLRv1-keras-tensorflow')"
      ],
      "execution_count": 8,
      "outputs": []
    },
    {
      "cell_type": "code",
      "metadata": {
        "colab": {
          "base_uri": "https://localhost:8080/"
        },
        "id": "VJLda2OhRzoo",
        "outputId": "2e4ae6a1-49fe-411e-bbee-c562c1a3264e"
      },
      "source": [
        "!pip install keras==2.3.1"
      ],
      "execution_count": 13,
      "outputs": [
        {
          "output_type": "stream",
          "text": [
            "Requirement already satisfied: keras==2.3.1 in /usr/local/lib/python3.7/dist-packages (2.3.1)\n",
            "Requirement already satisfied: keras-applications>=1.0.6 in /usr/local/lib/python3.7/dist-packages (from keras==2.3.1) (1.0.8)\n",
            "Requirement already satisfied: pyyaml in /usr/local/lib/python3.7/dist-packages (from keras==2.3.1) (3.13)\n",
            "Requirement already satisfied: h5py in /usr/local/lib/python3.7/dist-packages (from keras==2.3.1) (2.10.0)\n",
            "Requirement already satisfied: six>=1.9.0 in /usr/local/lib/python3.7/dist-packages (from keras==2.3.1) (1.16.0)\n",
            "Requirement already satisfied: numpy>=1.9.1 in /usr/local/lib/python3.7/dist-packages (from keras==2.3.1) (1.21.0)\n",
            "Requirement already satisfied: keras-preprocessing>=1.0.5 in /usr/local/lib/python3.7/dist-packages (from keras==2.3.1) (1.1.2)\n",
            "Requirement already satisfied: scipy>=0.14 in /usr/local/lib/python3.7/dist-packages (from keras==2.3.1) (1.4.1)\n"
          ],
          "name": "stdout"
        }
      ]
    },
    {
      "cell_type": "code",
      "metadata": {
        "id": "kqenISG7RYt1"
      },
      "source": [
        "from SimCLR import SimCLR"
      ],
      "execution_count": 14,
      "outputs": []
    },
    {
      "cell_type": "code",
      "metadata": {
        "colab": {
          "base_uri": "https://localhost:8080/"
        },
        "id": "qjlvK809Of-m",
        "outputId": "8afc121c-deb1-454f-ae32-4d49325a8de6"
      },
      "source": [
        "#model = load_model('/content/drive/My Drive/Colab Notebooks/simclr_tf_keras_07022021/oct_run/50per_train_data/SimCLRv1-keras-tensorflow/models/trashnet/SimCLR/SimCLR_07_04_22h_42.h5')\n",
        "model = load_model('/content/drive/My Drive/Colab Notebooks/simclr_tf_keras_07022021/oct_run/50per_train_data/SimCLRv1-keras-tensorflow/models/trashnet/base_model/base_model_round_3.h5')\n",
        "model.summary()"
      ],
      "execution_count": 16,
      "outputs": [
        {
          "output_type": "stream",
          "text": [
            "WARNING:tensorflow:No training configuration found in save file: the model was *not* compiled. Compile it manually.\n",
            "Model: \"vgg16\"\n",
            "_________________________________________________________________\n",
            "Layer (type)                 Output Shape              Param #   \n",
            "=================================================================\n",
            "input_66 (InputLayer)        [(None, 80, 80, 3)]       0         \n",
            "_________________________________________________________________\n",
            "block1_conv1 (Conv2D)        (None, 80, 80, 64)        1792      \n",
            "_________________________________________________________________\n",
            "block1_conv2 (Conv2D)        (None, 80, 80, 64)        36928     \n",
            "_________________________________________________________________\n",
            "block1_pool (MaxPooling2D)   (None, 40, 40, 64)        0         \n",
            "_________________________________________________________________\n",
            "block2_conv1 (Conv2D)        (None, 40, 40, 128)       73856     \n",
            "_________________________________________________________________\n",
            "block2_conv2 (Conv2D)        (None, 40, 40, 128)       147584    \n",
            "_________________________________________________________________\n",
            "block2_pool (MaxPooling2D)   (None, 20, 20, 128)       0         \n",
            "_________________________________________________________________\n",
            "block3_conv1 (Conv2D)        (None, 20, 20, 256)       295168    \n",
            "_________________________________________________________________\n",
            "block3_conv2 (Conv2D)        (None, 20, 20, 256)       590080    \n",
            "_________________________________________________________________\n",
            "block3_conv3 (Conv2D)        (None, 20, 20, 256)       590080    \n",
            "_________________________________________________________________\n",
            "block3_pool (MaxPooling2D)   (None, 10, 10, 256)       0         \n",
            "_________________________________________________________________\n",
            "block4_conv1 (Conv2D)        (None, 10, 10, 512)       1180160   \n",
            "_________________________________________________________________\n",
            "block4_conv2 (Conv2D)        (None, 10, 10, 512)       2359808   \n",
            "_________________________________________________________________\n",
            "block4_conv3 (Conv2D)        (None, 10, 10, 512)       2359808   \n",
            "_________________________________________________________________\n",
            "block4_pool (MaxPooling2D)   (None, 5, 5, 512)         0         \n",
            "_________________________________________________________________\n",
            "block5_conv1 (Conv2D)        (None, 5, 5, 512)         2359808   \n",
            "_________________________________________________________________\n",
            "block5_conv2 (Conv2D)        (None, 5, 5, 512)         2359808   \n",
            "_________________________________________________________________\n",
            "block5_conv3 (Conv2D)        (None, 5, 5, 512)         2359808   \n",
            "_________________________________________________________________\n",
            "block5_pool (MaxPooling2D)   (None, 2, 2, 512)         0         \n",
            "=================================================================\n",
            "Total params: 14,714,688\n",
            "Trainable params: 4,719,616\n",
            "Non-trainable params: 9,995,072\n",
            "_________________________________________________________________\n"
          ],
          "name": "stdout"
        }
      ]
    },
    {
      "cell_type": "code",
      "metadata": {
        "colab": {
          "base_uri": "https://localhost:8080/",
          "height": 35
        },
        "id": "ebAkNmkfUMqc",
        "outputId": "0cadd6f8-051f-4985-c9d1-c5ec7e476146"
      },
      "source": [
        "os.getcwd()"
      ],
      "execution_count": 28,
      "outputs": [
        {
          "output_type": "execute_result",
          "data": {
            "application/vnd.google.colaboratory.intrinsic+json": {
              "type": "string"
            },
            "text/plain": [
              "'/content/drive/My Drive/Colab Notebooks/simclr_tf_keras_07022021/oct_run/50per_train_data/SimCLRv1-keras-tensorflow'"
            ]
          },
          "metadata": {
            "tags": []
          },
          "execution_count": 28
        }
      ]
    },
    {
      "cell_type": "code",
      "metadata": {
        "id": "Ka2YwlxDXLeH"
      },
      "source": [
        "#from swish import Swish\n",
        "#from SoftmaxCosineSim import SoftmaxCosineSim"
      ],
      "execution_count": 50,
      "outputs": []
    },
    {
      "cell_type": "code",
      "metadata": {
        "colab": {
          "base_uri": "https://localhost:8080/"
        },
        "id": "Qh7-389YSbqJ",
        "outputId": "1ee513cb-22a5-4acf-c06e-7637cb11cfed"
      },
      "source": [
        "model2 = load_model('/content/drive/My Drive/Colab Notebooks/simclr_tf_keras_07022021/oct_run/50per_train_data/SimCLRv1-keras-tensorflow/models/trashnet/SimCLR/SimCLR_07_04_22h_42.h5', custom_objects={'SoftmaxCosineSim':SoftmaxCosineSim,'Swish':Swish})\n",
        "model2.summary()"
      ],
      "execution_count": 55,
      "outputs": [
        {
          "output_type": "stream",
          "text": [
            "WARNING:tensorflow:Error in loading the saved optimizer state. As a result, your model is starting with a freshly initialized optimizer.\n",
            "Model: \"model_33\"\n",
            "__________________________________________________________________________________________________\n",
            "Layer (type)                    Output Shape         Param #     Connected to                     \n",
            "==================================================================================================\n",
            "input_195 (InputLayer)          [(None, 80, 80, 3)]  0                                            \n",
            "__________________________________________________________________________________________________\n",
            "input_196 (InputLayer)          [(None, 80, 80, 3)]  0                                            \n",
            "__________________________________________________________________________________________________\n",
            "input_197 (InputLayer)          [(None, 80, 80, 3)]  0                                            \n",
            "__________________________________________________________________________________________________\n",
            "input_198 (InputLayer)          [(None, 80, 80, 3)]  0                                            \n",
            "__________________________________________________________________________________________________\n",
            "input_199 (InputLayer)          [(None, 80, 80, 3)]  0                                            \n",
            "__________________________________________________________________________________________________\n",
            "input_200 (InputLayer)          [(None, 80, 80, 3)]  0                                            \n",
            "__________________________________________________________________________________________________\n",
            "input_201 (InputLayer)          [(None, 80, 80, 3)]  0                                            \n",
            "__________________________________________________________________________________________________\n",
            "input_202 (InputLayer)          [(None, 80, 80, 3)]  0                                            \n",
            "__________________________________________________________________________________________________\n",
            "input_203 (InputLayer)          [(None, 80, 80, 3)]  0                                            \n",
            "__________________________________________________________________________________________________\n",
            "input_204 (InputLayer)          [(None, 80, 80, 3)]  0                                            \n",
            "__________________________________________________________________________________________________\n",
            "input_205 (InputLayer)          [(None, 80, 80, 3)]  0                                            \n",
            "__________________________________________________________________________________________________\n",
            "input_206 (InputLayer)          [(None, 80, 80, 3)]  0                                            \n",
            "__________________________________________________________________________________________________\n",
            "input_207 (InputLayer)          [(None, 80, 80, 3)]  0                                            \n",
            "__________________________________________________________________________________________________\n",
            "input_208 (InputLayer)          [(None, 80, 80, 3)]  0                                            \n",
            "__________________________________________________________________________________________________\n",
            "input_209 (InputLayer)          [(None, 80, 80, 3)]  0                                            \n",
            "__________________________________________________________________________________________________\n",
            "input_210 (InputLayer)          [(None, 80, 80, 3)]  0                                            \n",
            "__________________________________________________________________________________________________\n",
            "input_211 (InputLayer)          [(None, 80, 80, 3)]  0                                            \n",
            "__________________________________________________________________________________________________\n",
            "input_212 (InputLayer)          [(None, 80, 80, 3)]  0                                            \n",
            "__________________________________________________________________________________________________\n",
            "input_213 (InputLayer)          [(None, 80, 80, 3)]  0                                            \n",
            "__________________________________________________________________________________________________\n",
            "input_214 (InputLayer)          [(None, 80, 80, 3)]  0                                            \n",
            "__________________________________________________________________________________________________\n",
            "input_215 (InputLayer)          [(None, 80, 80, 3)]  0                                            \n",
            "__________________________________________________________________________________________________\n",
            "input_216 (InputLayer)          [(None, 80, 80, 3)]  0                                            \n",
            "__________________________________________________________________________________________________\n",
            "input_217 (InputLayer)          [(None, 80, 80, 3)]  0                                            \n",
            "__________________________________________________________________________________________________\n",
            "input_218 (InputLayer)          [(None, 80, 80, 3)]  0                                            \n",
            "__________________________________________________________________________________________________\n",
            "input_219 (InputLayer)          [(None, 80, 80, 3)]  0                                            \n",
            "__________________________________________________________________________________________________\n",
            "input_220 (InputLayer)          [(None, 80, 80, 3)]  0                                            \n",
            "__________________________________________________________________________________________________\n",
            "input_221 (InputLayer)          [(None, 80, 80, 3)]  0                                            \n",
            "__________________________________________________________________________________________________\n",
            "input_222 (InputLayer)          [(None, 80, 80, 3)]  0                                            \n",
            "__________________________________________________________________________________________________\n",
            "input_223 (InputLayer)          [(None, 80, 80, 3)]  0                                            \n",
            "__________________________________________________________________________________________________\n",
            "input_224 (InputLayer)          [(None, 80, 80, 3)]  0                                            \n",
            "__________________________________________________________________________________________________\n",
            "input_225 (InputLayer)          [(None, 80, 80, 3)]  0                                            \n",
            "__________________________________________________________________________________________________\n",
            "input_226 (InputLayer)          [(None, 80, 80, 3)]  0                                            \n",
            "__________________________________________________________________________________________________\n",
            "input_227 (InputLayer)          [(None, 80, 80, 3)]  0                                            \n",
            "__________________________________________________________________________________________________\n",
            "input_228 (InputLayer)          [(None, 80, 80, 3)]  0                                            \n",
            "__________________________________________________________________________________________________\n",
            "input_229 (InputLayer)          [(None, 80, 80, 3)]  0                                            \n",
            "__________________________________________________________________________________________________\n",
            "input_230 (InputLayer)          [(None, 80, 80, 3)]  0                                            \n",
            "__________________________________________________________________________________________________\n",
            "input_231 (InputLayer)          [(None, 80, 80, 3)]  0                                            \n",
            "__________________________________________________________________________________________________\n",
            "input_232 (InputLayer)          [(None, 80, 80, 3)]  0                                            \n",
            "__________________________________________________________________________________________________\n",
            "input_233 (InputLayer)          [(None, 80, 80, 3)]  0                                            \n",
            "__________________________________________________________________________________________________\n",
            "input_234 (InputLayer)          [(None, 80, 80, 3)]  0                                            \n",
            "__________________________________________________________________________________________________\n",
            "input_235 (InputLayer)          [(None, 80, 80, 3)]  0                                            \n",
            "__________________________________________________________________________________________________\n",
            "input_236 (InputLayer)          [(None, 80, 80, 3)]  0                                            \n",
            "__________________________________________________________________________________________________\n",
            "input_237 (InputLayer)          [(None, 80, 80, 3)]  0                                            \n",
            "__________________________________________________________________________________________________\n",
            "input_238 (InputLayer)          [(None, 80, 80, 3)]  0                                            \n",
            "__________________________________________________________________________________________________\n",
            "input_239 (InputLayer)          [(None, 80, 80, 3)]  0                                            \n",
            "__________________________________________________________________________________________________\n",
            "input_240 (InputLayer)          [(None, 80, 80, 3)]  0                                            \n",
            "__________________________________________________________________________________________________\n",
            "input_241 (InputLayer)          [(None, 80, 80, 3)]  0                                            \n",
            "__________________________________________________________________________________________________\n",
            "input_242 (InputLayer)          [(None, 80, 80, 3)]  0                                            \n",
            "__________________________________________________________________________________________________\n",
            "input_243 (InputLayer)          [(None, 80, 80, 3)]  0                                            \n",
            "__________________________________________________________________________________________________\n",
            "input_244 (InputLayer)          [(None, 80, 80, 3)]  0                                            \n",
            "__________________________________________________________________________________________________\n",
            "input_245 (InputLayer)          [(None, 80, 80, 3)]  0                                            \n",
            "__________________________________________________________________________________________________\n",
            "input_246 (InputLayer)          [(None, 80, 80, 3)]  0                                            \n",
            "__________________________________________________________________________________________________\n",
            "input_247 (InputLayer)          [(None, 80, 80, 3)]  0                                            \n",
            "__________________________________________________________________________________________________\n",
            "input_248 (InputLayer)          [(None, 80, 80, 3)]  0                                            \n",
            "__________________________________________________________________________________________________\n",
            "input_249 (InputLayer)          [(None, 80, 80, 3)]  0                                            \n",
            "__________________________________________________________________________________________________\n",
            "input_250 (InputLayer)          [(None, 80, 80, 3)]  0                                            \n",
            "__________________________________________________________________________________________________\n",
            "input_251 (InputLayer)          [(None, 80, 80, 3)]  0                                            \n",
            "__________________________________________________________________________________________________\n",
            "input_252 (InputLayer)          [(None, 80, 80, 3)]  0                                            \n",
            "__________________________________________________________________________________________________\n",
            "input_253 (InputLayer)          [(None, 80, 80, 3)]  0                                            \n",
            "__________________________________________________________________________________________________\n",
            "input_254 (InputLayer)          [(None, 80, 80, 3)]  0                                            \n",
            "__________________________________________________________________________________________________\n",
            "input_255 (InputLayer)          [(None, 80, 80, 3)]  0                                            \n",
            "__________________________________________________________________________________________________\n",
            "input_256 (InputLayer)          [(None, 80, 80, 3)]  0                                            \n",
            "__________________________________________________________________________________________________\n",
            "input_257 (InputLayer)          [(None, 80, 80, 3)]  0                                            \n",
            "__________________________________________________________________________________________________\n",
            "input_258 (InputLayer)          [(None, 80, 80, 3)]  0                                            \n",
            "__________________________________________________________________________________________________\n",
            "vgg16 (Model)                   (None, 2, 2, 512)    14714688    input_195[0][0]                  \n",
            "                                                                 input_196[0][0]                  \n",
            "                                                                 input_197[0][0]                  \n",
            "                                                                 input_198[0][0]                  \n",
            "                                                                 input_199[0][0]                  \n",
            "                                                                 input_200[0][0]                  \n",
            "                                                                 input_201[0][0]                  \n",
            "                                                                 input_202[0][0]                  \n",
            "                                                                 input_203[0][0]                  \n",
            "                                                                 input_204[0][0]                  \n",
            "                                                                 input_205[0][0]                  \n",
            "                                                                 input_206[0][0]                  \n",
            "                                                                 input_207[0][0]                  \n",
            "                                                                 input_208[0][0]                  \n",
            "                                                                 input_209[0][0]                  \n",
            "                                                                 input_210[0][0]                  \n",
            "                                                                 input_211[0][0]                  \n",
            "                                                                 input_212[0][0]                  \n",
            "                                                                 input_213[0][0]                  \n",
            "                                                                 input_214[0][0]                  \n",
            "                                                                 input_215[0][0]                  \n",
            "                                                                 input_216[0][0]                  \n",
            "                                                                 input_217[0][0]                  \n",
            "                                                                 input_218[0][0]                  \n",
            "                                                                 input_219[0][0]                  \n",
            "                                                                 input_220[0][0]                  \n",
            "                                                                 input_221[0][0]                  \n",
            "                                                                 input_222[0][0]                  \n",
            "                                                                 input_223[0][0]                  \n",
            "                                                                 input_224[0][0]                  \n",
            "                                                                 input_225[0][0]                  \n",
            "                                                                 input_226[0][0]                  \n",
            "                                                                 input_227[0][0]                  \n",
            "                                                                 input_228[0][0]                  \n",
            "                                                                 input_229[0][0]                  \n",
            "                                                                 input_230[0][0]                  \n",
            "                                                                 input_231[0][0]                  \n",
            "                                                                 input_232[0][0]                  \n",
            "                                                                 input_233[0][0]                  \n",
            "                                                                 input_234[0][0]                  \n",
            "                                                                 input_235[0][0]                  \n",
            "                                                                 input_236[0][0]                  \n",
            "                                                                 input_237[0][0]                  \n",
            "                                                                 input_238[0][0]                  \n",
            "                                                                 input_239[0][0]                  \n",
            "                                                                 input_240[0][0]                  \n",
            "                                                                 input_241[0][0]                  \n",
            "                                                                 input_242[0][0]                  \n",
            "                                                                 input_243[0][0]                  \n",
            "                                                                 input_244[0][0]                  \n",
            "                                                                 input_245[0][0]                  \n",
            "                                                                 input_246[0][0]                  \n",
            "                                                                 input_247[0][0]                  \n",
            "                                                                 input_248[0][0]                  \n",
            "                                                                 input_249[0][0]                  \n",
            "                                                                 input_250[0][0]                  \n",
            "                                                                 input_251[0][0]                  \n",
            "                                                                 input_252[0][0]                  \n",
            "                                                                 input_253[0][0]                  \n",
            "                                                                 input_254[0][0]                  \n",
            "                                                                 input_255[0][0]                  \n",
            "                                                                 input_256[0][0]                  \n",
            "                                                                 input_257[0][0]                  \n",
            "                                                                 input_258[0][0]                  \n",
            "__________________________________________________________________________________________________\n",
            "flatten_1 (Flatten)             (None, 2048)         0           vgg16[1][0]                      \n",
            "                                                                 vgg16[2][0]                      \n",
            "                                                                 vgg16[3][0]                      \n",
            "                                                                 vgg16[4][0]                      \n",
            "                                                                 vgg16[5][0]                      \n",
            "                                                                 vgg16[6][0]                      \n",
            "                                                                 vgg16[7][0]                      \n",
            "                                                                 vgg16[8][0]                      \n",
            "                                                                 vgg16[9][0]                      \n",
            "                                                                 vgg16[10][0]                     \n",
            "                                                                 vgg16[11][0]                     \n",
            "                                                                 vgg16[12][0]                     \n",
            "                                                                 vgg16[13][0]                     \n",
            "                                                                 vgg16[14][0]                     \n",
            "                                                                 vgg16[15][0]                     \n",
            "                                                                 vgg16[16][0]                     \n",
            "                                                                 vgg16[17][0]                     \n",
            "                                                                 vgg16[18][0]                     \n",
            "                                                                 vgg16[19][0]                     \n",
            "                                                                 vgg16[20][0]                     \n",
            "                                                                 vgg16[21][0]                     \n",
            "                                                                 vgg16[22][0]                     \n",
            "                                                                 vgg16[23][0]                     \n",
            "                                                                 vgg16[24][0]                     \n",
            "                                                                 vgg16[25][0]                     \n",
            "                                                                 vgg16[26][0]                     \n",
            "                                                                 vgg16[27][0]                     \n",
            "                                                                 vgg16[28][0]                     \n",
            "                                                                 vgg16[29][0]                     \n",
            "                                                                 vgg16[30][0]                     \n",
            "                                                                 vgg16[31][0]                     \n",
            "                                                                 vgg16[32][0]                     \n",
            "                                                                 vgg16[33][0]                     \n",
            "                                                                 vgg16[34][0]                     \n",
            "                                                                 vgg16[35][0]                     \n",
            "                                                                 vgg16[36][0]                     \n",
            "                                                                 vgg16[37][0]                     \n",
            "                                                                 vgg16[38][0]                     \n",
            "                                                                 vgg16[39][0]                     \n",
            "                                                                 vgg16[40][0]                     \n",
            "                                                                 vgg16[41][0]                     \n",
            "                                                                 vgg16[42][0]                     \n",
            "                                                                 vgg16[43][0]                     \n",
            "                                                                 vgg16[44][0]                     \n",
            "                                                                 vgg16[45][0]                     \n",
            "                                                                 vgg16[46][0]                     \n",
            "                                                                 vgg16[47][0]                     \n",
            "                                                                 vgg16[48][0]                     \n",
            "                                                                 vgg16[49][0]                     \n",
            "                                                                 vgg16[50][0]                     \n",
            "                                                                 vgg16[51][0]                     \n",
            "                                                                 vgg16[52][0]                     \n",
            "                                                                 vgg16[53][0]                     \n",
            "                                                                 vgg16[54][0]                     \n",
            "                                                                 vgg16[55][0]                     \n",
            "                                                                 vgg16[56][0]                     \n",
            "                                                                 vgg16[57][0]                     \n",
            "                                                                 vgg16[58][0]                     \n",
            "                                                                 vgg16[59][0]                     \n",
            "                                                                 vgg16[60][0]                     \n",
            "                                                                 vgg16[61][0]                     \n",
            "                                                                 vgg16[62][0]                     \n",
            "                                                                 vgg16[63][0]                     \n",
            "                                                                 vgg16[64][0]                     \n",
            "__________________________________________________________________________________________________\n",
            "dense_2 (Dense)                 (None, 2048)         4196352     flatten_1[0][0]                  \n",
            "                                                                 flatten_1[1][0]                  \n",
            "                                                                 flatten_1[2][0]                  \n",
            "                                                                 flatten_1[3][0]                  \n",
            "                                                                 flatten_1[4][0]                  \n",
            "                                                                 flatten_1[5][0]                  \n",
            "                                                                 flatten_1[6][0]                  \n",
            "                                                                 flatten_1[7][0]                  \n",
            "                                                                 flatten_1[8][0]                  \n",
            "                                                                 flatten_1[9][0]                  \n",
            "                                                                 flatten_1[10][0]                 \n",
            "                                                                 flatten_1[11][0]                 \n",
            "                                                                 flatten_1[12][0]                 \n",
            "                                                                 flatten_1[13][0]                 \n",
            "                                                                 flatten_1[14][0]                 \n",
            "                                                                 flatten_1[15][0]                 \n",
            "                                                                 flatten_1[16][0]                 \n",
            "                                                                 flatten_1[17][0]                 \n",
            "                                                                 flatten_1[18][0]                 \n",
            "                                                                 flatten_1[19][0]                 \n",
            "                                                                 flatten_1[20][0]                 \n",
            "                                                                 flatten_1[21][0]                 \n",
            "                                                                 flatten_1[22][0]                 \n",
            "                                                                 flatten_1[23][0]                 \n",
            "                                                                 flatten_1[24][0]                 \n",
            "                                                                 flatten_1[25][0]                 \n",
            "                                                                 flatten_1[26][0]                 \n",
            "                                                                 flatten_1[27][0]                 \n",
            "                                                                 flatten_1[28][0]                 \n",
            "                                                                 flatten_1[29][0]                 \n",
            "                                                                 flatten_1[30][0]                 \n",
            "                                                                 flatten_1[31][0]                 \n",
            "                                                                 flatten_1[32][0]                 \n",
            "                                                                 flatten_1[33][0]                 \n",
            "                                                                 flatten_1[34][0]                 \n",
            "                                                                 flatten_1[35][0]                 \n",
            "                                                                 flatten_1[36][0]                 \n",
            "                                                                 flatten_1[37][0]                 \n",
            "                                                                 flatten_1[38][0]                 \n",
            "                                                                 flatten_1[39][0]                 \n",
            "                                                                 flatten_1[40][0]                 \n",
            "                                                                 flatten_1[41][0]                 \n",
            "                                                                 flatten_1[42][0]                 \n",
            "                                                                 flatten_1[43][0]                 \n",
            "                                                                 flatten_1[44][0]                 \n",
            "                                                                 flatten_1[45][0]                 \n",
            "                                                                 flatten_1[46][0]                 \n",
            "                                                                 flatten_1[47][0]                 \n",
            "                                                                 flatten_1[48][0]                 \n",
            "                                                                 flatten_1[49][0]                 \n",
            "                                                                 flatten_1[50][0]                 \n",
            "                                                                 flatten_1[51][0]                 \n",
            "                                                                 flatten_1[52][0]                 \n",
            "                                                                 flatten_1[53][0]                 \n",
            "                                                                 flatten_1[54][0]                 \n",
            "                                                                 flatten_1[55][0]                 \n",
            "                                                                 flatten_1[56][0]                 \n",
            "                                                                 flatten_1[57][0]                 \n",
            "                                                                 flatten_1[58][0]                 \n",
            "                                                                 flatten_1[59][0]                 \n",
            "                                                                 flatten_1[60][0]                 \n",
            "                                                                 flatten_1[61][0]                 \n",
            "                                                                 flatten_1[62][0]                 \n",
            "                                                                 flatten_1[63][0]                 \n",
            "__________________________________________________________________________________________________\n",
            "dense_3 (Dense)                 (None, 128)          262272      dense_2[0][0]                    \n",
            "                                                                 dense_2[1][0]                    \n",
            "                                                                 dense_2[2][0]                    \n",
            "                                                                 dense_2[3][0]                    \n",
            "                                                                 dense_2[4][0]                    \n",
            "                                                                 dense_2[5][0]                    \n",
            "                                                                 dense_2[6][0]                    \n",
            "                                                                 dense_2[7][0]                    \n",
            "                                                                 dense_2[8][0]                    \n",
            "                                                                 dense_2[9][0]                    \n",
            "                                                                 dense_2[10][0]                   \n",
            "                                                                 dense_2[11][0]                   \n",
            "                                                                 dense_2[12][0]                   \n",
            "                                                                 dense_2[13][0]                   \n",
            "                                                                 dense_2[14][0]                   \n",
            "                                                                 dense_2[15][0]                   \n",
            "                                                                 dense_2[16][0]                   \n",
            "                                                                 dense_2[17][0]                   \n",
            "                                                                 dense_2[18][0]                   \n",
            "                                                                 dense_2[19][0]                   \n",
            "                                                                 dense_2[20][0]                   \n",
            "                                                                 dense_2[21][0]                   \n",
            "                                                                 dense_2[22][0]                   \n",
            "                                                                 dense_2[23][0]                   \n",
            "                                                                 dense_2[24][0]                   \n",
            "                                                                 dense_2[25][0]                   \n",
            "                                                                 dense_2[26][0]                   \n",
            "                                                                 dense_2[27][0]                   \n",
            "                                                                 dense_2[28][0]                   \n",
            "                                                                 dense_2[29][0]                   \n",
            "                                                                 dense_2[30][0]                   \n",
            "                                                                 dense_2[31][0]                   \n",
            "                                                                 dense_2[32][0]                   \n",
            "                                                                 dense_2[33][0]                   \n",
            "                                                                 dense_2[34][0]                   \n",
            "                                                                 dense_2[35][0]                   \n",
            "                                                                 dense_2[36][0]                   \n",
            "                                                                 dense_2[37][0]                   \n",
            "                                                                 dense_2[38][0]                   \n",
            "                                                                 dense_2[39][0]                   \n",
            "                                                                 dense_2[40][0]                   \n",
            "                                                                 dense_2[41][0]                   \n",
            "                                                                 dense_2[42][0]                   \n",
            "                                                                 dense_2[43][0]                   \n",
            "                                                                 dense_2[44][0]                   \n",
            "                                                                 dense_2[45][0]                   \n",
            "                                                                 dense_2[46][0]                   \n",
            "                                                                 dense_2[47][0]                   \n",
            "                                                                 dense_2[48][0]                   \n",
            "                                                                 dense_2[49][0]                   \n",
            "                                                                 dense_2[50][0]                   \n",
            "                                                                 dense_2[51][0]                   \n",
            "                                                                 dense_2[52][0]                   \n",
            "                                                                 dense_2[53][0]                   \n",
            "                                                                 dense_2[54][0]                   \n",
            "                                                                 dense_2[55][0]                   \n",
            "                                                                 dense_2[56][0]                   \n",
            "                                                                 dense_2[57][0]                   \n",
            "                                                                 dense_2[58][0]                   \n",
            "                                                                 dense_2[59][0]                   \n",
            "                                                                 dense_2[60][0]                   \n",
            "                                                                 dense_2[61][0]                   \n",
            "                                                                 dense_2[62][0]                   \n",
            "                                                                 dense_2[63][0]                   \n",
            "__________________________________________________________________________________________________\n",
            "softmax_cosine_sim (SoftmaxCosi (32, 128)            0           dense_3[0][0]                    \n",
            "                                                                 dense_3[1][0]                    \n",
            "                                                                 dense_3[2][0]                    \n",
            "                                                                 dense_3[3][0]                    \n",
            "                                                                 dense_3[4][0]                    \n",
            "                                                                 dense_3[5][0]                    \n",
            "                                                                 dense_3[6][0]                    \n",
            "                                                                 dense_3[7][0]                    \n",
            "                                                                 dense_3[8][0]                    \n",
            "                                                                 dense_3[9][0]                    \n",
            "                                                                 dense_3[10][0]                   \n",
            "                                                                 dense_3[11][0]                   \n",
            "                                                                 dense_3[12][0]                   \n",
            "                                                                 dense_3[13][0]                   \n",
            "                                                                 dense_3[14][0]                   \n",
            "                                                                 dense_3[15][0]                   \n",
            "                                                                 dense_3[16][0]                   \n",
            "                                                                 dense_3[17][0]                   \n",
            "                                                                 dense_3[18][0]                   \n",
            "                                                                 dense_3[19][0]                   \n",
            "                                                                 dense_3[20][0]                   \n",
            "                                                                 dense_3[21][0]                   \n",
            "                                                                 dense_3[22][0]                   \n",
            "                                                                 dense_3[23][0]                   \n",
            "                                                                 dense_3[24][0]                   \n",
            "                                                                 dense_3[25][0]                   \n",
            "                                                                 dense_3[26][0]                   \n",
            "                                                                 dense_3[27][0]                   \n",
            "                                                                 dense_3[28][0]                   \n",
            "                                                                 dense_3[29][0]                   \n",
            "                                                                 dense_3[30][0]                   \n",
            "                                                                 dense_3[31][0]                   \n",
            "                                                                 dense_3[32][0]                   \n",
            "                                                                 dense_3[33][0]                   \n",
            "                                                                 dense_3[34][0]                   \n",
            "                                                                 dense_3[35][0]                   \n",
            "                                                                 dense_3[36][0]                   \n",
            "                                                                 dense_3[37][0]                   \n",
            "                                                                 dense_3[38][0]                   \n",
            "                                                                 dense_3[39][0]                   \n",
            "                                                                 dense_3[40][0]                   \n",
            "                                                                 dense_3[41][0]                   \n",
            "                                                                 dense_3[42][0]                   \n",
            "                                                                 dense_3[43][0]                   \n",
            "                                                                 dense_3[44][0]                   \n",
            "                                                                 dense_3[45][0]                   \n",
            "                                                                 dense_3[46][0]                   \n",
            "                                                                 dense_3[47][0]                   \n",
            "                                                                 dense_3[48][0]                   \n",
            "                                                                 dense_3[49][0]                   \n",
            "                                                                 dense_3[50][0]                   \n",
            "                                                                 dense_3[51][0]                   \n",
            "                                                                 dense_3[52][0]                   \n",
            "                                                                 dense_3[53][0]                   \n",
            "                                                                 dense_3[54][0]                   \n",
            "                                                                 dense_3[55][0]                   \n",
            "                                                                 dense_3[56][0]                   \n",
            "                                                                 dense_3[57][0]                   \n",
            "                                                                 dense_3[58][0]                   \n",
            "                                                                 dense_3[59][0]                   \n",
            "                                                                 dense_3[60][0]                   \n",
            "                                                                 dense_3[61][0]                   \n",
            "                                                                 dense_3[62][0]                   \n",
            "                                                                 dense_3[63][0]                   \n",
            "==================================================================================================\n",
            "Total params: 19,173,312\n",
            "Trainable params: 9,178,240\n",
            "Non-trainable params: 9,995,072\n",
            "__________________________________________________________________________________________________\n"
          ],
          "name": "stdout"
        }
      ]
    },
    {
      "cell_type": "code",
      "metadata": {
        "id": "KcqmJym0b2jT"
      },
      "source": [
        ""
      ],
      "execution_count": null,
      "outputs": []
    }
  ]
}