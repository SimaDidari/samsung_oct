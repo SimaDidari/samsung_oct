{
  "nbformat": 4,
  "nbformat_minor": 0,
  "metadata": {
    "accelerator": "GPU",
    "colab": {
      "name": "OCT_project_daniel_varoli.ipynb",
      "provenance": [],
      "collapsed_sections": [
        "3AGcdAqsuXWy",
        "J-FGYr4RwZFZ",
        "npcYOFiX5ZKi",
        "8pplbktVubcr",
        "P2ZnXiYr5AZV",
        "AycI4Rz-u6tP",
        "fR9F1dwf2mOu",
        "f-yVThXv2umb"
      ],
      "machine_shape": "hm"
    },
    "kernelspec": {
      "display_name": "Python 3",
      "name": "python3"
    },
    "language_info": {
      "name": "python"
    }
  },
  "cells": [
    {
      "cell_type": "markdown",
      "metadata": {
        "id": "ijo02WMIvAOz"
      },
      "source": [
        "# Clone Repo and Install Dependencies"
      ]
    },
    {
      "cell_type": "code",
      "metadata": {
        "colab": {
          "base_uri": "https://localhost:8080/"
        },
        "id": "lRHfTTEVxVxh",
        "outputId": "e9debe63-65f8-446d-aa4f-e345572bbbe1"
      },
      "source": [
        "# clone the github repo\n",
        "!git clone https://github.com/djvaroli/samsung_oct.git samsung_oct"
      ],
      "execution_count": 1,
      "outputs": [
        {
          "output_type": "stream",
          "text": [
            "Cloning into 'samsung_oct'...\n",
            "remote: Enumerating objects: 284, done.\u001b[K\n",
            "remote: Counting objects: 100% (284/284), done.\u001b[K\n",
            "remote: Compressing objects: 100% (196/196), done.\u001b[K\n",
            "remote: Total 284 (delta 137), reused 196 (delta 74), pack-reused 0\u001b[K\n",
            "Receiving objects: 100% (284/284), 25.80 MiB | 4.74 MiB/s, done.\n",
            "Resolving deltas: 100% (137/137), done.\n"
          ],
          "name": "stdout"
        }
      ]
    },
    {
      "cell_type": "code",
      "metadata": {
        "colab": {
          "base_uri": "https://localhost:8080/"
        },
        "id": "tWqGj-53vdOk",
        "outputId": "bf57125d-3634-4387-da27-dfbacd3eefa0"
      },
      "source": [
        "!pip install -q wandb"
      ],
      "execution_count": 2,
      "outputs": [
        {
          "output_type": "stream",
          "text": [
            "\u001b[K     |████████████████████████████████| 1.8MB 15.7MB/s \n",
            "\u001b[K     |████████████████████████████████| 174kB 54.5MB/s \n",
            "\u001b[K     |████████████████████████████████| 133kB 53.5MB/s \n",
            "\u001b[K     |████████████████████████████████| 102kB 9.6MB/s \n",
            "\u001b[K     |████████████████████████████████| 71kB 7.3MB/s \n",
            "\u001b[?25h  Building wheel for pathtools (setup.py) ... \u001b[?25l\u001b[?25hdone\n",
            "  Building wheel for subprocess32 (setup.py) ... \u001b[?25l\u001b[?25hdone\n"
          ],
          "name": "stdout"
        }
      ]
    },
    {
      "cell_type": "code",
      "metadata": {
        "colab": {
          "base_uri": "https://localhost:8080/"
        },
        "id": "H_92Egdex2uy",
        "outputId": "f938e56b-d7e1-4b79-8ab4-433276f59a60"
      },
      "source": [
        "# isntall all the needed dependencies\n",
        "!pip install -q -r samsung_oct/requirements.txt"
      ],
      "execution_count": 3,
      "outputs": [
        {
          "output_type": "stream",
          "text": [
            "\u001b[?25l\r\u001b[K     |█▉                              | 10kB 19.2MB/s eta 0:00:01\r\u001b[K     |███▋                            | 20kB 26.2MB/s eta 0:00:01\r\u001b[K     |█████▌                          | 30kB 30.3MB/s eta 0:00:01\r\u001b[K     |███████▎                        | 40kB 21.1MB/s eta 0:00:01\r\u001b[K     |█████████▏                      | 51kB 18.3MB/s eta 0:00:01\r\u001b[K     |███████████                     | 61kB 19.7MB/s eta 0:00:01\r\u001b[K     |████████████▉                   | 71kB 15.8MB/s eta 0:00:01\r\u001b[K     |██████████████▋                 | 81kB 16.7MB/s eta 0:00:01\r\u001b[K     |████████████████▌               | 92kB 15.9MB/s eta 0:00:01\r\u001b[K     |██████████████████▎             | 102kB 14.5MB/s eta 0:00:01\r\u001b[K     |████████████████████▏           | 112kB 14.5MB/s eta 0:00:01\r\u001b[K     |██████████████████████          | 122kB 14.5MB/s eta 0:00:01\r\u001b[K     |███████████████████████▉        | 133kB 14.5MB/s eta 0:00:01\r\u001b[K     |█████████████████████████▋      | 143kB 14.5MB/s eta 0:00:01\r\u001b[K     |███████████████████████████▌    | 153kB 14.5MB/s eta 0:00:01\r\u001b[K     |█████████████████████████████▎  | 163kB 14.5MB/s eta 0:00:01\r\u001b[K     |███████████████████████████████▏| 174kB 14.5MB/s eta 0:00:01\r\u001b[K     |████████████████████████████████| 184kB 14.5MB/s \n",
            "\u001b[?25h\u001b[?25l\r\u001b[K     |███▍                            | 10kB 21.2MB/s eta 0:00:01\r\u001b[K     |██████▊                         | 20kB 28.1MB/s eta 0:00:01\r\u001b[K     |██████████▏                     | 30kB 33.9MB/s eta 0:00:01\r\u001b[K     |█████████████▌                  | 40kB 38.5MB/s eta 0:00:01\r\u001b[K     |█████████████████               | 51kB 41.8MB/s eta 0:00:01\r\u001b[K     |████████████████████▎           | 61kB 45.1MB/s eta 0:00:01\r\u001b[K     |███████████████████████▊        | 71kB 24.5MB/s eta 0:00:01\r\u001b[K     |███████████████████████████     | 81kB 26.0MB/s eta 0:00:01\r\u001b[K     |██████████████████████████████▍ | 92kB 27.8MB/s eta 0:00:01\r\u001b[K     |████████████████████████████████| 102kB 9.2MB/s \n",
            "\u001b[K     |████████████████████████████████| 102kB 9.3MB/s \n",
            "\u001b[K     |████████████████████████████████| 112kB 23.3MB/s \n",
            "\u001b[K     |████████████████████████████████| 81kB 8.9MB/s \n",
            "\u001b[K     |████████████████████████████████| 3.8MB 31.4MB/s \n",
            "\u001b[K     |████████████████████████████████| 81kB 9.1MB/s \n",
            "\u001b[K     |████████████████████████████████| 2.9MB 52.1MB/s \n",
            "\u001b[K     |████████████████████████████████| 143kB 50.0MB/s \n",
            "\u001b[K     |████████████████████████████████| 174kB 45.4MB/s \n",
            "\u001b[K     |████████████████████████████████| 3.0MB 50.4MB/s \n",
            "\u001b[K     |████████████████████████████████| 1.0MB 54.0MB/s \n",
            "\u001b[K     |████████████████████████████████| 296kB 54.0MB/s \n",
            "\u001b[K     |████████████████████████████████| 286kB 52.4MB/s \n",
            "\u001b[K     |████████████████████████████████| 512kB 38.4MB/s \n",
            "\u001b[K     |████████████████████████████████| 645kB 47.3MB/s \n",
            "\u001b[K     |████████████████████████████████| 61kB 8.2MB/s \n",
            "\u001b[K     |████████████████████████████████| 27.4MB 82.0MB/s \n",
            "\u001b[K     |████████████████████████████████| 133kB 52.5MB/s \n",
            "\u001b[K     |████████████████████████████████| 394.3MB 37kB/s \n",
            "\u001b[K     |████████████████████████████████| 471kB 52.0MB/s \n",
            "\u001b[K     |████████████████████████████████| 153kB 68.4MB/s \n",
            "\u001b[K     |████████████████████████████████| 296kB 67.5MB/s \n",
            "\u001b[31mERROR: google-colab 1.0.0 has requirement requests~=2.23.0, but you'll have requests 2.25.1 which is incompatible.\u001b[0m\n",
            "\u001b[31mERROR: google-cloud-bigquery 1.21.0 has requirement google-resumable-media!=0.4.0,<0.5.0dev,>=0.3.1, but you'll have google-resumable-media 1.2.0 which is incompatible.\u001b[0m\n",
            "\u001b[31mERROR: datascience 0.10.6 has requirement folium==0.2.1, but you'll have folium 0.8.3 which is incompatible.\u001b[0m\n",
            "\u001b[31mERROR: albumentations 0.1.12 has requirement imgaug<0.2.7,>=0.2.5, but you'll have imgaug 0.2.9 which is incompatible.\u001b[0m\n",
            "\u001b[?25h"
          ],
          "name": "stdout"
        }
      ]
    },
    {
      "cell_type": "code",
      "metadata": {
        "id": "QpngKlMnsdsX"
      },
      "source": [
        "# install custom utilities\n",
        "!pip install -q -e samsung_oct/utilities/"
      ],
      "execution_count": 4,
      "outputs": []
    },
    {
      "cell_type": "code",
      "metadata": {
        "colab": {
          "base_uri": "https://localhost:8080/"
        },
        "id": "ZPMCDoSSx7DJ",
        "outputId": "83d1a827-24e3-4668-878a-07ba85a8f19c"
      },
      "source": [
        "# download the files with the data\n",
        "# change the name of the file at the very end\n",
        "# dev_data.zip - contains a subset for testing and development purposes\n",
        "# processed_data.zip - contains the entire dataset for actual model training\n",
        "DATA_TYPE=\"processed_data\"\n",
        "FILE = f\"{DATA_TYPE}.zip\"\n",
        "!export FILE=$FILE\n",
        "!gsutil -m cp gs://fourth-brain-course-files/capstone-project/data/$FILE ."
      ],
      "execution_count": 1,
      "outputs": [
        {
          "output_type": "stream",
          "text": [
            "Copying gs://fourth-brain-course-files/capstone-project/data/processed_data.zip...\n",
            "- [1/1 files][  5.4 GiB/  5.4 GiB] 100% Done  39.7 MiB/s ETA 00:00:00           \n",
            "Operation completed over 1 objects/5.4 GiB.                                      \n"
          ],
          "name": "stdout"
        }
      ]
    },
    {
      "cell_type": "code",
      "metadata": {
        "id": "CNv1jlV63pNP",
        "colab": {
          "base_uri": "https://localhost:8080/"
        },
        "outputId": "d9541ab7-b59b-4df8-8a60-51485e63486d"
      },
      "source": [
        "# unzip the file -q prevents a bunch of printing\n",
        "!unzip -q $FILE"
      ],
      "execution_count": 2,
      "outputs": [
        {
          "output_type": "stream",
          "text": [
            "replace processed_data/.DS_Store? [y]es, [n]o, [A]ll, [N]one, [r]ename: A\n"
          ],
          "name": "stdout"
        }
      ]
    },
    {
      "cell_type": "code",
      "metadata": {
        "colab": {
          "base_uri": "https://localhost:8080/"
        },
        "id": "xiLLgMETwYWI",
        "outputId": "06fce390-686e-42d6-e896-dde699be44ea"
      },
      "source": [
        "from google.colab import auth\n",
        "import os\n",
        "\n",
        "# login with gcp and configre project\n",
        "auth.authenticate_user()\n",
        "project_id = 'fb-mle-march-21'\n",
        "os.environ['GOOGLE_CLOUD_PROJECT'] = project_id\n",
        "!gcloud config set project {project_id}"
      ],
      "execution_count": 3,
      "outputs": [
        {
          "output_type": "stream",
          "text": [
            "Updated property [core/project].\n"
          ],
          "name": "stdout"
        }
      ]
    },
    {
      "cell_type": "code",
      "metadata": {
        "id": "1hRk9XwtrYbW"
      },
      "source": [
        "# this is not very elegant but it will simplify imports\n",
        "import sys\n",
        "path_to_utils = \"/content/samsung_oct/utilities/\"\n",
        "if path_to_utils not in sys.path:\n",
        "  sys.path.append(path_to_utils)"
      ],
      "execution_count": 4,
      "outputs": []
    },
    {
      "cell_type": "markdown",
      "metadata": {
        "id": "gmXfu2az5DyP"
      },
      "source": [
        "# Pre-Requisites\n",
        "Here we import packages, load in the data, load in the label mapping."
      ]
    },
    {
      "cell_type": "markdown",
      "metadata": {
        "id": "YcxrT4q75pwa"
      },
      "source": [
        "## Import Packages and Instantiate Global Variables"
      ]
    },
    {
      "cell_type": "code",
      "metadata": {
        "id": "TOyAmd__5Kbf"
      },
      "source": [
        "import json\n",
        "import glob \n",
        "import os\n",
        "from pathlib import Path\n",
        "\n",
        "import numpy\n",
        "import matplotlib.pyplot as plt\n",
        "import seaborn as sns\n",
        "import tensorflow as tf\n",
        "from tensorflow.keras.preprocessing import image\n",
        "from tensorflow.keras.preprocessing.image import ImageDataGenerator\n",
        "import wandb\n",
        "from wandb.keras import WandbCallback\n",
        "\n",
        "from callbacks.callbacks import MachineLearningExperimentTracking\n",
        "from utils.model_utils import ExtendedModel, get_pre_trained_and_compiled_model\n",
        "from utils.generator_utils import get_generator_instances, create_flows\n",
        "from utils.wandb_utils import config_to_dict\n",
        "from utils.image_utils import get_image_shape_from_flow\n",
        "sns.set()"
      ],
      "execution_count": 5,
      "outputs": []
    },
    {
      "cell_type": "code",
      "metadata": {
        "id": "iuR2k9XEyj9u"
      },
      "source": [
        "PATH_TO_DATA = Path(f\"{DATA_TYPE}/data\")"
      ],
      "execution_count": 7,
      "outputs": []
    },
    {
      "cell_type": "code",
      "metadata": {
        "colab": {
          "base_uri": "https://localhost:8080/"
        },
        "id": "-JaLPzmFwbuL",
        "outputId": "ced31cb7-f0f0-466e-f813-5e6725e50081"
      },
      "source": [
        "!wandb login"
      ],
      "execution_count": 8,
      "outputs": [
        {
          "output_type": "stream",
          "text": [
            "\u001b[34m\u001b[1mwandb\u001b[0m: Currently logged in as: \u001b[33mdjvaroli\u001b[0m (use `wandb login --relogin` to force relogin)\n"
          ],
          "name": "stdout"
        }
      ]
    },
    {
      "cell_type": "markdown",
      "metadata": {
        "id": "3AGcdAqsuXWy"
      },
      "source": [
        "# Model Training"
      ]
    },
    {
      "cell_type": "markdown",
      "metadata": {
        "id": "J-FGYr4RwZFZ"
      },
      "source": [
        "## Setting up Weights & Biases Tracking"
      ]
    },
    {
      "cell_type": "code",
      "metadata": {
        "id": "gIheu6UW6DVO"
      },
      "source": [
        "config = wandb.config"
      ],
      "execution_count": null,
      "outputs": []
    },
    {
      "cell_type": "markdown",
      "metadata": {
        "id": "npcYOFiX5ZKi"
      },
      "source": [
        "## Creating Data Generators\n",
        "\n",
        "We cannot read the data into memory, hence we will use the tensorflow's image data generator to supply the data batch by batch, rather than all at once."
      ]
    },
    {
      "cell_type": "code",
      "metadata": {
        "id": "xwn1vSWxwyOf"
      },
      "source": [
        "# data augmentation hyperparams \n",
        "config.horizontal_flip = True\n",
        "config.vertical_flip = True\n",
        "config.rotation_range = 10\n",
        "config.zoom_range = [0.8, 1.0]\n",
        "config.zca_whitening = 1e-6\n",
        "config.channel_shift_range = 0.1\n",
        "config.fill_mode = \"constant\""
      ],
      "execution_count": 44,
      "outputs": []
    },
    {
      "cell_type": "code",
      "metadata": {
        "id": "IU6NlzEn5YgX",
        "colab": {
          "base_uri": "https://localhost:8080/"
        },
        "outputId": "09538da0-e82d-49b2-bbb9-d42fb1c40f28"
      },
      "source": [
        "train_generator, generator = get_generator_instances(**config_to_dict(config))"
      ],
      "execution_count": 45,
      "outputs": [
        {
          "output_type": "stream",
          "text": [
            "/usr/local/lib/python3.7/dist-packages/keras_preprocessing/image/image_data_generator.py:337: UserWarning: This ImageDataGenerator specifies `zca_whitening`, which overrides setting of `featurewise_center`.\n",
            "  warnings.warn('This ImageDataGenerator specifies '\n"
          ],
          "name": "stderr"
        }
      ]
    },
    {
      "cell_type": "code",
      "metadata": {
        "colab": {
          "base_uri": "https://localhost:8080/"
        },
        "id": "f2u_LxsezTdf",
        "outputId": "ca0bb734-be65-4928-b567-c634444e358e"
      },
      "source": [
        "flows = create_flows(PATH_TO_DATA, train_generator, generator)"
      ],
      "execution_count": 46,
      "outputs": [
        {
          "output_type": "stream",
          "text": [
            "Creating train data flow.\n",
            "Found 968 images belonging to 4 classes.\n"
          ],
          "name": "stdout"
        }
      ]
    },
    {
      "cell_type": "code",
      "metadata": {
        "colab": {
          "base_uri": "https://localhost:8080/",
          "height": 122
        },
        "id": "-_76pzho64FV",
        "outputId": "9f5a3dae-32e0-490e-a278-993473718214"
      },
      "source": [
        "# plot a sample image\n",
        "# the image will be slightly distorted since we are using the ImageDataGenerator\n",
        "subsets = list(flows.keys())\n",
        "flow = flows[subsets[0]]\n",
        "img_batch, labels_batch = next(flow)\n",
        "img = img_batch[0]\n",
        "plt.imshow(img)\n",
        "plt.axis(\"off\")\n",
        "flow.reset()"
      ],
      "execution_count": 50,
      "outputs": [
        {
          "output_type": "stream",
          "text": [
            "/usr/local/lib/python3.7/dist-packages/keras_preprocessing/image/image_data_generator.py:720: UserWarning: This ImageDataGenerator specifies `featurewise_center`, but it hasn't been fit on any training data. Fit it first by calling `.fit(numpy_data)`.\n",
            "  warnings.warn('This ImageDataGenerator specifies '\n",
            "/usr/local/lib/python3.7/dist-packages/keras_preprocessing/image/image_data_generator.py:739: UserWarning: This ImageDataGenerator specifies `zca_whitening`, but it hasn't been fit on any training data. Fit it first by calling `.fit(numpy_data)`.\n",
            "  warnings.warn('This ImageDataGenerator specifies '\n"
          ],
          "name": "stderr"
        },
        {
          "output_type": "display_data",
          "data": {
            "image/png": "[encoded data removed]",
            "text/plain": [
              "<Figure size 432x288 with 1 Axes>"
            ]
          },
          "metadata": {
            "tags": []
          }
        }
      ]
    },
    {
      "cell_type": "code",
      "metadata": {
        "colab": {
          "base_uri": "https://localhost:8080/"
        },
        "id": "qdQkUpB_8Co9",
        "outputId": "03d18961-be9d-4e02-a7c4-1984c85d7801"
      },
      "source": [
        "input_shape = img.shape\n",
        "print(f\"Input shape is {input_shape}\")"
      ],
      "execution_count": 12,
      "outputs": [
        {
          "output_type": "stream",
          "text": [
            "Input shape is (256, 256, 3)\n"
          ],
          "name": "stdout"
        }
      ]
    },
    {
      "cell_type": "markdown",
      "metadata": {
        "id": "8pplbktVubcr"
      },
      "source": [
        "## Global WandB Config Hyperparameters\n",
        "\n"
      ]
    },
    {
      "cell_type": "code",
      "metadata": {
        "id": "K_i_M-FCud0L"
      },
      "source": [
        "# model parameters\n",
        "config.weights = \"imagenet\"\n",
        "config.pooling = \"max\"\n",
        "config.dropout_rate = 0.3\n",
        "config.dense_start_dimension = 512\n",
        "config.num_dense_classification_head = 1\n",
        "config.dim_shrink_factor = 2\n",
        "config.dense_classification_head_activation = 'relu'\n",
        "\n",
        "# optimizer parameters\n",
        "config.learning_rate = 0.001\n",
        "config.beta_1 = 0.9\n",
        "config.beta_2 = 0.999\n",
        "config.epsilon = 1e-07\n",
        "config.amsgrad = False\n",
        "\n",
        "# training hyperparameters\n",
        "config.epochs = 10"
      ],
      "execution_count": 28,
      "outputs": []
    },
    {
      "cell_type": "markdown",
      "metadata": {
        "id": "P2ZnXiYr5AZV"
      },
      "source": [
        "## DenseNet121\n",
        "Other works have suggested that using a pre-trained DenseNet121 yields the best possible performance. Hence, one of our first steps is to replicate what is essentially the SoA results with DenseNet121."
      ]
    },
    {
      "cell_type": "markdown",
      "metadata": {
        "id": "OwBmX8zKsJyV"
      },
      "source": [
        "### Instantiate Model\n",
        "\n"
      ]
    },
    {
      "cell_type": "code",
      "metadata": {
        "id": "3y-u_XcAsJN0"
      },
      "source": [
        "config.base_model = \"densenet\""
      ],
      "execution_count": 20,
      "outputs": []
    },
    {
      "cell_type": "code",
      "metadata": {
        "colab": {
          "base_uri": "https://localhost:8080/"
        },
        "id": "RQPKiiUjtRD_",
        "outputId": "fbb315bb-fd7c-421f-943c-7e2f408377d8"
      },
      "source": [
        "# this will return a compiled model\n",
        "model = get_pre_trained_and_compiled_model(input_shape=input_shape, **config.__dict__)"
      ],
      "execution_count": 26,
      "outputs": [
        {
          "output_type": "stream",
          "text": [
            "WARNING:root:No metrics were specified. Using accuracy as default\n"
          ],
          "name": "stderr"
        }
      ]
    },
    {
      "cell_type": "code",
      "metadata": {
        "id": "jNCFP8fg3wyX"
      },
      "source": [
        "model.summary()"
      ],
      "execution_count": null,
      "outputs": []
    },
    {
      "cell_type": "markdown",
      "metadata": {
        "id": "bLvWkWRI2hAf"
      },
      "source": [
        "### Set up Callbacks"
      ]
    },
    {
      "cell_type": "code",
      "metadata": {
        "colab": {
          "base_uri": "https://localhost:8080/"
        },
        "id": "dP4ple2M2jZ9",
        "outputId": "2199b467-c2af-416a-ffda-1e8bc565ce4b"
      },
      "source": [
        "# MachineLearningTrackingExperiment to track train history and save best weights\n",
        "\n",
        "mlet = MachineLearningExperimentTracking(\n",
        "    experiment_name=EXPERIMENT_NAME, \n",
        "    run_id=wandb.run.id,\n",
        "    monitor='val_accuracy',\n",
        "    wandb_run_id=wandb.run.id\n",
        ")\n",
        "\n",
        "wandb_callback = WandbCallback(log_weights=True, monitor='val_accuracy')"
      ],
      "execution_count": null,
      "outputs": [
        {
          "output_type": "stream",
          "text": [
            "WARNING:root:An experiment description is not mandatory, but it is helpful to briefly describe the experiment.Consider adding one before starting to train the model.\n"
          ],
          "name": "stderr"
        }
      ]
    },
    {
      "cell_type": "markdown",
      "metadata": {
        "id": "S7QsYAWVvhlZ"
      },
      "source": [
        "### Train the model and save to GCS bucket"
      ]
    },
    {
      "cell_type": "code",
      "metadata": {
        "id": "kv2wJFVM8Snw"
      },
      "source": [
        "model.fit(train_flow, epochs=config.epochs, callbacks=[mlet, wandb_callback], validation_data=val_flow)"
      ],
      "execution_count": null,
      "outputs": []
    },
    {
      "cell_type": "markdown",
      "metadata": {
        "id": "xTrvSHr84JZe"
      },
      "source": [
        "# Hyperparameter Sweeps"
      ]
    },
    {
      "cell_type": "markdown",
      "metadata": {
        "id": "AycI4Rz-u6tP"
      },
      "source": [
        "## Configure Sweep"
      ]
    },
    {
      "cell_type": "code",
      "metadata": {
        "id": "PSXQQDIN4LyN"
      },
      "source": [
        "base_model_name = \"resnet50\"\n",
        "\n",
        "sweep_config = {\n",
        "  \"name\" : f\"{base_model_name}-sweep\",\n",
        "  \"method\" : \"bayes\"\n",
        "}"
      ],
      "execution_count": 9,
      "outputs": []
    },
    {
      "cell_type": "markdown",
      "metadata": {
        "id": "HNoyN2Sp2gR1"
      },
      "source": [
        "### Model Sweep Parameters"
      ]
    },
    {
      "cell_type": "code",
      "metadata": {
        "id": "xzxuh1aPC21a"
      },
      "source": [
        "model_params = {\n",
        "    \"epochs\": {\n",
        "        \"values\" : [1, 5, 10, 20]\n",
        "    },\n",
        "    \"pooling\": {\n",
        "        \"values\": [\"max\", \"avg\"]\n",
        "    },\n",
        "    \"dropout_rate\": {\n",
        "        \"distribution\": \"uniform\",\n",
        "        \"min\": 0.0,\n",
        "        \"max\": 0.5\n",
        "    },\n",
        "    \"dense_start_dimension\": {\n",
        "        \"distribution\": \"int_uniform\",\n",
        "        \"min\": 32,\n",
        "        \"max\": 512\n",
        "    },\n",
        "    \"num_dense_classification_head\": {\n",
        "        \"values\": [0, 1, 2]\n",
        "    },\n",
        "    \"dim_shrink_factor\": {\n",
        "        \"values\": [1, 2, 3]\n",
        "    },\n",
        "    \"dense_classification_head_activation\": {\n",
        "        \"values\": [\"relu\", \"leaky_relu\", \"gelu\", \"selu\"]\n",
        "    }\n",
        "}"
      ],
      "execution_count": 10,
      "outputs": []
    },
    {
      "cell_type": "markdown",
      "metadata": {
        "id": "fR9F1dwf2mOu"
      },
      "source": [
        "### Optimizer Sweep Hyperparameters"
      ]
    },
    {
      "cell_type": "code",
      "metadata": {
        "id": "LTspVn1-2lt3"
      },
      "source": [
        "optimizer_params = {\n",
        "    \"learning_rate\": {\n",
        "        \"distribution\": \"uniform\",\n",
        "        \"min\": 0.0001,\n",
        "        \"max\": 0.1\n",
        "    },\n",
        "    \"beta1\": {\n",
        "        \"distribution\": \"uniform\",\n",
        "        \"min\": 0.1,\n",
        "        \"max\": 0.9\n",
        "    },\n",
        "    \"beta2\": {\n",
        "        \"distribution\": \"uniform\",\n",
        "        \"min\": 0.1,\n",
        "        \"max\": 0.999\n",
        "    },\n",
        "    \"epsilon\": {\n",
        "        \"distribution\": \"uniform\",\n",
        "        \"min\": 1e-08,\n",
        "        \"max\": 1e-06\n",
        "    },\n",
        "    \"amsgrad\": {\n",
        "        \"values\": [True, False]\n",
        "    }\n",
        "}\n",
        "\n"
      ],
      "execution_count": 11,
      "outputs": []
    },
    {
      "cell_type": "markdown",
      "metadata": {
        "id": "f-yVThXv2umb"
      },
      "source": [
        "### Data Augmentation Sweep Parameters"
      ]
    },
    {
      "cell_type": "code",
      "metadata": {
        "id": "iice2q3r2u27"
      },
      "source": [
        "data_params = {\n",
        "    \"horizontal_flip\": {\n",
        "      \"values\": [True, False]\n",
        "    },\n",
        "    \"vertical_flip\": {\n",
        "      \"values\": [True, False]\n",
        "    },\n",
        "    \"rotation_range\": {\n",
        "      \"values\": [0, 5, 10]\n",
        "    },\n",
        "    \"zoom_range\": {\n",
        "      \"values\": [[1.0, 1.0], [0.9, 1.0], [0.8, 1.0]]\n",
        "    },\n",
        "    \"zca_whitening\": {\n",
        "        \"values\": [True, False]\n",
        "    },\n",
        "    \"zca_epsilon\": {\n",
        "      \"distribution\": \"uniform\",\n",
        "      \"min\": 1e-7,\n",
        "      \"max\": 1e-5\n",
        "    },\n",
        "    \"channel_shift_range\": {\n",
        "        \"values\": [0.0, 0.1, 0.2]\n",
        "    },\n",
        "    \"fill_mode\": {\n",
        "      \"values\": [\"constant\", \"nearest\"]\n",
        "    }\n",
        "}"
      ],
      "execution_count": 12,
      "outputs": []
    },
    {
      "cell_type": "code",
      "metadata": {
        "id": "ZI5cGh7H2vkp"
      },
      "source": [
        "parameters = {\n",
        "    **data_params,\n",
        "    **optimizer_params,\n",
        "    **model_params\n",
        "}\n",
        "sweep_config['parameters'] = parameters"
      ],
      "execution_count": 13,
      "outputs": []
    },
    {
      "cell_type": "code",
      "metadata": {
        "id": "dT1xa2cFF-I8"
      },
      "source": [
        "metric = {\n",
        "    'name': 'val_accuracy',\n",
        "    'goal': 'maximize'   \n",
        "}\n",
        "sweep_config['metric'] = metric"
      ],
      "execution_count": 14,
      "outputs": []
    },
    {
      "cell_type": "markdown",
      "metadata": {
        "id": "M5fjmz1zxAAr"
      },
      "source": [
        "## Initialize and Run Sweep"
      ]
    },
    {
      "cell_type": "code",
      "metadata": {
        "colab": {
          "base_uri": "https://localhost:8080/"
        },
        "id": "MxPIT307G5ij",
        "outputId": "4b40b210-149a-43df-cc4a-b81748282f42"
      },
      "source": [
        "sweep_id = wandb.sweep(sweep_config, project=sweep_config['name'])"
      ],
      "execution_count": 19,
      "outputs": [
        {
          "output_type": "stream",
          "text": [
            "Create sweep with ID: 7zf237ec\n",
            "Sweep URL: https://wandb.ai/djvaroli/resnet50-sweep/sweeps/7zf237ec\n"
          ],
          "name": "stdout"
        }
      ]
    },
    {
      "cell_type": "code",
      "metadata": {
        "id": "ISdVawr3CKFQ"
      },
      "source": [
        "def run_sweep():\n",
        "  with wandb.init() as run:\n",
        "    config = wandb.config\n",
        "    config_as_dict = config_to_dict(config)\n",
        "    \n",
        "    # the data generators and flows\n",
        "    generators = get_generator_instances(**config_as_dict)\n",
        "    train_generator, generator = generators\n",
        "    flows = create_flows(PATH_TO_DATA, train_generator, generator)\n",
        "\n",
        "    assert \"train\" in flows, \"Training flow is missing\"\n",
        "    assert \"test\" in flows, \"Test flow is missing\"\n",
        "\n",
        "    train_flow = flows['train']\n",
        "    test_flow = flows['test']\n",
        "\n",
        "    input_shape = get_image_shape_from_flow(train_flow)\n",
        "\n",
        "    # the compiled model\n",
        "    model = get_pre_trained_and_compiled_model(\n",
        "        base_model=base_model_name,\n",
        "        input_shape=input_shape, \n",
        "        **config_as_dict\n",
        "    )\n",
        "\n",
        "    for epoch in range(config.epochs):\n",
        "        history = model.fit(train_flow, validation_data=test_flow, workers=8)  # your model training code here\n",
        "        val_accuracy = history.history['val_accuracy'][-1]\n",
        "        wandb.log({\"val_accuracy\": round(val_accuracy * 100, 4), \"epoch\": epoch})"
      ],
      "execution_count": 20,
      "outputs": []
    },
    {
      "cell_type": "code",
      "metadata": {
        "colab": {
          "base_uri": "https://localhost:8080/",
          "height": 680
        },
        "id": "e1mNUfA7KCW6",
        "outputId": "13298b30-922a-4544-c20a-54e26c348164"
      },
      "source": [
        "wandb.agent(sweep_id, function=run_sweep)"
      ],
      "execution_count": null,
      "outputs": [
        {
          "output_type": "stream",
          "text": [
            "\u001b[34m\u001b[1mwandb\u001b[0m: Agent Starting Run: pwezu85o with config:\n",
            "\u001b[34m\u001b[1mwandb\u001b[0m: \tamsgrad: False\n",
            "\u001b[34m\u001b[1mwandb\u001b[0m: \tbeta1: 0.4565932808372293\n",
            "\u001b[34m\u001b[1mwandb\u001b[0m: \tbeta2: 0.9961392588488462\n",
            "\u001b[34m\u001b[1mwandb\u001b[0m: \tchannel_shift_range: 0\n",
            "\u001b[34m\u001b[1mwandb\u001b[0m: \tdense_classification_head_activation: selu\n",
            "\u001b[34m\u001b[1mwandb\u001b[0m: \tdense_start_dimension: 102\n",
            "\u001b[34m\u001b[1mwandb\u001b[0m: \tdim_shrink_factor: 2\n",
            "\u001b[34m\u001b[1mwandb\u001b[0m: \tdropout_rate: 0.25762903856847286\n",
            "\u001b[34m\u001b[1mwandb\u001b[0m: \tepochs: 20\n",
            "\u001b[34m\u001b[1mwandb\u001b[0m: \tepsilon: 7.457283082919141e-08\n",
            "\u001b[34m\u001b[1mwandb\u001b[0m: \tfill_mode: constant\n",
            "\u001b[34m\u001b[1mwandb\u001b[0m: \thorizontal_flip: True\n",
            "\u001b[34m\u001b[1mwandb\u001b[0m: \tlearning_rate: 0.08839036361605068\n",
            "\u001b[34m\u001b[1mwandb\u001b[0m: \tnum_dense_classification_head: 2\n",
            "\u001b[34m\u001b[1mwandb\u001b[0m: \tpooling: avg\n",
            "\u001b[34m\u001b[1mwandb\u001b[0m: \trotation_range: 5\n",
            "\u001b[34m\u001b[1mwandb\u001b[0m: \tvertical_flip: False\n",
            "\u001b[34m\u001b[1mwandb\u001b[0m: \tzca_epsilon: 7.040207378706989e-06\n",
            "\u001b[34m\u001b[1mwandb\u001b[0m: \tzca_whitening: False\n",
            "\u001b[34m\u001b[1mwandb\u001b[0m: \tzoom_range: [0.8, 1]\n",
            "\u001b[34m\u001b[1mwandb\u001b[0m: Currently logged in as: \u001b[33mdjvaroli\u001b[0m (use `wandb login --relogin` to force relogin)\n"
          ],
          "name": "stderr"
        },
        {
          "output_type": "display_data",
          "data": {
            "text/html": [
              "\n",
              "                Tracking run with wandb version 0.10.31<br/>\n",
              "                Syncing run <strong style=\"color:#cdcd00\">zesty-sweep-1</strong> to <a href=\"https://wandb.ai\" target=\"_blank\">Weights & Biases</a> <a href=\"https://docs.wandb.com/integrations/jupyter.html\" target=\"_blank\">(Documentation)</a>.<br/>\n",
              "                Project page: <a href=\"https://wandb.ai/djvaroli/resnet50-sweep\" target=\"_blank\">https://wandb.ai/djvaroli/resnet50-sweep</a><br/>\n",
              "                Sweep page: <a href=\"https://wandb.ai/djvaroli/resnet50-sweep/sweeps/7zf237ec\" target=\"_blank\">https://wandb.ai/djvaroli/resnet50-sweep/sweeps/7zf237ec</a><br/>\n",
              "Run page: <a href=\"https://wandb.ai/djvaroli/resnet50-sweep/runs/pwezu85o\" target=\"_blank\">https://wandb.ai/djvaroli/resnet50-sweep/runs/pwezu85o</a><br/>\n",
              "                Run data is saved locally in <code>/content/wandb/run-20210529_165147-pwezu85o</code><br/><br/>\n",
              "            "
            ],
            "text/plain": [
              "<IPython.core.display.HTML object>"
            ]
          },
          "metadata": {
            "tags": []
          }
        },
        {
          "output_type": "stream",
          "text": [
            "Creating train data flow.\n",
            "Found 83484 images belonging to 4 classes.\n",
            "Creating val data flow.\n",
            "Found 32 images belonging to 4 classes.\n",
            "Creating test data flow.\n",
            "Found 968 images belonging to 4 classes.\n",
            "Downloading data from https://storage.googleapis.com/tensorflow/keras-applications/resnet/resnet50_weights_tf_dim_ordering_tf_kernels_notop.h5\n",
            "94773248/94765736 [==============================] - 1s 0us/step\n"
          ],
          "name": "stdout"
        },
        {
          "output_type": "stream",
          "text": [
            "WARNING:root:No metrics were specified. Using accuracy as default\n"
          ],
          "name": "stderr"
        },
        {
          "output_type": "stream",
          "text": [
            "1161/2609 [============>.................] - ETA: 2:03 - loss: 5.7547 - accuracy: 0.3786"
          ],
          "name": "stdout"
        }
      ]
    },
    {
      "cell_type": "code",
      "metadata": {
        "id": "S9XAO18A8-oo"
      },
      "source": [
        ""
      ],
      "execution_count": 20,
      "outputs": []
    }
  ]
}