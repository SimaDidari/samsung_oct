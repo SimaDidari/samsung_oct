{
  "nbformat": 4,
  "nbformat_minor": 0,
  "metadata": {
    "accelerator": "GPU",
    "colab": {
      "name": "JG_OCT_PretrainedSimCLR_Full_Train_Dataset.ipynb",
      "provenance": [],
      "collapsed_sections": [],
      "include_colab_link": true
    },
    "kernelspec": {
      "display_name": "Python 3",
      "name": "python3"
    }
  },
  "cells": [
    {
      "cell_type": "markdown",
      "metadata": {
        "id": "view-in-github",
        "colab_type": "text"
      },
      "source": [
        "<a href=\"https://colab.research.google.com/github/djvaroli/samsung_oct/blob/Janhavi-Colab-Notebooks/JG_OCT_PretrainedSimCLR_Full_Train_Dataset.ipynb\" target=\"_parent\"><img src=\"https://colab.research.google.com/assets/colab-badge.svg\" alt=\"Open In Colab\"/></a>"
      ]
    },
    {
      "cell_type": "code",
      "metadata": {
        "id": "N9AQHZeq-655"
      },
      "source": [
        "'''%cp drive/MyDrive/OCT_Project/ZhangLabData.zip .\n",
        "!unzip ZhangLabData.zip'''"
      ],
      "execution_count": null,
      "outputs": []
    },
    {
      "cell_type": "markdown",
      "metadata": {
        "id": "765l2uGbT2MR"
      },
      "source": [
        "# Reference code:\n",
        " https://github.com/anoopsanka/retinal_oct/blob/main/notebooks/03c-OCT_PretrainedSimCLR.ipynb"
      ]
    },
    {
      "cell_type": "code",
      "metadata": {
        "id": "-UoLMPr3gLBQ",
        "colab": {
          "base_uri": "https://localhost:8080/"
        },
        "outputId": "3caa9c1d-59c9-430e-b386-d5ec965ab8bc"
      },
      "source": [
        "from google.colab import drive\n",
        "drive.mount('/content/drive', force_remount=True)\n",
        "import os\n",
        "os.chdir('/content/drive/MyDrive/Colab Notebooks/Samsung-OCT-Project-Work/')\n",
        "pwd = os.getcwd()\n",
        "print(pwd)"
      ],
      "execution_count": 2,
      "outputs": [
        {
          "output_type": "stream",
          "text": [
            "Mounted at /content/drive\n",
            "/content/drive/MyDrive/Colab Notebooks/Samsung-OCT-Project-Work\n"
          ],
          "name": "stdout"
        }
      ]
    },
    {
      "cell_type": "code",
      "metadata": {
        "colab": {
          "base_uri": "https://localhost:8080/"
        },
        "id": "HKEN6x76Via5",
        "outputId": "0317b0d3-9c19-4e1f-eda8-a10bd51669df"
      },
      "source": [
        "!ls\n"
      ],
      "execution_count": 3,
      "outputs": [
        {
          "output_type": "stream",
          "text": [
            "ahDdMcSIdcyTfoy\t\t       samsung-oct-super-model-v0.ipynb\n",
            "HAsIhWpGWVbMVLA\t\t       samsung-oct-super-model-v3.ipynb\n",
            "HBMEINbkLGPLhEn\t\t       samsung-oct-super-model-v4.ipynb\n",
            "JG_OCT_PretrainedSimCLR.ipynb  simclrv2_test_plot.png\n",
            "KuoJPrsqtxHXGny\t\t       StLmmsAPKRAfQyU\n",
            "MyResNet50\t\t       VGG19_rev0.h5\n",
            "processed_data\t\t       VGG19-samsung-oct-super-model-v4.ipynb\n",
            "processed_data.zip_.gstmp      VGG_results.csv\n",
            "resnet50-img-aug\t       VGG_results_load_model.csv\n",
            "resnet50_model_plot.png        VGG_results_load_model.gsheet\n",
            "samsung_oct\t\t       wandb\n"
          ],
          "name": "stdout"
        }
      ]
    },
    {
      "cell_type": "code",
      "metadata": {
        "id": "sniQPNx1AUeX"
      },
      "source": [
        "import tensorflow as tf\n",
        "import numpy as np\n",
        "import matplotlib.pyplot as plt\n",
        "from tensorflow.keras.preprocessing.image import ImageDataGenerator"
      ],
      "execution_count": 4,
      "outputs": []
    },
    {
      "cell_type": "code",
      "metadata": {
        "id": "8R2-xTjkW8ky"
      },
      "source": [
        "seed = 42\n",
        "val_split   = 0.02\n",
        "train_split = 1 - val_split\n",
        "batch_size = 32\n",
        "IMG_SIZE=224"
      ],
      "execution_count": 5,
      "outputs": []
    },
    {
      "cell_type": "code",
      "metadata": {
        "id": "VFv1OpZnAZxc",
        "colab": {
          "base_uri": "https://localhost:8080/"
        },
        "outputId": "57a26a65-f7ae-4245-fa23-6a9210789f5f"
      },
      "source": [
        "\n",
        "\n",
        "ds_val = tf.keras.preprocessing.image_dataset_from_directory(\n",
        "    './processed_data/data/train',\n",
        "    labels=\"inferred\",\n",
        "    color_mode=\"rgb\",\n",
        "    batch_size=batch_size,\n",
        "    image_size=(224, 224),\n",
        "    shuffle=True,\n",
        "    seed=seed,\n",
        "    validation_split=val_split,\n",
        "    subset='validation',\n",
        "    interpolation=\"bilinear\",\n",
        "    follow_links=False,\n",
        "    )\n",
        "ds_train = tf.keras.preprocessing.image_dataset_from_directory(\n",
        "    './processed_data/data/train',\n",
        "    labels=\"inferred\",\n",
        "    color_mode=\"rgb\",\n",
        "    batch_size=batch_size,\n",
        "    image_size=(224, 224),\n",
        "    shuffle=True,\n",
        "    seed=seed,\n",
        "    validation_split=val_split,\n",
        "    subset='training',\n",
        "    interpolation=\"bilinear\",\n",
        "    follow_links=False,\n",
        "    )\n",
        "\n",
        "ds_test = tf.keras.preprocessing.image_dataset_from_directory(\n",
        "    'processed_data/data/test',\n",
        "    labels=\"inferred\",\n",
        "    color_mode=\"rgb\",\n",
        "    batch_size=batch_size,\n",
        "    image_size=(224, 224),\n",
        "    shuffle=True,\n",
        "    seed=seed,\n",
        "    interpolation=\"bilinear\",\n",
        "    follow_links=False,\n",
        "    )"
      ],
      "execution_count": 6,
      "outputs": [
        {
          "output_type": "stream",
          "text": [
            "Found 46279 files belonging to 4 classes.\n",
            "Using 925 files for validation.\n",
            "Found 83484 files belonging to 4 classes.\n",
            "Using 81815 files for training.\n",
            "Found 968 files belonging to 4 classes.\n"
          ],
          "name": "stdout"
        }
      ]
    },
    {
      "cell_type": "markdown",
      "metadata": {
        "id": "pVHQZMFW_PMq"
      },
      "source": [
        "# Feature Extraction with Pretrained SimCLR\n",
        "- Ultimately we want to train a SimCLR model with the wealth of OCT images\n",
        "- as a zeroth step, we ask how well are SimCLR pretrained on ImageNet works on the unseen OCT images domain.\n",
        "- we use SimCLR as a feature extractor and try to see how well a simple linear classification head (multi-class logistic regression) works in terms of distinguiishing between classes\n"
      ]
    },
    {
      "cell_type": "code",
      "metadata": {
        "id": "6VZkxTY-_iou"
      },
      "source": [
        "#@title Load module and construct the computation graph\n",
        "import tensorflow_hub as hub\n",
        "import tensorflow as tf\n",
        "# Load the base network and set it to non-trainable (for speedup fine-tuning)\n",
        "hub_path = 'gs://simclr-checkpoints/simclrv2/finetuned_100pct/r50_1x_sk0/hub/'"
      ],
      "execution_count": 7,
      "outputs": []
    },
    {
      "cell_type": "code",
      "metadata": {
        "id": "C25IpPyhAzM9",
        "colab": {
          "base_uri": "https://localhost:8080/"
        },
        "outputId": "531ece63-aa2c-4e6c-f998-896a27fb216f"
      },
      "source": [
        "input_layer  = tf.keras.layers.Input((224,224,3))\n",
        "simclr_layer = hub.KerasLayer(hub_path, trainable=False,)\n",
        "classification_head = tf.keras.layers.Dense(4, activation='softmax')\n",
        "\n",
        "\n",
        "model = tf.keras.Sequential([input_layer, \n",
        "                             simclr_layer,\n",
        "                             classification_head])"
      ],
      "execution_count": 8,
      "outputs": [
        {
          "output_type": "stream",
          "text": [
            "WARNING:tensorflow:Please add `keras.layers.InputLayer` instead of `keras.Input` to Sequential model. `keras.Input` is intended to be used by Functional model.\n"
          ],
          "name": "stdout"
        }
      ]
    },
    {
      "cell_type": "code",
      "metadata": {
        "colab": {
          "base_uri": "https://localhost:8080/"
        },
        "id": "AlWAJHYFZVFL",
        "outputId": "9df31c4b-49aa-42b0-aed1-621198e82651"
      },
      "source": [
        "model.summary()"
      ],
      "execution_count": 9,
      "outputs": [
        {
          "output_type": "stream",
          "text": [
            "Model: \"sequential\"\n",
            "_________________________________________________________________\n",
            "Layer (type)                 Output Shape              Param #   \n",
            "=================================================================\n",
            "keras_layer (KerasLayer)     (None, 2048)              34277672  \n",
            "_________________________________________________________________\n",
            "dense (Dense)                (None, 4)                 8196      \n",
            "=================================================================\n",
            "Total params: 34,285,868\n",
            "Trainable params: 8,196\n",
            "Non-trainable params: 34,277,672\n",
            "_________________________________________________________________\n"
          ],
          "name": "stdout"
        }
      ]
    },
    {
      "cell_type": "code",
      "metadata": {
        "colab": {
          "base_uri": "https://localhost:8080/",
          "height": 312
        },
        "id": "N0eRqnCIZZ19",
        "outputId": "5e1a0a47-12ab-4573-9d8f-6c3b46a34571"
      },
      "source": [
        "from tensorflow.keras.utils import plot_model\n",
        "plot_model(model, to_file='simclrv2_test_plot.png',show_shapes=True, show_layer_names=True)"
      ],
      "execution_count": 10,
      "outputs": [
        {
          "output_type": "execute_result",
          "data": {
            "image/png": "[encoded data removed]",
            "text/plain": [
              "<IPython.core.display.Image object>"
            ]
          },
          "metadata": {
            "tags": []
          },
          "execution_count": 10
        }
      ]
    },
    {
      "cell_type": "code",
      "metadata": {
        "id": "D1waP4WcA-4d",
        "colab": {
          "base_uri": "https://localhost:8080/"
        },
        "outputId": "0ceff6f6-e10f-4be5-b340-92df953a8bca"
      },
      "source": [
        "metrics = ['accuracy']\n",
        "callbacks = [tf.keras.callbacks.EarlyStopping(patience=3, monitor='val_loss', ),\n",
        "             tf.keras.callbacks.ModelCheckpoint(filepath='resnet_model.{epoch:02d}-{val_loss:.2f}.h5'),]\n",
        "optimizer = tf.keras.optimizers.Adam(lr=1e-3)\n",
        "model.compile(optimizer=optimizer, \n",
        "              loss='categorical_crossentropy', \n",
        "              metrics=metrics)"
      ],
      "execution_count": 11,
      "outputs": [
        {
          "output_type": "stream",
          "text": [
            "/usr/local/lib/python3.7/dist-packages/tensorflow/python/keras/optimizer_v2/optimizer_v2.py:375: UserWarning: The `lr` argument is deprecated, use `learning_rate` instead.\n",
            "  \"The `lr` argument is deprecated, use `learning_rate` instead.\")\n"
          ],
          "name": "stderr"
        }
      ]
    },
    {
      "cell_type": "code",
      "metadata": {
        "id": "w--EckTWBB4i"
      },
      "source": [
        "import os\n",
        "\n",
        "# simple version for working with CWD\n",
        "nCNV = len([name for name in os.listdir('./processed_data/data/train/0')])\n",
        "nDME = len([name for name in os.listdir('./processed_data/data/train/1')])\n",
        "nDRUSEN = len([name for name in os.listdir('./processed_data/data/train/2')])\n",
        "nNORMAL = len([name for name in os.listdir('./processed_data/data/train/3')])\n",
        "\n",
        "ncount = np.array([nCNV, nDME, nDRUSEN, nNORMAL])\n",
        "ntotal = sum(ncount)\n",
        "\n",
        "weights = ntotal/ncount/ len(ncount)\n",
        "weights /= weights.min()\n",
        "class_weight = {i: w for i, w in enumerate(weights)}"
      ],
      "execution_count": 12,
      "outputs": []
    },
    {
      "cell_type": "code",
      "metadata": {
        "colab": {
          "base_uri": "https://localhost:8080/"
        },
        "id": "xXk1WHhKInI4",
        "outputId": "c4164c6b-a775-429c-9127-c69269f9ef93"
      },
      "source": [
        "print(nCNV, nDME, nDRUSEN, nNORMAL)"
      ],
      "execution_count": 13,
      "outputs": [
        {
          "output_type": "stream",
          "text": [
            "37205 11348 8616 26315\n"
          ],
          "name": "stdout"
        }
      ]
    },
    {
      "cell_type": "code",
      "metadata": {
        "colab": {
          "base_uri": "https://localhost:8080/"
        },
        "id": "dtX_Yph1Isnw",
        "outputId": "9a9b8fbb-1968-47bf-f20b-aea31d0bdea6"
      },
      "source": [
        "print(ncount)"
      ],
      "execution_count": 14,
      "outputs": [
        {
          "output_type": "stream",
          "text": [
            "[37205 11348  8616 26315]\n"
          ],
          "name": "stdout"
        }
      ]
    },
    {
      "cell_type": "code",
      "metadata": {
        "colab": {
          "base_uri": "https://localhost:8080/"
        },
        "id": "hMK_GE9-IvCE",
        "outputId": "a2613d5e-3d28-409e-9a3e-a83ec876e42b"
      },
      "source": [
        "print(ntotal)"
      ],
      "execution_count": 15,
      "outputs": [
        {
          "output_type": "stream",
          "text": [
            "83484\n"
          ],
          "name": "stdout"
        }
      ]
    },
    {
      "cell_type": "code",
      "metadata": {
        "colab": {
          "base_uri": "https://localhost:8080/"
        },
        "id": "mFQJ0x1WI05t",
        "outputId": "456e64de-69e9-4d1c-9310-f8647f6ae2b5"
      },
      "source": [
        "print(weights)"
      ],
      "execution_count": 16,
      "outputs": [
        {
          "output_type": "stream",
          "text": [
            "[1.         3.27855129 4.31812906 1.41383241]\n"
          ],
          "name": "stdout"
        }
      ]
    },
    {
      "cell_type": "markdown",
      "metadata": {
        "id": "S96rAcMSZUgU"
      },
      "source": [
        "# Retrieve the Representation\n",
        "- we run our examples through the SimCLR to retrieve the embedding as seen by the nerual network\n"
      ]
    },
    {
      "cell_type": "code",
      "metadata": {
        "id": "BPX6S_qBchK7"
      },
      "source": [
        "def get_representation(dataset, max_batch=500):\n",
        "  out_rep, out_label = [], []\n",
        "  count = 0\n",
        "  for img, lb in dataset:\n",
        "    out_rep.append(simclr_layer(img).numpy())\n",
        "    out_label.append(lb.numpy())\n",
        "    if count % 100 == 0: print(f'count = {count}')\n",
        "    if count > max_batch: break\n",
        "    count += 1\n",
        "  out_label = np.hstack(out_label)\n",
        "  out_rep   = np.vstack(out_rep)\n",
        "  return out_rep, out_label"
      ],
      "execution_count": 17,
      "outputs": []
    },
    {
      "cell_type": "code",
      "metadata": {
        "colab": {
          "base_uri": "https://localhost:8080/"
        },
        "id": "f3ocvmcLgFLX",
        "outputId": "7ab55932-7dda-4e71-e41e-6bb0934504b2"
      },
      "source": [
        "# train_rep, train_lb = get_representation(ds_train)\n",
        "test_rep,  test_lb = get_representation(ds_test)"
      ],
      "execution_count": 18,
      "outputs": [
        {
          "output_type": "stream",
          "text": [
            "count = 0\n"
          ],
          "name": "stdout"
        }
      ]
    },
    {
      "cell_type": "code",
      "metadata": {
        "colab": {
          "base_uri": "https://localhost:8080/"
        },
        "id": "9LZahuHgp4U_",
        "outputId": "1e70386e-07fd-4dc2-92ae-28f646cf04e4"
      },
      "source": [
        "train_rep, train_lb = get_representation(ds_train)"
      ],
      "execution_count": 19,
      "outputs": [
        {
          "output_type": "stream",
          "text": [
            "count = 0\n",
            "count = 100\n",
            "count = 200\n",
            "count = 300\n",
            "count = 400\n",
            "count = 500\n"
          ],
          "name": "stdout"
        }
      ]
    },
    {
      "cell_type": "code",
      "metadata": {
        "id": "aZh2-2ahltzC"
      },
      "source": [
        "train_rep = train_rep / np.sqrt(np.square(train_rep).mean(axis=-1, keepdims=True))\n",
        "test_rep  = test_rep  / np.sqrt(np.square(test_rep).mean(axis=-1, keepdims=True))"
      ],
      "execution_count": 20,
      "outputs": []
    },
    {
      "cell_type": "code",
      "metadata": {
        "colab": {
          "base_uri": "https://localhost:8080/"
        },
        "id": "5Pm0md0pl1pT",
        "outputId": "ed5ab25d-123c-49e0-f198-e43a1956ad43"
      },
      "source": [
        "train_rep.shape"
      ],
      "execution_count": 21,
      "outputs": [
        {
          "output_type": "execute_result",
          "data": {
            "text/plain": [
              "(16064, 2048)"
            ]
          },
          "metadata": {
            "tags": []
          },
          "execution_count": 21
        }
      ]
    },
    {
      "cell_type": "code",
      "metadata": {
        "id": "Un9wqRJ-7COp"
      },
      "source": [
        "import os\n",
        "\n",
        "# simple version for working with CWD\n",
        "nCNV = len([name for name in os.listdir('./processed_data/data/train/0')])\n",
        "nDME = len([name for name in os.listdir('./processed_data/data/train/1')])\n",
        "nDRUSEN = len([name for name in os.listdir('./processed_data/data/train/2')])\n",
        "nNORMAL = len([name for name in os.listdir('./processed_data/data/train/3')])\n",
        "\n",
        "ncount = np.array([nCNV, nDME, nDRUSEN, nNORMAL])\n",
        "ntotal = sum(ncount)\n",
        "\n",
        "weights = ntotal/ncount/ len(ncount)\n",
        "weights /= weights.min()\n",
        "class_weight = {i: w for i, w in enumerate(weights)}"
      ],
      "execution_count": 23,
      "outputs": []
    },
    {
      "cell_type": "markdown",
      "metadata": {
        "id": "qKrqSc6nZRoG"
      },
      "source": [
        "# Fitting a Linear Regression Model\n",
        "- attach a dense layer with 4 outputs with softmax activation\n",
        "- minimize the cross-entropy taking into the account of the inherent imbalance between the 4 classes"
      ]
    },
    {
      "cell_type": "code",
      "metadata": {
        "id": "VtyMoMevhCAu",
        "colab": {
          "base_uri": "https://localhost:8080/"
        },
        "outputId": "74d163b5-c0d4-4ffc-f11c-2bddb5e0103c"
      },
      "source": [
        "learning_rate = 1.0e-3\n",
        "\n",
        "\n",
        "linearRegression = tf.keras.Sequential([tf.keras.layers.Input(2048),\n",
        "                                       tf.keras.layers.Dense(4, activation='softmax')])\n",
        "\n",
        "optimizer = tf.keras.optimizers.RMSprop(learning_rate=learning_rate)\n",
        "linearRegression.compile(loss='sparse_categorical_crossentropy', \n",
        "                         metrics='accuracy', \n",
        "                         optimizer=optimizer)"
      ],
      "execution_count": 24,
      "outputs": [
        {
          "output_type": "stream",
          "text": [
            "WARNING:tensorflow:Please add `keras.layers.InputLayer` instead of `keras.Input` to Sequential model. `keras.Input` is intended to be used by Functional model.\n"
          ],
          "name": "stdout"
        }
      ]
    },
    {
      "cell_type": "code",
      "metadata": {
        "colab": {
          "base_uri": "https://localhost:8080/"
        },
        "id": "ynrH93CJhJyY",
        "outputId": "9877ab94-80b9-4e2d-9e26-c5d16304aa7d"
      },
      "source": [
        "history = linearRegression.fit(train_rep, \n",
        "                              train_lb, \n",
        "                              batch_size=32, \n",
        "                              epochs=100,\n",
        "                              class_weight=class_weight,\n",
        "                              validation_data=(test_rep, test_lb),)"
      ],
      "execution_count": 25,
      "outputs": [
        {
          "output_type": "stream",
          "text": [
            "WARNING:tensorflow:From /usr/local/lib/python3.7/dist-packages/tensorflow/python/ops/array_ops.py:5049: calling gather (from tensorflow.python.ops.array_ops) with validate_indices is deprecated and will be removed in a future version.\n",
            "Instructions for updating:\n",
            "The `validate_indices` argument has no effect. Indices are always validated on CPU and never validated on GPU.\n",
            "Epoch 1/100\n",
            "502/502 [==============================] - 2s 2ms/step - loss: 2.3786 - accuracy: 0.3940 - val_loss: 1.1852 - val_accuracy: 0.4587\n",
            "Epoch 2/100\n",
            "502/502 [==============================] - 1s 2ms/step - loss: 2.1947 - accuracy: 0.4836 - val_loss: 1.0455 - val_accuracy: 0.6333\n",
            "Epoch 3/100\n",
            "502/502 [==============================] - 1s 2ms/step - loss: 2.0972 - accuracy: 0.5215 - val_loss: 1.0288 - val_accuracy: 0.6012\n",
            "Epoch 4/100\n",
            "502/502 [==============================] - 1s 2ms/step - loss: 2.0337 - accuracy: 0.5480 - val_loss: 0.9750 - val_accuracy: 0.6209\n",
            "Epoch 5/100\n",
            "502/502 [==============================] - 1s 2ms/step - loss: 1.9757 - accuracy: 0.5616 - val_loss: 0.9463 - val_accuracy: 0.6322\n",
            "Epoch 6/100\n",
            "502/502 [==============================] - 1s 2ms/step - loss: 1.9400 - accuracy: 0.5762 - val_loss: 0.9113 - val_accuracy: 0.6601\n",
            "Epoch 7/100\n",
            "502/502 [==============================] - 1s 2ms/step - loss: 1.9056 - accuracy: 0.5796 - val_loss: 0.8726 - val_accuracy: 0.6860\n",
            "Epoch 8/100\n",
            "502/502 [==============================] - 1s 2ms/step - loss: 1.8740 - accuracy: 0.5955 - val_loss: 0.8920 - val_accuracy: 0.6560\n",
            "Epoch 9/100\n",
            "502/502 [==============================] - 1s 2ms/step - loss: 1.8431 - accuracy: 0.5994 - val_loss: 0.8791 - val_accuracy: 0.6767\n",
            "Epoch 10/100\n",
            "502/502 [==============================] - 1s 2ms/step - loss: 1.8236 - accuracy: 0.6032 - val_loss: 0.9699 - val_accuracy: 0.5444\n",
            "Epoch 11/100\n",
            "502/502 [==============================] - 1s 2ms/step - loss: 1.8060 - accuracy: 0.6093 - val_loss: 0.9386 - val_accuracy: 0.5640\n",
            "Epoch 12/100\n",
            "502/502 [==============================] - 1s 2ms/step - loss: 1.7896 - accuracy: 0.6129 - val_loss: 0.8003 - val_accuracy: 0.7159\n",
            "Epoch 13/100\n",
            "502/502 [==============================] - 1s 2ms/step - loss: 1.7738 - accuracy: 0.6172 - val_loss: 0.9404 - val_accuracy: 0.5775\n",
            "Epoch 14/100\n",
            "502/502 [==============================] - 1s 2ms/step - loss: 1.7606 - accuracy: 0.6229 - val_loss: 0.8220 - val_accuracy: 0.6798\n",
            "Epoch 15/100\n",
            "502/502 [==============================] - 1s 2ms/step - loss: 1.7344 - accuracy: 0.6271 - val_loss: 0.7944 - val_accuracy: 0.7097\n",
            "Epoch 16/100\n",
            "502/502 [==============================] - 1s 2ms/step - loss: 1.7312 - accuracy: 0.6272 - val_loss: 0.8483 - val_accuracy: 0.6612\n",
            "Epoch 17/100\n",
            "502/502 [==============================] - 1s 2ms/step - loss: 1.7226 - accuracy: 0.6347 - val_loss: 0.7467 - val_accuracy: 0.7459\n",
            "Epoch 18/100\n",
            "502/502 [==============================] - 1s 2ms/step - loss: 1.7048 - accuracy: 0.6361 - val_loss: 0.8200 - val_accuracy: 0.6570\n",
            "Epoch 19/100\n",
            "502/502 [==============================] - 1s 2ms/step - loss: 1.7017 - accuracy: 0.6361 - val_loss: 0.7828 - val_accuracy: 0.6973\n",
            "Epoch 20/100\n",
            "502/502 [==============================] - 1s 2ms/step - loss: 1.6909 - accuracy: 0.6376 - val_loss: 0.7778 - val_accuracy: 0.6839\n",
            "Epoch 21/100\n",
            "502/502 [==============================] - 1s 2ms/step - loss: 1.6799 - accuracy: 0.6483 - val_loss: 0.7802 - val_accuracy: 0.6777\n",
            "Epoch 22/100\n",
            "502/502 [==============================] - 1s 2ms/step - loss: 1.6717 - accuracy: 0.6452 - val_loss: 0.9684 - val_accuracy: 0.5413\n",
            "Epoch 23/100\n",
            "502/502 [==============================] - 1s 2ms/step - loss: 1.6665 - accuracy: 0.6435 - val_loss: 0.7277 - val_accuracy: 0.7242\n",
            "Epoch 24/100\n",
            "502/502 [==============================] - 1s 2ms/step - loss: 1.6511 - accuracy: 0.6498 - val_loss: 0.9275 - val_accuracy: 0.6271\n",
            "Epoch 25/100\n",
            "502/502 [==============================] - 1s 2ms/step - loss: 1.6439 - accuracy: 0.6567 - val_loss: 0.7882 - val_accuracy: 0.6570\n",
            "Epoch 26/100\n",
            "502/502 [==============================] - 1s 2ms/step - loss: 1.6396 - accuracy: 0.6533 - val_loss: 0.7363 - val_accuracy: 0.7273\n",
            "Epoch 27/100\n",
            "502/502 [==============================] - 1s 2ms/step - loss: 1.6371 - accuracy: 0.6511 - val_loss: 0.7041 - val_accuracy: 0.7428\n",
            "Epoch 28/100\n",
            "502/502 [==============================] - 1s 2ms/step - loss: 1.6237 - accuracy: 0.6572 - val_loss: 0.7606 - val_accuracy: 0.6653\n",
            "Epoch 29/100\n",
            "502/502 [==============================] - 1s 2ms/step - loss: 1.6217 - accuracy: 0.6579 - val_loss: 0.7821 - val_accuracy: 0.6725\n",
            "Epoch 30/100\n",
            "502/502 [==============================] - 1s 2ms/step - loss: 1.6206 - accuracy: 0.6589 - val_loss: 0.6881 - val_accuracy: 0.7562\n",
            "Epoch 31/100\n",
            "502/502 [==============================] - 1s 2ms/step - loss: 1.6155 - accuracy: 0.6579 - val_loss: 0.6880 - val_accuracy: 0.7552\n",
            "Epoch 32/100\n",
            "502/502 [==============================] - 1s 2ms/step - loss: 1.6053 - accuracy: 0.6625 - val_loss: 0.8305 - val_accuracy: 0.6508\n",
            "Epoch 33/100\n",
            "502/502 [==============================] - 1s 2ms/step - loss: 1.5997 - accuracy: 0.6656 - val_loss: 0.6880 - val_accuracy: 0.7438\n",
            "Epoch 34/100\n",
            "502/502 [==============================] - 1s 2ms/step - loss: 1.6006 - accuracy: 0.6628 - val_loss: 0.7166 - val_accuracy: 0.7211\n",
            "Epoch 35/100\n",
            "502/502 [==============================] - 1s 2ms/step - loss: 1.5874 - accuracy: 0.6663 - val_loss: 0.6696 - val_accuracy: 0.7603\n",
            "Epoch 36/100\n",
            "502/502 [==============================] - 1s 2ms/step - loss: 1.5828 - accuracy: 0.6663 - val_loss: 0.6991 - val_accuracy: 0.7211\n",
            "Epoch 37/100\n",
            "502/502 [==============================] - 1s 2ms/step - loss: 1.5801 - accuracy: 0.6688 - val_loss: 0.6807 - val_accuracy: 0.7562\n",
            "Epoch 38/100\n",
            "502/502 [==============================] - 1s 2ms/step - loss: 1.5666 - accuracy: 0.6737 - val_loss: 0.6740 - val_accuracy: 0.7479\n",
            "Epoch 39/100\n",
            "502/502 [==============================] - 1s 2ms/step - loss: 1.5761 - accuracy: 0.6716 - val_loss: 0.6724 - val_accuracy: 0.7510\n",
            "Epoch 40/100\n",
            "502/502 [==============================] - 1s 2ms/step - loss: 1.5664 - accuracy: 0.6687 - val_loss: 0.6752 - val_accuracy: 0.7407\n",
            "Epoch 41/100\n",
            "502/502 [==============================] - 1s 2ms/step - loss: 1.5612 - accuracy: 0.6726 - val_loss: 0.6898 - val_accuracy: 0.7428\n",
            "Epoch 42/100\n",
            "502/502 [==============================] - 1s 2ms/step - loss: 1.5605 - accuracy: 0.6743 - val_loss: 0.6886 - val_accuracy: 0.7355\n",
            "Epoch 43/100\n",
            "502/502 [==============================] - 1s 2ms/step - loss: 1.5567 - accuracy: 0.6748 - val_loss: 0.6446 - val_accuracy: 0.7696\n",
            "Epoch 44/100\n",
            "502/502 [==============================] - 1s 2ms/step - loss: 1.5531 - accuracy: 0.6759 - val_loss: 0.6490 - val_accuracy: 0.7562\n",
            "Epoch 45/100\n",
            "502/502 [==============================] - 1s 2ms/step - loss: 1.5428 - accuracy: 0.6749 - val_loss: 0.7187 - val_accuracy: 0.6973\n",
            "Epoch 46/100\n",
            "502/502 [==============================] - 1s 2ms/step - loss: 1.5476 - accuracy: 0.6737 - val_loss: 0.6591 - val_accuracy: 0.7500\n",
            "Epoch 47/100\n",
            "502/502 [==============================] - 1s 2ms/step - loss: 1.5392 - accuracy: 0.6783 - val_loss: 0.6689 - val_accuracy: 0.7500\n",
            "Epoch 48/100\n",
            "502/502 [==============================] - 1s 2ms/step - loss: 1.5411 - accuracy: 0.6772 - val_loss: 0.6737 - val_accuracy: 0.7448\n",
            "Epoch 49/100\n",
            "502/502 [==============================] - 1s 2ms/step - loss: 1.5351 - accuracy: 0.6801 - val_loss: 0.6603 - val_accuracy: 0.7459\n",
            "Epoch 50/100\n",
            "502/502 [==============================] - 1s 2ms/step - loss: 1.5361 - accuracy: 0.6790 - val_loss: 0.6861 - val_accuracy: 0.7190\n",
            "Epoch 51/100\n",
            "502/502 [==============================] - 1s 2ms/step - loss: 1.5292 - accuracy: 0.6792 - val_loss: 0.6453 - val_accuracy: 0.7655\n",
            "Epoch 52/100\n",
            "502/502 [==============================] - 1s 2ms/step - loss: 1.5338 - accuracy: 0.6788 - val_loss: 0.6263 - val_accuracy: 0.7800\n",
            "Epoch 53/100\n",
            "502/502 [==============================] - 1s 2ms/step - loss: 1.5270 - accuracy: 0.6816 - val_loss: 0.6563 - val_accuracy: 0.7521\n",
            "Epoch 54/100\n",
            "502/502 [==============================] - 1s 2ms/step - loss: 1.5242 - accuracy: 0.6815 - val_loss: 0.6757 - val_accuracy: 0.7293\n",
            "Epoch 55/100\n",
            "502/502 [==============================] - 1s 2ms/step - loss: 1.5202 - accuracy: 0.6821 - val_loss: 0.6423 - val_accuracy: 0.7634\n",
            "Epoch 56/100\n",
            "502/502 [==============================] - 1s 2ms/step - loss: 1.5140 - accuracy: 0.6831 - val_loss: 0.6683 - val_accuracy: 0.7438\n",
            "Epoch 57/100\n",
            "502/502 [==============================] - 1s 2ms/step - loss: 1.5130 - accuracy: 0.6843 - val_loss: 0.6231 - val_accuracy: 0.7748\n",
            "Epoch 58/100\n",
            "502/502 [==============================] - 1s 2ms/step - loss: 1.5107 - accuracy: 0.6844 - val_loss: 0.6712 - val_accuracy: 0.7304\n",
            "Epoch 59/100\n",
            "502/502 [==============================] - 1s 2ms/step - loss: 1.5014 - accuracy: 0.6865 - val_loss: 0.6494 - val_accuracy: 0.7562\n",
            "Epoch 60/100\n",
            "502/502 [==============================] - 1s 2ms/step - loss: 1.5057 - accuracy: 0.6853 - val_loss: 0.6446 - val_accuracy: 0.7593\n",
            "Epoch 61/100\n",
            "502/502 [==============================] - 1s 2ms/step - loss: 1.5042 - accuracy: 0.6861 - val_loss: 0.6318 - val_accuracy: 0.7583\n",
            "Epoch 62/100\n",
            "502/502 [==============================] - 1s 2ms/step - loss: 1.4955 - accuracy: 0.6840 - val_loss: 0.6611 - val_accuracy: 0.7428\n",
            "Epoch 63/100\n",
            "502/502 [==============================] - 1s 2ms/step - loss: 1.4954 - accuracy: 0.6849 - val_loss: 0.6292 - val_accuracy: 0.7696\n",
            "Epoch 64/100\n",
            "502/502 [==============================] - 1s 2ms/step - loss: 1.4963 - accuracy: 0.6863 - val_loss: 0.6134 - val_accuracy: 0.7738\n",
            "Epoch 65/100\n",
            "502/502 [==============================] - 1s 2ms/step - loss: 1.4937 - accuracy: 0.6892 - val_loss: 0.6772 - val_accuracy: 0.7273\n",
            "Epoch 66/100\n",
            "502/502 [==============================] - 1s 2ms/step - loss: 1.4862 - accuracy: 0.6896 - val_loss: 0.6516 - val_accuracy: 0.7397\n",
            "Epoch 67/100\n",
            "502/502 [==============================] - 1s 2ms/step - loss: 1.4863 - accuracy: 0.6915 - val_loss: 0.6486 - val_accuracy: 0.7500\n",
            "Epoch 68/100\n",
            "502/502 [==============================] - 1s 2ms/step - loss: 1.4852 - accuracy: 0.6896 - val_loss: 0.7133 - val_accuracy: 0.6994\n",
            "Epoch 69/100\n",
            "502/502 [==============================] - 1s 2ms/step - loss: 1.4862 - accuracy: 0.6894 - val_loss: 0.6522 - val_accuracy: 0.7386\n",
            "Epoch 70/100\n",
            "502/502 [==============================] - 1s 2ms/step - loss: 1.4786 - accuracy: 0.6916 - val_loss: 0.6445 - val_accuracy: 0.7510\n",
            "Epoch 71/100\n",
            "502/502 [==============================] - 1s 2ms/step - loss: 1.4791 - accuracy: 0.6894 - val_loss: 0.6518 - val_accuracy: 0.7376\n",
            "Epoch 72/100\n",
            "502/502 [==============================] - 1s 2ms/step - loss: 1.4771 - accuracy: 0.6911 - val_loss: 0.6299 - val_accuracy: 0.7696\n",
            "Epoch 73/100\n",
            "502/502 [==============================] - 1s 2ms/step - loss: 1.4744 - accuracy: 0.6935 - val_loss: 0.6554 - val_accuracy: 0.7541\n",
            "Epoch 74/100\n",
            "502/502 [==============================] - 1s 2ms/step - loss: 1.4823 - accuracy: 0.6928 - val_loss: 0.6221 - val_accuracy: 0.7645\n",
            "Epoch 75/100\n",
            "502/502 [==============================] - 1s 2ms/step - loss: 1.4743 - accuracy: 0.6916 - val_loss: 0.6339 - val_accuracy: 0.7614\n",
            "Epoch 76/100\n",
            "502/502 [==============================] - 1s 2ms/step - loss: 1.4708 - accuracy: 0.6940 - val_loss: 0.5981 - val_accuracy: 0.7862\n",
            "Epoch 77/100\n",
            "502/502 [==============================] - 1s 2ms/step - loss: 1.4733 - accuracy: 0.6930 - val_loss: 0.6241 - val_accuracy: 0.7624\n",
            "Epoch 78/100\n",
            "502/502 [==============================] - 1s 2ms/step - loss: 1.4670 - accuracy: 0.6936 - val_loss: 0.7339 - val_accuracy: 0.6787\n",
            "Epoch 79/100\n",
            "502/502 [==============================] - 1s 2ms/step - loss: 1.4629 - accuracy: 0.6938 - val_loss: 0.6198 - val_accuracy: 0.7686\n",
            "Epoch 80/100\n",
            "502/502 [==============================] - 1s 2ms/step - loss: 1.4583 - accuracy: 0.6923 - val_loss: 0.6814 - val_accuracy: 0.7159\n",
            "Epoch 81/100\n",
            "502/502 [==============================] - 1s 2ms/step - loss: 1.4612 - accuracy: 0.6953 - val_loss: 0.6697 - val_accuracy: 0.7386\n",
            "Epoch 82/100\n",
            "502/502 [==============================] - 1s 2ms/step - loss: 1.4585 - accuracy: 0.6997 - val_loss: 0.6144 - val_accuracy: 0.7593\n",
            "Epoch 83/100\n",
            "502/502 [==============================] - 1s 2ms/step - loss: 1.4544 - accuracy: 0.6975 - val_loss: 0.6084 - val_accuracy: 0.7696\n",
            "Epoch 84/100\n",
            "502/502 [==============================] - 1s 2ms/step - loss: 1.4559 - accuracy: 0.6950 - val_loss: 0.5922 - val_accuracy: 0.7810\n",
            "Epoch 85/100\n",
            "502/502 [==============================] - 1s 2ms/step - loss: 1.4517 - accuracy: 0.6956 - val_loss: 0.5988 - val_accuracy: 0.7831\n",
            "Epoch 86/100\n",
            "502/502 [==============================] - 1s 2ms/step - loss: 1.4524 - accuracy: 0.6957 - val_loss: 0.5971 - val_accuracy: 0.7893\n",
            "Epoch 87/100\n",
            "502/502 [==============================] - 1s 2ms/step - loss: 1.4516 - accuracy: 0.7023 - val_loss: 0.5967 - val_accuracy: 0.7800\n",
            "Epoch 88/100\n",
            "502/502 [==============================] - 1s 2ms/step - loss: 1.4446 - accuracy: 0.6952 - val_loss: 0.5866 - val_accuracy: 0.7851\n",
            "Epoch 89/100\n",
            "502/502 [==============================] - 1s 2ms/step - loss: 1.4415 - accuracy: 0.7016 - val_loss: 0.6292 - val_accuracy: 0.7521\n",
            "Epoch 90/100\n",
            "502/502 [==============================] - 1s 2ms/step - loss: 1.4431 - accuracy: 0.7021 - val_loss: 0.6385 - val_accuracy: 0.7521\n",
            "Epoch 91/100\n",
            "502/502 [==============================] - 1s 2ms/step - loss: 1.4443 - accuracy: 0.6999 - val_loss: 0.6610 - val_accuracy: 0.7314\n",
            "Epoch 92/100\n",
            "502/502 [==============================] - 1s 2ms/step - loss: 1.4437 - accuracy: 0.7018 - val_loss: 0.6066 - val_accuracy: 0.7686\n",
            "Epoch 93/100\n",
            "502/502 [==============================] - 1s 2ms/step - loss: 1.4404 - accuracy: 0.7027 - val_loss: 0.6384 - val_accuracy: 0.7469\n",
            "Epoch 94/100\n",
            "502/502 [==============================] - 1s 2ms/step - loss: 1.4417 - accuracy: 0.6999 - val_loss: 0.5882 - val_accuracy: 0.7862\n",
            "Epoch 95/100\n",
            "502/502 [==============================] - 1s 2ms/step - loss: 1.4358 - accuracy: 0.6990 - val_loss: 0.6063 - val_accuracy: 0.7614\n",
            "Epoch 96/100\n",
            "502/502 [==============================] - 1s 2ms/step - loss: 1.4372 - accuracy: 0.7052 - val_loss: 0.6667 - val_accuracy: 0.7428\n",
            "Epoch 97/100\n",
            "502/502 [==============================] - 1s 2ms/step - loss: 1.4379 - accuracy: 0.6993 - val_loss: 0.5839 - val_accuracy: 0.7841\n",
            "Epoch 98/100\n",
            "502/502 [==============================] - 1s 2ms/step - loss: 1.4333 - accuracy: 0.7038 - val_loss: 0.6049 - val_accuracy: 0.7707\n",
            "Epoch 99/100\n",
            "502/502 [==============================] - 1s 2ms/step - loss: 1.4356 - accuracy: 0.7057 - val_loss: 0.6512 - val_accuracy: 0.7304\n",
            "Epoch 100/100\n",
            "502/502 [==============================] - 1s 2ms/step - loss: 1.4361 - accuracy: 0.7000 - val_loss: 0.5993 - val_accuracy: 0.7779\n"
          ],
          "name": "stdout"
        }
      ]
    },
    {
      "cell_type": "code",
      "metadata": {
        "colab": {
          "base_uri": "https://localhost:8080/"
        },
        "id": "sBPITqv8sZkF",
        "outputId": "7b408cf4-eb95-40ee-d24d-e28960883228"
      },
      "source": [
        "history = linearRegression.fit(train_rep, \n",
        "                               train_lb, \n",
        "                               batch_size=32, \n",
        "                               epochs=400,\n",
        "                               class_weight=class_weight,\n",
        "                               validation_data=(test_rep, test_lb),\n",
        "                               initial_epoch=200)"
      ],
      "execution_count": 26,
      "outputs": [
        {
          "output_type": "stream",
          "text": [
            "Epoch 201/400\n",
            "502/502 [==============================] - 1s 2ms/step - loss: 1.4278 - accuracy: 0.7046 - val_loss: 0.6337 - val_accuracy: 0.7541\n",
            "Epoch 202/400\n",
            "502/502 [==============================] - 1s 2ms/step - loss: 1.4400 - accuracy: 0.7043 - val_loss: 0.6304 - val_accuracy: 0.7552\n",
            "Epoch 203/400\n",
            "502/502 [==============================] - 1s 2ms/step - loss: 1.4305 - accuracy: 0.6990 - val_loss: 0.6133 - val_accuracy: 0.7624\n",
            "Epoch 204/400\n",
            "502/502 [==============================] - 1s 2ms/step - loss: 1.4295 - accuracy: 0.7000 - val_loss: 0.6073 - val_accuracy: 0.7696\n",
            "Epoch 205/400\n",
            "502/502 [==============================] - 1s 2ms/step - loss: 1.4275 - accuracy: 0.7052 - val_loss: 0.6111 - val_accuracy: 0.7603\n",
            "Epoch 206/400\n",
            "502/502 [==============================] - 1s 2ms/step - loss: 1.4247 - accuracy: 0.7022 - val_loss: 0.5776 - val_accuracy: 0.7924\n",
            "Epoch 207/400\n",
            "502/502 [==============================] - 1s 2ms/step - loss: 1.4240 - accuracy: 0.7041 - val_loss: 0.5832 - val_accuracy: 0.7810\n",
            "Epoch 208/400\n",
            "502/502 [==============================] - 1s 2ms/step - loss: 1.4193 - accuracy: 0.7027 - val_loss: 0.5798 - val_accuracy: 0.7769\n",
            "Epoch 209/400\n",
            "502/502 [==============================] - 1s 2ms/step - loss: 1.4264 - accuracy: 0.7047 - val_loss: 0.5803 - val_accuracy: 0.7862\n",
            "Epoch 210/400\n",
            "502/502 [==============================] - 1s 2ms/step - loss: 1.4186 - accuracy: 0.7047 - val_loss: 0.6201 - val_accuracy: 0.7552\n",
            "Epoch 211/400\n",
            "502/502 [==============================] - 1s 2ms/step - loss: 1.4207 - accuracy: 0.7054 - val_loss: 0.5993 - val_accuracy: 0.7707\n",
            "Epoch 212/400\n",
            "502/502 [==============================] - 1s 2ms/step - loss: 1.4170 - accuracy: 0.7090 - val_loss: 0.5910 - val_accuracy: 0.7738\n",
            "Epoch 213/400\n",
            "502/502 [==============================] - 1s 2ms/step - loss: 1.4238 - accuracy: 0.7049 - val_loss: 0.6364 - val_accuracy: 0.7407\n",
            "Epoch 214/400\n",
            "502/502 [==============================] - 1s 2ms/step - loss: 1.4174 - accuracy: 0.7084 - val_loss: 0.5781 - val_accuracy: 0.7769\n",
            "Epoch 215/400\n",
            "502/502 [==============================] - 1s 2ms/step - loss: 1.4129 - accuracy: 0.7083 - val_loss: 0.5903 - val_accuracy: 0.7779\n",
            "Epoch 216/400\n",
            "502/502 [==============================] - 1s 2ms/step - loss: 1.4103 - accuracy: 0.7114 - val_loss: 0.7114 - val_accuracy: 0.6963\n",
            "Epoch 217/400\n",
            "502/502 [==============================] - 1s 2ms/step - loss: 1.4120 - accuracy: 0.7104 - val_loss: 0.5863 - val_accuracy: 0.7748\n",
            "Epoch 218/400\n",
            "502/502 [==============================] - 1s 2ms/step - loss: 1.4127 - accuracy: 0.7107 - val_loss: 0.5954 - val_accuracy: 0.7758\n",
            "Epoch 219/400\n",
            "502/502 [==============================] - 1s 2ms/step - loss: 1.4062 - accuracy: 0.7090 - val_loss: 0.7365 - val_accuracy: 0.6983\n",
            "Epoch 220/400\n",
            "502/502 [==============================] - 1s 2ms/step - loss: 1.4165 - accuracy: 0.7047 - val_loss: 0.5798 - val_accuracy: 0.7758\n",
            "Epoch 221/400\n",
            "502/502 [==============================] - 1s 2ms/step - loss: 1.4088 - accuracy: 0.7091 - val_loss: 0.5890 - val_accuracy: 0.7696\n",
            "Epoch 222/400\n",
            "502/502 [==============================] - 1s 2ms/step - loss: 1.4127 - accuracy: 0.7065 - val_loss: 0.5989 - val_accuracy: 0.7707\n",
            "Epoch 223/400\n",
            "502/502 [==============================] - 1s 2ms/step - loss: 1.4128 - accuracy: 0.7101 - val_loss: 0.5785 - val_accuracy: 0.7738\n",
            "Epoch 224/400\n",
            "502/502 [==============================] - 1s 2ms/step - loss: 1.4070 - accuracy: 0.7079 - val_loss: 0.6115 - val_accuracy: 0.7603\n",
            "Epoch 225/400\n",
            "502/502 [==============================] - 1s 2ms/step - loss: 1.4005 - accuracy: 0.7110 - val_loss: 0.5893 - val_accuracy: 0.7645\n",
            "Epoch 226/400\n",
            "502/502 [==============================] - 1s 2ms/step - loss: 1.4103 - accuracy: 0.7113 - val_loss: 0.6037 - val_accuracy: 0.7696\n",
            "Epoch 227/400\n",
            "502/502 [==============================] - 1s 2ms/step - loss: 1.4081 - accuracy: 0.7057 - val_loss: 0.6378 - val_accuracy: 0.7448\n",
            "Epoch 228/400\n",
            "502/502 [==============================] - 1s 2ms/step - loss: 1.4023 - accuracy: 0.7119 - val_loss: 0.5901 - val_accuracy: 0.7727\n",
            "Epoch 229/400\n",
            "502/502 [==============================] - 1s 2ms/step - loss: 1.4035 - accuracy: 0.7071 - val_loss: 0.6107 - val_accuracy: 0.7624\n",
            "Epoch 230/400\n",
            "502/502 [==============================] - 1s 2ms/step - loss: 1.4059 - accuracy: 0.7102 - val_loss: 0.5740 - val_accuracy: 0.7748\n",
            "Epoch 231/400\n",
            "502/502 [==============================] - 1s 2ms/step - loss: 1.3983 - accuracy: 0.7103 - val_loss: 0.6032 - val_accuracy: 0.7593\n",
            "Epoch 232/400\n",
            "502/502 [==============================] - 1s 2ms/step - loss: 1.4064 - accuracy: 0.7089 - val_loss: 0.5850 - val_accuracy: 0.7727\n",
            "Epoch 233/400\n",
            "502/502 [==============================] - 1s 2ms/step - loss: 1.3989 - accuracy: 0.7075 - val_loss: 0.5906 - val_accuracy: 0.7727\n",
            "Epoch 234/400\n",
            "502/502 [==============================] - 1s 2ms/step - loss: 1.4032 - accuracy: 0.7107 - val_loss: 0.5640 - val_accuracy: 0.7934\n",
            "Epoch 235/400\n",
            "502/502 [==============================] - 1s 2ms/step - loss: 1.3984 - accuracy: 0.7105 - val_loss: 0.5630 - val_accuracy: 0.7779\n",
            "Epoch 236/400\n",
            "502/502 [==============================] - 1s 2ms/step - loss: 1.3983 - accuracy: 0.7115 - val_loss: 0.5801 - val_accuracy: 0.7686\n",
            "Epoch 237/400\n",
            "502/502 [==============================] - 1s 2ms/step - loss: 1.3958 - accuracy: 0.7148 - val_loss: 0.6229 - val_accuracy: 0.7490\n",
            "Epoch 238/400\n",
            "502/502 [==============================] - 1s 2ms/step - loss: 1.3998 - accuracy: 0.7070 - val_loss: 0.5703 - val_accuracy: 0.7789\n",
            "Epoch 239/400\n",
            "502/502 [==============================] - 1s 2ms/step - loss: 1.3969 - accuracy: 0.7094 - val_loss: 0.5862 - val_accuracy: 0.7748\n",
            "Epoch 240/400\n",
            "502/502 [==============================] - 1s 2ms/step - loss: 1.3932 - accuracy: 0.7095 - val_loss: 0.6116 - val_accuracy: 0.7738\n",
            "Epoch 241/400\n",
            "502/502 [==============================] - 1s 2ms/step - loss: 1.3947 - accuracy: 0.7122 - val_loss: 0.6358 - val_accuracy: 0.7428\n",
            "Epoch 242/400\n",
            "502/502 [==============================] - 1s 2ms/step - loss: 1.3897 - accuracy: 0.7152 - val_loss: 0.5947 - val_accuracy: 0.7769\n",
            "Epoch 243/400\n",
            "502/502 [==============================] - 1s 2ms/step - loss: 1.3898 - accuracy: 0.7094 - val_loss: 0.6021 - val_accuracy: 0.7645\n",
            "Epoch 244/400\n",
            "502/502 [==============================] - 1s 2ms/step - loss: 1.3857 - accuracy: 0.7162 - val_loss: 0.5962 - val_accuracy: 0.7624\n",
            "Epoch 245/400\n",
            "502/502 [==============================] - 1s 2ms/step - loss: 1.3952 - accuracy: 0.7107 - val_loss: 0.5901 - val_accuracy: 0.7603\n",
            "Epoch 246/400\n",
            "502/502 [==============================] - 1s 2ms/step - loss: 1.3841 - accuracy: 0.7102 - val_loss: 0.6101 - val_accuracy: 0.7583\n",
            "Epoch 247/400\n",
            "502/502 [==============================] - 1s 2ms/step - loss: 1.3953 - accuracy: 0.7092 - val_loss: 0.5957 - val_accuracy: 0.7655\n",
            "Epoch 248/400\n",
            "502/502 [==============================] - 1s 2ms/step - loss: 1.3901 - accuracy: 0.7128 - val_loss: 0.6249 - val_accuracy: 0.7521\n",
            "Epoch 249/400\n",
            "502/502 [==============================] - 1s 2ms/step - loss: 1.3829 - accuracy: 0.7119 - val_loss: 0.5730 - val_accuracy: 0.7841\n",
            "Epoch 250/400\n",
            "502/502 [==============================] - 1s 2ms/step - loss: 1.3842 - accuracy: 0.7123 - val_loss: 0.6188 - val_accuracy: 0.7593\n",
            "Epoch 251/400\n",
            "502/502 [==============================] - 1s 2ms/step - loss: 1.3912 - accuracy: 0.7117 - val_loss: 0.5978 - val_accuracy: 0.7624\n",
            "Epoch 252/400\n",
            "502/502 [==============================] - 1s 2ms/step - loss: 1.3821 - accuracy: 0.7098 - val_loss: 0.6215 - val_accuracy: 0.7459\n",
            "Epoch 253/400\n",
            "502/502 [==============================] - 1s 2ms/step - loss: 1.3837 - accuracy: 0.7158 - val_loss: 0.5958 - val_accuracy: 0.7769\n",
            "Epoch 254/400\n",
            "502/502 [==============================] - 1s 2ms/step - loss: 1.3849 - accuracy: 0.7131 - val_loss: 0.6024 - val_accuracy: 0.7634\n",
            "Epoch 255/400\n",
            "502/502 [==============================] - 1s 2ms/step - loss: 1.3849 - accuracy: 0.7153 - val_loss: 0.5529 - val_accuracy: 0.7944\n",
            "Epoch 256/400\n",
            "502/502 [==============================] - 1s 2ms/step - loss: 1.3807 - accuracy: 0.7133 - val_loss: 0.5886 - val_accuracy: 0.7748\n",
            "Epoch 257/400\n",
            "502/502 [==============================] - 1s 2ms/step - loss: 1.3843 - accuracy: 0.7122 - val_loss: 0.6077 - val_accuracy: 0.7593\n",
            "Epoch 258/400\n",
            "502/502 [==============================] - 1s 2ms/step - loss: 1.3851 - accuracy: 0.7138 - val_loss: 0.5748 - val_accuracy: 0.7862\n",
            "Epoch 259/400\n",
            "502/502 [==============================] - 1s 2ms/step - loss: 1.3818 - accuracy: 0.7143 - val_loss: 0.5764 - val_accuracy: 0.7872\n",
            "Epoch 260/400\n",
            "502/502 [==============================] - 1s 2ms/step - loss: 1.3768 - accuracy: 0.7170 - val_loss: 0.5862 - val_accuracy: 0.7748\n",
            "Epoch 261/400\n",
            "502/502 [==============================] - 1s 2ms/step - loss: 1.3778 - accuracy: 0.7145 - val_loss: 0.5666 - val_accuracy: 0.7872\n",
            "Epoch 262/400\n",
            "502/502 [==============================] - 1s 2ms/step - loss: 1.3775 - accuracy: 0.7164 - val_loss: 0.5866 - val_accuracy: 0.7748\n",
            "Epoch 263/400\n",
            "502/502 [==============================] - 1s 2ms/step - loss: 1.3779 - accuracy: 0.7164 - val_loss: 0.5757 - val_accuracy: 0.7707\n",
            "Epoch 264/400\n",
            "502/502 [==============================] - 1s 2ms/step - loss: 1.3789 - accuracy: 0.7148 - val_loss: 0.6038 - val_accuracy: 0.7686\n",
            "Epoch 265/400\n",
            "502/502 [==============================] - 1s 2ms/step - loss: 1.3790 - accuracy: 0.7158 - val_loss: 0.5538 - val_accuracy: 0.7903\n",
            "Epoch 266/400\n",
            "502/502 [==============================] - 1s 2ms/step - loss: 1.3775 - accuracy: 0.7127 - val_loss: 0.6020 - val_accuracy: 0.7593\n",
            "Epoch 267/400\n",
            "502/502 [==============================] - 1s 2ms/step - loss: 1.3752 - accuracy: 0.7178 - val_loss: 0.5669 - val_accuracy: 0.7789\n",
            "Epoch 268/400\n",
            "502/502 [==============================] - 1s 2ms/step - loss: 1.3757 - accuracy: 0.7158 - val_loss: 0.6099 - val_accuracy: 0.7593\n",
            "Epoch 269/400\n",
            "502/502 [==============================] - 1s 2ms/step - loss: 1.3773 - accuracy: 0.7155 - val_loss: 0.5786 - val_accuracy: 0.7748\n",
            "Epoch 270/400\n",
            "502/502 [==============================] - 1s 2ms/step - loss: 1.3763 - accuracy: 0.7141 - val_loss: 0.5849 - val_accuracy: 0.7738\n",
            "Epoch 271/400\n",
            "502/502 [==============================] - 1s 2ms/step - loss: 1.3797 - accuracy: 0.7147 - val_loss: 0.5732 - val_accuracy: 0.7903\n",
            "Epoch 272/400\n",
            "502/502 [==============================] - 1s 2ms/step - loss: 1.3745 - accuracy: 0.7179 - val_loss: 0.5641 - val_accuracy: 0.7779\n",
            "Epoch 273/400\n",
            "502/502 [==============================] - 1s 2ms/step - loss: 1.3706 - accuracy: 0.7156 - val_loss: 0.6237 - val_accuracy: 0.7541\n",
            "Epoch 274/400\n",
            "502/502 [==============================] - 1s 2ms/step - loss: 1.3796 - accuracy: 0.7160 - val_loss: 0.5737 - val_accuracy: 0.7831\n",
            "Epoch 275/400\n",
            "502/502 [==============================] - 1s 2ms/step - loss: 1.3729 - accuracy: 0.7153 - val_loss: 0.6271 - val_accuracy: 0.7479\n",
            "Epoch 276/400\n",
            "502/502 [==============================] - 1s 2ms/step - loss: 1.3750 - accuracy: 0.7169 - val_loss: 0.5919 - val_accuracy: 0.7624\n",
            "Epoch 277/400\n",
            "502/502 [==============================] - 1s 2ms/step - loss: 1.3734 - accuracy: 0.7153 - val_loss: 0.5744 - val_accuracy: 0.7645\n",
            "Epoch 278/400\n",
            "502/502 [==============================] - 1s 2ms/step - loss: 1.3723 - accuracy: 0.7144 - val_loss: 0.6889 - val_accuracy: 0.7056\n",
            "Epoch 279/400\n",
            "502/502 [==============================] - 1s 2ms/step - loss: 1.3737 - accuracy: 0.7146 - val_loss: 0.5622 - val_accuracy: 0.7851\n",
            "Epoch 280/400\n",
            "502/502 [==============================] - 1s 2ms/step - loss: 1.3690 - accuracy: 0.7183 - val_loss: 0.5735 - val_accuracy: 0.7800\n",
            "Epoch 281/400\n",
            "502/502 [==============================] - 1s 2ms/step - loss: 1.3678 - accuracy: 0.7158 - val_loss: 0.5846 - val_accuracy: 0.7748\n",
            "Epoch 282/400\n",
            "502/502 [==============================] - 1s 2ms/step - loss: 1.3661 - accuracy: 0.7206 - val_loss: 0.5710 - val_accuracy: 0.7810\n",
            "Epoch 283/400\n",
            "502/502 [==============================] - 1s 2ms/step - loss: 1.3685 - accuracy: 0.7162 - val_loss: 0.5626 - val_accuracy: 0.7841\n",
            "Epoch 284/400\n",
            "502/502 [==============================] - 1s 2ms/step - loss: 1.3701 - accuracy: 0.7159 - val_loss: 0.5517 - val_accuracy: 0.7934\n",
            "Epoch 285/400\n",
            "502/502 [==============================] - 1s 2ms/step - loss: 1.3693 - accuracy: 0.7184 - val_loss: 0.5952 - val_accuracy: 0.7531\n",
            "Epoch 286/400\n",
            "502/502 [==============================] - 1s 2ms/step - loss: 1.3625 - accuracy: 0.7170 - val_loss: 0.5825 - val_accuracy: 0.7748\n",
            "Epoch 287/400\n",
            "502/502 [==============================] - 1s 2ms/step - loss: 1.3710 - accuracy: 0.7178 - val_loss: 0.5565 - val_accuracy: 0.7903\n",
            "Epoch 288/400\n",
            "502/502 [==============================] - 1s 2ms/step - loss: 1.3686 - accuracy: 0.7181 - val_loss: 0.5631 - val_accuracy: 0.7758\n",
            "Epoch 289/400\n",
            "502/502 [==============================] - 1s 2ms/step - loss: 1.3713 - accuracy: 0.7147 - val_loss: 0.5677 - val_accuracy: 0.7800\n",
            "Epoch 290/400\n",
            "502/502 [==============================] - 1s 2ms/step - loss: 1.3680 - accuracy: 0.7144 - val_loss: 0.5674 - val_accuracy: 0.7769\n",
            "Epoch 291/400\n",
            "502/502 [==============================] - 1s 2ms/step - loss: 1.3701 - accuracy: 0.7164 - val_loss: 0.5784 - val_accuracy: 0.7748\n",
            "Epoch 292/400\n",
            "502/502 [==============================] - 1s 2ms/step - loss: 1.3619 - accuracy: 0.7176 - val_loss: 0.5652 - val_accuracy: 0.7769\n",
            "Epoch 293/400\n",
            "502/502 [==============================] - 1s 2ms/step - loss: 1.3633 - accuracy: 0.7181 - val_loss: 0.5808 - val_accuracy: 0.7789\n",
            "Epoch 294/400\n",
            "502/502 [==============================] - 1s 2ms/step - loss: 1.3705 - accuracy: 0.7159 - val_loss: 0.5913 - val_accuracy: 0.7769\n",
            "Epoch 295/400\n",
            "502/502 [==============================] - 1s 2ms/step - loss: 1.3588 - accuracy: 0.7174 - val_loss: 0.5836 - val_accuracy: 0.7717\n",
            "Epoch 296/400\n",
            "502/502 [==============================] - 1s 2ms/step - loss: 1.3596 - accuracy: 0.7206 - val_loss: 0.5599 - val_accuracy: 0.7862\n",
            "Epoch 297/400\n",
            "502/502 [==============================] - 1s 2ms/step - loss: 1.3569 - accuracy: 0.7206 - val_loss: 0.6419 - val_accuracy: 0.7397\n",
            "Epoch 298/400\n",
            "502/502 [==============================] - 1s 2ms/step - loss: 1.3610 - accuracy: 0.7196 - val_loss: 0.5791 - val_accuracy: 0.7769\n",
            "Epoch 299/400\n",
            "502/502 [==============================] - 1s 2ms/step - loss: 1.3637 - accuracy: 0.7175 - val_loss: 0.5581 - val_accuracy: 0.7882\n",
            "Epoch 300/400\n",
            "502/502 [==============================] - 1s 2ms/step - loss: 1.3652 - accuracy: 0.7158 - val_loss: 0.5477 - val_accuracy: 0.7965\n",
            "Epoch 301/400\n",
            "502/502 [==============================] - 1s 2ms/step - loss: 1.3713 - accuracy: 0.7182 - val_loss: 0.5707 - val_accuracy: 0.7862\n",
            "Epoch 302/400\n",
            "502/502 [==============================] - 1s 2ms/step - loss: 1.3557 - accuracy: 0.7230 - val_loss: 0.6493 - val_accuracy: 0.7438\n",
            "Epoch 303/400\n",
            "502/502 [==============================] - 1s 2ms/step - loss: 1.3629 - accuracy: 0.7176 - val_loss: 0.5497 - val_accuracy: 0.7841\n",
            "Epoch 304/400\n",
            "502/502 [==============================] - 1s 2ms/step - loss: 1.3569 - accuracy: 0.7196 - val_loss: 0.5504 - val_accuracy: 0.7882\n",
            "Epoch 305/400\n",
            "502/502 [==============================] - 1s 2ms/step - loss: 1.3599 - accuracy: 0.7186 - val_loss: 0.5835 - val_accuracy: 0.7727\n",
            "Epoch 306/400\n",
            "502/502 [==============================] - 1s 2ms/step - loss: 1.3591 - accuracy: 0.7201 - val_loss: 0.5918 - val_accuracy: 0.7727\n",
            "Epoch 307/400\n",
            "502/502 [==============================] - 1s 2ms/step - loss: 1.3613 - accuracy: 0.7199 - val_loss: 0.6161 - val_accuracy: 0.7645\n",
            "Epoch 308/400\n",
            "502/502 [==============================] - 1s 2ms/step - loss: 1.3538 - accuracy: 0.7178 - val_loss: 0.5806 - val_accuracy: 0.7727\n",
            "Epoch 309/400\n",
            "502/502 [==============================] - 1s 2ms/step - loss: 1.3514 - accuracy: 0.7186 - val_loss: 0.5920 - val_accuracy: 0.7531\n",
            "Epoch 310/400\n",
            "502/502 [==============================] - 1s 2ms/step - loss: 1.3595 - accuracy: 0.7189 - val_loss: 0.5916 - val_accuracy: 0.7634\n",
            "Epoch 311/400\n",
            "502/502 [==============================] - 1s 2ms/step - loss: 1.3617 - accuracy: 0.7180 - val_loss: 0.5646 - val_accuracy: 0.7831\n",
            "Epoch 312/400\n",
            "502/502 [==============================] - 1s 2ms/step - loss: 1.3650 - accuracy: 0.7190 - val_loss: 0.5971 - val_accuracy: 0.7593\n",
            "Epoch 313/400\n",
            "502/502 [==============================] - 1s 2ms/step - loss: 1.3552 - accuracy: 0.7221 - val_loss: 0.5990 - val_accuracy: 0.7562\n",
            "Epoch 314/400\n",
            "502/502 [==============================] - 1s 2ms/step - loss: 1.3541 - accuracy: 0.7193 - val_loss: 0.5595 - val_accuracy: 0.7831\n",
            "Epoch 315/400\n",
            "502/502 [==============================] - 1s 2ms/step - loss: 1.3583 - accuracy: 0.7173 - val_loss: 0.6101 - val_accuracy: 0.7593\n",
            "Epoch 316/400\n",
            "502/502 [==============================] - 1s 2ms/step - loss: 1.3569 - accuracy: 0.7209 - val_loss: 0.6077 - val_accuracy: 0.7572\n",
            "Epoch 317/400\n",
            "502/502 [==============================] - 1s 2ms/step - loss: 1.3590 - accuracy: 0.7212 - val_loss: 0.6116 - val_accuracy: 0.7614\n",
            "Epoch 318/400\n",
            "502/502 [==============================] - 1s 2ms/step - loss: 1.3587 - accuracy: 0.7215 - val_loss: 0.6410 - val_accuracy: 0.7366\n",
            "Epoch 319/400\n",
            "502/502 [==============================] - 1s 2ms/step - loss: 1.3532 - accuracy: 0.7211 - val_loss: 0.5540 - val_accuracy: 0.7748\n",
            "Epoch 320/400\n",
            "502/502 [==============================] - 1s 2ms/step - loss: 1.3554 - accuracy: 0.7218 - val_loss: 0.5897 - val_accuracy: 0.7707\n",
            "Epoch 321/400\n",
            "502/502 [==============================] - 1s 2ms/step - loss: 1.3538 - accuracy: 0.7196 - val_loss: 0.6553 - val_accuracy: 0.7314\n",
            "Epoch 322/400\n",
            "502/502 [==============================] - 1s 2ms/step - loss: 1.3559 - accuracy: 0.7174 - val_loss: 0.5708 - val_accuracy: 0.7758\n",
            "Epoch 323/400\n",
            "502/502 [==============================] - 1s 2ms/step - loss: 1.3491 - accuracy: 0.7241 - val_loss: 0.6514 - val_accuracy: 0.7335\n",
            "Epoch 324/400\n",
            "502/502 [==============================] - 1s 2ms/step - loss: 1.3482 - accuracy: 0.7203 - val_loss: 0.5625 - val_accuracy: 0.7800\n",
            "Epoch 325/400\n",
            "502/502 [==============================] - 1s 2ms/step - loss: 1.3459 - accuracy: 0.7243 - val_loss: 0.5609 - val_accuracy: 0.7820\n",
            "Epoch 326/400\n",
            "502/502 [==============================] - 1s 2ms/step - loss: 1.3524 - accuracy: 0.7190 - val_loss: 0.5531 - val_accuracy: 0.7862\n",
            "Epoch 327/400\n",
            "502/502 [==============================] - 1s 2ms/step - loss: 1.3530 - accuracy: 0.7207 - val_loss: 0.6156 - val_accuracy: 0.7521\n",
            "Epoch 328/400\n",
            "502/502 [==============================] - 1s 2ms/step - loss: 1.3503 - accuracy: 0.7215 - val_loss: 0.5505 - val_accuracy: 0.7882\n",
            "Epoch 329/400\n",
            "502/502 [==============================] - 1s 2ms/step - loss: 1.3509 - accuracy: 0.7230 - val_loss: 0.6799 - val_accuracy: 0.7345\n",
            "Epoch 330/400\n",
            "502/502 [==============================] - 1s 2ms/step - loss: 1.3529 - accuracy: 0.7196 - val_loss: 0.6141 - val_accuracy: 0.7541\n",
            "Epoch 331/400\n",
            "502/502 [==============================] - 1s 2ms/step - loss: 1.3526 - accuracy: 0.7214 - val_loss: 0.5479 - val_accuracy: 0.7851\n",
            "Epoch 332/400\n",
            "502/502 [==============================] - 1s 2ms/step - loss: 1.3548 - accuracy: 0.7180 - val_loss: 0.5692 - val_accuracy: 0.7769\n",
            "Epoch 333/400\n",
            "502/502 [==============================] - 1s 2ms/step - loss: 1.3519 - accuracy: 0.7221 - val_loss: 0.5844 - val_accuracy: 0.7738\n",
            "Epoch 334/400\n",
            "502/502 [==============================] - 1s 2ms/step - loss: 1.3532 - accuracy: 0.7193 - val_loss: 0.5585 - val_accuracy: 0.7820\n",
            "Epoch 335/400\n",
            "502/502 [==============================] - 1s 2ms/step - loss: 1.3517 - accuracy: 0.7213 - val_loss: 0.5934 - val_accuracy: 0.7624\n",
            "Epoch 336/400\n",
            "502/502 [==============================] - 1s 2ms/step - loss: 1.3482 - accuracy: 0.7250 - val_loss: 0.5593 - val_accuracy: 0.7820\n",
            "Epoch 337/400\n",
            "502/502 [==============================] - 1s 2ms/step - loss: 1.3519 - accuracy: 0.7202 - val_loss: 0.5732 - val_accuracy: 0.7841\n",
            "Epoch 338/400\n",
            "502/502 [==============================] - 1s 2ms/step - loss: 1.3491 - accuracy: 0.7225 - val_loss: 0.5499 - val_accuracy: 0.7810\n",
            "Epoch 339/400\n",
            "502/502 [==============================] - 1s 2ms/step - loss: 1.3504 - accuracy: 0.7197 - val_loss: 0.5720 - val_accuracy: 0.7717\n",
            "Epoch 340/400\n",
            "502/502 [==============================] - 1s 2ms/step - loss: 1.3513 - accuracy: 0.7197 - val_loss: 0.5680 - val_accuracy: 0.7748\n",
            "Epoch 341/400\n",
            "502/502 [==============================] - 1s 2ms/step - loss: 1.3457 - accuracy: 0.7215 - val_loss: 0.6043 - val_accuracy: 0.7562\n",
            "Epoch 342/400\n",
            "502/502 [==============================] - 1s 2ms/step - loss: 1.3513 - accuracy: 0.7175 - val_loss: 0.5543 - val_accuracy: 0.7820\n",
            "Epoch 343/400\n",
            "502/502 [==============================] - 1s 2ms/step - loss: 1.3480 - accuracy: 0.7240 - val_loss: 0.5504 - val_accuracy: 0.7965\n",
            "Epoch 344/400\n",
            "502/502 [==============================] - 1s 2ms/step - loss: 1.3479 - accuracy: 0.7241 - val_loss: 0.5668 - val_accuracy: 0.7800\n",
            "Epoch 345/400\n",
            "502/502 [==============================] - 1s 2ms/step - loss: 1.3488 - accuracy: 0.7206 - val_loss: 0.5656 - val_accuracy: 0.7820\n",
            "Epoch 346/400\n",
            "502/502 [==============================] - 1s 2ms/step - loss: 1.3482 - accuracy: 0.7240 - val_loss: 0.5950 - val_accuracy: 0.7624\n",
            "Epoch 347/400\n",
            "502/502 [==============================] - 1s 2ms/step - loss: 1.3484 - accuracy: 0.7177 - val_loss: 0.6004 - val_accuracy: 0.7665\n",
            "Epoch 348/400\n",
            "502/502 [==============================] - 1s 2ms/step - loss: 1.3474 - accuracy: 0.7239 - val_loss: 0.6364 - val_accuracy: 0.7510\n",
            "Epoch 349/400\n",
            "502/502 [==============================] - 1s 2ms/step - loss: 1.3480 - accuracy: 0.7223 - val_loss: 0.5463 - val_accuracy: 0.7944\n",
            "Epoch 350/400\n",
            "502/502 [==============================] - 1s 2ms/step - loss: 1.3477 - accuracy: 0.7224 - val_loss: 0.5516 - val_accuracy: 0.7851\n",
            "Epoch 351/400\n",
            "502/502 [==============================] - 1s 2ms/step - loss: 1.3474 - accuracy: 0.7231 - val_loss: 0.5602 - val_accuracy: 0.7800\n",
            "Epoch 352/400\n",
            "502/502 [==============================] - 1s 2ms/step - loss: 1.3468 - accuracy: 0.7220 - val_loss: 0.7376 - val_accuracy: 0.6829\n",
            "Epoch 353/400\n",
            "502/502 [==============================] - 1s 2ms/step - loss: 1.3486 - accuracy: 0.7234 - val_loss: 0.5586 - val_accuracy: 0.7779\n",
            "Epoch 354/400\n",
            "502/502 [==============================] - 1s 2ms/step - loss: 1.3483 - accuracy: 0.7225 - val_loss: 0.5386 - val_accuracy: 0.7872\n",
            "Epoch 355/400\n",
            "502/502 [==============================] - 1s 2ms/step - loss: 1.3462 - accuracy: 0.7199 - val_loss: 0.5641 - val_accuracy: 0.7820\n",
            "Epoch 356/400\n",
            "502/502 [==============================] - 1s 2ms/step - loss: 1.3401 - accuracy: 0.7249 - val_loss: 0.5493 - val_accuracy: 0.7789\n",
            "Epoch 357/400\n",
            "502/502 [==============================] - 1s 2ms/step - loss: 1.3483 - accuracy: 0.7222 - val_loss: 0.5976 - val_accuracy: 0.7634\n",
            "Epoch 358/400\n",
            "502/502 [==============================] - 1s 2ms/step - loss: 1.3483 - accuracy: 0.7230 - val_loss: 0.5959 - val_accuracy: 0.7624\n",
            "Epoch 359/400\n",
            "502/502 [==============================] - 1s 2ms/step - loss: 1.3466 - accuracy: 0.7245 - val_loss: 0.5756 - val_accuracy: 0.7707\n",
            "Epoch 360/400\n",
            "502/502 [==============================] - 1s 2ms/step - loss: 1.3484 - accuracy: 0.7227 - val_loss: 0.5909 - val_accuracy: 0.7593\n",
            "Epoch 361/400\n",
            "502/502 [==============================] - 1s 2ms/step - loss: 1.3419 - accuracy: 0.7207 - val_loss: 0.5467 - val_accuracy: 0.7893\n",
            "Epoch 362/400\n",
            "502/502 [==============================] - 1s 2ms/step - loss: 1.3442 - accuracy: 0.7230 - val_loss: 0.6728 - val_accuracy: 0.7231\n",
            "Epoch 363/400\n",
            "502/502 [==============================] - 1s 2ms/step - loss: 1.3451 - accuracy: 0.7244 - val_loss: 0.5836 - val_accuracy: 0.7593\n",
            "Epoch 364/400\n",
            "502/502 [==============================] - 1s 2ms/step - loss: 1.3447 - accuracy: 0.7234 - val_loss: 0.5768 - val_accuracy: 0.7769\n",
            "Epoch 365/400\n",
            "502/502 [==============================] - 1s 2ms/step - loss: 1.3392 - accuracy: 0.7275 - val_loss: 0.5674 - val_accuracy: 0.7872\n",
            "Epoch 366/400\n",
            "502/502 [==============================] - 1s 2ms/step - loss: 1.3489 - accuracy: 0.7238 - val_loss: 0.5440 - val_accuracy: 0.7872\n",
            "Epoch 367/400\n",
            "502/502 [==============================] - 1s 2ms/step - loss: 1.3396 - accuracy: 0.7276 - val_loss: 0.5780 - val_accuracy: 0.7727\n",
            "Epoch 368/400\n",
            "502/502 [==============================] - 1s 2ms/step - loss: 1.3495 - accuracy: 0.7235 - val_loss: 0.5516 - val_accuracy: 0.7882\n",
            "Epoch 369/400\n",
            "502/502 [==============================] - 1s 2ms/step - loss: 1.3409 - accuracy: 0.7191 - val_loss: 0.5511 - val_accuracy: 0.7841\n",
            "Epoch 370/400\n",
            "502/502 [==============================] - 1s 2ms/step - loss: 1.3449 - accuracy: 0.7214 - val_loss: 0.6275 - val_accuracy: 0.7541\n",
            "Epoch 371/400\n",
            "502/502 [==============================] - 1s 2ms/step - loss: 1.3443 - accuracy: 0.7232 - val_loss: 0.6090 - val_accuracy: 0.7624\n",
            "Epoch 372/400\n",
            "502/502 [==============================] - 1s 2ms/step - loss: 1.3384 - accuracy: 0.7229 - val_loss: 0.5824 - val_accuracy: 0.7779\n",
            "Epoch 373/400\n",
            "502/502 [==============================] - 1s 2ms/step - loss: 1.3461 - accuracy: 0.7208 - val_loss: 0.5448 - val_accuracy: 0.7913\n",
            "Epoch 374/400\n",
            "502/502 [==============================] - 1s 2ms/step - loss: 1.3471 - accuracy: 0.7241 - val_loss: 0.5713 - val_accuracy: 0.7800\n",
            "Epoch 375/400\n",
            "502/502 [==============================] - 1s 2ms/step - loss: 1.3416 - accuracy: 0.7235 - val_loss: 0.6031 - val_accuracy: 0.7614\n",
            "Epoch 376/400\n",
            "502/502 [==============================] - 1s 2ms/step - loss: 1.3417 - accuracy: 0.7237 - val_loss: 0.7005 - val_accuracy: 0.7107\n",
            "Epoch 377/400\n",
            "502/502 [==============================] - 1s 2ms/step - loss: 1.3464 - accuracy: 0.7257 - val_loss: 0.5902 - val_accuracy: 0.7572\n",
            "Epoch 378/400\n",
            "502/502 [==============================] - 1s 2ms/step - loss: 1.3411 - accuracy: 0.7261 - val_loss: 0.5898 - val_accuracy: 0.7758\n",
            "Epoch 379/400\n",
            "502/502 [==============================] - 1s 2ms/step - loss: 1.3371 - accuracy: 0.7235 - val_loss: 0.5636 - val_accuracy: 0.7841\n",
            "Epoch 380/400\n",
            "502/502 [==============================] - 1s 2ms/step - loss: 1.3440 - accuracy: 0.7202 - val_loss: 0.6006 - val_accuracy: 0.7634\n",
            "Epoch 381/400\n",
            "502/502 [==============================] - 1s 2ms/step - loss: 1.3441 - accuracy: 0.7239 - val_loss: 0.5609 - val_accuracy: 0.7800\n",
            "Epoch 382/400\n",
            "502/502 [==============================] - 1s 2ms/step - loss: 1.3363 - accuracy: 0.7284 - val_loss: 0.5473 - val_accuracy: 0.7882\n",
            "Epoch 383/400\n",
            "502/502 [==============================] - 1s 2ms/step - loss: 1.3393 - accuracy: 0.7257 - val_loss: 0.5851 - val_accuracy: 0.7738\n",
            "Epoch 384/400\n",
            "502/502 [==============================] - 1s 2ms/step - loss: 1.3380 - accuracy: 0.7254 - val_loss: 0.6432 - val_accuracy: 0.7438\n",
            "Epoch 385/400\n",
            "502/502 [==============================] - 1s 2ms/step - loss: 1.3411 - accuracy: 0.7255 - val_loss: 0.5513 - val_accuracy: 0.7882\n",
            "Epoch 386/400\n",
            "502/502 [==============================] - 1s 2ms/step - loss: 1.3428 - accuracy: 0.7230 - val_loss: 0.5717 - val_accuracy: 0.7810\n",
            "Epoch 387/400\n",
            "502/502 [==============================] - 1s 2ms/step - loss: 1.3368 - accuracy: 0.7262 - val_loss: 0.5671 - val_accuracy: 0.7810\n",
            "Epoch 388/400\n",
            "502/502 [==============================] - 1s 2ms/step - loss: 1.3404 - accuracy: 0.7276 - val_loss: 0.6315 - val_accuracy: 0.7490\n",
            "Epoch 389/400\n",
            "502/502 [==============================] - 1s 2ms/step - loss: 1.3412 - accuracy: 0.7295 - val_loss: 0.5559 - val_accuracy: 0.7872\n",
            "Epoch 390/400\n",
            "502/502 [==============================] - 1s 2ms/step - loss: 1.3388 - accuracy: 0.7278 - val_loss: 0.5818 - val_accuracy: 0.7686\n",
            "Epoch 391/400\n",
            "502/502 [==============================] - 1s 2ms/step - loss: 1.3365 - accuracy: 0.7280 - val_loss: 0.5592 - val_accuracy: 0.7789\n",
            "Epoch 392/400\n",
            "502/502 [==============================] - 1s 2ms/step - loss: 1.3437 - accuracy: 0.7219 - val_loss: 0.5689 - val_accuracy: 0.7738\n",
            "Epoch 393/400\n",
            "502/502 [==============================] - 1s 2ms/step - loss: 1.3395 - accuracy: 0.7221 - val_loss: 0.5847 - val_accuracy: 0.7748\n",
            "Epoch 394/400\n",
            "502/502 [==============================] - 1s 2ms/step - loss: 1.3350 - accuracy: 0.7258 - val_loss: 0.6061 - val_accuracy: 0.7624\n",
            "Epoch 395/400\n",
            "502/502 [==============================] - 1s 2ms/step - loss: 1.3333 - accuracy: 0.7274 - val_loss: 0.5963 - val_accuracy: 0.7676\n",
            "Epoch 396/400\n",
            "502/502 [==============================] - 1s 2ms/step - loss: 1.3397 - accuracy: 0.7224 - val_loss: 0.5980 - val_accuracy: 0.7707\n",
            "Epoch 397/400\n",
            "502/502 [==============================] - 1s 2ms/step - loss: 1.3365 - accuracy: 0.7248 - val_loss: 0.5506 - val_accuracy: 0.7893\n",
            "Epoch 398/400\n",
            "502/502 [==============================] - 1s 2ms/step - loss: 1.3373 - accuracy: 0.7245 - val_loss: 0.5505 - val_accuracy: 0.7882\n",
            "Epoch 399/400\n",
            "502/502 [==============================] - 1s 2ms/step - loss: 1.3401 - accuracy: 0.7241 - val_loss: 0.5441 - val_accuracy: 0.7882\n",
            "Epoch 400/400\n",
            "502/502 [==============================] - 1s 2ms/step - loss: 1.3430 - accuracy: 0.7246 - val_loss: 0.6662 - val_accuracy: 0.7448\n"
          ],
          "name": "stdout"
        }
      ]
    },
    {
      "cell_type": "code",
      "metadata": {
        "colab": {
          "base_uri": "https://localhost:8080/",
          "height": 283
        },
        "id": "6MVakrYVhf-H",
        "outputId": "4e4d7488-8294-4db6-a404-cf7bbbe48436"
      },
      "source": [
        "f = plt.figure()\n",
        "ax1 = f.add_subplot(1,2,1)\n",
        "ax1.plot(linearRegression.history.history['loss'])\n",
        "ax1.plot(linearRegression.history.history['val_loss'])\n",
        "\n",
        "ax2 = f.add_subplot(1,2,2)\n",
        "ax2.plot(linearRegression.history.history['accuracy'])\n",
        "ax2.plot(linearRegression.history.history['val_accuracy'])"
      ],
      "execution_count": 27,
      "outputs": [
        {
          "output_type": "execute_result",
          "data": {
            "text/plain": [
              "[<matplotlib.lines.Line2D at 0x7f4c1552c690>]"
            ]
          },
          "metadata": {
            "tags": []
          },
          "execution_count": 27
        },
        {
          "output_type": "display_data",
          "data": {
            "image/png": "[encoded data removed]",
            "text/plain": [
              "<Figure size 432x288 with 2 Axes>"
            ]
          },
          "metadata": {
            "tags": [],
            "needs_background": "light"
          }
        }
      ]
    },
    {
      "cell_type": "code",
      "metadata": {
        "id": "BZSaVfmenCfR"
      },
      "source": [
        "ypred_train = linearRegression(train_rep).numpy().argmax(axis=-1)\n",
        "ypred_test  = linearRegression(test_rep).numpy().argmax(axis=-1)"
      ],
      "execution_count": 28,
      "outputs": []
    },
    {
      "cell_type": "code",
      "metadata": {
        "id": "xMWz72wblNRp"
      },
      "source": [
        "from sklearn.metrics import classification_report"
      ],
      "execution_count": 29,
      "outputs": []
    },
    {
      "cell_type": "code",
      "metadata": {
        "colab": {
          "base_uri": "https://localhost:8080/"
        },
        "id": "_kkAHDfpnkCr",
        "outputId": "b9a72125-71b3-4a1c-b78e-4020c13089ea"
      },
      "source": [
        "print(classification_report(train_lb, ypred_train))"
      ],
      "execution_count": 30,
      "outputs": [
        {
          "output_type": "stream",
          "text": [
            "              precision    recall  f1-score   support\n",
            "\n",
            "           0       0.87      0.88      0.88      7157\n",
            "           1       0.63      0.70      0.66      2189\n",
            "           2       0.56      0.29      0.39      1624\n",
            "           3       0.77      0.84      0.80      5094\n",
            "\n",
            "    accuracy                           0.78     16064\n",
            "   macro avg       0.71      0.68      0.68     16064\n",
            "weighted avg       0.78      0.78      0.77     16064\n",
            "\n"
          ],
          "name": "stdout"
        }
      ]
    },
    {
      "cell_type": "code",
      "metadata": {
        "colab": {
          "base_uri": "https://localhost:8080/"
        },
        "id": "R4p80AyVnv7N",
        "outputId": "0dab2a4a-798e-4014-a899-be66697e1a0f"
      },
      "source": [
        "print(classification_report(test_lb, ypred_test))"
      ],
      "execution_count": 31,
      "outputs": [
        {
          "output_type": "stream",
          "text": [
            "              precision    recall  f1-score   support\n",
            "\n",
            "           0       0.73      0.95      0.83       242\n",
            "           1       0.82      0.79      0.81       242\n",
            "           2       0.89      0.31      0.46       242\n",
            "           3       0.67      0.94      0.78       242\n",
            "\n",
            "    accuracy                           0.74       968\n",
            "   macro avg       0.78      0.74      0.72       968\n",
            "weighted avg       0.78      0.74      0.72       968\n",
            "\n"
          ],
          "name": "stdout"
        }
      ]
    }
  ]
}