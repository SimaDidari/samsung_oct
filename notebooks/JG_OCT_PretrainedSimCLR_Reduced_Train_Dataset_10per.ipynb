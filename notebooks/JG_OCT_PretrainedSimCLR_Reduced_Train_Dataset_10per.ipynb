{
  "nbformat": 4,
  "nbformat_minor": 0,
  "metadata": {
    "accelerator": "GPU",
    "colab": {
      "name": " JG_OCT_PretrainedSimCLR_Reduced_Train_Dataset_10per.ipynb",
      "provenance": [],
      "collapsed_sections": [],
      "include_colab_link": true
    },
    "kernelspec": {
      "display_name": "Python 3",
      "name": "python3"
    }
  },
  "cells": [
    {
      "cell_type": "markdown",
      "metadata": {
        "id": "view-in-github",
        "colab_type": "text"
      },
      "source": [
        "<a href=\"https://colab.research.google.com/github/djvaroli/samsung_oct/blob/Janhavi-Colab-Notebooks/JG_OCT_PretrainedSimCLR_Reduced_Train_Dataset_10per.ipynb\" target=\"_parent\"><img src=\"https://colab.research.google.com/assets/colab-badge.svg\" alt=\"Open In Colab\"/></a>"
      ]
    },
    {
      "cell_type": "code",
      "metadata": {
        "id": "N9AQHZeq-655"
      },
      "source": [
        "'''%cp drive/MyDrive/OCT_Project/ZhangLabData.zip .\n",
        "!unzip ZhangLabData.zip'''"
      ],
      "execution_count": null,
      "outputs": []
    },
    {
      "cell_type": "code",
      "metadata": {
        "id": "-UoLMPr3gLBQ",
        "colab": {
          "base_uri": "https://localhost:8080/"
        },
        "outputId": "b7f14563-914c-4cac-b0e1-44864a4d03b4"
      },
      "source": [
        "from google.colab import drive\n",
        "drive.mount('/content/drive', force_remount=True)\n",
        "import os\n",
        "os.chdir('/content/drive/MyDrive/Colab Notebooks/Samsung-OCT-Project-Work/')\n",
        "pwd = os.getcwd()\n",
        "print(pwd)"
      ],
      "execution_count": 1,
      "outputs": [
        {
          "output_type": "stream",
          "text": [
            "Mounted at /content/drive\n",
            "/content/drive/MyDrive/Colab Notebooks/Samsung-OCT-Project-Work\n"
          ],
          "name": "stdout"
        }
      ]
    },
    {
      "cell_type": "code",
      "metadata": {
        "colab": {
          "base_uri": "https://localhost:8080/"
        },
        "id": "HKEN6x76Via5",
        "outputId": "f8398f3f-ec6a-4663-a35b-1f97cc2a06b9"
      },
      "source": [
        "!ls\n"
      ],
      "execution_count": 2,
      "outputs": [
        {
          "output_type": "stream",
          "text": [
            " ahDdMcSIdcyTfoy\n",
            " HAsIhWpGWVbMVLA\n",
            " HBMEINbkLGPLhEn\n",
            " JG_OCT_PretrainedSimCLR_Full_Train_Dataset.ipynb\n",
            "' JG_OCT_PretrainedSimCLR_Reduced_Train_Dataset.ipynb'\n",
            " KuoJPrsqtxHXGny\n",
            " MyResNet50\n",
            " processed_data\n",
            " processed_data.zip_.gstmp\n",
            " resnet50-img-aug\n",
            " resnet50_model_plot.png\n",
            " samsung_oct\n",
            " samsung-oct-super-model-v0.ipynb\n",
            " samsung-oct-super-model-v3.ipynb\n",
            " samsung-oct-super-model-v4.ipynb\n",
            " simclrv2_test_plot.png\n",
            " StLmmsAPKRAfQyU\n",
            " VGG19_rev0.h5\n",
            " VGG19-samsung-oct-super-model-v4.ipynb\n",
            " VGG_results.csv\n",
            " VGG_results_load_model.csv\n",
            " VGG_results_load_model.gsheet\n",
            " wandb\n"
          ],
          "name": "stdout"
        }
      ]
    },
    {
      "cell_type": "code",
      "metadata": {
        "id": "HAQ_37ImNXUC"
      },
      "source": [
        "import pandas as pd\n",
        "import numpy as np"
      ],
      "execution_count": 3,
      "outputs": []
    },
    {
      "cell_type": "code",
      "metadata": {
        "id": "uZV3tOYvjeFk"
      },
      "source": [
        "#function to convert data files to dataframe\n",
        "def load_data(folder):\n",
        "  X=[]\n",
        "  Y=[]\n",
        "  Z=[]\n",
        "  for folderName in os.listdir(folder):\n",
        "    if not folderName.startswith('.'):\n",
        "      if folderName == '0':\n",
        "        label = 0\n",
        "      elif folderName == '1':\n",
        "        label = 1\n",
        "      elif folderName == '2':\n",
        "        label = 2\n",
        "      elif folderName == '3':\n",
        "        label = 3\n",
        "      else:\n",
        "        label = 4\n",
        "\n",
        "    for file in os.listdir(folder+'/'+folderName):\n",
        "      if not file.startswith('.'):\n",
        "        X.append(file)\n",
        "        Y.append(label)\n",
        "        Z.append(folder+'/'+folderName+'/'+file)\n",
        "  return pd.DataFrame(np.hstack((np.asarray(X).reshape(-1,1),np.asarray(Z).reshape(-1,1), np.asarray(Y).reshape(-1,1))),columns=['filename','path','Class']).sort_values('Class')\n"
      ],
      "execution_count": 4,
      "outputs": []
    },
    {
      "cell_type": "code",
      "metadata": {
        "colab": {
          "base_uri": "https://localhost:8080/",
          "height": 316
        },
        "id": "NF-sppxxMNoh",
        "outputId": "c0e79a40-3540-4927-f4bc-084fe4e48648"
      },
      "source": [
        "test_data = load_data('/content/drive/My Drive/Colab Notebooks/Samsung-OCT-Project-Work/processed_data/data/test/')\n",
        "#train_data = load_data('/content/drive/My Drive/Colab Notebooks/Samsung-OCT-Project-Work/processed_data/data/train/')\n",
        "val_data = load_data('/content/drive/My Drive/Colab Notebooks/Samsung-OCT-Project-Work/processed_data/data/val/')"
      ],
      "execution_count": 5,
      "outputs": [
        {
          "output_type": "error",
          "ename": "OSError",
          "evalue": "ignored",
          "traceback": [
            "\u001b[0;31m---------------------------------------------------------------------------\u001b[0m",
            "\u001b[0;31mOSError\u001b[0m                                   Traceback (most recent call last)",
            "\u001b[0;32m<ipython-input-5-634aefc16f41>\u001b[0m in \u001b[0;36m<module>\u001b[0;34m()\u001b[0m\n\u001b[1;32m      1\u001b[0m \u001b[0mtest_data\u001b[0m \u001b[0;34m=\u001b[0m \u001b[0mload_data\u001b[0m\u001b[0;34m(\u001b[0m\u001b[0;34m'/content/drive/My Drive/Colab Notebooks/Samsung-OCT-Project-Work/processed_data/data/test/'\u001b[0m\u001b[0;34m)\u001b[0m\u001b[0;34m\u001b[0m\u001b[0;34m\u001b[0m\u001b[0m\n\u001b[0;32m----> 2\u001b[0;31m \u001b[0mtrain_data\u001b[0m \u001b[0;34m=\u001b[0m \u001b[0mload_data\u001b[0m\u001b[0;34m(\u001b[0m\u001b[0;34m'/content/drive/My Drive/Colab Notebooks/Samsung-OCT-Project-Work/processed_data/data/train/'\u001b[0m\u001b[0;34m)\u001b[0m\u001b[0;34m\u001b[0m\u001b[0;34m\u001b[0m\u001b[0m\n\u001b[0m\u001b[1;32m      3\u001b[0m \u001b[0mval_data\u001b[0m \u001b[0;34m=\u001b[0m \u001b[0mload_data\u001b[0m\u001b[0;34m(\u001b[0m\u001b[0;34m'/content/drive/My Drive/Colab Notebooks/Samsung-OCT-Project-Work/processed_data/data/val/'\u001b[0m\u001b[0;34m)\u001b[0m\u001b[0;34m\u001b[0m\u001b[0;34m\u001b[0m\u001b[0m\n",
            "\u001b[0;32m<ipython-input-4-3c65b372c7b2>\u001b[0m in \u001b[0;36mload_data\u001b[0;34m(folder)\u001b[0m\n\u001b[1;32m     17\u001b[0m         \u001b[0mlabel\u001b[0m \u001b[0;34m=\u001b[0m \u001b[0;36m4\u001b[0m\u001b[0;34m\u001b[0m\u001b[0;34m\u001b[0m\u001b[0m\n\u001b[1;32m     18\u001b[0m \u001b[0;34m\u001b[0m\u001b[0m\n\u001b[0;32m---> 19\u001b[0;31m     \u001b[0;32mfor\u001b[0m \u001b[0mfile\u001b[0m \u001b[0;32min\u001b[0m \u001b[0mos\u001b[0m\u001b[0;34m.\u001b[0m\u001b[0mlistdir\u001b[0m\u001b[0;34m(\u001b[0m\u001b[0mfolder\u001b[0m\u001b[0;34m+\u001b[0m\u001b[0;34m'/'\u001b[0m\u001b[0;34m+\u001b[0m\u001b[0mfolderName\u001b[0m\u001b[0;34m)\u001b[0m\u001b[0;34m:\u001b[0m\u001b[0;34m\u001b[0m\u001b[0;34m\u001b[0m\u001b[0m\n\u001b[0m\u001b[1;32m     20\u001b[0m       \u001b[0;32mif\u001b[0m \u001b[0;32mnot\u001b[0m \u001b[0mfile\u001b[0m\u001b[0;34m.\u001b[0m\u001b[0mstartswith\u001b[0m\u001b[0;34m(\u001b[0m\u001b[0;34m'.'\u001b[0m\u001b[0;34m)\u001b[0m\u001b[0;34m:\u001b[0m\u001b[0;34m\u001b[0m\u001b[0;34m\u001b[0m\u001b[0m\n\u001b[1;32m     21\u001b[0m         \u001b[0mX\u001b[0m\u001b[0;34m.\u001b[0m\u001b[0mappend\u001b[0m\u001b[0;34m(\u001b[0m\u001b[0mfile\u001b[0m\u001b[0;34m)\u001b[0m\u001b[0;34m\u001b[0m\u001b[0;34m\u001b[0m\u001b[0m\n",
            "\u001b[0;31mOSError\u001b[0m: [Errno 5] Input/output error: '/content/drive/My Drive/Colab Notebooks/Samsung-OCT-Project-Work/processed_data/data/train//0'"
          ]
        }
      ]
    },
    {
      "cell_type": "code",
      "metadata": {
        "id": "RxJNhM-0PxRZ"
      },
      "source": [
        "train_data = load_data('/content/drive/My Drive/Colab Notebooks/Samsung-OCT-Project-Work/processed_data/data/train/')"
      ],
      "execution_count": 7,
      "outputs": []
    },
    {
      "cell_type": "code",
      "metadata": {
        "id": "4ymGmPElP9CY"
      },
      "source": [
        "val_data = load_data('/content/drive/My Drive/Colab Notebooks/Samsung-OCT-Project-Work/processed_data/data/val/')"
      ],
      "execution_count": 9,
      "outputs": []
    },
    {
      "cell_type": "code",
      "metadata": {
        "colab": {
          "base_uri": "https://localhost:8080/"
        },
        "id": "wGqMucW2QAfH",
        "outputId": "d066037b-f7ff-4402-eefe-0ff7986f06d9"
      },
      "source": [
        "print(train_data.shape,test_data.shape,val_data.shape)"
      ],
      "execution_count": 10,
      "outputs": [
        {
          "output_type": "stream",
          "text": [
            "(83484, 3) (968, 3) (32, 3)\n"
          ],
          "name": "stdout"
        }
      ]
    },
    {
      "cell_type": "code",
      "metadata": {
        "colab": {
          "base_uri": "https://localhost:8080/"
        },
        "id": "W3kMOavmMbuT",
        "outputId": "143c8ebe-2354-4fba-ca6d-16201ea1e62d"
      },
      "source": [
        "# Creating directory for storing 10% train data\n",
        "os.chdir('/content/drive/My Drive/Colab Notebooks/Samsung-OCT-Project-Work/processed_data/data/train_data_10per/')\n",
        "os.getcwd()\n",
        "!mkdir 0\n",
        "!mkdir 1\n",
        "!mkdir 2\n",
        "!mkdir 3\n",
        "!ls"
      ],
      "execution_count": 11,
      "outputs": [
        {
          "output_type": "stream",
          "text": [
            "0  1  2  3\n"
          ],
          "name": "stdout"
        }
      ]
    },
    {
      "cell_type": "code",
      "metadata": {
        "id": "TiX7d1ZzLjBg"
      },
      "source": [
        "# Creating reduced train dataset\n",
        "# Selecting smaller sample size \n",
        "def sample_data(data, sample_size):\n",
        "  if sample_size == data.shape[0]:\n",
        "    return data\n",
        "  class_weights = dict(data[\"Class\"].value_counts()/data.shape[0])\n",
        "  print(\"Before sub-sampling=\", class_weights)\n",
        "  df0 = data[data[\"Class\"]=='0'].sample(n=min(int(round(sample_size * class_weights['0'])),len(data[data[\"Class\"]=='0'])))\n",
        "  df1 = data[data[\"Class\"]=='1'].sample(n=min(int(round(sample_size * class_weights['1'])),len(data[data[\"Class\"]=='1'])))\n",
        "  df2 = data[data[\"Class\"]=='2'].sample(n=min(int(round(sample_size * class_weights['2'])),len(data[data[\"Class\"]=='2'])))\n",
        "  df3 = data[data[\"Class\"]=='3'].sample(n=min(int(round(sample_size * class_weights['3'])),len(data[data[\"Class\"]=='3'])))\n",
        "  return pd.concat([df0,df1,df2,df3])"
      ],
      "execution_count": 12,
      "outputs": []
    },
    {
      "cell_type": "code",
      "metadata": {
        "colab": {
          "base_uri": "https://localhost:8080/"
        },
        "id": "Wud_zxj-LpAC",
        "outputId": "7658260a-0ded-43f3-ac1c-775596298804"
      },
      "source": [
        "train_10per = int((10/100)*(train_data.shape[0]))\n",
        "print(\"10% reduced train data sample size=\",train_10per)\n",
        "train_data_red = sample_data(train_data,train_10per)\n",
        "class_weights = dict(train_data_red[\"Class\"].value_counts()/train_data_red.shape[0])\n",
        "print(\"Sub-sampled train data=\", class_weights)\n",
        "print(train_data.shape, train_data_red.shape)"
      ],
      "execution_count": 13,
      "outputs": [
        {
          "output_type": "stream",
          "text": [
            "10% reduced train data sample size= 8348\n",
            "Before sub-sampling= {'0': 0.4456542571031575, '3': 0.3152101001389488, '1': 0.13593023812946192, '2': 0.1032054046284318}\n",
            "Sub-sampled train data= {'0': 0.4456157163392429, '3': 0.3151653090560613, '1': 0.13596070915189268, '2': 0.10325826545280306}\n",
            "(83484, 3) (8348, 3)\n"
          ],
          "name": "stdout"
        }
      ]
    },
    {
      "cell_type": "code",
      "metadata": {
        "id": "qIHSI9xAL0ci"
      },
      "source": [
        "import shutil\n",
        "train_files = train_data_red.path.to_list()\n",
        "for filenum in range(len(train_files)):\n",
        "  x = train_files[filenum]\n",
        "  x_split = x.split('/')\n",
        "  filename = x_split[-1]\n",
        "  separator = '/'\n",
        "  x_path = separator.join(x_split[:-1])\n",
        "  #print(x_path)\n",
        "  os.chdir(x_path)\n",
        "  if '0' in x_path: \n",
        "    #print(x_path)\n",
        "    shutil.copy(filename, '../../train_data_10per/0/')\n",
        "  elif '1' in x_path:\n",
        "    shutil.copy(filename, '../../train_data_10per/1/')\n",
        "  elif '2' in x_path:\n",
        "    shutil.copy(filename, '../../train_data_10per/2/')\n",
        "  else:\n",
        "    shutil.copy(filename, '../../train_data_10per/3/')\n",
        " "
      ],
      "execution_count": 15,
      "outputs": []
    },
    {
      "cell_type": "code",
      "metadata": {
        "colab": {
          "base_uri": "https://localhost:8080/"
        },
        "id": "TxQSFPe0L3dI",
        "outputId": "351e73d4-4496-401e-ac04-7a3bb1fcb034"
      },
      "source": [
        "os.chdir('/content/drive/My Drive/Colab Notebooks/Samsung-OCT-Project-Work/processed_data/data/train_data_10per/')\n",
        "!ls ./*/* | wc -l\n",
        "os.chdir('/content/drive/My Drive/Colab Notebooks/Samsung-OCT-Project-Work/processed_data/data/test/')\n",
        "!ls ./*/* | wc -l\n",
        "os.chdir('/content/drive/My Drive/Colab Notebooks/Samsung-OCT-Project-Work/processed_data/data/val/')\n",
        "!ls ./*/* | wc -l"
      ],
      "execution_count": 16,
      "outputs": [
        {
          "output_type": "stream",
          "text": [
            "8348\n",
            "968\n",
            "32\n"
          ],
          "name": "stdout"
        }
      ]
    },
    {
      "cell_type": "code",
      "metadata": {
        "colab": {
          "base_uri": "https://localhost:8080/",
          "height": 35
        },
        "id": "WtYICKP0b1Ls",
        "outputId": "1f3b7123-6d30-4da5-c855-8e9c1fb401b1"
      },
      "source": [
        "# Working dir\n",
        "os.chdir('/content/drive/My Drive/Colab Notebooks/Samsung-OCT-Project-Work/')\n",
        "os.getcwd()\n",
        "\n"
      ],
      "execution_count": 25,
      "outputs": [
        {
          "output_type": "execute_result",
          "data": {
            "application/vnd.google.colaboratory.intrinsic+json": {
              "type": "string"
            },
            "text/plain": [
              "'/content/drive/My Drive/Colab Notebooks/Samsung-OCT-Project-Work'"
            ]
          },
          "metadata": {
            "tags": []
          },
          "execution_count": 25
        }
      ]
    },
    {
      "cell_type": "code",
      "metadata": {
        "id": "sniQPNx1AUeX"
      },
      "source": [
        "import tensorflow as tf\n",
        "import numpy as np\n",
        "import matplotlib.pyplot as plt\n",
        "from tensorflow.keras.preprocessing.image import ImageDataGenerator"
      ],
      "execution_count": 26,
      "outputs": []
    },
    {
      "cell_type": "code",
      "metadata": {
        "id": "8R2-xTjkW8ky"
      },
      "source": [
        "seed = 42\n",
        "val_split   = 0.02\n",
        "train_split = 1 - val_split\n",
        "batch_size = 32\n",
        "IMG_SIZE=224"
      ],
      "execution_count": 27,
      "outputs": []
    },
    {
      "cell_type": "code",
      "metadata": {
        "id": "VFv1OpZnAZxc",
        "colab": {
          "base_uri": "https://localhost:8080/"
        },
        "outputId": "881213bf-8485-483f-eaaf-fa8628e5a75a"
      },
      "source": [
        "\n",
        "\n",
        "ds_val = tf.keras.preprocessing.image_dataset_from_directory(\n",
        "    './processed_data/data/train_data_10per',\n",
        "    labels=\"inferred\",\n",
        "    color_mode=\"rgb\",\n",
        "    batch_size=batch_size,\n",
        "    image_size=(224, 224),\n",
        "    shuffle=True,\n",
        "    seed=seed,\n",
        "    validation_split=val_split,\n",
        "    subset='validation',\n",
        "    interpolation=\"bilinear\",\n",
        "    follow_links=False,\n",
        "    )\n",
        "ds_train = tf.keras.preprocessing.image_dataset_from_directory(\n",
        "    './processed_data/data/train_data_10per',\n",
        "    labels=\"inferred\",\n",
        "    color_mode=\"rgb\",\n",
        "    batch_size=batch_size,\n",
        "    image_size=(224, 224),\n",
        "    shuffle=True,\n",
        "    seed=seed,\n",
        "    validation_split=val_split,\n",
        "    subset='training',\n",
        "    interpolation=\"bilinear\",\n",
        "    follow_links=False,\n",
        "    )\n",
        "\n",
        "ds_test = tf.keras.preprocessing.image_dataset_from_directory(\n",
        "    'processed_data/data/test',\n",
        "    labels=\"inferred\",\n",
        "    color_mode=\"rgb\",\n",
        "    batch_size=batch_size,\n",
        "    image_size=(224, 224),\n",
        "    shuffle=True,\n",
        "    seed=seed,\n",
        "    interpolation=\"bilinear\",\n",
        "    follow_links=False,\n",
        "    )"
      ],
      "execution_count": 28,
      "outputs": [
        {
          "output_type": "stream",
          "text": [
            "Found 8348 files belonging to 4 classes.\n",
            "Using 166 files for validation.\n",
            "Found 8348 files belonging to 4 classes.\n",
            "Using 8182 files for training.\n",
            "Found 968 files belonging to 4 classes.\n"
          ],
          "name": "stdout"
        }
      ]
    },
    {
      "cell_type": "markdown",
      "metadata": {
        "id": "pVHQZMFW_PMq"
      },
      "source": [
        "# Feature Extraction with Pretrained SimCLR\n",
        "- Ultimately we want to train a SimCLR model with the wealth of OCT images\n",
        "- as a zeroth step, we ask how well are SimCLR pretrained on ImageNet works on the unseen OCT images domain.\n",
        "- we use SimCLR as a feature extractor and try to see how well a simple linear classification head (multi-class logistic regression) works in terms of distinguiishing between classes\n"
      ]
    },
    {
      "cell_type": "code",
      "metadata": {
        "id": "6VZkxTY-_iou"
      },
      "source": [
        "#@title Load module and construct the computation graph\n",
        "import tensorflow_hub as hub\n",
        "import tensorflow as tf\n",
        "# Load the base network and set it to non-trainable (for speedup fine-tuning)\n",
        "hub_path = 'gs://simclr-checkpoints/simclrv2/finetuned_100pct/r50_1x_sk0/hub/'"
      ],
      "execution_count": 29,
      "outputs": []
    },
    {
      "cell_type": "code",
      "metadata": {
        "id": "C25IpPyhAzM9",
        "colab": {
          "base_uri": "https://localhost:8080/"
        },
        "outputId": "e79c7084-e440-44cd-ebd5-caec23fe48c0"
      },
      "source": [
        "input_layer  = tf.keras.layers.Input((224,224,3))\n",
        "simclr_layer = hub.KerasLayer(hub_path, trainable=False,)\n",
        "classification_head = tf.keras.layers.Dense(4, activation='softmax')\n",
        "\n",
        "\n",
        "model = tf.keras.Sequential([input_layer, \n",
        "                             simclr_layer,\n",
        "                             classification_head])"
      ],
      "execution_count": 30,
      "outputs": [
        {
          "output_type": "stream",
          "text": [
            "WARNING:tensorflow:Please add `keras.layers.InputLayer` instead of `keras.Input` to Sequential model. `keras.Input` is intended to be used by Functional model.\n"
          ],
          "name": "stdout"
        }
      ]
    },
    {
      "cell_type": "code",
      "metadata": {
        "colab": {
          "base_uri": "https://localhost:8080/"
        },
        "id": "AlWAJHYFZVFL",
        "outputId": "9d9dc4c7-f17a-45dc-c876-decf1d2b72f5"
      },
      "source": [
        "model.summary()"
      ],
      "execution_count": 31,
      "outputs": [
        {
          "output_type": "stream",
          "text": [
            "Model: \"sequential\"\n",
            "_________________________________________________________________\n",
            "Layer (type)                 Output Shape              Param #   \n",
            "=================================================================\n",
            "keras_layer (KerasLayer)     (None, 2048)              34277672  \n",
            "_________________________________________________________________\n",
            "dense (Dense)                (None, 4)                 8196      \n",
            "=================================================================\n",
            "Total params: 34,285,868\n",
            "Trainable params: 8,196\n",
            "Non-trainable params: 34,277,672\n",
            "_________________________________________________________________\n"
          ],
          "name": "stdout"
        }
      ]
    },
    {
      "cell_type": "code",
      "metadata": {
        "colab": {
          "base_uri": "https://localhost:8080/",
          "height": 312
        },
        "id": "N0eRqnCIZZ19",
        "outputId": "666cf90a-7d37-448c-e309-23445d0cbd49"
      },
      "source": [
        "from tensorflow.keras.utils import plot_model\n",
        "plot_model(model, to_file='simclrv2_test_plot.png',show_shapes=True, show_layer_names=True)"
      ],
      "execution_count": 32,
      "outputs": [
        {
          "output_type": "execute_result",
          "data": {
            "image/png": "[encoded data removed]",
            "text/plain": [
              "<IPython.core.display.Image object>"
            ]
          },
          "metadata": {
            "tags": []
          },
          "execution_count": 32
        }
      ]
    },
    {
      "cell_type": "code",
      "metadata": {
        "id": "D1waP4WcA-4d",
        "colab": {
          "base_uri": "https://localhost:8080/"
        },
        "outputId": "35c3a536-8104-4970-c4a6-b519f60d8e9c"
      },
      "source": [
        "metrics = ['accuracy']\n",
        "callbacks = [tf.keras.callbacks.EarlyStopping(patience=3, monitor='val_loss', ),\n",
        "             tf.keras.callbacks.ModelCheckpoint(filepath='resnet_model.{epoch:02d}-{val_loss:.2f}.h5'),]\n",
        "optimizer = tf.keras.optimizers.Adam(lr=1e-3)\n",
        "model.compile(optimizer=optimizer, \n",
        "              loss='categorical_crossentropy', \n",
        "              metrics=metrics)"
      ],
      "execution_count": 33,
      "outputs": [
        {
          "output_type": "stream",
          "text": [
            "/usr/local/lib/python3.7/dist-packages/tensorflow/python/keras/optimizer_v2/optimizer_v2.py:375: UserWarning: The `lr` argument is deprecated, use `learning_rate` instead.\n",
            "  \"The `lr` argument is deprecated, use `learning_rate` instead.\")\n"
          ],
          "name": "stderr"
        }
      ]
    },
    {
      "cell_type": "code",
      "metadata": {
        "id": "w--EckTWBB4i"
      },
      "source": [
        "import os\n",
        "\n",
        "# simple version for working with CWD\n",
        "nCNV = len([name for name in os.listdir('./processed_data/data/train_data_10per/0')])\n",
        "nDME = len([name for name in os.listdir('./processed_data/data/train_data_10per/1')])\n",
        "nDRUSEN = len([name for name in os.listdir('./processed_data/data/train_data_10per/2')])\n",
        "nNORMAL = len([name for name in os.listdir('./processed_data/data/train_data_10per/3')])\n",
        "\n",
        "ncount = np.array([nCNV, nDME, nDRUSEN, nNORMAL])\n",
        "ntotal = sum(ncount)\n",
        "\n",
        "weights = ntotal/ncount/ len(ncount)\n",
        "weights /= weights.min()\n",
        "class_weight = {i: w for i, w in enumerate(weights)}"
      ],
      "execution_count": 35,
      "outputs": []
    },
    {
      "cell_type": "code",
      "metadata": {
        "colab": {
          "base_uri": "https://localhost:8080/"
        },
        "id": "xXk1WHhKInI4",
        "outputId": "0f6aa60c-0f8e-400e-fb32-1dae3a6410d2"
      },
      "source": [
        "print(nCNV, nDME, nDRUSEN, nNORMAL)"
      ],
      "execution_count": 36,
      "outputs": [
        {
          "output_type": "stream",
          "text": [
            "3720 1135 862 2631\n"
          ],
          "name": "stdout"
        }
      ]
    },
    {
      "cell_type": "code",
      "metadata": {
        "colab": {
          "base_uri": "https://localhost:8080/"
        },
        "id": "dtX_Yph1Isnw",
        "outputId": "cdd9ee14-4f6e-465f-e053-5c50ee20ca89"
      },
      "source": [
        "print(ncount)"
      ],
      "execution_count": 37,
      "outputs": [
        {
          "output_type": "stream",
          "text": [
            "[3720 1135  862 2631]\n"
          ],
          "name": "stdout"
        }
      ]
    },
    {
      "cell_type": "code",
      "metadata": {
        "colab": {
          "base_uri": "https://localhost:8080/"
        },
        "id": "hMK_GE9-IvCE",
        "outputId": "cdd0713a-3ebc-4242-8bce-e0b90342750b"
      },
      "source": [
        "print(ntotal)"
      ],
      "execution_count": 38,
      "outputs": [
        {
          "output_type": "stream",
          "text": [
            "8348\n"
          ],
          "name": "stdout"
        }
      ]
    },
    {
      "cell_type": "code",
      "metadata": {
        "colab": {
          "base_uri": "https://localhost:8080/"
        },
        "id": "mFQJ0x1WI05t",
        "outputId": "4e8f7b98-a714-4dc1-e709-296b4e9928c1"
      },
      "source": [
        "print(weights)"
      ],
      "execution_count": 39,
      "outputs": [
        {
          "output_type": "stream",
          "text": [
            "[1.         3.27753304 4.31554524 1.41391106]\n"
          ],
          "name": "stdout"
        }
      ]
    },
    {
      "cell_type": "markdown",
      "metadata": {
        "id": "S96rAcMSZUgU"
      },
      "source": [
        "# Retrieve the Representation\n",
        "- we run our examples through the SimCLR to retrieve the embedding as seen by the nerual network\n"
      ]
    },
    {
      "cell_type": "code",
      "metadata": {
        "id": "BPX6S_qBchK7"
      },
      "source": [
        "def get_representation(dataset, max_batch=500):\n",
        "  out_rep, out_label = [], []\n",
        "  count = 0\n",
        "  for img, lb in dataset:\n",
        "    out_rep.append(simclr_layer(img).numpy())\n",
        "    out_label.append(lb.numpy())\n",
        "    if count % 100 == 0: print(f'count = {count}')\n",
        "    if count > max_batch: break\n",
        "    count += 1\n",
        "  out_label = np.hstack(out_label)\n",
        "  out_rep   = np.vstack(out_rep)\n",
        "  return out_rep, out_label"
      ],
      "execution_count": 40,
      "outputs": []
    },
    {
      "cell_type": "code",
      "metadata": {
        "colab": {
          "base_uri": "https://localhost:8080/"
        },
        "id": "f3ocvmcLgFLX",
        "outputId": "97725aea-b3cc-4307-d2c4-3bcf68a345d0"
      },
      "source": [
        "# train_rep, train_lb = get_representation(ds_train)\n",
        "test_rep,  test_lb = get_representation(ds_test)"
      ],
      "execution_count": 41,
      "outputs": [
        {
          "output_type": "stream",
          "text": [
            "count = 0\n"
          ],
          "name": "stdout"
        }
      ]
    },
    {
      "cell_type": "code",
      "metadata": {
        "colab": {
          "base_uri": "https://localhost:8080/"
        },
        "id": "9LZahuHgp4U_",
        "outputId": "eb776881-fdde-444c-d837-026561536a19"
      },
      "source": [
        "train_rep, train_lb = get_representation(ds_train)"
      ],
      "execution_count": 42,
      "outputs": [
        {
          "output_type": "stream",
          "text": [
            "count = 0\n",
            "count = 100\n",
            "count = 200\n"
          ],
          "name": "stdout"
        }
      ]
    },
    {
      "cell_type": "code",
      "metadata": {
        "id": "aZh2-2ahltzC"
      },
      "source": [
        "train_rep = train_rep / np.sqrt(np.square(train_rep).mean(axis=-1, keepdims=True))\n",
        "test_rep  = test_rep  / np.sqrt(np.square(test_rep).mean(axis=-1, keepdims=True))"
      ],
      "execution_count": 43,
      "outputs": []
    },
    {
      "cell_type": "code",
      "metadata": {
        "colab": {
          "base_uri": "https://localhost:8080/"
        },
        "id": "5Pm0md0pl1pT",
        "outputId": "2f84ac9a-5560-477a-aa3a-20a96e9c4a9f"
      },
      "source": [
        "train_rep.shape"
      ],
      "execution_count": 44,
      "outputs": [
        {
          "output_type": "execute_result",
          "data": {
            "text/plain": [
              "(8182, 2048)"
            ]
          },
          "metadata": {
            "tags": []
          },
          "execution_count": 44
        }
      ]
    },
    {
      "cell_type": "code",
      "metadata": {
        "id": "Un9wqRJ-7COp"
      },
      "source": [
        "import os\n",
        "\n",
        "# simple version for working with CWD\n",
        "nCNV = len([name for name in os.listdir('./processed_data/data/train_data_10per/0')])\n",
        "nDME = len([name for name in os.listdir('./processed_data/data/train_data_10per/1')])\n",
        "nDRUSEN = len([name for name in os.listdir('./processed_data/data/train_data_10per/2')])\n",
        "nNORMAL = len([name for name in os.listdir('./processed_data/data/train_data_10per/3')])\n",
        "\n",
        "ncount = np.array([nCNV, nDME, nDRUSEN, nNORMAL])\n",
        "ntotal = sum(ncount)\n",
        "\n",
        "weights = ntotal/ncount/ len(ncount)\n",
        "weights /= weights.min()\n",
        "class_weight = {i: w for i, w in enumerate(weights)}"
      ],
      "execution_count": 46,
      "outputs": []
    },
    {
      "cell_type": "markdown",
      "metadata": {
        "id": "qKrqSc6nZRoG"
      },
      "source": [
        "# Fitting a Linear Regression Model\n",
        "- attach a dense layer with 4 outputs with softmax activation\n",
        "- minimize the cross-entropy taking into the account of the inherent imbalance between the 4 classes"
      ]
    },
    {
      "cell_type": "code",
      "metadata": {
        "id": "VtyMoMevhCAu",
        "colab": {
          "base_uri": "https://localhost:8080/"
        },
        "outputId": "1f4e4a8c-9dbb-4555-c9ad-4968bd321498"
      },
      "source": [
        "learning_rate = 1.0e-3\n",
        "\n",
        "\n",
        "linearRegression = tf.keras.Sequential([tf.keras.layers.Input(2048),\n",
        "                                       tf.keras.layers.Dense(4, activation='softmax')])\n",
        "\n",
        "optimizer = tf.keras.optimizers.RMSprop(learning_rate=learning_rate)\n",
        "linearRegression.compile(loss='sparse_categorical_crossentropy', \n",
        "                         metrics='accuracy', \n",
        "                         optimizer=optimizer)"
      ],
      "execution_count": 47,
      "outputs": [
        {
          "output_type": "stream",
          "text": [
            "WARNING:tensorflow:Please add `keras.layers.InputLayer` instead of `keras.Input` to Sequential model. `keras.Input` is intended to be used by Functional model.\n"
          ],
          "name": "stdout"
        }
      ]
    },
    {
      "cell_type": "code",
      "metadata": {
        "colab": {
          "base_uri": "https://localhost:8080/"
        },
        "id": "ynrH93CJhJyY",
        "outputId": "9a66b981-ca27-4493-c5a4-a9e4d8fab50b"
      },
      "source": [
        "history = linearRegression.fit(train_rep, \n",
        "                              train_lb, \n",
        "                              batch_size=32, \n",
        "                              epochs=100,\n",
        "                              class_weight=class_weight,\n",
        "                              validation_data=(test_rep, test_lb),)"
      ],
      "execution_count": 48,
      "outputs": [
        {
          "output_type": "stream",
          "text": [
            "WARNING:tensorflow:From /usr/local/lib/python3.7/dist-packages/tensorflow/python/ops/array_ops.py:5049: calling gather (from tensorflow.python.ops.array_ops) with validate_indices is deprecated and will be removed in a future version.\n",
            "Instructions for updating:\n",
            "The `validate_indices` argument has no effect. Indices are always validated on CPU and never validated on GPU.\n",
            "Epoch 1/100\n",
            "256/256 [==============================] - 2s 4ms/step - loss: 2.4714 - accuracy: 0.3299 - val_loss: 1.3235 - val_accuracy: 0.4039\n",
            "Epoch 2/100\n",
            "256/256 [==============================] - 1s 3ms/step - loss: 2.3310 - accuracy: 0.4198 - val_loss: 1.2139 - val_accuracy: 0.4298\n",
            "Epoch 3/100\n",
            "256/256 [==============================] - 1s 3ms/step - loss: 2.2426 - accuracy: 0.4616 - val_loss: 1.1924 - val_accuracy: 0.4318\n",
            "Epoch 4/100\n",
            "256/256 [==============================] - 1s 3ms/step - loss: 2.1797 - accuracy: 0.4901 - val_loss: 1.0565 - val_accuracy: 0.6198\n",
            "Epoch 5/100\n",
            "256/256 [==============================] - 1s 3ms/step - loss: 2.1255 - accuracy: 0.5067 - val_loss: 1.0222 - val_accuracy: 0.6384\n",
            "Epoch 6/100\n",
            "256/256 [==============================] - 1s 3ms/step - loss: 2.0791 - accuracy: 0.5276 - val_loss: 1.0591 - val_accuracy: 0.5506\n",
            "Epoch 7/100\n",
            "256/256 [==============================] - 1s 3ms/step - loss: 2.0438 - accuracy: 0.5303 - val_loss: 1.2169 - val_accuracy: 0.3213\n",
            "Epoch 8/100\n",
            "256/256 [==============================] - 1s 3ms/step - loss: 2.0045 - accuracy: 0.5504 - val_loss: 1.1544 - val_accuracy: 0.4143\n",
            "Epoch 9/100\n",
            "256/256 [==============================] - 1s 3ms/step - loss: 1.9931 - accuracy: 0.5538 - val_loss: 0.9599 - val_accuracy: 0.6343\n",
            "Epoch 10/100\n",
            "256/256 [==============================] - 1s 3ms/step - loss: 1.9701 - accuracy: 0.5656 - val_loss: 0.9514 - val_accuracy: 0.6384\n",
            "Epoch 11/100\n",
            "256/256 [==============================] - 1s 3ms/step - loss: 1.9432 - accuracy: 0.5735 - val_loss: 0.9600 - val_accuracy: 0.6033\n",
            "Epoch 12/100\n",
            "256/256 [==============================] - 1s 3ms/step - loss: 1.9279 - accuracy: 0.5787 - val_loss: 0.9335 - val_accuracy: 0.6374\n",
            "Epoch 13/100\n",
            "256/256 [==============================] - 1s 3ms/step - loss: 1.9030 - accuracy: 0.5857 - val_loss: 1.0350 - val_accuracy: 0.5155\n",
            "Epoch 14/100\n",
            "256/256 [==============================] - 1s 3ms/step - loss: 1.8983 - accuracy: 0.5871 - val_loss: 0.9682 - val_accuracy: 0.5579\n",
            "Epoch 15/100\n",
            "256/256 [==============================] - 1s 3ms/step - loss: 1.8659 - accuracy: 0.5891 - val_loss: 0.9126 - val_accuracy: 0.6467\n",
            "Epoch 16/100\n",
            "256/256 [==============================] - 1s 3ms/step - loss: 1.8580 - accuracy: 0.5975 - val_loss: 0.8823 - val_accuracy: 0.6477\n",
            "Epoch 17/100\n",
            "256/256 [==============================] - 1s 3ms/step - loss: 1.8482 - accuracy: 0.5985 - val_loss: 0.8907 - val_accuracy: 0.6312\n",
            "Epoch 18/100\n",
            "256/256 [==============================] - 1s 3ms/step - loss: 1.8297 - accuracy: 0.6058 - val_loss: 1.0222 - val_accuracy: 0.5393\n",
            "Epoch 19/100\n",
            "256/256 [==============================] - 1s 3ms/step - loss: 1.8178 - accuracy: 0.6083 - val_loss: 0.8395 - val_accuracy: 0.6942\n",
            "Epoch 20/100\n",
            "256/256 [==============================] - 1s 3ms/step - loss: 1.8095 - accuracy: 0.6100 - val_loss: 0.8493 - val_accuracy: 0.6798\n",
            "Epoch 21/100\n",
            "256/256 [==============================] - 1s 3ms/step - loss: 1.8075 - accuracy: 0.6091 - val_loss: 0.9075 - val_accuracy: 0.6467\n",
            "Epoch 22/100\n",
            "256/256 [==============================] - 1s 3ms/step - loss: 1.7892 - accuracy: 0.6205 - val_loss: 0.8844 - val_accuracy: 0.6033\n",
            "Epoch 23/100\n",
            "256/256 [==============================] - 1s 3ms/step - loss: 1.7808 - accuracy: 0.6151 - val_loss: 0.8379 - val_accuracy: 0.6694\n",
            "Epoch 24/100\n",
            "256/256 [==============================] - 1s 3ms/step - loss: 1.7694 - accuracy: 0.6177 - val_loss: 0.8790 - val_accuracy: 0.6333\n",
            "Epoch 25/100\n",
            "256/256 [==============================] - 1s 3ms/step - loss: 1.7654 - accuracy: 0.6190 - val_loss: 0.8947 - val_accuracy: 0.6043\n",
            "Epoch 26/100\n",
            "256/256 [==============================] - 1s 3ms/step - loss: 1.7541 - accuracy: 0.6267 - val_loss: 0.9434 - val_accuracy: 0.5795\n",
            "Epoch 27/100\n",
            "256/256 [==============================] - 1s 3ms/step - loss: 1.7536 - accuracy: 0.6288 - val_loss: 0.8672 - val_accuracy: 0.6436\n",
            "Epoch 28/100\n",
            "256/256 [==============================] - 1s 3ms/step - loss: 1.7349 - accuracy: 0.6304 - val_loss: 0.8241 - val_accuracy: 0.6901\n",
            "Epoch 29/100\n",
            "256/256 [==============================] - 1s 3ms/step - loss: 1.7365 - accuracy: 0.6294 - val_loss: 0.8240 - val_accuracy: 0.6901\n",
            "Epoch 30/100\n",
            "256/256 [==============================] - 1s 3ms/step - loss: 1.7272 - accuracy: 0.6263 - val_loss: 0.7941 - val_accuracy: 0.7149\n",
            "Epoch 31/100\n",
            "256/256 [==============================] - 1s 3ms/step - loss: 1.7154 - accuracy: 0.6344 - val_loss: 0.8082 - val_accuracy: 0.6818\n",
            "Epoch 32/100\n",
            "256/256 [==============================] - 1s 3ms/step - loss: 1.7142 - accuracy: 0.6358 - val_loss: 0.8104 - val_accuracy: 0.6777\n",
            "Epoch 33/100\n",
            "256/256 [==============================] - 1s 3ms/step - loss: 1.7003 - accuracy: 0.6451 - val_loss: 0.9390 - val_accuracy: 0.5930\n",
            "Epoch 34/100\n",
            "256/256 [==============================] - 1s 3ms/step - loss: 1.7061 - accuracy: 0.6333 - val_loss: 0.7634 - val_accuracy: 0.7314\n",
            "Epoch 35/100\n",
            "256/256 [==============================] - 1s 3ms/step - loss: 1.6981 - accuracy: 0.6374 - val_loss: 0.8067 - val_accuracy: 0.6591\n",
            "Epoch 36/100\n",
            "256/256 [==============================] - 1s 3ms/step - loss: 1.6987 - accuracy: 0.6402 - val_loss: 0.8052 - val_accuracy: 0.6612\n",
            "Epoch 37/100\n",
            "256/256 [==============================] - 1s 3ms/step - loss: 1.6890 - accuracy: 0.6435 - val_loss: 0.8487 - val_accuracy: 0.6198\n",
            "Epoch 38/100\n",
            "256/256 [==============================] - 1s 3ms/step - loss: 1.6758 - accuracy: 0.6494 - val_loss: 0.9536 - val_accuracy: 0.5217\n",
            "Epoch 39/100\n",
            "256/256 [==============================] - 1s 3ms/step - loss: 1.6659 - accuracy: 0.6434 - val_loss: 0.7735 - val_accuracy: 0.7169\n",
            "Epoch 40/100\n",
            "256/256 [==============================] - 1s 3ms/step - loss: 1.6799 - accuracy: 0.6492 - val_loss: 0.7829 - val_accuracy: 0.6890\n",
            "Epoch 41/100\n",
            "256/256 [==============================] - 1s 3ms/step - loss: 1.6635 - accuracy: 0.6467 - val_loss: 0.8784 - val_accuracy: 0.6405\n",
            "Epoch 42/100\n",
            "256/256 [==============================] - 1s 3ms/step - loss: 1.6587 - accuracy: 0.6506 - val_loss: 0.7658 - val_accuracy: 0.6860\n",
            "Epoch 43/100\n",
            "256/256 [==============================] - 1s 3ms/step - loss: 1.6530 - accuracy: 0.6507 - val_loss: 0.7421 - val_accuracy: 0.7335\n",
            "Epoch 44/100\n",
            "256/256 [==============================] - 1s 3ms/step - loss: 1.6393 - accuracy: 0.6508 - val_loss: 0.8011 - val_accuracy: 0.6921\n",
            "Epoch 45/100\n",
            "256/256 [==============================] - 1s 3ms/step - loss: 1.6460 - accuracy: 0.6506 - val_loss: 0.7562 - val_accuracy: 0.7107\n",
            "Epoch 46/100\n",
            "256/256 [==============================] - 1s 3ms/step - loss: 1.6403 - accuracy: 0.6525 - val_loss: 0.7818 - val_accuracy: 0.7149\n",
            "Epoch 47/100\n",
            "256/256 [==============================] - 1s 3ms/step - loss: 1.6343 - accuracy: 0.6536 - val_loss: 0.7131 - val_accuracy: 0.7645\n",
            "Epoch 48/100\n",
            "256/256 [==============================] - 1s 3ms/step - loss: 1.6310 - accuracy: 0.6535 - val_loss: 0.8044 - val_accuracy: 0.6632\n",
            "Epoch 49/100\n",
            "256/256 [==============================] - 1s 3ms/step - loss: 1.6236 - accuracy: 0.6589 - val_loss: 0.7976 - val_accuracy: 0.6612\n",
            "Epoch 50/100\n",
            "256/256 [==============================] - 1s 3ms/step - loss: 1.6189 - accuracy: 0.6606 - val_loss: 0.7199 - val_accuracy: 0.7469\n",
            "Epoch 51/100\n",
            "256/256 [==============================] - 1s 3ms/step - loss: 1.6247 - accuracy: 0.6491 - val_loss: 0.7197 - val_accuracy: 0.7479\n",
            "Epoch 52/100\n",
            "256/256 [==============================] - 1s 3ms/step - loss: 1.6104 - accuracy: 0.6561 - val_loss: 0.7579 - val_accuracy: 0.6973\n",
            "Epoch 53/100\n",
            "256/256 [==============================] - 1s 3ms/step - loss: 1.6103 - accuracy: 0.6649 - val_loss: 0.7152 - val_accuracy: 0.7252\n",
            "Epoch 54/100\n",
            "256/256 [==============================] - 1s 3ms/step - loss: 1.6061 - accuracy: 0.6582 - val_loss: 0.7377 - val_accuracy: 0.7169\n",
            "Epoch 55/100\n",
            "256/256 [==============================] - 1s 3ms/step - loss: 1.6016 - accuracy: 0.6645 - val_loss: 0.7676 - val_accuracy: 0.6767\n",
            "Epoch 56/100\n",
            "256/256 [==============================] - 1s 3ms/step - loss: 1.5937 - accuracy: 0.6660 - val_loss: 0.8068 - val_accuracy: 0.6570\n",
            "Epoch 57/100\n",
            "256/256 [==============================] - 1s 3ms/step - loss: 1.6012 - accuracy: 0.6635 - val_loss: 0.7202 - val_accuracy: 0.7386\n",
            "Epoch 58/100\n",
            "256/256 [==============================] - 1s 3ms/step - loss: 1.6057 - accuracy: 0.6597 - val_loss: 0.6983 - val_accuracy: 0.7448\n",
            "Epoch 59/100\n",
            "256/256 [==============================] - 1s 3ms/step - loss: 1.5897 - accuracy: 0.6729 - val_loss: 0.7076 - val_accuracy: 0.7479\n",
            "Epoch 60/100\n",
            "256/256 [==============================] - 1s 3ms/step - loss: 1.5850 - accuracy: 0.6710 - val_loss: 0.6915 - val_accuracy: 0.7562\n",
            "Epoch 61/100\n",
            "256/256 [==============================] - 1s 3ms/step - loss: 1.5868 - accuracy: 0.6656 - val_loss: 0.6924 - val_accuracy: 0.7459\n",
            "Epoch 62/100\n",
            "256/256 [==============================] - 1s 3ms/step - loss: 1.5759 - accuracy: 0.6684 - val_loss: 0.6930 - val_accuracy: 0.7459\n",
            "Epoch 63/100\n",
            "256/256 [==============================] - 1s 3ms/step - loss: 1.5821 - accuracy: 0.6672 - val_loss: 0.7034 - val_accuracy: 0.7397\n",
            "Epoch 64/100\n",
            "256/256 [==============================] - 1s 3ms/step - loss: 1.5669 - accuracy: 0.6705 - val_loss: 0.7966 - val_accuracy: 0.6632\n",
            "Epoch 65/100\n",
            "256/256 [==============================] - 1s 3ms/step - loss: 1.5772 - accuracy: 0.6700 - val_loss: 0.7197 - val_accuracy: 0.7314\n",
            "Epoch 66/100\n",
            "256/256 [==============================] - 1s 3ms/step - loss: 1.5706 - accuracy: 0.6727 - val_loss: 0.7195 - val_accuracy: 0.7035\n",
            "Epoch 67/100\n",
            "256/256 [==============================] - 1s 3ms/step - loss: 1.5679 - accuracy: 0.6661 - val_loss: 0.6850 - val_accuracy: 0.7500\n",
            "Epoch 68/100\n",
            "256/256 [==============================] - 1s 3ms/step - loss: 1.5652 - accuracy: 0.6696 - val_loss: 0.7197 - val_accuracy: 0.7283\n",
            "Epoch 69/100\n",
            "256/256 [==============================] - 1s 3ms/step - loss: 1.5575 - accuracy: 0.6711 - val_loss: 0.7695 - val_accuracy: 0.6736\n",
            "Epoch 70/100\n",
            "256/256 [==============================] - 1s 3ms/step - loss: 1.5588 - accuracy: 0.6689 - val_loss: 0.7281 - val_accuracy: 0.7118\n",
            "Epoch 71/100\n",
            "256/256 [==============================] - 1s 3ms/step - loss: 1.5508 - accuracy: 0.6714 - val_loss: 0.7255 - val_accuracy: 0.7211\n",
            "Epoch 72/100\n",
            "256/256 [==============================] - 1s 3ms/step - loss: 1.5495 - accuracy: 0.6739 - val_loss: 0.6809 - val_accuracy: 0.7541\n",
            "Epoch 73/100\n",
            "256/256 [==============================] - 1s 3ms/step - loss: 1.5447 - accuracy: 0.6787 - val_loss: 0.6861 - val_accuracy: 0.7500\n",
            "Epoch 74/100\n",
            "256/256 [==============================] - 1s 4ms/step - loss: 1.5565 - accuracy: 0.6740 - val_loss: 0.7004 - val_accuracy: 0.7304\n",
            "Epoch 75/100\n",
            "256/256 [==============================] - 1s 3ms/step - loss: 1.5502 - accuracy: 0.6772 - val_loss: 0.7112 - val_accuracy: 0.7190\n",
            "Epoch 76/100\n",
            "256/256 [==============================] - 1s 3ms/step - loss: 1.5480 - accuracy: 0.6679 - val_loss: 0.7543 - val_accuracy: 0.6890\n",
            "Epoch 77/100\n",
            "256/256 [==============================] - 1s 3ms/step - loss: 1.5446 - accuracy: 0.6755 - val_loss: 0.7489 - val_accuracy: 0.6839\n",
            "Epoch 78/100\n",
            "256/256 [==============================] - 1s 3ms/step - loss: 1.5380 - accuracy: 0.6773 - val_loss: 0.7616 - val_accuracy: 0.6705\n",
            "Epoch 79/100\n",
            "256/256 [==============================] - 1s 3ms/step - loss: 1.5330 - accuracy: 0.6810 - val_loss: 0.7314 - val_accuracy: 0.6870\n",
            "Epoch 80/100\n",
            "256/256 [==============================] - 1s 3ms/step - loss: 1.5295 - accuracy: 0.6826 - val_loss: 0.7554 - val_accuracy: 0.6787\n",
            "Epoch 81/100\n",
            "256/256 [==============================] - 1s 3ms/step - loss: 1.5308 - accuracy: 0.6764 - val_loss: 0.7039 - val_accuracy: 0.7159\n",
            "Epoch 82/100\n",
            "256/256 [==============================] - 1s 3ms/step - loss: 1.5264 - accuracy: 0.6820 - val_loss: 0.8420 - val_accuracy: 0.6095\n",
            "Epoch 83/100\n",
            "256/256 [==============================] - 1s 3ms/step - loss: 1.5214 - accuracy: 0.6804 - val_loss: 0.6645 - val_accuracy: 0.7696\n",
            "Epoch 84/100\n",
            "256/256 [==============================] - 1s 3ms/step - loss: 1.5244 - accuracy: 0.6793 - val_loss: 0.7845 - val_accuracy: 0.6560\n",
            "Epoch 85/100\n",
            "256/256 [==============================] - 1s 3ms/step - loss: 1.5263 - accuracy: 0.6820 - val_loss: 0.7327 - val_accuracy: 0.7180\n",
            "Epoch 86/100\n",
            "256/256 [==============================] - 1s 3ms/step - loss: 1.5199 - accuracy: 0.6788 - val_loss: 0.6960 - val_accuracy: 0.7366\n",
            "Epoch 87/100\n",
            "256/256 [==============================] - 1s 3ms/step - loss: 1.5197 - accuracy: 0.6819 - val_loss: 0.6609 - val_accuracy: 0.7634\n",
            "Epoch 88/100\n",
            "256/256 [==============================] - 1s 3ms/step - loss: 1.5101 - accuracy: 0.6887 - val_loss: 0.6914 - val_accuracy: 0.7376\n",
            "Epoch 89/100\n",
            "256/256 [==============================] - 1s 3ms/step - loss: 1.5147 - accuracy: 0.6854 - val_loss: 0.6557 - val_accuracy: 0.7614\n",
            "Epoch 90/100\n",
            "256/256 [==============================] - 1s 3ms/step - loss: 1.5092 - accuracy: 0.6826 - val_loss: 0.6855 - val_accuracy: 0.7479\n",
            "Epoch 91/100\n",
            "256/256 [==============================] - 1s 3ms/step - loss: 1.5044 - accuracy: 0.6816 - val_loss: 0.7542 - val_accuracy: 0.6901\n",
            "Epoch 92/100\n",
            "256/256 [==============================] - 1s 3ms/step - loss: 1.5020 - accuracy: 0.6850 - val_loss: 0.7030 - val_accuracy: 0.7190\n",
            "Epoch 93/100\n",
            "256/256 [==============================] - 1s 3ms/step - loss: 1.5033 - accuracy: 0.6842 - val_loss: 0.7391 - val_accuracy: 0.6942\n",
            "Epoch 94/100\n",
            "256/256 [==============================] - 1s 3ms/step - loss: 1.5126 - accuracy: 0.6839 - val_loss: 0.6537 - val_accuracy: 0.7624\n",
            "Epoch 95/100\n",
            "256/256 [==============================] - 1s 3ms/step - loss: 1.5037 - accuracy: 0.6870 - val_loss: 0.7435 - val_accuracy: 0.6798\n",
            "Epoch 96/100\n",
            "256/256 [==============================] - 1s 3ms/step - loss: 1.4987 - accuracy: 0.6863 - val_loss: 0.6895 - val_accuracy: 0.7397\n",
            "Epoch 97/100\n",
            "256/256 [==============================] - 1s 3ms/step - loss: 1.4913 - accuracy: 0.6846 - val_loss: 0.6570 - val_accuracy: 0.7634\n",
            "Epoch 98/100\n",
            "256/256 [==============================] - 1s 3ms/step - loss: 1.4918 - accuracy: 0.6871 - val_loss: 0.6705 - val_accuracy: 0.7469\n",
            "Epoch 99/100\n",
            "256/256 [==============================] - 1s 3ms/step - loss: 1.4911 - accuracy: 0.6921 - val_loss: 0.6750 - val_accuracy: 0.7366\n",
            "Epoch 100/100\n",
            "256/256 [==============================] - 1s 3ms/step - loss: 1.4895 - accuracy: 0.6881 - val_loss: 0.6804 - val_accuracy: 0.7324\n"
          ],
          "name": "stdout"
        }
      ]
    },
    {
      "cell_type": "code",
      "metadata": {
        "colab": {
          "base_uri": "https://localhost:8080/"
        },
        "id": "sBPITqv8sZkF",
        "outputId": "56b75625-ed44-4796-e086-3abbaf652b22"
      },
      "source": [
        "history = linearRegression.fit(train_rep, \n",
        "                               train_lb, \n",
        "                               batch_size=32, \n",
        "                               epochs=400,\n",
        "                               class_weight=class_weight,\n",
        "                               validation_data=(test_rep, test_lb),\n",
        "                               initial_epoch=200)"
      ],
      "execution_count": 49,
      "outputs": [
        {
          "output_type": "stream",
          "text": [
            "Epoch 201/400\n",
            "256/256 [==============================] - 1s 3ms/step - loss: 1.4854 - accuracy: 0.6902 - val_loss: 0.6553 - val_accuracy: 0.7541\n",
            "Epoch 202/400\n",
            "256/256 [==============================] - 1s 3ms/step - loss: 1.4884 - accuracy: 0.6904 - val_loss: 0.7249 - val_accuracy: 0.6911\n",
            "Epoch 203/400\n",
            "256/256 [==============================] - 1s 3ms/step - loss: 1.4924 - accuracy: 0.6936 - val_loss: 0.6796 - val_accuracy: 0.7376\n",
            "Epoch 204/400\n",
            "256/256 [==============================] - 1s 3ms/step - loss: 1.4755 - accuracy: 0.6930 - val_loss: 0.6740 - val_accuracy: 0.7335\n",
            "Epoch 205/400\n",
            "256/256 [==============================] - 1s 3ms/step - loss: 1.4846 - accuracy: 0.6869 - val_loss: 0.6985 - val_accuracy: 0.7159\n",
            "Epoch 206/400\n",
            "256/256 [==============================] - 1s 3ms/step - loss: 1.4747 - accuracy: 0.6926 - val_loss: 0.6473 - val_accuracy: 0.7624\n",
            "Epoch 207/400\n",
            "256/256 [==============================] - 1s 3ms/step - loss: 1.4785 - accuracy: 0.6926 - val_loss: 0.8379 - val_accuracy: 0.6457\n",
            "Epoch 208/400\n",
            "256/256 [==============================] - 1s 3ms/step - loss: 1.4843 - accuracy: 0.6902 - val_loss: 0.6567 - val_accuracy: 0.7531\n",
            "Epoch 209/400\n",
            "256/256 [==============================] - 1s 3ms/step - loss: 1.4721 - accuracy: 0.6935 - val_loss: 0.6611 - val_accuracy: 0.7407\n",
            "Epoch 210/400\n",
            "256/256 [==============================] - 1s 3ms/step - loss: 1.4788 - accuracy: 0.6948 - val_loss: 0.6477 - val_accuracy: 0.7603\n",
            "Epoch 211/400\n",
            "256/256 [==============================] - 1s 3ms/step - loss: 1.4712 - accuracy: 0.6991 - val_loss: 0.6384 - val_accuracy: 0.7634\n",
            "Epoch 212/400\n",
            "256/256 [==============================] - 1s 3ms/step - loss: 1.4666 - accuracy: 0.6971 - val_loss: 0.6756 - val_accuracy: 0.7345\n",
            "Epoch 213/400\n",
            "256/256 [==============================] - 1s 3ms/step - loss: 1.4677 - accuracy: 0.6932 - val_loss: 0.6505 - val_accuracy: 0.7572\n",
            "Epoch 214/400\n",
            "256/256 [==============================] - 1s 3ms/step - loss: 1.4699 - accuracy: 0.6949 - val_loss: 0.6670 - val_accuracy: 0.7448\n",
            "Epoch 215/400\n",
            "256/256 [==============================] - 1s 3ms/step - loss: 1.4633 - accuracy: 0.6943 - val_loss: 0.6833 - val_accuracy: 0.7283\n",
            "Epoch 216/400\n",
            "256/256 [==============================] - 1s 3ms/step - loss: 1.4581 - accuracy: 0.6929 - val_loss: 0.6458 - val_accuracy: 0.7552\n",
            "Epoch 217/400\n",
            "256/256 [==============================] - 1s 3ms/step - loss: 1.4601 - accuracy: 0.6979 - val_loss: 0.6692 - val_accuracy: 0.7221\n",
            "Epoch 218/400\n",
            "256/256 [==============================] - 1s 3ms/step - loss: 1.4570 - accuracy: 0.6968 - val_loss: 0.6417 - val_accuracy: 0.7624\n",
            "Epoch 219/400\n",
            "256/256 [==============================] - 1s 3ms/step - loss: 1.4657 - accuracy: 0.6951 - val_loss: 0.6570 - val_accuracy: 0.7448\n",
            "Epoch 220/400\n",
            "256/256 [==============================] - 1s 3ms/step - loss: 1.4581 - accuracy: 0.6957 - val_loss: 0.6992 - val_accuracy: 0.7107\n",
            "Epoch 221/400\n",
            "256/256 [==============================] - 1s 3ms/step - loss: 1.4534 - accuracy: 0.7018 - val_loss: 0.7329 - val_accuracy: 0.6818\n",
            "Epoch 222/400\n",
            "256/256 [==============================] - 1s 3ms/step - loss: 1.4552 - accuracy: 0.6979 - val_loss: 0.6332 - val_accuracy: 0.7603\n",
            "Epoch 223/400\n",
            "256/256 [==============================] - 1s 3ms/step - loss: 1.4446 - accuracy: 0.7000 - val_loss: 0.6437 - val_accuracy: 0.7562\n",
            "Epoch 224/400\n",
            "256/256 [==============================] - 1s 3ms/step - loss: 1.4477 - accuracy: 0.6969 - val_loss: 0.6582 - val_accuracy: 0.7562\n",
            "Epoch 225/400\n",
            "256/256 [==============================] - 1s 3ms/step - loss: 1.4452 - accuracy: 0.6982 - val_loss: 0.6582 - val_accuracy: 0.7510\n",
            "Epoch 226/400\n",
            "256/256 [==============================] - 1s 3ms/step - loss: 1.4394 - accuracy: 0.6960 - val_loss: 0.7153 - val_accuracy: 0.7035\n",
            "Epoch 227/400\n",
            "256/256 [==============================] - 1s 3ms/step - loss: 1.4447 - accuracy: 0.7008 - val_loss: 0.6544 - val_accuracy: 0.7583\n",
            "Epoch 228/400\n",
            "256/256 [==============================] - 1s 3ms/step - loss: 1.4402 - accuracy: 0.7025 - val_loss: 0.8040 - val_accuracy: 0.6663\n",
            "Epoch 229/400\n",
            "256/256 [==============================] - 1s 3ms/step - loss: 1.4406 - accuracy: 0.7040 - val_loss: 0.6227 - val_accuracy: 0.7779\n",
            "Epoch 230/400\n",
            "256/256 [==============================] - 1s 3ms/step - loss: 1.4396 - accuracy: 0.7019 - val_loss: 0.7047 - val_accuracy: 0.7107\n",
            "Epoch 231/400\n",
            "256/256 [==============================] - 1s 3ms/step - loss: 1.4428 - accuracy: 0.6974 - val_loss: 0.7134 - val_accuracy: 0.6973\n",
            "Epoch 232/400\n",
            "256/256 [==============================] - 1s 3ms/step - loss: 1.4336 - accuracy: 0.7013 - val_loss: 0.6934 - val_accuracy: 0.7118\n",
            "Epoch 233/400\n",
            "256/256 [==============================] - 1s 3ms/step - loss: 1.4399 - accuracy: 0.6986 - val_loss: 0.7162 - val_accuracy: 0.6963\n",
            "Epoch 234/400\n",
            "256/256 [==============================] - 1s 3ms/step - loss: 1.4330 - accuracy: 0.6985 - val_loss: 0.6282 - val_accuracy: 0.7562\n",
            "Epoch 235/400\n",
            "256/256 [==============================] - 1s 3ms/step - loss: 1.4352 - accuracy: 0.6996 - val_loss: 0.7680 - val_accuracy: 0.6653\n",
            "Epoch 236/400\n",
            "256/256 [==============================] - 1s 3ms/step - loss: 1.4298 - accuracy: 0.7007 - val_loss: 0.7000 - val_accuracy: 0.7159\n",
            "Epoch 237/400\n",
            "256/256 [==============================] - 1s 3ms/step - loss: 1.4349 - accuracy: 0.7066 - val_loss: 0.6955 - val_accuracy: 0.7035\n",
            "Epoch 238/400\n",
            "256/256 [==============================] - 1s 3ms/step - loss: 1.4357 - accuracy: 0.7008 - val_loss: 0.6251 - val_accuracy: 0.7614\n",
            "Epoch 239/400\n",
            "256/256 [==============================] - 1s 3ms/step - loss: 1.4243 - accuracy: 0.7069 - val_loss: 0.6611 - val_accuracy: 0.7293\n",
            "Epoch 240/400\n",
            "256/256 [==============================] - 1s 3ms/step - loss: 1.4252 - accuracy: 0.7042 - val_loss: 0.6277 - val_accuracy: 0.7707\n",
            "Epoch 241/400\n",
            "256/256 [==============================] - 1s 3ms/step - loss: 1.4328 - accuracy: 0.7009 - val_loss: 0.6809 - val_accuracy: 0.7324\n",
            "Epoch 242/400\n",
            "256/256 [==============================] - 1s 3ms/step - loss: 1.4248 - accuracy: 0.7096 - val_loss: 0.6267 - val_accuracy: 0.7696\n",
            "Epoch 243/400\n",
            "256/256 [==============================] - 1s 3ms/step - loss: 1.4313 - accuracy: 0.7050 - val_loss: 0.6620 - val_accuracy: 0.7386\n",
            "Epoch 244/400\n",
            "256/256 [==============================] - 1s 3ms/step - loss: 1.4206 - accuracy: 0.7018 - val_loss: 0.6239 - val_accuracy: 0.7593\n",
            "Epoch 245/400\n",
            "256/256 [==============================] - 1s 3ms/step - loss: 1.4189 - accuracy: 0.7033 - val_loss: 0.6842 - val_accuracy: 0.7231\n",
            "Epoch 246/400\n",
            "256/256 [==============================] - 1s 3ms/step - loss: 1.4237 - accuracy: 0.7030 - val_loss: 0.6276 - val_accuracy: 0.7655\n",
            "Epoch 247/400\n",
            "256/256 [==============================] - 1s 3ms/step - loss: 1.4161 - accuracy: 0.7080 - val_loss: 0.6496 - val_accuracy: 0.7438\n",
            "Epoch 248/400\n",
            "256/256 [==============================] - 1s 3ms/step - loss: 1.4235 - accuracy: 0.7039 - val_loss: 0.6907 - val_accuracy: 0.7169\n",
            "Epoch 249/400\n",
            "256/256 [==============================] - 1s 3ms/step - loss: 1.4149 - accuracy: 0.7094 - val_loss: 0.6380 - val_accuracy: 0.7510\n",
            "Epoch 250/400\n",
            "256/256 [==============================] - 1s 3ms/step - loss: 1.4182 - accuracy: 0.7048 - val_loss: 0.6276 - val_accuracy: 0.7696\n",
            "Epoch 251/400\n",
            "256/256 [==============================] - 1s 3ms/step - loss: 1.4129 - accuracy: 0.7019 - val_loss: 0.6064 - val_accuracy: 0.7810\n",
            "Epoch 252/400\n",
            "256/256 [==============================] - 1s 3ms/step - loss: 1.4127 - accuracy: 0.7112 - val_loss: 0.6858 - val_accuracy: 0.7355\n",
            "Epoch 253/400\n",
            "256/256 [==============================] - 1s 3ms/step - loss: 1.4128 - accuracy: 0.7063 - val_loss: 0.7174 - val_accuracy: 0.7045\n",
            "Epoch 254/400\n",
            "256/256 [==============================] - 1s 3ms/step - loss: 1.4080 - accuracy: 0.7141 - val_loss: 0.6374 - val_accuracy: 0.7531\n",
            "Epoch 255/400\n",
            "256/256 [==============================] - 1s 3ms/step - loss: 1.4063 - accuracy: 0.7114 - val_loss: 0.6302 - val_accuracy: 0.7655\n",
            "Epoch 256/400\n",
            "256/256 [==============================] - 1s 3ms/step - loss: 1.4116 - accuracy: 0.7068 - val_loss: 0.6625 - val_accuracy: 0.7448\n",
            "Epoch 257/400\n",
            "256/256 [==============================] - 1s 3ms/step - loss: 1.4127 - accuracy: 0.7080 - val_loss: 0.6150 - val_accuracy: 0.7789\n",
            "Epoch 258/400\n",
            "256/256 [==============================] - 1s 3ms/step - loss: 1.4146 - accuracy: 0.7090 - val_loss: 0.6297 - val_accuracy: 0.7645\n",
            "Epoch 259/400\n",
            "256/256 [==============================] - 1s 3ms/step - loss: 1.4068 - accuracy: 0.7084 - val_loss: 0.6379 - val_accuracy: 0.7603\n",
            "Epoch 260/400\n",
            "256/256 [==============================] - 1s 3ms/step - loss: 1.4048 - accuracy: 0.7077 - val_loss: 0.8008 - val_accuracy: 0.6291\n",
            "Epoch 261/400\n",
            "256/256 [==============================] - 1s 3ms/step - loss: 1.4052 - accuracy: 0.7088 - val_loss: 0.6204 - val_accuracy: 0.7665\n",
            "Epoch 262/400\n",
            "256/256 [==============================] - 1s 3ms/step - loss: 1.4035 - accuracy: 0.7066 - val_loss: 0.6316 - val_accuracy: 0.7428\n",
            "Epoch 263/400\n",
            "256/256 [==============================] - 1s 3ms/step - loss: 1.4046 - accuracy: 0.7091 - val_loss: 0.6214 - val_accuracy: 0.7686\n",
            "Epoch 264/400\n",
            "256/256 [==============================] - 1s 3ms/step - loss: 1.3989 - accuracy: 0.7122 - val_loss: 0.7000 - val_accuracy: 0.6952\n",
            "Epoch 265/400\n",
            "256/256 [==============================] - 1s 3ms/step - loss: 1.4004 - accuracy: 0.7150 - val_loss: 0.6303 - val_accuracy: 0.7645\n",
            "Epoch 266/400\n",
            "256/256 [==============================] - 1s 3ms/step - loss: 1.3968 - accuracy: 0.7063 - val_loss: 0.6375 - val_accuracy: 0.7490\n",
            "Epoch 267/400\n",
            "256/256 [==============================] - 1s 3ms/step - loss: 1.3969 - accuracy: 0.7100 - val_loss: 0.6898 - val_accuracy: 0.7231\n",
            "Epoch 268/400\n",
            "256/256 [==============================] - 1s 3ms/step - loss: 1.3923 - accuracy: 0.7135 - val_loss: 0.6153 - val_accuracy: 0.7665\n",
            "Epoch 269/400\n",
            "256/256 [==============================] - 1s 3ms/step - loss: 1.3968 - accuracy: 0.7119 - val_loss: 0.6188 - val_accuracy: 0.7696\n",
            "Epoch 270/400\n",
            "256/256 [==============================] - 1s 3ms/step - loss: 1.3913 - accuracy: 0.7128 - val_loss: 0.6573 - val_accuracy: 0.7479\n",
            "Epoch 271/400\n",
            "256/256 [==============================] - 1s 3ms/step - loss: 1.3887 - accuracy: 0.7161 - val_loss: 0.6053 - val_accuracy: 0.7748\n",
            "Epoch 272/400\n",
            "256/256 [==============================] - 1s 3ms/step - loss: 1.3899 - accuracy: 0.7151 - val_loss: 0.6298 - val_accuracy: 0.7448\n",
            "Epoch 273/400\n",
            "256/256 [==============================] - 1s 3ms/step - loss: 1.3949 - accuracy: 0.7113 - val_loss: 0.6941 - val_accuracy: 0.7231\n",
            "Epoch 274/400\n",
            "256/256 [==============================] - 1s 3ms/step - loss: 1.3965 - accuracy: 0.7088 - val_loss: 0.6228 - val_accuracy: 0.7696\n",
            "Epoch 275/400\n",
            "256/256 [==============================] - 1s 3ms/step - loss: 1.3889 - accuracy: 0.7128 - val_loss: 0.6139 - val_accuracy: 0.7727\n",
            "Epoch 276/400\n",
            "256/256 [==============================] - 1s 3ms/step - loss: 1.3903 - accuracy: 0.7138 - val_loss: 0.6406 - val_accuracy: 0.7552\n",
            "Epoch 277/400\n",
            "256/256 [==============================] - 1s 3ms/step - loss: 1.3789 - accuracy: 0.7150 - val_loss: 0.6582 - val_accuracy: 0.7366\n",
            "Epoch 278/400\n",
            "256/256 [==============================] - 1s 3ms/step - loss: 1.3787 - accuracy: 0.7129 - val_loss: 0.6378 - val_accuracy: 0.7438\n",
            "Epoch 279/400\n",
            "256/256 [==============================] - 1s 3ms/step - loss: 1.3843 - accuracy: 0.7114 - val_loss: 0.7329 - val_accuracy: 0.6942\n",
            "Epoch 280/400\n",
            "256/256 [==============================] - 1s 3ms/step - loss: 1.3824 - accuracy: 0.7150 - val_loss: 0.6249 - val_accuracy: 0.7707\n",
            "Epoch 281/400\n",
            "256/256 [==============================] - 1s 3ms/step - loss: 1.3789 - accuracy: 0.7152 - val_loss: 0.6426 - val_accuracy: 0.7479\n",
            "Epoch 282/400\n",
            "256/256 [==============================] - 1s 3ms/step - loss: 1.3753 - accuracy: 0.7184 - val_loss: 0.6094 - val_accuracy: 0.7614\n",
            "Epoch 283/400\n",
            "256/256 [==============================] - 1s 3ms/step - loss: 1.3806 - accuracy: 0.7190 - val_loss: 0.6991 - val_accuracy: 0.7149\n",
            "Epoch 284/400\n",
            "256/256 [==============================] - 1s 3ms/step - loss: 1.3736 - accuracy: 0.7167 - val_loss: 0.7394 - val_accuracy: 0.7045\n",
            "Epoch 285/400\n",
            "256/256 [==============================] - 1s 3ms/step - loss: 1.3712 - accuracy: 0.7172 - val_loss: 0.6007 - val_accuracy: 0.7727\n",
            "Epoch 286/400\n",
            "256/256 [==============================] - 1s 3ms/step - loss: 1.3751 - accuracy: 0.7135 - val_loss: 0.7201 - val_accuracy: 0.6911\n",
            "Epoch 287/400\n",
            "256/256 [==============================] - 1s 3ms/step - loss: 1.3681 - accuracy: 0.7151 - val_loss: 0.6687 - val_accuracy: 0.7531\n",
            "Epoch 288/400\n",
            "256/256 [==============================] - 1s 3ms/step - loss: 1.3705 - accuracy: 0.7149 - val_loss: 0.6520 - val_accuracy: 0.7572\n",
            "Epoch 289/400\n",
            "256/256 [==============================] - 1s 3ms/step - loss: 1.3686 - accuracy: 0.7173 - val_loss: 0.6186 - val_accuracy: 0.7707\n",
            "Epoch 290/400\n",
            "256/256 [==============================] - 1s 3ms/step - loss: 1.3767 - accuracy: 0.7149 - val_loss: 0.6429 - val_accuracy: 0.7490\n",
            "Epoch 291/400\n",
            "256/256 [==============================] - 1s 3ms/step - loss: 1.3715 - accuracy: 0.7152 - val_loss: 0.6375 - val_accuracy: 0.7572\n",
            "Epoch 292/400\n",
            "256/256 [==============================] - 1s 3ms/step - loss: 1.3699 - accuracy: 0.7189 - val_loss: 0.6048 - val_accuracy: 0.7717\n",
            "Epoch 293/400\n",
            "256/256 [==============================] - 1s 3ms/step - loss: 1.3653 - accuracy: 0.7210 - val_loss: 0.6238 - val_accuracy: 0.7624\n",
            "Epoch 294/400\n",
            "256/256 [==============================] - 1s 3ms/step - loss: 1.3760 - accuracy: 0.7160 - val_loss: 0.7231 - val_accuracy: 0.6983\n",
            "Epoch 295/400\n",
            "256/256 [==============================] - 1s 3ms/step - loss: 1.3698 - accuracy: 0.7167 - val_loss: 0.6599 - val_accuracy: 0.7304\n",
            "Epoch 296/400\n",
            "256/256 [==============================] - 1s 3ms/step - loss: 1.3683 - accuracy: 0.7177 - val_loss: 0.6620 - val_accuracy: 0.7211\n",
            "Epoch 297/400\n",
            "256/256 [==============================] - 1s 3ms/step - loss: 1.3654 - accuracy: 0.7124 - val_loss: 0.6964 - val_accuracy: 0.7252\n",
            "Epoch 298/400\n",
            "256/256 [==============================] - 1s 3ms/step - loss: 1.3632 - accuracy: 0.7171 - val_loss: 0.7582 - val_accuracy: 0.6736\n",
            "Epoch 299/400\n",
            "256/256 [==============================] - 1s 3ms/step - loss: 1.3678 - accuracy: 0.7190 - val_loss: 0.5933 - val_accuracy: 0.7758\n",
            "Epoch 300/400\n",
            "256/256 [==============================] - 1s 3ms/step - loss: 1.3632 - accuracy: 0.7157 - val_loss: 0.6690 - val_accuracy: 0.7335\n",
            "Epoch 301/400\n",
            "256/256 [==============================] - 1s 3ms/step - loss: 1.3671 - accuracy: 0.7171 - val_loss: 0.6211 - val_accuracy: 0.7603\n",
            "Epoch 302/400\n",
            "256/256 [==============================] - 1s 3ms/step - loss: 1.3574 - accuracy: 0.7185 - val_loss: 0.6531 - val_accuracy: 0.7521\n",
            "Epoch 303/400\n",
            "256/256 [==============================] - 1s 3ms/step - loss: 1.3570 - accuracy: 0.7196 - val_loss: 0.6188 - val_accuracy: 0.7521\n",
            "Epoch 304/400\n",
            "256/256 [==============================] - 1s 3ms/step - loss: 1.3651 - accuracy: 0.7196 - val_loss: 0.5934 - val_accuracy: 0.7831\n",
            "Epoch 305/400\n",
            "256/256 [==============================] - 1s 3ms/step - loss: 1.3596 - accuracy: 0.7207 - val_loss: 0.6559 - val_accuracy: 0.7500\n",
            "Epoch 306/400\n",
            "256/256 [==============================] - 1s 3ms/step - loss: 1.3628 - accuracy: 0.7202 - val_loss: 0.6177 - val_accuracy: 0.7531\n",
            "Epoch 307/400\n",
            "256/256 [==============================] - 1s 3ms/step - loss: 1.3615 - accuracy: 0.7169 - val_loss: 0.6258 - val_accuracy: 0.7562\n",
            "Epoch 308/400\n",
            "256/256 [==============================] - 1s 3ms/step - loss: 1.3555 - accuracy: 0.7188 - val_loss: 0.6120 - val_accuracy: 0.7655\n",
            "Epoch 309/400\n",
            "256/256 [==============================] - 1s 3ms/step - loss: 1.3610 - accuracy: 0.7193 - val_loss: 0.6779 - val_accuracy: 0.7169\n",
            "Epoch 310/400\n",
            "256/256 [==============================] - 1s 3ms/step - loss: 1.3697 - accuracy: 0.7155 - val_loss: 0.6248 - val_accuracy: 0.7572\n",
            "Epoch 311/400\n",
            "256/256 [==============================] - 1s 3ms/step - loss: 1.3612 - accuracy: 0.7182 - val_loss: 0.6172 - val_accuracy: 0.7583\n",
            "Epoch 312/400\n",
            "256/256 [==============================] - 1s 3ms/step - loss: 1.3524 - accuracy: 0.7217 - val_loss: 0.6306 - val_accuracy: 0.7593\n",
            "Epoch 313/400\n",
            "256/256 [==============================] - 1s 3ms/step - loss: 1.3514 - accuracy: 0.7199 - val_loss: 0.6382 - val_accuracy: 0.7345\n",
            "Epoch 314/400\n",
            "256/256 [==============================] - 1s 4ms/step - loss: 1.3540 - accuracy: 0.7169 - val_loss: 0.6243 - val_accuracy: 0.7397\n",
            "Epoch 315/400\n",
            "256/256 [==============================] - 1s 3ms/step - loss: 1.3535 - accuracy: 0.7238 - val_loss: 0.6554 - val_accuracy: 0.7273\n",
            "Epoch 316/400\n",
            "256/256 [==============================] - 1s 3ms/step - loss: 1.3453 - accuracy: 0.7180 - val_loss: 0.6361 - val_accuracy: 0.7324\n",
            "Epoch 317/400\n",
            "256/256 [==============================] - 1s 3ms/step - loss: 1.3522 - accuracy: 0.7205 - val_loss: 0.6114 - val_accuracy: 0.7541\n",
            "Epoch 318/400\n",
            "256/256 [==============================] - 1s 3ms/step - loss: 1.3494 - accuracy: 0.7198 - val_loss: 0.6110 - val_accuracy: 0.7469\n",
            "Epoch 319/400\n",
            "256/256 [==============================] - 1s 3ms/step - loss: 1.3508 - accuracy: 0.7200 - val_loss: 0.6873 - val_accuracy: 0.7118\n",
            "Epoch 320/400\n",
            "256/256 [==============================] - 1s 3ms/step - loss: 1.3388 - accuracy: 0.7278 - val_loss: 0.6481 - val_accuracy: 0.7293\n",
            "Epoch 321/400\n",
            "256/256 [==============================] - 1s 3ms/step - loss: 1.3470 - accuracy: 0.7187 - val_loss: 0.6444 - val_accuracy: 0.7521\n",
            "Epoch 322/400\n",
            "256/256 [==============================] - 1s 3ms/step - loss: 1.3557 - accuracy: 0.7206 - val_loss: 0.6397 - val_accuracy: 0.7500\n",
            "Epoch 323/400\n",
            "256/256 [==============================] - 1s 3ms/step - loss: 1.3453 - accuracy: 0.7262 - val_loss: 0.6891 - val_accuracy: 0.7128\n",
            "Epoch 324/400\n",
            "256/256 [==============================] - 1s 3ms/step - loss: 1.3352 - accuracy: 0.7235 - val_loss: 0.6776 - val_accuracy: 0.7180\n",
            "Epoch 325/400\n",
            "256/256 [==============================] - 1s 3ms/step - loss: 1.3437 - accuracy: 0.7221 - val_loss: 0.6283 - val_accuracy: 0.7448\n",
            "Epoch 326/400\n",
            "256/256 [==============================] - 1s 3ms/step - loss: 1.3424 - accuracy: 0.7243 - val_loss: 0.6485 - val_accuracy: 0.7345\n",
            "Epoch 327/400\n",
            "256/256 [==============================] - 1s 3ms/step - loss: 1.3442 - accuracy: 0.7199 - val_loss: 0.6369 - val_accuracy: 0.7479\n",
            "Epoch 328/400\n",
            "256/256 [==============================] - 1s 3ms/step - loss: 1.3456 - accuracy: 0.7209 - val_loss: 0.6519 - val_accuracy: 0.7345\n",
            "Epoch 329/400\n",
            "256/256 [==============================] - 1s 3ms/step - loss: 1.3401 - accuracy: 0.7218 - val_loss: 0.6913 - val_accuracy: 0.7200\n",
            "Epoch 330/400\n",
            "256/256 [==============================] - 1s 3ms/step - loss: 1.3398 - accuracy: 0.7245 - val_loss: 0.6583 - val_accuracy: 0.7438\n",
            "Epoch 331/400\n",
            "256/256 [==============================] - 1s 3ms/step - loss: 1.3397 - accuracy: 0.7242 - val_loss: 0.6275 - val_accuracy: 0.7521\n",
            "Epoch 332/400\n",
            "256/256 [==============================] - 1s 3ms/step - loss: 1.3444 - accuracy: 0.7183 - val_loss: 0.6037 - val_accuracy: 0.7810\n",
            "Epoch 333/400\n",
            "256/256 [==============================] - 1s 3ms/step - loss: 1.3338 - accuracy: 0.7290 - val_loss: 0.6446 - val_accuracy: 0.7200\n",
            "Epoch 334/400\n",
            "256/256 [==============================] - 1s 3ms/step - loss: 1.3376 - accuracy: 0.7234 - val_loss: 0.7241 - val_accuracy: 0.6808\n",
            "Epoch 335/400\n",
            "256/256 [==============================] - 1s 3ms/step - loss: 1.3376 - accuracy: 0.7188 - val_loss: 0.6518 - val_accuracy: 0.7314\n",
            "Epoch 336/400\n",
            "256/256 [==============================] - 1s 3ms/step - loss: 1.3272 - accuracy: 0.7223 - val_loss: 0.6802 - val_accuracy: 0.7190\n",
            "Epoch 337/400\n",
            "256/256 [==============================] - 1s 3ms/step - loss: 1.3359 - accuracy: 0.7217 - val_loss: 0.6008 - val_accuracy: 0.7676\n",
            "Epoch 338/400\n",
            "256/256 [==============================] - 1s 3ms/step - loss: 1.3289 - accuracy: 0.7290 - val_loss: 0.6385 - val_accuracy: 0.7324\n",
            "Epoch 339/400\n",
            "256/256 [==============================] - 1s 3ms/step - loss: 1.3330 - accuracy: 0.7264 - val_loss: 0.6311 - val_accuracy: 0.7531\n",
            "Epoch 340/400\n",
            "256/256 [==============================] - 1s 3ms/step - loss: 1.3337 - accuracy: 0.7257 - val_loss: 0.5992 - val_accuracy: 0.7603\n",
            "Epoch 341/400\n",
            "256/256 [==============================] - 1s 3ms/step - loss: 1.3352 - accuracy: 0.7250 - val_loss: 0.6736 - val_accuracy: 0.7200\n",
            "Epoch 342/400\n",
            "256/256 [==============================] - 1s 3ms/step - loss: 1.3354 - accuracy: 0.7256 - val_loss: 0.6814 - val_accuracy: 0.7076\n",
            "Epoch 343/400\n",
            "256/256 [==============================] - 1s 3ms/step - loss: 1.3316 - accuracy: 0.7243 - val_loss: 0.6353 - val_accuracy: 0.7355\n",
            "Epoch 344/400\n",
            "256/256 [==============================] - 1s 3ms/step - loss: 1.3273 - accuracy: 0.7244 - val_loss: 0.6584 - val_accuracy: 0.7335\n",
            "Epoch 345/400\n",
            "256/256 [==============================] - 1s 3ms/step - loss: 1.3335 - accuracy: 0.7245 - val_loss: 0.6289 - val_accuracy: 0.7624\n",
            "Epoch 346/400\n",
            "256/256 [==============================] - 1s 3ms/step - loss: 1.3304 - accuracy: 0.7282 - val_loss: 0.6298 - val_accuracy: 0.7490\n",
            "Epoch 347/400\n",
            "256/256 [==============================] - 1s 3ms/step - loss: 1.3262 - accuracy: 0.7206 - val_loss: 0.6549 - val_accuracy: 0.7438\n",
            "Epoch 348/400\n",
            "256/256 [==============================] - 1s 3ms/step - loss: 1.3361 - accuracy: 0.7290 - val_loss: 0.5871 - val_accuracy: 0.7738\n",
            "Epoch 349/400\n",
            "256/256 [==============================] - 1s 3ms/step - loss: 1.3299 - accuracy: 0.7270 - val_loss: 0.6356 - val_accuracy: 0.7366\n",
            "Epoch 350/400\n",
            "256/256 [==============================] - 1s 3ms/step - loss: 1.3291 - accuracy: 0.7229 - val_loss: 0.6098 - val_accuracy: 0.7738\n",
            "Epoch 351/400\n",
            "256/256 [==============================] - 1s 3ms/step - loss: 1.3169 - accuracy: 0.7294 - val_loss: 0.6242 - val_accuracy: 0.7614\n",
            "Epoch 352/400\n",
            "256/256 [==============================] - 1s 3ms/step - loss: 1.3221 - accuracy: 0.7255 - val_loss: 0.6329 - val_accuracy: 0.7428\n",
            "Epoch 353/400\n",
            "256/256 [==============================] - 1s 3ms/step - loss: 1.3179 - accuracy: 0.7282 - val_loss: 0.5882 - val_accuracy: 0.7696\n",
            "Epoch 354/400\n",
            "256/256 [==============================] - 1s 3ms/step - loss: 1.3231 - accuracy: 0.7272 - val_loss: 0.6368 - val_accuracy: 0.7376\n",
            "Epoch 355/400\n",
            "256/256 [==============================] - 1s 3ms/step - loss: 1.3241 - accuracy: 0.7227 - val_loss: 0.6656 - val_accuracy: 0.7200\n",
            "Epoch 356/400\n",
            "256/256 [==============================] - 1s 3ms/step - loss: 1.3257 - accuracy: 0.7220 - val_loss: 0.6033 - val_accuracy: 0.7634\n",
            "Epoch 357/400\n",
            "256/256 [==============================] - 1s 3ms/step - loss: 1.3241 - accuracy: 0.7266 - val_loss: 0.6536 - val_accuracy: 0.7407\n",
            "Epoch 358/400\n",
            "256/256 [==============================] - 1s 3ms/step - loss: 1.3239 - accuracy: 0.7279 - val_loss: 0.6042 - val_accuracy: 0.7727\n",
            "Epoch 359/400\n",
            "256/256 [==============================] - 1s 3ms/step - loss: 1.3258 - accuracy: 0.7276 - val_loss: 0.5984 - val_accuracy: 0.7717\n",
            "Epoch 360/400\n",
            "256/256 [==============================] - 1s 3ms/step - loss: 1.3226 - accuracy: 0.7290 - val_loss: 0.6020 - val_accuracy: 0.7603\n",
            "Epoch 361/400\n",
            "256/256 [==============================] - 1s 3ms/step - loss: 1.3168 - accuracy: 0.7273 - val_loss: 0.6530 - val_accuracy: 0.7262\n",
            "Epoch 362/400\n",
            "256/256 [==============================] - 1s 3ms/step - loss: 1.3266 - accuracy: 0.7288 - val_loss: 0.6532 - val_accuracy: 0.7314\n",
            "Epoch 363/400\n",
            "256/256 [==============================] - 1s 3ms/step - loss: 1.3160 - accuracy: 0.7290 - val_loss: 0.5832 - val_accuracy: 0.7820\n",
            "Epoch 364/400\n",
            "256/256 [==============================] - 1s 3ms/step - loss: 1.3148 - accuracy: 0.7300 - val_loss: 0.7296 - val_accuracy: 0.6942\n",
            "Epoch 365/400\n",
            "256/256 [==============================] - 1s 3ms/step - loss: 1.3167 - accuracy: 0.7276 - val_loss: 0.6081 - val_accuracy: 0.7634\n",
            "Epoch 366/400\n",
            "256/256 [==============================] - 1s 3ms/step - loss: 1.3170 - accuracy: 0.7267 - val_loss: 0.7082 - val_accuracy: 0.6942\n",
            "Epoch 367/400\n",
            "256/256 [==============================] - 1s 3ms/step - loss: 1.3252 - accuracy: 0.7199 - val_loss: 0.6273 - val_accuracy: 0.7500\n",
            "Epoch 368/400\n",
            "256/256 [==============================] - 1s 3ms/step - loss: 1.3099 - accuracy: 0.7261 - val_loss: 0.5956 - val_accuracy: 0.7552\n",
            "Epoch 369/400\n",
            "256/256 [==============================] - 1s 3ms/step - loss: 1.3185 - accuracy: 0.7299 - val_loss: 0.6211 - val_accuracy: 0.7469\n",
            "Epoch 370/400\n",
            "256/256 [==============================] - 1s 3ms/step - loss: 1.3084 - accuracy: 0.7337 - val_loss: 0.6191 - val_accuracy: 0.7521\n",
            "Epoch 371/400\n",
            "256/256 [==============================] - 1s 3ms/step - loss: 1.3209 - accuracy: 0.7277 - val_loss: 0.6110 - val_accuracy: 0.7603\n",
            "Epoch 372/400\n",
            "256/256 [==============================] - 1s 3ms/step - loss: 1.3140 - accuracy: 0.7295 - val_loss: 0.5907 - val_accuracy: 0.7789\n",
            "Epoch 373/400\n",
            "256/256 [==============================] - 1s 3ms/step - loss: 1.3154 - accuracy: 0.7319 - val_loss: 0.6427 - val_accuracy: 0.7293\n",
            "Epoch 374/400\n",
            "256/256 [==============================] - 1s 3ms/step - loss: 1.3112 - accuracy: 0.7312 - val_loss: 0.6020 - val_accuracy: 0.7603\n",
            "Epoch 375/400\n",
            "256/256 [==============================] - 1s 3ms/step - loss: 1.3152 - accuracy: 0.7319 - val_loss: 0.6536 - val_accuracy: 0.7428\n",
            "Epoch 376/400\n",
            "256/256 [==============================] - 1s 3ms/step - loss: 1.3072 - accuracy: 0.7331 - val_loss: 0.5858 - val_accuracy: 0.7810\n",
            "Epoch 377/400\n",
            "256/256 [==============================] - 1s 3ms/step - loss: 1.3133 - accuracy: 0.7286 - val_loss: 0.6065 - val_accuracy: 0.7614\n",
            "Epoch 378/400\n",
            "256/256 [==============================] - 1s 3ms/step - loss: 1.3117 - accuracy: 0.7322 - val_loss: 0.6270 - val_accuracy: 0.7665\n",
            "Epoch 379/400\n",
            "256/256 [==============================] - 1s 3ms/step - loss: 1.3052 - accuracy: 0.7309 - val_loss: 0.6179 - val_accuracy: 0.7583\n",
            "Epoch 380/400\n",
            "256/256 [==============================] - 1s 3ms/step - loss: 1.3048 - accuracy: 0.7312 - val_loss: 0.6199 - val_accuracy: 0.7500\n",
            "Epoch 381/400\n",
            "256/256 [==============================] - 1s 3ms/step - loss: 1.3139 - accuracy: 0.7237 - val_loss: 0.6403 - val_accuracy: 0.7273\n",
            "Epoch 382/400\n",
            "256/256 [==============================] - 1s 3ms/step - loss: 1.3040 - accuracy: 0.7330 - val_loss: 0.6738 - val_accuracy: 0.7138\n",
            "Epoch 383/400\n",
            "256/256 [==============================] - 1s 3ms/step - loss: 1.3064 - accuracy: 0.7276 - val_loss: 0.6021 - val_accuracy: 0.7614\n",
            "Epoch 384/400\n",
            "256/256 [==============================] - 1s 3ms/step - loss: 1.3010 - accuracy: 0.7325 - val_loss: 0.6052 - val_accuracy: 0.7562\n",
            "Epoch 385/400\n",
            "256/256 [==============================] - 1s 3ms/step - loss: 1.3067 - accuracy: 0.7288 - val_loss: 0.5936 - val_accuracy: 0.7696\n",
            "Epoch 386/400\n",
            "256/256 [==============================] - 1s 3ms/step - loss: 1.3072 - accuracy: 0.7294 - val_loss: 0.6039 - val_accuracy: 0.7686\n",
            "Epoch 387/400\n",
            "256/256 [==============================] - 1s 3ms/step - loss: 1.3042 - accuracy: 0.7328 - val_loss: 0.5998 - val_accuracy: 0.7655\n",
            "Epoch 388/400\n",
            "256/256 [==============================] - 1s 3ms/step - loss: 1.2977 - accuracy: 0.7325 - val_loss: 0.6590 - val_accuracy: 0.7262\n",
            "Epoch 389/400\n",
            "256/256 [==============================] - 1s 3ms/step - loss: 1.2982 - accuracy: 0.7321 - val_loss: 0.6023 - val_accuracy: 0.7500\n",
            "Epoch 390/400\n",
            "256/256 [==============================] - 1s 3ms/step - loss: 1.3004 - accuracy: 0.7331 - val_loss: 0.5982 - val_accuracy: 0.7707\n",
            "Epoch 391/400\n",
            "256/256 [==============================] - 1s 3ms/step - loss: 1.2969 - accuracy: 0.7343 - val_loss: 0.5908 - val_accuracy: 0.7727\n",
            "Epoch 392/400\n",
            "256/256 [==============================] - 1s 3ms/step - loss: 1.2990 - accuracy: 0.7319 - val_loss: 0.5903 - val_accuracy: 0.7769\n",
            "Epoch 393/400\n",
            "256/256 [==============================] - 1s 3ms/step - loss: 1.2956 - accuracy: 0.7326 - val_loss: 0.5991 - val_accuracy: 0.7789\n",
            "Epoch 394/400\n",
            "256/256 [==============================] - 1s 3ms/step - loss: 1.2950 - accuracy: 0.7306 - val_loss: 0.6083 - val_accuracy: 0.7645\n",
            "Epoch 395/400\n",
            "256/256 [==============================] - 1s 3ms/step - loss: 1.2984 - accuracy: 0.7292 - val_loss: 0.6199 - val_accuracy: 0.7624\n",
            "Epoch 396/400\n",
            "256/256 [==============================] - 1s 3ms/step - loss: 1.3027 - accuracy: 0.7338 - val_loss: 0.6844 - val_accuracy: 0.7190\n",
            "Epoch 397/400\n",
            "256/256 [==============================] - 1s 3ms/step - loss: 1.2988 - accuracy: 0.7327 - val_loss: 0.6921 - val_accuracy: 0.6973\n",
            "Epoch 398/400\n",
            "256/256 [==============================] - 1s 3ms/step - loss: 1.2954 - accuracy: 0.7327 - val_loss: 0.6764 - val_accuracy: 0.7087\n",
            "Epoch 399/400\n",
            "256/256 [==============================] - 1s 3ms/step - loss: 1.2979 - accuracy: 0.7344 - val_loss: 0.6587 - val_accuracy: 0.7469\n",
            "Epoch 400/400\n",
            "256/256 [==============================] - 1s 3ms/step - loss: 1.2984 - accuracy: 0.7327 - val_loss: 0.5904 - val_accuracy: 0.7769\n"
          ],
          "name": "stdout"
        }
      ]
    },
    {
      "cell_type": "code",
      "metadata": {
        "colab": {
          "base_uri": "https://localhost:8080/",
          "height": 282
        },
        "id": "6MVakrYVhf-H",
        "outputId": "35be0ad9-ebae-4602-8cc3-6eee3baf134a"
      },
      "source": [
        "f = plt.figure()\n",
        "ax1 = f.add_subplot(1,2,1)\n",
        "ax1.plot(linearRegression.history.history['loss'])\n",
        "ax1.plot(linearRegression.history.history['val_loss'])\n",
        "\n",
        "ax2 = f.add_subplot(1,2,2)\n",
        "ax2.plot(linearRegression.history.history['accuracy'])\n",
        "ax2.plot(linearRegression.history.history['val_accuracy'])"
      ],
      "execution_count": 50,
      "outputs": [
        {
          "output_type": "execute_result",
          "data": {
            "text/plain": [
              "[<matplotlib.lines.Line2D at 0x7f29e1ab6110>]"
            ]
          },
          "metadata": {
            "tags": []
          },
          "execution_count": 50
        },
        {
          "output_type": "display_data",
          "data": {
            "image/png": "[encoded data removed]",
            "text/plain": [
              "<Figure size 432x288 with 2 Axes>"
            ]
          },
          "metadata": {
            "tags": [],
            "needs_background": "light"
          }
        }
      ]
    },
    {
      "cell_type": "code",
      "metadata": {
        "id": "BZSaVfmenCfR"
      },
      "source": [
        "ypred_train = linearRegression(train_rep).numpy().argmax(axis=-1)\n",
        "ypred_test  = linearRegression(test_rep).numpy().argmax(axis=-1)"
      ],
      "execution_count": 51,
      "outputs": []
    },
    {
      "cell_type": "code",
      "metadata": {
        "id": "xMWz72wblNRp"
      },
      "source": [
        "from sklearn.metrics import classification_report"
      ],
      "execution_count": 52,
      "outputs": []
    },
    {
      "cell_type": "code",
      "metadata": {
        "colab": {
          "base_uri": "https://localhost:8080/"
        },
        "id": "_kkAHDfpnkCr",
        "outputId": "558f0b52-22f4-4b55-b7a0-8f4102643965"
      },
      "source": [
        "print(classification_report(train_lb, ypred_train))"
      ],
      "execution_count": 53,
      "outputs": [
        {
          "output_type": "stream",
          "text": [
            "              precision    recall  f1-score   support\n",
            "\n",
            "           0       0.91      0.81      0.86      3653\n",
            "           1       0.60      0.76      0.67      1121\n",
            "           2       0.36      0.78      0.50       838\n",
            "           3       0.88      0.58      0.70      2570\n",
            "\n",
            "    accuracy                           0.73      8182\n",
            "   macro avg       0.69      0.73      0.68      8182\n",
            "weighted avg       0.80      0.73      0.75      8182\n",
            "\n"
          ],
          "name": "stdout"
        }
      ]
    },
    {
      "cell_type": "code",
      "metadata": {
        "colab": {
          "base_uri": "https://localhost:8080/"
        },
        "id": "R4p80AyVnv7N",
        "outputId": "e3356e9e-5a37-4b32-ce8c-5b1f996281a7"
      },
      "source": [
        "print(classification_report(test_lb, ypred_test))"
      ],
      "execution_count": 54,
      "outputs": [
        {
          "output_type": "stream",
          "text": [
            "              precision    recall  f1-score   support\n",
            "\n",
            "           0       0.83      0.91      0.87       242\n",
            "           1       0.82      0.78      0.80       242\n",
            "           2       0.65      0.73      0.69       242\n",
            "           3       0.83      0.69      0.75       242\n",
            "\n",
            "    accuracy                           0.78       968\n",
            "   macro avg       0.78      0.78      0.78       968\n",
            "weighted avg       0.78      0.78      0.78       968\n",
            "\n"
          ],
          "name": "stdout"
        }
      ]
    },
    {
      "cell_type": "markdown",
      "metadata": {
        "id": "BTnyvjN0Z0n6"
      },
      "source": [
        "# NOT BAD!!\n",
        "- with only a linear regression, we achieve an overall accuracy of 65%, as opposed to a completely random guess with gives 25 %!\n",
        "- a good baseline on a SimCLR trained on the actual image distribution! "
      ]
    },
    {
      "cell_type": "code",
      "metadata": {
        "id": "3r76Z7IvcuvS"
      },
      "source": [
        "# http://karpathy.github.io/2019/04/25/recipe/#2-set-up-the-end-to-end-trainingevaluation-skeleton--get-dumb-baselines\n",
        "# https://www.tensorflow.org/tutorials/structured_data/imbalanced_data#optional_set_the_correct_initial_bias"
      ],
      "execution_count": null,
      "outputs": []
    }
  ]
}